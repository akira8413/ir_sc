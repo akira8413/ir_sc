{
 "cells": [
  {
   "cell_type": "code",
   "execution_count": 155,
   "id": "937e7723",
   "metadata": {},
   "outputs": [
    {
     "name": "stdout",
     "output_type": "stream",
     "text": [
      "from_cache: False\n",
      "status_code: 200\n"
     ]
    }
   ],
   "source": [
    "result = {}\n",
    "for page in range(23, 26):\n",
    "    securities_codes = get_securities_codes(page, page)\n",
    "    result[page] = securities_codes\n",
    "    if os.path.exists('irbank/csv/securities_codes.pickle'):\n",
    "     # ファイルから既存のデータを読み込む\n",
    "        with open('irbank/csv/securities_codes.pickle', 'rb') as f:\n",
    "            existing_data = pickle.load(f)\n",
    "        # 既存のデータを更新する\n",
    "        existing_data.update(result)\n",
    "        # ファイルに追加されたデータを保存する\n",
    "        with open('irbank/csv/securities_codes.pickle', 'wb') as f:\n",
    "            pickle.dump(existing_data, f)\n",
    "    else:\n",
    "        with open('irbank/csv/securities_codes.pickle', 'wb') as f:\n",
    "            pickle.dump(result, f)\n",
    "\n"
   ]
  },
  {
   "cell_type": "code",
   "execution_count": 156,
   "id": "9b230f69",
   "metadata": {},
   "outputs": [
    {
     "name": "stdout",
     "output_type": "stream",
     "text": [
      "post.php?mml_id=1291\n",
      "post.php?mml_id=1295\n",
      "post.php?mml_id=1298\n",
      "post.php?mml_id=1299\n",
      "post.php?mml_id=1291\n",
      "post.php?mml_id=1298\n",
      "post.php?mml_id=1295\n",
      "post.php?mml_id=164\n",
      "post.php?mml_id=167\n",
      "post.php?mml_id=172\n",
      "post.php?mml_id=181\n",
      "post.php?mml_id=184\n",
      "post.php?mml_id=202\n",
      "post.php?mml_id=207\n",
      "post.php?mml_id=209\n",
      "post.php?mml_id=220\n",
      "post.php?mml_id=239\n",
      "post.php?mml_id=247\n",
      "post.php?mml_id=256\n",
      "post.php?mml_id=262\n",
      "post.php?mml_id=264\n",
      "post.php?mml_id=265\n",
      "post.php?mml_id=267\n",
      "post.php?mml_id=273\n",
      "post.php?mml_id=1284\n",
      "post.php?mml_id=1291\n",
      "post.php?mml_id=1273\n",
      "post.php?mml_id=1286\n",
      "post.php?mml_id=1298\n",
      "post.php?mml_id=162\n",
      "post.php?mml_id=1274\n",
      "post.php?mml_id=1295\n",
      "post.php?mml_id=96\n",
      "post.php?mml_id=161\n",
      "post.php?mml_id=164\n",
      "post.php?mml_id=167\n",
      "post.php?mml_id=172\n",
      "post.php?mml_id=181\n",
      "post.php?mml_id=184\n",
      "post.php?mml_id=202\n",
      "post.php?mml_id=207\n",
      "post.php?mml_id=209\n",
      "post.php?mml_id=220\n",
      "post.php?mml_id=239\n"
     ]
    }
   ],
   "source": [
    "import requests\n",
    "from bs4 import BeautifulSoup\n",
    "\n",
    "# URLを取得\n",
    "url = 'https://uta.pw/sakusibbs/index.php?action=fav_ranking'\n",
    "html = requests.get(url).text\n",
    "\n",
    "# BeautifulSoup4で解析\n",
    "soup = BeautifulSoup(html, 'html.parser')\n",
    "\n",
    "# CSSセレクタで a タグの class=indextile の要素一覧を取得\n",
    "a_list = soup.select(\"a.indextitle\")\n",
    "\n",
    "# 取得した後、繰り返し a タグの一覧を繰り返す\n",
    "for a in a_list:\n",
    "    # リンク先(href属性)を表示\n",
    "    print(a.attrs['href'])"
   ]
  },
  {
   "cell_type": "code",
   "execution_count": 158,
   "id": "a5e21a47",
   "metadata": {},
   "outputs": [
    {
     "name": "stdout",
     "output_type": "stream",
     "text": [
      "url= https://uta.pw/sakusibbs/post.php?mml_id=1291\n",
      "url= https://uta.pw/sakusibbs/post.php?mml_id=1295\n",
      "url= https://uta.pw/sakusibbs/post.php?mml_id=1298\n",
      "url= https://uta.pw/sakusibbs/post.php?mml_id=1299\n",
      "url= https://uta.pw/sakusibbs/post.php?mml_id=1291\n",
      "url= https://uta.pw/sakusibbs/post.php?mml_id=1298\n",
      "url= https://uta.pw/sakusibbs/post.php?mml_id=1295\n",
      "url= https://uta.pw/sakusibbs/post.php?mml_id=164\n",
      "url= https://uta.pw/sakusibbs/post.php?mml_id=167\n",
      "url= https://uta.pw/sakusibbs/post.php?mml_id=172\n",
      "url= https://uta.pw/sakusibbs/post.php?mml_id=181\n",
      "url= https://uta.pw/sakusibbs/post.php?mml_id=184\n",
      "url= https://uta.pw/sakusibbs/post.php?mml_id=202\n",
      "url= https://uta.pw/sakusibbs/post.php?mml_id=207\n",
      "url= https://uta.pw/sakusibbs/post.php?mml_id=209\n",
      "url= https://uta.pw/sakusibbs/post.php?mml_id=220\n",
      "url= https://uta.pw/sakusibbs/post.php?mml_id=239\n",
      "url= https://uta.pw/sakusibbs/post.php?mml_id=247\n",
      "url= https://uta.pw/sakusibbs/post.php?mml_id=256\n",
      "url= https://uta.pw/sakusibbs/post.php?mml_id=262\n",
      "url= https://uta.pw/sakusibbs/post.php?mml_id=264\n",
      "url= https://uta.pw/sakusibbs/post.php?mml_id=265\n",
      "url= https://uta.pw/sakusibbs/post.php?mml_id=267\n",
      "url= https://uta.pw/sakusibbs/post.php?mml_id=273\n",
      "url= https://uta.pw/sakusibbs/post.php?mml_id=1284\n",
      "url= https://uta.pw/sakusibbs/post.php?mml_id=1291\n",
      "url= https://uta.pw/sakusibbs/post.php?mml_id=1273\n",
      "url= https://uta.pw/sakusibbs/post.php?mml_id=1286\n",
      "url= https://uta.pw/sakusibbs/post.php?mml_id=1298\n",
      "url= https://uta.pw/sakusibbs/post.php?mml_id=162\n",
      "url= https://uta.pw/sakusibbs/post.php?mml_id=1274\n",
      "url= https://uta.pw/sakusibbs/post.php?mml_id=1295\n",
      "url= https://uta.pw/sakusibbs/post.php?mml_id=96\n",
      "url= https://uta.pw/sakusibbs/post.php?mml_id=161\n",
      "url= https://uta.pw/sakusibbs/post.php?mml_id=164\n",
      "url= https://uta.pw/sakusibbs/post.php?mml_id=167\n",
      "url= https://uta.pw/sakusibbs/post.php?mml_id=172\n",
      "url= https://uta.pw/sakusibbs/post.php?mml_id=181\n",
      "url= https://uta.pw/sakusibbs/post.php?mml_id=184\n",
      "url= https://uta.pw/sakusibbs/post.php?mml_id=202\n",
      "url= https://uta.pw/sakusibbs/post.php?mml_id=207\n",
      "url= https://uta.pw/sakusibbs/post.php?mml_id=209\n",
      "url= https://uta.pw/sakusibbs/post.php?mml_id=220\n",
      "url= https://uta.pw/sakusibbs/post.php?mml_id=239\n"
     ]
    }
   ],
   "source": [
    "import requests, os, urllib.parse, time\n",
    "# ...抜粋 ...\n",
    "for a in a_list:\n",
    "    # リンク先(href属性)を表示\n",
    "    href = a.attrs['href']\n",
    "    full = urllib.parse.urljoin(url, href)\n",
    "    print(\"url=\", full)"
   ]
  },
  {
   "cell_type": "code",
   "execution_count": 159,
   "id": "422d0910",
   "metadata": {},
   "outputs": [],
   "source": []
  },
  {
   "cell_type": "code",
   "execution_count": 160,
   "id": "7a34edb7",
   "metadata": {},
   "outputs": [
    {
     "ename": "ModuleNotFoundError",
     "evalue": "No module named 'requests_cache'",
     "output_type": "error",
     "traceback": [
      "\u001b[0;31m---------------------------------------------------------------------------\u001b[0m",
      "\u001b[0;31mModuleNotFoundError\u001b[0m                       Traceback (most recent call last)",
      "\u001b[0;32m/var/folders/81/ckf4k5wn0d16719pp2dp8rqw0000gn/T/ipykernel_16689/3770738998.py\u001b[0m in \u001b[0;36m<module>\u001b[0;34m\u001b[0m\n\u001b[0;32m----> 1\u001b[0;31m \u001b[0;32mimport\u001b[0m \u001b[0mrequests_cache\u001b[0m \u001b[0;32mas\u001b[0m \u001b[0mreq\u001b[0m\u001b[0;34m\u001b[0m\u001b[0;34m\u001b[0m\u001b[0m\n\u001b[0m\u001b[1;32m      2\u001b[0m \u001b[0;34m\u001b[0m\u001b[0m\n\u001b[1;32m      3\u001b[0m \u001b[0murl\u001b[0m \u001b[0;34m=\u001b[0m \u001b[0;34m\"https://api.aoikujira.com/time/get.php\"\u001b[0m\u001b[0;34m\u001b[0m\u001b[0;34m\u001b[0m\u001b[0m\n\u001b[1;32m      4\u001b[0m \u001b[0mprint\u001b[0m\u001b[0;34m(\u001b[0m\u001b[0mreq\u001b[0m\u001b[0;34m.\u001b[0m\u001b[0mget\u001b[0m\u001b[0;34m(\u001b[0m\u001b[0murl\u001b[0m\u001b[0;34m)\u001b[0m\u001b[0;34m)\u001b[0m\u001b[0;34m\u001b[0m\u001b[0;34m\u001b[0m\u001b[0m\n",
      "\u001b[0;31mModuleNotFoundError\u001b[0m: No module named 'requests_cache'"
     ]
    }
   ],
   "source": [
    "import requests_cache as req\n",
    "\n",
    "url = \"https://api.aoikujira.com/time/get.php\"\n",
    "print(req.get(url))"
   ]
  },
  {
   "cell_type": "code",
   "execution_count": null,
   "id": "ff8f0643",
   "metadata": {},
   "outputs": [],
   "source": []
  }
 ],
 "metadata": {
  "kernelspec": {
   "display_name": "Python 3 (ipykernel)",
   "language": "python",
   "name": "python3"
  },
  "language_info": {
   "codemirror_mode": {
    "name": "ipython",
    "version": 3
   },
   "file_extension": ".py",
   "mimetype": "text/x-python",
   "name": "python",
   "nbconvert_exporter": "python",
   "pygments_lexer": "ipython3",
   "version": "3.9.13"
  }
 },
 "nbformat": 4,
 "nbformat_minor": 5
}
