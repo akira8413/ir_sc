{
 "cells": [
  {
   "cell_type": "code",
   "execution_count": 26,
   "id": "0ca340fa",
   "metadata": {},
   "outputs": [
    {
     "name": "stdout",
     "output_type": "stream",
     "text": [
      "{}\n"
     ]
    }
   ],
   "source": [
    "from bs4 import BeautifulSoup\n",
    "import requests \n",
    "import re\n",
    "from time import sleep\n",
    "import pandas as pd\n",
    "import time\n",
    "from tqdm import tqdm\n",
    "import pickle\n",
    "import itertools\n",
    "import random\n",
    "\n",
    "#-------------------------------------------------------------------------一先ず終了2023/01/05----------------------------------------------------------------------#\n",
    "#上記を満たした企業コードの決算ページxxxxxx/resultsにアクセスし企業名と条件の財務の値を取得\n",
    "focus_urls1=[]\n",
    "text2=[]\n",
    "all_title1=[]\n",
    "for flatyeild_url in flatyeild_urls[10:12]:\n",
    "    url='https://irbank.net{}'.format(flatyeild_url)\n",
    "    sleep(random.uniform(3, 8)) \n",
    "    focus_urls1.append(url)\n",
    "for focus_url1 in focus_urls1:\n",
    "    r1=requests.get(focus_url1)\n",
    "    soup1 = BeautifulSoup(r1.text, 'html.parser')\n",
    "    title1=soup1.find('h1').text\n",
    "    all_title1.append(title1)\n",
    "    suii=soup1.find(id='g_3')\n",
    "    numv=suii.find_all('span', class_='text')\n",
    "    text2.append(numv)\n",
    "yeild_lists=[[text2_list.text for text2_list in text2_lists]for text2_lists in text2]\n",
    "    #zfill完了\n",
    "eval_yeild_lists = [[convert_yeild_figure(yeild) for yeild in yeild_list] for yeild_list in yeild_lists]\n",
    "yeild_stock = [check_yeild(yeild) for yeild in eval_yeild_lists]\n",
    "\n",
    "\n",
    "yeild_analyze_dict = {}\n",
    "if len(all_title1) == len(yeild_stock):\n",
    "    for i in range(len(all_title1)):\n",
    "        yeild_analyze_dict[all_title1[i]] = [yeild_stock[i]]\n",
    "    goood = [[key, len(vi)] for key, value in yeild_analyze_dict.items() for vi in value]\n",
    "else:\n",
    "    print(\"The length of two lists are different.\")\n",
    "goood_dict = {}\n",
    "for elst in goood:\n",
    "    key, val = elst\n",
    "    if key not in goood_dict:\n",
    "        goood_dict[key] = []\n",
    "    goood_dict[key].append(val)\n",
    "for key, value in goood_dict.items():\n",
    "    goood_dict[key] = list(map(lambda x: '○' if x <= 2 else x, value))\n",
    "    \n",
    "edd_list = {}\n",
    "for key, value in goood_dict.items():\n",
    "    if value.count('○') == 1:\n",
    "        edd_list[key] = value\n",
    "print(edd_list)\n",
    "edd_df = pd.DataFrame.from_dict(edd_list, orient='index', columns=['剰余金の配当/配当金の支払額'])\n",
    "edd_df.style.set_properties(**{'text-align': 'center'})\n",
    "edd_df.to_csv('csv/yeild_rize.csv',index=True,encoding='utf-8-sig',mode='a')\n",
    "\n"
   ]
  },
  {
   "cell_type": "code",
   "execution_count": 27,
   "id": "5c874fb4",
   "metadata": {},
   "outputs": [
    {
     "data": {
      "text/plain": [
       "643"
      ]
     },
     "execution_count": 27,
     "metadata": {},
     "output_type": "execute_result"
    }
   ],
   "source": [
    "len(flatyeild_urls)"
   ]
  },
  {
   "cell_type": "code",
   "execution_count": null,
   "id": "74d86107",
   "metadata": {},
   "outputs": [],
   "source": []
  }
 ],
 "metadata": {
  "kernelspec": {
   "display_name": "Python 3 (ipykernel)",
   "language": "python",
   "name": "python3"
  },
  "language_info": {
   "codemirror_mode": {
    "name": "ipython",
    "version": 3
   },
   "file_extension": ".py",
   "mimetype": "text/x-python",
   "name": "python",
   "nbconvert_exporter": "python",
   "pygments_lexer": "ipython3",
   "version": "3.9.13"
  }
 },
 "nbformat": 4,
 "nbformat_minor": 5
}
