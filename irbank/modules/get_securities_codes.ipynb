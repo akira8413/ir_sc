{
 "cells": [
  {
   "cell_type": "code",
   "execution_count": 51,
   "id": "a41ab487",
   "metadata": {
    "scrolled": true
   },
   "outputs": [],
   "source": [
    "import pickle\n",
    "from functools import cache\n",
    "from bs4 import BeautifulSoup\n",
    "import requests \n",
    "import re\n",
    "from time import sleep\n",
    "import pandas as pd\n",
    "import time\n",
    "from tqdm import tqdm\n",
    "import pickle\n",
    "import itertools\n",
    "import os.path\n",
    "# 関数の実行時間を測るデコレータ\n",
    "def tictoc(func):\n",
    "    def _wrapper(*args, **keywargs):\n",
    "        start_time = time.time()\n",
    "        result = func(*args, **keywargs)\n",
    "        print('time: {:.9f} [sec]'.format(time.time() - start_time))\n",
    "        return result\n",
    "    return _wrapper\n",
    "\n",
    "@tictoc\n",
    "@cache\n",
    "def get_securities_codes(start_page, end_page):\n",
    "    url='https://minkabu.jp/financial_item_ranking/dividend_yield?page={}'\n",
    "    dd_list=[]\n",
    "    for i in range(start_page, end_page+1):\n",
    "        target_url=url.format(i)\n",
    "        r=requests.get(target_url)\n",
    "        sleep(5)\n",
    "        soup=BeautifulSoup(r.text,'html.parser')\n",
    "        tab=soup.find('table',class_='md_table rnk_li')\n",
    "        conts=tab.find_all('tr')\n",
    "        del conts[0]\n",
    "\n",
    "        for cont in conts:\n",
    "            rank=cont.find('span',class_='ranking_no fsize_l').text\n",
    "            code=cont.find('div',class_='md_sub').text\n",
    "            name=cont.find('div',class_='fwb w90p').text\n",
    "            y=cont.find('td',class_='tar cur vamd').text\n",
    "            yeild= y.strip().replace('%', '')\n",
    "            dic={\n",
    "                'ランキング':rank,\n",
    "                '証券コード':code,\n",
    "                '企業名':name,\n",
    "                '配当利回り':yeild,\n",
    "            }\n",
    "            \n",
    "            if float(yeild) >= 3.75:\n",
    "                dd_list.append(dic)\n",
    "    securities_codes = [d['証券コード'] for d in dd_list]\n",
    "    #csvに保存まだ更新はできず追加しかされない\n",
    "    new_data=pd.DataFrame(dd_list)\n",
    "    if os.path.exists('irbank/csv/ranking.csv'):\n",
    "                df=pd.read_csv('irbank/csv/ranking.csv')\n",
    "                df=pd.concat([df, new_data], ignore_index=True)\n",
    "                \n",
    "    else:\n",
    "        df=new_data\n",
    "    df.to_csv('irbank/csv/ranking.csv',index=None,encoding='utf-8-sig')\n",
    "\n",
    "    return securities_codes\n"
   ]
  }
 ],
 "metadata": {
  "kernelspec": {
   "display_name": "Python 3 (ipykernel)",
   "language": "python",
   "name": "python3"
  },
  "language_info": {
   "codemirror_mode": {
    "name": "ipython",
    "version": 3
   },
   "file_extension": ".py",
   "mimetype": "text/x-python",
   "name": "python",
   "nbconvert_exporter": "python",
   "pygments_lexer": "ipython3",
   "version": "3.9.13"
  }
 },
 "nbformat": 4,
 "nbformat_minor": 5
}
