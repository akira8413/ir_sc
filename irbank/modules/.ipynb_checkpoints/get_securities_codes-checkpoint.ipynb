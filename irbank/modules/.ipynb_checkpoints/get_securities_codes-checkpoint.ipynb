{
 "cells": [
  {
   "cell_type": "code",
   "execution_count": 51,
   "id": "a41ab487",
   "metadata": {
    "scrolled": true
   },
   "outputs": [],
   "source": [
    "import pickle\n",
    "from functools import cache\n",
    "from bs4 import BeautifulSoup\n",
    "import requests \n",
    "import re\n",
    "from time import sleep\n",
    "import pandas as pd\n",
    "import time\n",
    "from tqdm import tqdm\n",
    "import pickle\n",
    "import itertools\n",
    "import os.path\n",
    "# 関数の実行時間を測るデコレータ\n",
    "def tictoc(func):\n",
    "    def _wrapper(*args, **keywargs):\n",
    "        start_time = time.time()\n",
    "        result = func(*args, **keywargs)\n",
    "        print('time: {:.9f} [sec]'.format(time.time() - start_time))\n",
    "        return result\n",
    "    return _wrapper\n",
    "\n",
    "@tictoc\n",
    "@cache\n",
    "def get_securities_codes(start_page, end_page):\n",
    "    url='https://minkabu.jp/financial_item_ranking/dividend_yield?page={}'\n",
    "    dd_list=[]\n",
    "    for i in range(start_page, end_page+1):\n",
    "        target_url=url.format(i)\n",
    "        r=requests.get(target_url)\n",
    "        sleep(5)\n",
    "        soup=BeautifulSoup(r.text,'html.parser')\n",
    "        tab=soup.find('table',class_='md_table rnk_li')\n",
    "        conts=tab.find_all('tr')\n",
    "        del conts[0]\n",
    "\n",
    "        for cont in conts:\n",
    "            rank=cont.find('span',class_='ranking_no fsize_l').text\n",
    "            code=cont.find('div',class_='md_sub').text\n",
    "            name=cont.find('div',class_='fwb w90p').text\n",
    "            y=cont.find('td',class_='tar cur vamd').text\n",
    "            yeild= y.strip().replace('%', '')\n",
    "            dic={\n",
    "                'ランキング':rank,\n",
    "                '証券コード':code,\n",
    "                '企業名':name,\n",
    "                '配当利回り':yeild,\n",
    "            }\n",
    "            \n",
    "            if float(yeild) >= 3.75:\n",
    "                dd_list.append(dic)\n",
    "    securities_codes = [d['証券コード'] for d in dd_list]\n",
    "    #csvに保存まだ更新はできず追加しかされない\n",
    "    new_data=pd.DataFrame(dd_list)\n",
    "    if os.path.exists('irbank/csv/ranking.csv'):\n",
    "                df=pd.read_csv('irbank/csv/ranking.csv')\n",
    "                df=pd.concat([df, new_data], ignore_index=True)\n",
    "                \n",
    "    else:\n",
    "        df=new_data\n",
    "    df.to_csv('irbank/csv/ranking.csv',index=None,encoding='utf-8-sig')\n",
    "\n",
    "    return securities_codes\n"
   ]
  },
  {
   "cell_type": "code",
   "execution_count": 50,
   "id": "611784c0",
   "metadata": {},
   "outputs": [
    {
     "data": {
      "text/plain": [
       "[]"
      ]
     },
     "execution_count": 50,
     "metadata": {},
     "output_type": "execute_result"
    }
   ],
   "source": []
  },
  {
   "cell_type": "code",
   "execution_count": 44,
   "id": "9494d32c",
   "metadata": {},
   "outputs": [
    {
     "name": "stdout",
     "output_type": "stream",
     "text": [
      "time: 5.511618853 [sec]\n"
     ]
    }
   ],
   "source": [
    "result = {}\n",
    "#1ページ目から取得なので値に0はいらない\n",
    "for page in range(1, 2):\n",
    "    securities_codes = get_securities_codes(page, page)\n",
    "    result[page] = securities_codes\n",
    "    if os.path.exists('csv/securities_codes.pickle'):\n",
    "     # ファイルから既存のデータを読み込む\n",
    "        with open('csv/securities_codes.pickle', 'rb') as f:\n",
    "            existing_data = pickle.load(f)\n",
    "        # 既存のデータを更新する\n",
    "        existing_data.update(result)\n",
    "        # ファイルに追加されたデータを保存する\n",
    "        with open('csv/securities_codes.pickle', 'wb') as f:\n",
    "            pickle.dump(existing_data, f)\n",
    "    else:\n",
    "        with open('csv/securities_codes.pickle', 'wb') as f:\n",
    "            pickle.dump(result, f)\n"
   ]
  },
  {
   "cell_type": "code",
   "execution_count": null,
   "id": "30a956d3",
   "metadata": {},
   "outputs": [],
   "source": [
    "#全部のリストをつなげる(このページで取得するものはflattened_codes=企業コードで終了)\n",
    "with open('csv/securities_codes.pickle', 'rb') as f:\n",
    "            existing_data = pickle.load(f)\n",
    "flattened_codes = list(itertools.chain(*existing_data.values()))\n",
    "print(len(flattened_codes))"
   ]
  },
  {
   "cell_type": "code",
   "execution_count": 1,
   "id": "7cf2d554",
   "metadata": {},
   "outputs": [],
   "source": [
    "import time\n",
    "# 関数の実行時間を測るデコレータ\n",
    "def tictoc(func):\n",
    "    def _wrapper(*args, **keywargs):\n",
    "        start_time = time.time()\n",
    "        result = func(*args, **keywargs)\n",
    "        print('time: {:.9f} [sec]'.format(time.time() - start_time))\n",
    "        return result\n",
    "    return _wrapper"
   ]
  },
  {
   "cell_type": "code",
   "execution_count": null,
   "id": "fe9a6329",
   "metadata": {},
   "outputs": [],
   "source": [
    "#余分なdataを削除\n",
    "del existing_data[38]"
   ]
  },
  {
   "cell_type": "code",
   "execution_count": 143,
   "id": "01f44cfd",
   "metadata": {},
   "outputs": [
    {
     "data": {
      "text/plain": [
       "['X', 'X', '○', 'X', 'X', '○', '○', 'X']"
      ]
     },
     "execution_count": 143,
     "metadata": {},
     "output_type": "execute_result"
    }
   ],
   "source": []
  },
  {
   "cell_type": "code",
   "execution_count": 1,
   "id": "36e66f2d",
   "metadata": {},
   "outputs": [
    {
     "ename": "FileNotFoundError",
     "evalue": "[Errno 2] No such file or directory: 'irbank/csv/securities_codes.pickle'",
     "output_type": "error",
     "traceback": [
      "\u001b[0;31m---------------------------------------------------------------------------\u001b[0m",
      "\u001b[0;31mFileNotFoundError\u001b[0m                         Traceback (most recent call last)",
      "\u001b[0;32m/var/folders/81/ckf4k5wn0d16719pp2dp8rqw0000gn/T/ipykernel_27397/1166225385.py\u001b[0m in \u001b[0;36m<module>\u001b[0;34m\u001b[0m\n\u001b[0;32m----> 1\u001b[0;31m \u001b[0;32mwith\u001b[0m \u001b[0mopen\u001b[0m\u001b[0;34m(\u001b[0m\u001b[0;34m'irbank/csv/securities_codes.pickle'\u001b[0m\u001b[0;34m,\u001b[0m \u001b[0;34m'rb'\u001b[0m\u001b[0;34m)\u001b[0m \u001b[0;32mas\u001b[0m \u001b[0mf\u001b[0m\u001b[0;34m:\u001b[0m\u001b[0;34m\u001b[0m\u001b[0;34m\u001b[0m\u001b[0m\n\u001b[0m\u001b[1;32m      2\u001b[0m     \u001b[0mdata\u001b[0m \u001b[0;34m=\u001b[0m \u001b[0mjson\u001b[0m\u001b[0;34m.\u001b[0m\u001b[0mload\u001b[0m\u001b[0;34m(\u001b[0m\u001b[0mf\u001b[0m\u001b[0;34m)\u001b[0m\u001b[0;34m\u001b[0m\u001b[0;34m\u001b[0m\u001b[0m\n",
      "\u001b[0;31mFileNotFoundError\u001b[0m: [Errno 2] No such file or directory: 'irbank/csv/securities_codes.pickle'"
     ]
    }
   ],
   "source": []
  },
  {
   "cell_type": "code",
   "execution_count": 5,
   "id": "543dabd7",
   "metadata": {},
   "outputs": [],
   "source": [
    "import time\n",
    "\n",
    "# 関数の実行時間を測るデコレータ\n",
    "def tictoc(func):\n",
    "    def _wrapper(*args, **keywargs):\n",
    "        start_time = time.time()\n",
    "        result = func(*args, **keywargs)\n",
    "        print('time: {:.9f} [sec]'.format(time.time() - start_time))\n",
    "        return result\n",
    "    return _wrapper"
   ]
  },
  {
   "cell_type": "code",
   "execution_count": null,
   "id": "81a7746e",
   "metadata": {},
   "outputs": [],
   "source": []
  },
  {
   "cell_type": "code",
   "execution_count": null,
   "id": "3867a8e0",
   "metadata": {},
   "outputs": [],
   "source": []
  },
  {
   "cell_type": "code",
   "execution_count": 335,
   "id": "6aa78249",
   "metadata": {},
   "outputs": [],
   "source": [
    "with open('irbank/csv/securities_codes.pickle','rb') as f:\n",
    "    securities_codes=pickle.load(f)"
   ]
  },
  {
   "cell_type": "code",
   "execution_count": 78,
   "id": "8d7a3e43",
   "metadata": {
    "scrolled": true
   },
   "outputs": [],
   "source": [
    "def convert_eps(eps_figure: str) -> int:\n",
    "    number_str = eps_figure.split('円')[0]\n",
    "    hennkan = number_str + '*100'\n",
    "    return eval(hennkan)"
   ]
  },
  {
   "cell_type": "code",
   "execution_count": 77,
   "id": "df12207f",
   "metadata": {},
   "outputs": [],
   "source": [
    "def convert_sales(*args):\n",
    "    eval_list = []\n",
    "    for arg in args:\n",
    "        eval_arg = []\n",
    "        for value in arg:\n",
    "            # 兆しかない時\n",
    "            if '兆' in value and '億' not in value and '万' not in value:\n",
    "                hennkan = value.replace('兆', '*10**12')\n",
    "                eval_arg.append(eval(hennkan))\n",
    "        eval_list.append(eval_arg)\n",
    "    return eval_list\n"
   ]
  },
  {
   "cell_type": "code",
   "execution_count": 369,
   "id": "a4e9bc1a",
   "metadata": {},
   "outputs": [],
   "source": [
    "\n",
    "\n",
    "def get_securities_codes(start_page, end_page):\n",
    "    url='https://minkabu.jp/financial_item_ranking/dividend_yield?page={}'\n",
    "    dd_list=[]\n",
    "    for i in range(start_page, end_page+1):\n",
    "        target_url=url.format(i)\n",
    "        r=requests.get(target_url)\n",
    "        sleep(5)\n",
    "        soup=BeautifulSoup(r.text,'html.parser')\n",
    "        tab=soup.find('table',class_='md_table rnk_li')\n",
    "        conts=tab.find_all('tr')\n",
    "        del conts[0]\n",
    "\n",
    "        for cont in conts:\n",
    "            rank=cont.find('span',class_='ranking_no fsize_l').text\n",
    "            code=cont.find('div',class_='md_sub').text\n",
    "            name=cont.find('div',class_='fwb w90p').text\n",
    "            y=cont.find('td',class_='tar cur vamd').text\n",
    "            yeild= y.strip().replace('%', '')\n",
    "            dic={\n",
    "                'ランキング':rank,\n",
    "                '証券コード':code,\n",
    "                '企業名':name,\n",
    "                '配当利回り':yeild,\n",
    "            }\n",
    "            if float(yeild) >= 3.75:\n",
    "                dd_list.append(dic)\n",
    "    securities_codes = [d['証券コード'] for d in dd_list]\n",
    "    return securities_codes\n",
    "\n",
    "\n",
    "\n",
    "\n",
    "\n",
    "def float_hennkan(s):\n",
    "    # *だけの時\n",
    "    if '*' in s:\n",
    "        s = s.split('円')[0]  # '15.65' のような文字列を取得\n",
    "        s = s.replace('*', '')  # * を削除\n",
    "        if '.'in s:\n",
    "            integer_part, decimal_part =s.split('.')  # '15' と '65' のような文字列を取得\n",
    "            integer_part = integer_part.zfill(2)  # 整数部を 0 で埋める\n",
    "            decimal_part = decimal_part.zfill(2)  # 小数部を 0 で埋める\n",
    "            hennkan_result= f\"{integer_part}.{decimal_part}\"  # 埋めた数値を結合\n",
    "        return hennkan_result\n",
    "    #小数点の時\n",
    "    elif '.' in s :\n",
    "        number_str = s.split('円')[0]  # '15.65' のような文字列を取得\n",
    "        integer_part, decimal_part = number_str.split('.')  # '15' と '65' のような文字列を取得\n",
    "        integer_part = integer_part.zfill(2)  # 整数部を 0 で埋める\n",
    "        decimal_part = decimal_part.zfill(2)  # 小数部を 0 で埋める\n",
    "        hennkan_result = f\"{integer_part}.{decimal_part}\"  # 埋めた数値を結合\n",
    "        return hennkan_result\n",
    "      \n",
    "\n",
    "    else:\n",
    "        # 整数部と小数部が分離されていない場合\n",
    "        number_str = s.split('円')[0]  # '86' のような文字列を取得\n",
    "        integer_part = number_str.zfill(2)  # 整数部を 0 で埋める\n",
    "        hennkan_result = f\"{integer_part}.00\"\n",
    "        return hennkan_result\n",
    "    \n",
    "\n",
    "#     if '.' in s:\n",
    "#         number_str1 = kn .split('円')[0]  # '86' のような文字列を取得\n",
    "#         integer_part1 = number_str1.zfill(2)  # 整数部を 0 で埋める\n",
    "#         hennkan_result = f\"{integer_part1}.00\"\n",
    "#         return hennkan_result\n",
    "#     *だけの時\n",
    "#     elif '*' in s:\n",
    "#         kn = s.split('*')[1]\n",
    "#         number_str1 = kn .split('円')[0]  # '86' のような文字列を取得\n",
    "#         integer_part1 = number_str1.zfill(2)  # 整数部を 0 で埋める\n",
    "#         hennkan_result = f\"{integer_part1}.00\"\n",
    "#         return hennkan_result\n",
    "\n",
    "\n",
    "\n",
    "def convert_sales_figure(sales_figure: str) -> int:\n",
    "    #兆しかない時\n",
    "    if '兆' in sales_figure and '億' not in sales_figure and '万' not in sales_figure:\n",
    "        hennkan = sales_figure.replace('兆', '*10**12')\n",
    "        return eval(hennkan)\n",
    "    #億しかない時\n",
    "    elif '億' in sales_figure and '兆' not in sales_figure and '万' not in sales_figure:\n",
    "        hennkan = sales_figure.replace('億', '*10**8')\n",
    "        return eval(hennkan)\n",
    "    #万しかない時\n",
    "    elif '万' in sales_figure and '兆' not in sales_figure and '万' not in sales_figure:\n",
    "        hennkan = sales_figure.replace('万', '*10**4')\n",
    "        return eval(hennkan)\n",
    "    #兆と億の時\n",
    "    elif'兆'in sales_figure and '億' in sales_figure:\n",
    "        hennkan = sales_figure.replace('兆', '*10**12+').replace('億','*10**8')\n",
    "        return eval(hennkan)\n",
    "    #億と万の時\n",
    "    elif'億'in sales_figure and '万' in sales_figure:\n",
    "        hennkan = sales_figure.replace('億', '*10**8+').replace('万','*10**4')\n",
    "        return eval(hennkan)\n",
    "    else:\n",
    "        hennkan = re.sub(r\"(兆)|(億)|(万)\", lambda x: \"*10**12+\" if x.group(1) else \"*10**8\" if x.group(2) else \"*10**4\", sales_figure)\n",
    "        return eval(hennkan)\n",
    "\n",
    "\n",
    "\n",
    "def convert_eps(eps_figure: str) -> int:\n",
    "    number_str = eps_figure.split('円')[0]\n",
    "    hennkan = number_str + '*100'\n",
    "    return eval(hennkan)\n",
    "\n",
    "\n",
    "def convert_stock_figure(stock_figure: str) -> int:\n",
    "    if '.' in stock_figure and '*' not in stock_figure :\n",
    "        number_str = stock_figure.split('円')[0]\n",
    "        integer_part, decimal_part = number_str.split('.')\n",
    "        integer_part = integer_part.zfill(2)\n",
    "        decimal_part = decimal_part.zfill(2)\n",
    "        return f\"{integer_part}.{decimal_part}\"\n",
    "    elif '*' in stock_figure and '.' not in stock_figure :\n",
    "        kn = stock_figure.split('*')[1]\n",
    "        number_str1 = kn .split('円')[0]\n",
    "        integer_part1 = number_str1.zfill(2)\n",
    "        return f\"{integer_part1}.00\"\n",
    "    \n",
    "    elif'*'in stock_figure and '.' in stock_figure:\n",
    "        kn = stock_figure.split('*')[1]\n",
    "        number_str = kn.split('円')[0]\n",
    "        integer_part, decimal_part = number_str.split('.')\n",
    "        integer_part = integer_part.zfill(2)\n",
    "        decimal_part = decimal_part.zfill(2)\n",
    "        return f\"{integer_part}.{decimal_part}\"\n",
    "    else:\n",
    "        number_str = stock_figure.split('円')[0]\n",
    "        integer_part = number_str.zfill(2)\n",
    "        return f\"{integer_part}.00\"\n",
    "    \n",
    "\n",
    "def convert_stock(stock_price: str) -> str:\n",
    "    if '.' in stock_price:\n",
    "        number_str = stock_price.split('円')[0]\n",
    "        integer_part, decimal_part = number_str.split('.')\n",
    "        integer_part = integer_part.zfill(2)\n",
    "        decimal_part = decimal_part.zfill(2)\n",
    "        return f\"{integer_part}.{decimal_part}\"\n",
    "    elif '*' in stock_price:\n",
    "        kn = stock_price.split('*')[1]\n",
    "        number_str1 = kn .split('円')[0]\n",
    "        integer_part1 = number_str1.zfill(2)\n",
    "        return f\"{integer_part1}.00\"\n",
    "    else:\n",
    "        number_str = stock_price.split('円')[0]\n",
    "        integer_part = number_str.zfill(2)\n",
    "        return f\"{integer_part}.00\"\n",
    "\n",
    "\n",
    "\n",
    "def convert_return(return_figure: str) -> str:\n",
    "    if '.' in return_figure:\n",
    "        number_str = return_figure.split('%')[0]\n",
    "        integer_part, decimal_part = number_str.split('.')\n",
    "        integer_part = integer_part.zfill(2)\n",
    "        decimal_part = decimal_part.zfill(2)\n",
    "        return f\"{integer_part}.{decimal_part}\"\n",
    "\n",
    "    else:\n",
    "        integer_part = return_figure.split('%')[0]\n",
    "        integer_part = integer_part.zfill(2)\n",
    "        return f\"{integer_part}.00\"\n",
    "\n",
    "def process_cashes(cashes):\n",
    "    cash_list = [cash.text for cash in cashes]\n",
    "    eval_cash_list = []\n",
    "    for cash in cash_list:\n",
    "        # 兆しかない時\n",
    "        if '兆' in cash and '億' not in cash and '万' not in cash:\n",
    "            hennkan = cash.replace('兆', '*10**12')\n",
    "            eval_cash_list.append(eval(hennkan))\n",
    "        # 億しかない時\n",
    "        elif '億' in cash and '兆' not in cash and '万' not in cash:\n",
    "            hennkan = cash.replace('億', '*10**8')\n",
    "            eval_cash_list.append(eval(hennkan))\n",
    "        # 万しかない時\n",
    "        elif '万' in cash and '兆' not in cash and '万' not in cash:\n",
    "            hennkan = cash.replace('万', '*10**4')\n",
    "            eval_cash_list.append(eval(hennkan))\n",
    "        # 兆と億の時\n",
    "        elif '兆' in cash and '億' in cash:\n",
    "            hennkan = cash.replace('兆', '*10**12+').replace('億','*10**8')\n",
    "            eval_cash_list.append(eval(hennkan))\n",
    "        # 億と万の時\n",
    "        elif '億' in cash and '万' in cash:\n",
    "            hennkan = cash.replace('億', '*10**8+').replace('万','*10**4')\n",
    "            eval_cash_list.append(eval(hennkan))\n",
    "        else:\n",
    "            hennkan = re.sub(r\"(兆)|(億)|(万)\", lambda x: \"*10**12+\" if x.group(1) else \"*10**8\" if x.group(2) else \"*10**4\", sale)\n",
    "            eval_cash_list.append(eval(hennkan))\n",
    "    return eval_cash_list\n",
    "\n",
    "\n",
    "import re\n",
    "\n",
    "def process_cfflows(cfflows):\n",
    "    cf_flow_list = [cfflow.text for cfflow in cfflows]\n",
    "    eval_cf_flow_list = []\n",
    "    for flow in cf_flow_list:\n",
    "        # 兆しかない時\n",
    "        if '兆' in flow and '億' not in flow and '万' not in flow:\n",
    "            hennkan = flow.replace('兆', '*10**12')\n",
    "            eval_cf_flow_list.append(eval(hennkan))\n",
    "        # 億しかない時\n",
    "        elif '億' in flow and '兆' not in flow and '万' not in flow:\n",
    "            hennkan = flow.replace('億', '*10**8')\n",
    "            eval_cf_flow_list.append(eval(hennkan))\n",
    "        # 万しかない時\n",
    "        elif '万' in flow and '兆' not in flow and '万' not in flow:\n",
    "            hennkan = flow.replace('万', '*10**4')\n",
    "            eval_cf_flow_list.append(eval(hennkan))\n",
    "        # 兆と億の時\n",
    "        elif '兆' in flow and '億' in flow:\n",
    "            hennkan = flow.replace('兆', '*10**12+').replace('億','*10**8')\n",
    "            eval_cf_flow_list.append(eval(hennkan))\n",
    "        # 億と万の時\n",
    "        elif '億' in flow and '万' in flow:\n",
    "            hennkan = flow.replace('億', '*10**8+').replace('万','*10**4')\n",
    "            eval_cf_flow_list.append(eval(hennkan))\n",
    "        else:\n",
    "            hennkan = re.sub(r\"(兆)|(億)|(万)\", lambda x: \"*10**12+\" if x.group(1) else \"*10**8\" if x.group(2) else \"*10**4\", sale)\n",
    "            eval_cf_flow_list.append(eval(hennkan))\n",
    "    return eval_cf_flow_list\n",
    "\n",
    "\n",
    "def convert_japanese_financial_string(string):\n",
    "    hennkan = string.replace('兆', '*10**12').replace('億', '*10**8').replace('万', '*10**4')\n",
    "    return eval(hennkan)\n",
    "\n",
    "\n",
    "\n",
    "def convert_flow_figure(flow_figure: str) -> int:\n",
    "        #兆しかない時\n",
    "        if '兆' in flow_figure and '億' not in flow_figure and '万' not in flow_figure:\n",
    "            hennkan = flow_figure.replace('兆', '*10**12')\n",
    "            return eval(hennkan)         \n",
    "        #億しかない時\n",
    "        elif '億' in flow_figure and '兆' not in flow_figure and '万' not in flow_figure:\n",
    "            hennkan = flow_figure.replace('億', '*10**8')\n",
    "            return eval(hennkan)             \n",
    "        #万しかない時\n",
    "        elif '万' in flow_figure and '兆' not in flow_figure and '万' not in flow_figure:\n",
    "            hennkan = flow_figure.replace('万', '*10**4')\n",
    "            return eval(hennkan)\n",
    "        #兆と億の時\n",
    "        elif'兆'in flow_figure and '億' in flow_figure:\n",
    "            hennkan = flow_figure.replace('兆', '*10**12+').replace('億','*10**8')\n",
    "            return eval(hennkan)\n",
    "        #億と万の時\n",
    "        elif'億'in flow_figure and '万' in flow_figure:\n",
    "            hennkan = flow_figure.replace('億', '*10**8+').replace('万','*10**4')\n",
    "            return eval(hennkan)\n",
    "        else:\n",
    "            hennkan = re.sub(r\"(兆)|(億)|(万)\", lambda x: \"*10**12+\" if x.group(1) else \"*10**8\" if x.group(2) else \"*10**4\", flow_figure)\n",
    "            return eval(hennkan)\n",
    "\n",
    "\n",
    "def floatparcent_hennkan(s):\n",
    "    if '.' in s:\n",
    "        number_str = s.split('%')[0]  # '15.65' のような文字列を取得\n",
    "        integer_part, decimal_part = number_str.split('.')  # '15' と '65' のような文字列を取得\n",
    "        integer_part = integer_part.zfill(2)  # 整数部を 0 で埋める\n",
    "        decimal_part = decimal_part.zfill(2)  # 小数部を 0 で埋める\n",
    "        hennkan_result = f\"{integer_part}.{decimal_part}\"  # 埋めた数値を結合\n",
    "        return hennkan_result\n",
    "\n",
    "    else:\n",
    "        # 整数部と小数部が分離されていない場合\n",
    "        integer_part = s.split('%')[0]  # '86' のような文字列を取得\n",
    "        integer_part = integer_part.zfill(2)  # 整数部を 0 で埋める\n",
    "        hennkan_result = f\"{integer_part}.00\"\n",
    "        return hennkan_result\n",
    "def check_uriagedaka(eval_sale_list):\n",
    "    result = all(int(eval_sale_list[i]) < int(eval_sale_list[i+1]) for i in range(len(eval_sale_list)-1))\n",
    "    uriagedaka_stock = []\n",
    "    if result:\n",
    "        uriagedaka_stock.append('OK')\n",
    "    else:\n",
    "        for i in range(len(eval_sale_list)-1):\n",
    "            if int(eval_sale_list[i]) >= int(eval_sale_list[i+1]):\n",
    "                uriagedaka_stock.append(f'NOT (at index {i+1})')\n",
    "    return uriagedaka_stock\n",
    "\n",
    "\n",
    "def check_eps(zeps_list):\n",
    "    result = all(int(zeps_list[i]) < int(zeps_list[i+1]) for i in range(len(zeps_list)-1))\n",
    "    eps_stock = []\n",
    "    if result:\n",
    "        eps_stock.append('OK')\n",
    "    else:\n",
    "        for i in range(len(zeps_list)-1):\n",
    "            if int(zeps_list[i]) >= int(zeps_list[i+1]):\n",
    "                eps_stock.append(f'NOT (at index {i+1})')\n",
    "    return eps_stock\n",
    "\n",
    "def check_eiri(zop_list):\n",
    "    zop_list = [float(x) for x in zop_list]\n",
    "    resault = all(10 <= float(zop_list[i]) for i in range(len(zop_list)))\n",
    "    eiri_stock = []\n",
    "    if resault:\n",
    "        eiri_stock.append('OK')\n",
    "    else:\n",
    "        for i in range(len(zop_list)):\n",
    "            if 10 >= float(zop_list[i]):\n",
    "                eiri_stock.append(f'NOT (at index {i})')\n",
    "    return eiri_stock\n",
    "\n",
    "def check_zikosihon(zoption_list):\n",
    "    oolist = [float(x) for x in zoption_list]\n",
    "    result = all(40 <= float(oolist[i]) for i in range(len(oolist)))\n",
    "    zikosihon_stock = []\n",
    "    if result:\n",
    "        zikosihon_stock.append('OK')\n",
    "    else:\n",
    "        for i in range(len(oolist)):\n",
    "            if 40 >= float(oolist[i]):\n",
    "                zikosihon_stock.append(f'NOT (at index {i})')\n",
    "    return zikosihon_stock\n",
    "\n",
    "\n",
    "def check_genkin(eval_cash_list):\n",
    "    result = all(int(eval_cash_list[i]) < int(eval_cash_list[i+1]) for i in range(len(eval_cash_list)-1))\n",
    "    genkin_stock = []\n",
    "    if result:\n",
    "        genkin_stock.append('OK')\n",
    "    else:\n",
    "        for i in range(len(eval_cash_list)-1):\n",
    "            if int(eval_cash_list[i]) >= int(eval_cash_list[i+1]):\n",
    "                genkin_stock.append(f'NOT (at index {i+1})')\n",
    "    return genkin_stock\n",
    "\n",
    "\n",
    "\n",
    "\n",
    "def get_closing_url(code):\n",
    "    url = f'https://irbank.net/{code}/ir'\n",
    "    r = requests.get(url)\n",
    "    sleep(2)\n",
    "    soup = BeautifulSoup(r.text,'html.parser')\n",
    "    element = soup.select_one('div.csb.cc2 > ul:nth-of-type(2) > li:first-of-type')\n",
    "    taget = element.find('a')\n",
    "    link = taget.get('href')\n",
    "    return link\n",
    "\n"
   ]
  },
  {
   "cell_type": "code",
   "execution_count": 363,
   "id": "87539772",
   "metadata": {},
   "outputs": [],
   "source": [
    "\n"
   ]
  },
  {
   "cell_type": "code",
   "execution_count": 429,
   "id": "57b62ffd",
   "metadata": {},
   "outputs": [],
   "source": [
    "@tictoc\n",
    "@cache\n",
    "def get_closing_url(code):\n",
    "    url = f'https://irbank.net/{code}/ir'\n",
    "    r = requests.get(url)\n",
    "    sleep(2)\n",
    "    soup = BeautifulSoup(r.text,'html.parser')\n",
    "    element = soup.select_one('div.csb.cc2 > ul:nth-of-type(2) > li:first-of-type')\n",
    "    taget = element.find('a')\n",
    "    link = taget.get('href')\n",
    "    return link\n"
   ]
  },
  {
   "cell_type": "code",
   "execution_count": null,
   "id": "bb92713a",
   "metadata": {},
   "outputs": [],
   "source": []
  },
  {
   "cell_type": "code",
   "execution_count": null,
   "id": "4476ffa0",
   "metadata": {},
   "outputs": [],
   "source": [
    "from bs4 import BeautifulSoup\n",
    "import requests \n",
    "import re\n",
    "from time import sleep\n",
    "import pandas as pd\n",
    "\n",
    "url='https://irbank.net/E02288/results'\n",
    "sleep(2)\n",
    "r=requests.get(url)\n",
    "soup = BeautifulSoup(r.text, 'html.parser')\n",
    "title=soup.find('h1').text\n",
    "ds = soup.find_all('h2')\n",
    "\n",
    "text=[]\n",
    "for element in ds:\n",
    "    for a in element.find_all('a'):\n",
    "        a.decompose()\n",
    "    text.append(element)\n",
    "   #-------------------------------------------------------------------------ひとまず終了------------------------------------------------------------------------#    \n",
    "\n",
    "\n",
    "   #-------------------------------------------------------------------------ひとまず終了------------------------------------------------------------------------#\n",
    "target_h2 = []#正規は８項目\n",
    "for t in text:\n",
    "    if \"売上高\" in t or\"EPS\" in t or \"営業利益率\" in t or \"自己資本比率\" in t or \"現金等\" in t or \"営業活動によるCF\" in t or \"一株配当\" in t or \"配当性向\" in t:\n",
    "        target_h2.append(t)\n",
    "    \n",
    "test__lists=[]\n",
    "if len(target_h2)==8:\n",
    "    for i in target_h2:\n",
    "        bro=i.find_next_sibling()\n",
    "        ss = bro.find_all('span', class_='text')\n",
    "        test__lists.append(ss)\n",
    "else:\n",
    "    test__lists.append( len(target_h2))\n",
    "\n"
   ]
  },
  {
   "cell_type": "code",
   "execution_count": null,
   "id": "4c1b77fe",
   "metadata": {},
   "outputs": [],
   "source": [
    "test__lists"
   ]
  },
  {
   "cell_type": "code",
   "execution_count": null,
   "id": "4db589ba",
   "metadata": {},
   "outputs": [],
   "source": [
    "target_h2 = []\n",
    "for t in text:\n",
    "    if (\"売上高\" in t) and (\"EPS\") in t and (\"営業利益率\") in t and (\"自己資本比率\") in t and (\"現金等\") in t and (\"営業活動によるCF\") in t and (\"一株配当\") in t and (\"配当性向\") in t:\n",
    "        target_h2.append(t)\n",
    "    else:\n",
    "        target_h2.append('none')\n",
    "        \n",
    "        \n",
    "# ore=['売上高','EPS','営業利益率','自己資本比率','現金等','営業活動によるCF','一株配当','配当性向']\n",
    "\n",
    "test__lists=[]\n",
    "if len(target_h2)==8:\n",
    "    for i in target_h2:\n",
    "        bro=i.find_next_sibling()\n",
    "        ss = bro.find_all('span', class_='text')\n",
    "        test__lists.append(ss)\n",
    "else:\n",
    "    test__lists.append(len(target_h2))"
   ]
  },
  {
   "cell_type": "code",
   "execution_count": 155,
   "id": "937e7723",
   "metadata": {},
   "outputs": [
    {
     "name": "stdout",
     "output_type": "stream",
     "text": [
      "from_cache: False\n",
      "status_code: 200\n"
     ]
    }
   ],
   "source": [
    "import requests\n",
    "from cachecontrol import CacheControl \n",
    "from cachecontrol.caches import FileCache\n",
    "\n",
    "session = requests.Session()\n",
    "# sessionをラップしたcached_sessionを作る。\n",
    "# キャッシュはファイルとして .webcache ディレクトリ内に保存する。\n",
    "cached_session = CacheControl(session, cache=FileCache('.webcache'))\n",
    "\n",
    "response = cached_session.get('https://irbank.net/E31167/results') \n",
    "\n",
    "# response.from_cache属性でキャッシュから取得されたレスポンスかどうかを取得できる。\n",
    "print(f'from_cache: {response.from_cache}') \n",
    "print(f'status_code: {response.status_code}')"
   ]
  },
  {
   "cell_type": "code",
   "execution_count": 132,
   "id": "2cacfc63",
   "metadata": {},
   "outputs": [
    {
     "ename": "NameError",
     "evalue": "name 'number_str' is not defined",
     "output_type": "error",
     "traceback": [
      "\u001b[0;31m---------------------------------------------------------------------------\u001b[0m",
      "\u001b[0;31mNameError\u001b[0m                                 Traceback (most recent call last)",
      "\u001b[0;32m/var/folders/81/ckf4k5wn0d16719pp2dp8rqw0000gn/T/ipykernel_16689/3116207713.py\u001b[0m in \u001b[0;36m<module>\u001b[0;34m\u001b[0m\n\u001b[1;32m      7\u001b[0m     \u001b[0mdecimal_part\u001b[0m \u001b[0;34m=\u001b[0m \u001b[0mdecimal_part\u001b[0m\u001b[0;34m.\u001b[0m\u001b[0mzfill\u001b[0m\u001b[0;34m(\u001b[0m\u001b[0;36m2\u001b[0m\u001b[0;34m)\u001b[0m\u001b[0;34m\u001b[0m\u001b[0;34m\u001b[0m\u001b[0m\n\u001b[1;32m      8\u001b[0m     \u001b[0mprint\u001b[0m \u001b[0;34m(\u001b[0m\u001b[0;34mf\"{integer_part}.{decimal_part}\"\u001b[0m\u001b[0;34m)\u001b[0m\u001b[0;34m\u001b[0m\u001b[0;34m\u001b[0m\u001b[0m\n\u001b[0;32m----> 9\u001b[0;31m \u001b[0mnumber_str\u001b[0m\u001b[0;34m\u001b[0m\u001b[0;34m\u001b[0m\u001b[0m\n\u001b[0m",
      "\u001b[0;31mNameError\u001b[0m: name 'number_str' is not defined"
     ]
    }
   ],
   "source": []
  },
  {
   "cell_type": "code",
   "execution_count": 180,
   "id": "addc330c",
   "metadata": {},
   "outputs": [
    {
     "name": "stderr",
     "output_type": "stream",
     "text": [
      "これはデバッグログ\n",
      "これはデバッグログ\n",
      "これはデバッグログ\n",
      "これはデバッグログ\n",
      "これはデバッグログ\n"
     ]
    }
   ],
   "source": [
    "from logging import getLogger,StreamHandler,DEBUG,ERROR\n",
    "\n",
    "logger=getLogger(__name__)\n",
    "handler=StreamHandler()\n",
    "handler.setLevel(ERROR)\n",
    "logger.setLevel(DEBUG)\n",
    "logger.addHandler(handler)\n",
    "logger.debug('これはデバッグログ')"
   ]
  },
  {
   "cell_type": "code",
   "execution_count": 195,
   "id": "28bc7b70",
   "metadata": {},
   "outputs": [
    {
     "name": "stdout",
     "output_type": "stream",
     "text": [
      "5019\n"
     ]
    }
   ],
   "source": [
    "securities_codes = get_securities_codes(27,28)\n",
    "for x in securities_codes:\n",
    "    with open('irbank/csv/securities_codes.pickle','wb') as f:\n",
    "        pickle.dump(x,f)\n",
    "    with open('irbank/csv/securities_codes.pickle','rb') as f:\n",
    "        x=pickle.load(f)\n",
    "print(x)"
   ]
  },
  {
   "cell_type": "code",
   "execution_count": 418,
   "id": "d62b680b",
   "metadata": {},
   "outputs": [
    {
     "name": "stdout",
     "output_type": "stream",
     "text": [
      "time: 5.502143860 [sec]\n",
      "time: 5.407816887 [sec]\n",
      "time: 5.537411213 [sec]\n"
     ]
    }
   ],
   "source": []
  },
  {
   "cell_type": "code",
   "execution_count": 420,
   "id": "c90ca008",
   "metadata": {},
   "outputs": [
    {
     "name": "stdout",
     "output_type": "stream",
     "text": [
      "39\n"
     ]
    }
   ],
   "source": [
    "print(len(existing_data))"
   ]
  },
  {
   "cell_type": "code",
   "execution_count": 421,
   "id": "d638f082",
   "metadata": {},
   "outputs": [
    {
     "name": "stdout",
     "output_type": "stream",
     "text": [
      "0 ['9104', '9101', '9110', '1518', '9308', '1662', '1820', '9107', '2914', '5192', '5208', '5334', '5009', '8595', '5444', '8886', '7239', '4595', '7744', '3284']\n",
      "1 ['9104', '9101', '9110', '1518', '9308', '1662', '1820', '9107', '2914', '5192', '5208', '5334', '5009', '8595', '5444', '8886', '7239', '4595', '7744', '3284']\n",
      "2 ['6035', '1852', '3245', '7638', '6502', '3948', '1833', '2892', '7236', '6651', '7847', '2986', '9268', '7433', '8737', '8076', '9119', '6156', '8093', '8996']\n",
      "3 ['7088', '3242', '8304', '7480', '8075', '7494', '5985', '7762', '3465', '4249', '9434', '8150', '6918', '9381', '6461', '8999', '6291', '9282', '1720', '8893']\n",
      "4 ['1822', '7414', '5901', '1847', '4705', '5988', '5408', '4031', '7278', '5410', '6393', '9362', '9147', '5703', '5702', '1808', '4246', '2975', '3447', '9880']\n",
      "5 ['7198', '6210', '7284', '8897', '1451', '1911', '3294', '2737', '7148', '5105', '8053', '7879', '8713', '1419', '8140', '5015', '6462', '2676', '3321', '8887']\n",
      "6 ['6369', '9445', '8835', '2768', '6809', '7905', '6804', '1814', '1939', '8065', '4845', '9303', '6358', '3109', '5742', '2999', '5697', '4410', '7467', '6333']\n",
      "7 ['4208', '7523', '5391', '7618', '5351', '3228', '4078', '5185', '3457', '8881', '8020', '9302', '1861', '1972', '4767', '4005', '7488', '4064', '7287', '1941']\n",
      "8 ['4042', '3467', '4968', '8002', '6237', '7525', '5632', '1870', '8892', '5214', '6292', '7246', '5237', '9640', '4634', '8005', '7957', '8935', '6941', '1805']\n",
      "9 ['7291', '5659', '8141', '7593', '7729', '4932', '8154', '1430', '8903', '8349', '4008', '1871', '1929', '3023', '9761', '6998', '1960', '7420', '7812', '6384']\n",
      "10 ['6523', '5079', '7463', '7949', '5020', '8869', '2335', '6870', '8931', '8542', '6247', '6306', '7338', '8871', '9904', '3156', '7940', '4423', '4745', '3131']\n",
      "11 ['4972', '6463', '8007', '8008', '4619', '5184', '3486', '4248', '8593', '9639', '6250', '8098', '2715', '3276', '5121', '8725', '2763', '4061', '4119', '4220']\n",
      "12 ['1719', '8904', '7537', '7599', '3151', '6919', '1853', '2485', '6623', '1723', '5280', '8101', '9466', '8091', '5915', '4116', '6186', '5480', '7202', '7122']\n",
      "13 ['4221', '1887', '1980', '5464', '2311', '9908', '2461', '7377', '8584', '5302', '9446', '9769', '3293', '5195', '5602', '7189', '6694', '3597', '8345', '1961']\n",
      "14 ['6486', '7950', '3374', '3738', '6789', '3952', '9763', '7539', '5471', '4708', '6652', '5857', '1807', '7877', '8014', '7322', '5201', '8630', '8068', '1951']\n",
      "15 ['8133', '6307', '7087', '7417', '6178', '6493', '1815', '5976', '3475', '6382', '1930', '3388', '3513', '2393', '6379', '3548', '6539', '5368', '6648', '4234']\n",
      "16 ['6788', '7380', '7822', '9216', '7944', '6742', '7995', '9872', '6643', '2760', '6319', '7673', '7231', '6482', '8393', '8560', '5331', '9698', '6183', '5461']\n",
      "17 ['8411', '5356', '8367', '7229', '3248', '5458', '2121', '6345', '6301', '8061', '6189', '9960', '8381', '7775', '4502', '1982', '6357', '2777', '3291', '4544']\n",
      "18 ['6317', '7609', '5706', '6718', '7182', '3246', '6113', '4093', '1928', '6797', '3449', '5983', '5992', '8898', '2993', '4709', '5938', '1802', '8563', '3241']\n",
      "19 ['4182', '1821', '1892', '7718', '9034', '4041', '4367', '7265', '8383', '7637', '7283', '3817', '4215', '8309', '6257', '5911', '8558', '4714', '5563', '6371']\n",
      "20 ['6763', '9717', '1605', '8336', '4095', '4188', '6445', '1964', '1721', '8316', '8927', '8877', '7299', '2449', '2499', '6973', '5660', '7464', '7030', '1925']\n",
      "21 ['7327', '7872', '9788', '7856', '7916', '6471', '6032', '8889', '6407', '7368', '9913', '6703', '7953', '6995', '5021', '5367', '3244', '5989', '3143', '4725']\n",
      "22 ['7240', '7399', '6757', '4631', '8410', '3847', '3020', '9743', '8934', '8095', '7575', '3423', '5187', '6436', '4471', '9832', '7264', '4748', '5950', '1775']\n",
      "23 ['7472', '6339', '6540', '3436', '8917', '9709', '2488', '1776', '7250', '3299', '1994', '1515', '8860', '9536', '7435', '9072', '7313', '7181', '7827', '7751']\n",
      "24 ['7928', '1867', '4044', '6930', '8203', '8291', '9991', '8046', '8537', '9934', '7173', '9366', '7460', '7337', '5929', '6440', '6932', '7966', '9260', '4658']\n",
      "25 ['6844', '5481', '9632', '7820', '9682', '9644', '5933', '4092', '6248', '9622', '1813', '9213', '1717', '6871', '4461', '6881', '9384', '4642', '7224', '7242']\n",
      "26 ['2411', '2107', '8070', '5658', '5958', '1946', '4521', '8908', '5970', '1866', '1904', '4792', '8591', '3173', '6507', '4224', '7955', '3003', '3132', '8392']\n",
      "27 ['5923', '3035', '6989', '1952', '8714', '3551', '5729', '6373', '3172', '7623', '3877', '9837', '1764', '8395', '5019', '3526', '7628', '8399', '6676', '3101']\n",
      "28 ['7896', '7671', '6134', '5463', '7022', '3405', '3431', '3951', '9351', '8159', '7177', '8925', '4202', '9513', '8995', '9651', '3553', '3947', '5984', '6488']\n",
      "29 ['3041', '6962', '1417', '7722', '5715', '5076', '7985', '4839', '3166', '1736', '3504', '2304', '2674', '7791', '7261', '7570', '8074', '8804', '7059', '6584']\n",
      "30 ['9306', '8282', '8364', '2687', '8051', '8151', '8015', '4183', '7315', '7958', '5017', '4928', '6042', '8011', '5011', '4902', '1812', '7422', '3116', '6498']\n",
      "31 ['5333', '7212', '8524', '6644', '8084', '1893', '8425', '3036', '5393', '1860', '2294', '4043', '3477', '9304', '2445', '6730', '6629', '2689', '1885', '3231']\n",
      "32 ['6489', '7740', '7811', '5162', '9619', '1934', '6853', '6798', '4668', '9359', '8157', '7296', '9986', '3433', '8173', '6365', '7551', '1786', '3004', '9856']\n",
      "33 ['3407', '8289', '7040', '5979', '3176', '4620', '6073', '7981', '6103', '6118', '6141', '8103', '2961', '7670', '1810', '7800', '9368', '9889', '7961', '9066']\n",
      "34 ['4229', '6328', '8018', '7208', '8554', '8890', '3611', '7823', '1945', '6622', '2136', '3834', '7217', '3538', '3375', '5232', '9233', '7272', '4676', '6167']\n",
      "35 ['8341', '2987', '6381', '4028', '5991', '7893', '8016', '6287', '6282', '2415', '4671', '3452', '7267', '1954', '8361', '6543', '3546', '3501', '6715', '1898']\n",
      "36 ['3167', '1878', '4238', '2163', '1827', '7226', '6293', '6142', '8923', '3495', '4627', '9412', '6490', '3157', '5930', '8945', '8544', '3800', '8130', '6392']\n",
      "37 ['8424', '7925', '6592']\n",
      "38 []\n"
     ]
    }
   ],
   "source": [
    "for key in existing_data:\n",
    "    print(key, existing_data[key])"
   ]
  },
  {
   "cell_type": "code",
   "execution_count": 424,
   "id": "32527c07",
   "metadata": {},
   "outputs": [
    {
     "name": "stdout",
     "output_type": "stream",
     "text": [
      "743\n"
     ]
    }
   ],
   "source": [
    "\n",
    "import itertools\n",
    "\n",
    "flattened_codes = list(itertools.chain(*existing_data.values()))\n",
    "print(len(flattened_codes))"
   ]
  },
  {
   "cell_type": "code",
   "execution_count": 422,
   "id": "d7a1d375",
   "metadata": {},
   "outputs": [
    {
     "ename": "KeyError",
     "evalue": "39",
     "output_type": "error",
     "traceback": [
      "\u001b[0;31m---------------------------------------------------------------------------\u001b[0m",
      "\u001b[0;31mKeyError\u001b[0m                                  Traceback (most recent call last)",
      "\u001b[0;32m/var/folders/81/ckf4k5wn0d16719pp2dp8rqw0000gn/T/ipykernel_16689/478071808.py\u001b[0m in \u001b[0;36m<module>\u001b[0;34m\u001b[0m\n\u001b[1;32m      1\u001b[0m \u001b[0;31m# num_keys = len(existing_data)\u001b[0m\u001b[0;34m\u001b[0m\u001b[0;34m\u001b[0m\u001b[0m\n\u001b[1;32m      2\u001b[0m \u001b[0;31m# print(num_keys)\u001b[0m\u001b[0;34m\u001b[0m\u001b[0;34m\u001b[0m\u001b[0m\n\u001b[0;32m----> 3\u001b[0;31m \u001b[0;32mdel\u001b[0m \u001b[0mexisting_data\u001b[0m\u001b[0;34m[\u001b[0m\u001b[0;36m39\u001b[0m\u001b[0;34m]\u001b[0m\u001b[0;34m\u001b[0m\u001b[0;34m\u001b[0m\u001b[0m\n\u001b[0m",
      "\u001b[0;31mKeyError\u001b[0m: 39"
     ]
    }
   ],
   "source": [
    "# num_keys = len(existing_data)\n",
    "# print(num_keys)\n",
    "del existing_data[39]"
   ]
  },
  {
   "cell_type": "code",
   "execution_count": null,
   "id": "13e345ac",
   "metadata": {},
   "outputs": [],
   "source": []
  },
  {
   "cell_type": "code",
   "execution_count": 205,
   "id": "28857735",
   "metadata": {},
   "outputs": [],
   "source": [
    "import time\n",
    "\n",
    "# 関数の実行時間を測るデコレータ\n",
    "def tictoc(func):\n",
    "    def _wrapper(*args, **keywargs):\n",
    "        start_time = time.time()\n",
    "        result = func(*args, **keywargs)\n",
    "        print('time: {:.9f} [sec]'.format(time.time() - start_time))\n",
    "        return result\n",
    "    return _wrapper"
   ]
  },
  {
   "cell_type": "code",
   "execution_count": 206,
   "id": "581139d1",
   "metadata": {},
   "outputs": [
    {
     "name": "stdout",
     "output_type": "stream",
     "text": [
      "time: 0.110246897 [sec]\n",
      "time: 0.000004053 [sec]\n"
     ]
    },
    {
     "data": {
      "text/plain": [
       "1000001"
      ]
     },
     "execution_count": 206,
     "metadata": {},
     "output_type": "execute_result"
    }
   ],
   "source": [
    "from functools import cache\n",
    "\n",
    "@tictoc\n",
    "@cache  # デコレータを付与\n",
    "def func(num):\n",
    "    # なんらかの重い処理\n",
    "    for _ in range(1000000):\n",
    "        num += 1\n",
    "    return num\n",
    "\n",
    "# 1度目の呼び出し\n",
    "func(1)\n",
    "\n",
    "# 2度目の呼び出し\n",
    "func(1)"
   ]
  },
  {
   "cell_type": "code",
   "execution_count": 207,
   "id": "4f335a81",
   "metadata": {},
   "outputs": [
    {
     "name": "stdout",
     "output_type": "stream",
     "text": [
      "time: 0.000001907 [sec]\n"
     ]
    },
    {
     "data": {
      "text/plain": [
       "1000001"
      ]
     },
     "execution_count": 207,
     "metadata": {},
     "output_type": "execute_result"
    }
   ],
   "source": [
    "func(1)"
   ]
  },
  {
   "cell_type": "code",
   "execution_count": 404,
   "id": "35976710",
   "metadata": {},
   "outputs": [],
   "source": []
  },
  {
   "cell_type": "code",
   "execution_count": 214,
   "id": "5befd2e1",
   "metadata": {},
   "outputs": [
    {
     "name": "stdout",
     "output_type": "stream",
     "text": [
      "time: 0.000002146 [sec]\n"
     ]
    }
   ],
   "source": [
    "securities_codes = get_securities_codes(27,28)"
   ]
  },
  {
   "cell_type": "code",
   "execution_count": 444,
   "id": "185f979c",
   "metadata": {},
   "outputs": [
    {
     "data": {
      "text/plain": [
       "{'ランキング': '720', '証券コード': '8016', '企業名': 'オンワード', '配当利回り': '3.77'}"
      ]
     },
     "execution_count": 444,
     "metadata": {},
     "output_type": "execute_result"
    }
   ],
   "source": [
    "dic"
   ]
  },
  {
   "cell_type": "code",
   "execution_count": 442,
   "id": "96c55176",
   "metadata": {},
   "outputs": [
    {
     "name": "stdout",
     "output_type": "stream",
     "text": [
      "time: 2.468093395 [sec]\n",
      "time: 2.401077986 [sec]\n",
      "time: 2.547940731 [sec]\n",
      "time: 2.355569839 [sec]\n",
      "time: 2.433306217 [sec]\n",
      "time: 2.368809938 [sec]\n",
      "time: 2.448343039 [sec]\n",
      "time: 2.794181108 [sec]\n",
      "time: 2.421494007 [sec]\n",
      "time: 2.472871065 [sec]\n"
     ]
    }
   ],
   "source": [
    "\n"
   ]
  },
  {
   "cell_type": "code",
   "execution_count": 439,
   "id": "74013472",
   "metadata": {},
   "outputs": [
    {
     "data": {
      "text/plain": [
       "{'9104': '/E04236/results',\n",
       " '9101': '/E04235/results',\n",
       " '9110': '/E04239/results',\n",
       " '1518': '/E00037/results',\n",
       " '9308': '/E04288/results',\n",
       " '1662': '/E00041/results',\n",
       " '9107': '/E04237/results',\n",
       " '1820': '/E00060/results',\n",
       " '2914': '/E00492/results',\n",
       " '5192': '/E01098/results',\n",
       " '5208': '/E01152/results',\n",
       " '5334': '/E01136/results',\n",
       " '5009': '/E01076/results',\n",
       " '8595': '/E04806/results',\n",
       " '5444': '/E01259/results',\n",
       " '8886': '/E03988/results',\n",
       " '7239': '/E02210/results',\n",
       " '4595': '/E31946/results',\n",
       " '7744': '/E02322/results',\n",
       " '3284': '/E27281/results'}"
      ]
     },
     "execution_count": 439,
     "metadata": {},
     "output_type": "execute_result"
    }
   ],
   "source": [
    "ex_data"
   ]
  },
  {
   "cell_type": "code",
   "execution_count": 395,
   "id": "1e891d65",
   "metadata": {},
   "outputs": [],
   "source": [
    "closing_url = list(closing_dict.values())\n",
    "#ここまでclosing_dict"
   ]
  },
  {
   "cell_type": "code",
   "execution_count": 440,
   "id": "50dde8d6",
   "metadata": {},
   "outputs": [
    {
     "ename": "KeyError",
     "evalue": "0",
     "output_type": "error",
     "traceback": [
      "\u001b[0;31m---------------------------------------------------------------------------\u001b[0m",
      "\u001b[0;31mKeyError\u001b[0m                                  Traceback (most recent call last)",
      "\u001b[0;32m/var/folders/81/ckf4k5wn0d16719pp2dp8rqw0000gn/T/ipykernel_16689/1347184702.py\u001b[0m in \u001b[0;36m<module>\u001b[0;34m\u001b[0m\n\u001b[0;32m----> 1\u001b[0;31m \u001b[0;32mdel\u001b[0m \u001b[0mex_data\u001b[0m\u001b[0;34m[\u001b[0m\u001b[0;36m0\u001b[0m\u001b[0;34m]\u001b[0m\u001b[0;34m\u001b[0m\u001b[0;34m\u001b[0m\u001b[0m\n\u001b[0m",
      "\u001b[0;31mKeyError\u001b[0m: 0"
     ]
    }
   ],
   "source": [
    "del ex_data[0]"
   ]
  },
  {
   "cell_type": "code",
   "execution_count": null,
   "id": "b13f1487",
   "metadata": {},
   "outputs": [],
   "source": [
    "#gptへの質問2023/01/10\n",
    "\n",
    "result = {}\n",
    "for page in range(35, 38):\n",
    "    securities_codes = get_securities_codes(page, page)\n",
    "    result[page] = securities_codes\n",
    "    if os.path.exists('irbank/csv/securities_codes.pickle'):\n",
    "     # ファイルから既存のデータを読み込む\n",
    "        with open('irbank/csv/securities_codes.pickle', 'rb') as f:\n",
    "            existing_data = pickle.load(f)\n",
    "        # 既存のデータを更新する\n",
    "        existing_data.update(result)\n",
    "        # ファイルに追加されたデータを保存する\n",
    "        with open('irbank/csv/securities_codes.pickle', 'wb') as f:\n",
    "            pickle.dump(existing_data, f)\n",
    "    else:\n",
    "        with open('irbank/csv/securities_codes.pickle', 'wb') as f:\n",
    "            pickle.dump(result, f)\n",
    "\n",
    "for key in existing_data:\n",
    "    print(key, existing_data[key])\n",
    "flattened_codes = list(itertools.chain(*existing_data.values()))こららの中に無駄な作業はありますか？"
   ]
  }
 ],
 "metadata": {
  "kernelspec": {
   "display_name": "Python 3 (ipykernel)",
   "language": "python",
   "name": "python3"
  },
  "language_info": {
   "codemirror_mode": {
    "name": "ipython",
    "version": 3
   },
   "file_extension": ".py",
   "mimetype": "text/x-python",
   "name": "python",
   "nbconvert_exporter": "python",
   "pygments_lexer": "ipython3",
   "version": "3.9.13"
  }
 },
 "nbformat": 4,
 "nbformat_minor": 5
}
