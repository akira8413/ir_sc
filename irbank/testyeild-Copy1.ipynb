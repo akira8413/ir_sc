{
 "cells": [
  {
   "cell_type": "code",
   "execution_count": 1,
   "id": "33b6b986",
   "metadata": {},
   "outputs": [],
   "source": [
    "\n",
    "\n",
    "def main_yeild_data(flatyeild_urls, start, end):\n",
    "    focus_urls=[]\n",
    "    all_text=[]\n",
    "    all_title=[]\n",
    "    for flatyeild_url in flatyeild_urls[start:end]:\n",
    "        url='https://irbank.net{}'.format(flatyeild_url)\n",
    "        sleep(random.uniform(3, 8)) \n",
    "        focus_urls.append(url)\n",
    "        r=requests.get(url)\n",
    "        soup = BeautifulSoup(r.text, 'html.parser')\n",
    "        title=soup.find('h1').text\n",
    "        all_title.append(title)\n",
    "        suii=soup.find(id='g_3')\n",
    "        numv=suii.find_all('span', class_='text')\n",
    "        all_text.append(numv)\n",
    "    return focus_urls1, all_text1, all_title\n",
    "\n",
    "# flatyeild_urls = [#list of urls]\n",
    "# num_urls = 50\n",
    "# focus_urls, all_text, all_title = main_yeild_data(flatyeild_urls, start, end)\n",
    "    \n",
    "    \n",
    "# def main_yeild_data(flatyeild_urls, start, end):\n",
    "#     focus_urls1=[]\n",
    "#     all_text1=[]\n",
    "#     all_title1=[]\n",
    "#     for flatyeild_url in flatyeild_urls[start:end]:\n",
    "#         url='https://irbank.net{}'.format(flatyeild_url)\n",
    "#         sleep(random.uniform(3, 8)) \n",
    "#         focus_urls1.append(url)\n",
    "#     for focus_url1 in focus_urls1:\n",
    "#         r1=requests.get(focus_url1)\n",
    "#         soup1 = BeautifulSoup(r1.text, 'html.parser')\n",
    "#         title1=soup1.find('h1').text\n",
    "#         all_title1.append(title1)\n",
    "#         suii=soup1.find(id='g_3')\n",
    "#         numv=suii.find_all('span', class_='text')\n",
    "#         all_text1.append(numv)\n",
    "#     return focus_urls1, all_text1, all_title1\n"
   ]
  }
 ],
 "metadata": {
  "kernelspec": {
   "display_name": "Python 3 (ipykernel)",
   "language": "python",
   "name": "python3"
  },
  "language_info": {
   "codemirror_mode": {
    "name": "ipython",
    "version": 3
   },
   "file_extension": ".py",
   "mimetype": "text/x-python",
   "name": "python",
   "nbconvert_exporter": "python",
   "pygments_lexer": "ipython3",
   "version": "3.9.13"
  }
 },
 "nbformat": 4,
 "nbformat_minor": 5
}
