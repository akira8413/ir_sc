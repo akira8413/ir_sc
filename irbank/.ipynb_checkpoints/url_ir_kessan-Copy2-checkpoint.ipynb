{
 "cells": [
  {
   "cell_type": "code",
   "execution_count": 3,
   "id": "a50c7794",
   "metadata": {},
   "outputs": [],
   "source": []
  },
  {
   "cell_type": "code",
   "execution_count": 4,
   "id": "a41ab487",
   "metadata": {
    "scrolled": true
   },
   "outputs": [
    {
     "name": "stdout",
     "output_type": "stream",
     "text": [
      "733\n"
     ]
    }
   ],
   "source": [
    "with open('csv/securities_codes.pickle', 'rb') as f:\n",
    "            existing_data = pickle.load(f)\n",
    "flattened_codes = list(itertools.chain(*existing_data.values()))\n",
    "print(len(flattened_codes))"
   ]
  },
  {
   "cell_type": "code",
   "execution_count": 22,
   "id": "611784c0",
   "metadata": {},
   "outputs": [
    {
     "name": "stdout",
     "output_type": "stream",
     "text": [
      "713\n",
      "time: 3.944007158 [sec]\n",
      "time: 7.256459951 [sec]\n",
      "time: 3.763336897 [sec]\n",
      "time: 6.118294954 [sec]\n",
      "time: 3.804369926 [sec]\n",
      "time: 8.066808939 [sec]\n",
      "time: 6.848716021 [sec]\n",
      "time: 4.239471912 [sec]\n",
      "time: 4.175994158 [sec]\n",
      "time: 3.592920065 [sec]\n",
      "time: 3.851606131 [sec]\n",
      "time: 6.778085947 [sec]\n",
      "time: 4.773052931 [sec]\n"
     ]
    }
   ],
   "source": [
    "#ここからclosing_dict=\n",
    "%run -i 'modules/get_closing_url.py'\n",
    "with open('pickle/securities_codes.pickle', 'rb') as f:\n",
    "            existing_data = pickle.load(f)\n",
    "if existing_data[0] :\n",
    "    del existing_data[0]\n",
    "else:\n",
    "    pass\n",
    "flattened_codes = list(itertools.chain(*existing_data.values()))\n",
    "print(len(flattened_codes))\n",
    "closing_dict = {}\n",
    "for code in flattened_codes[700:713]:\n",
    "    new_url = get_closing_url(code)\n",
    "    closing_dict[code] = new_url\n",
    "\n",
    "# 既存のpickleファイルがある場合\n",
    "    if os.path.exists('csv/closing_dict.pickle'):\n",
    "        # ファイルから既存のデータを読み込む\n",
    "        with open('csv/closing_dict.pickle', 'rb') as f:\n",
    "            ex_data = pickle.load(f)\n",
    "        # 既存のデータに新しいデータを追加\n",
    "        ex_data.update(closing_dict)\n",
    "        # ファイルに追加されたデータを保存する\n",
    "        with open('csv/closing_dict.pickle', 'wb') as f:\n",
    "            pickle.dump(ex_data, f)\n",
    "    # 初めての保存の場合\n",
    "    else:\n",
    "        with open('csv/closing_dict.pickle', 'wb') as f:\n",
    "            pickle.dump(closing_dict, f)\n",
    "            \n",
    "            \n"
   ]
  },
  {
   "cell_type": "code",
   "execution_count": 26,
   "id": "9494d32c",
   "metadata": {},
   "outputs": [],
   "source": [
    "#全部のリストをつなげる(このページで取得するものはflatclosing_urls=決算ページのhrefで終了)\n",
    "with open('csv/closing_dict.pickle', 'rb') as f:\n",
    "            ex_data = pickle.load(f)\n",
    "flatclosing_urls = list(itertools.chain(ex_data.values()))"
   ]
  },
  {
   "cell_type": "code",
   "execution_count": 27,
   "id": "7cf2d554",
   "metadata": {},
   "outputs": [
    {
     "name": "stdout",
     "output_type": "stream",
     "text": [
      "713\n"
     ]
    }
   ],
   "source": [
    "print(len(flatclosing_urls))"
   ]
  },
  {
   "cell_type": "code",
   "execution_count": null,
   "id": "5ce34db8",
   "metadata": {},
   "outputs": [],
   "source": []
  }
 ],
 "metadata": {
  "kernelspec": {
   "display_name": "Python 3 (ipykernel)",
   "language": "python",
   "name": "python3"
  },
  "language_info": {
   "codemirror_mode": {
    "name": "ipython",
    "version": 3
   },
   "file_extension": ".py",
   "mimetype": "text/x-python",
   "name": "python",
   "nbconvert_exporter": "python",
   "pygments_lexer": "ipython3",
   "version": "3.9.13"
  }
 },
 "nbformat": 4,
 "nbformat_minor": 5
}
