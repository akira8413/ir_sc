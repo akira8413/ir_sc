{
 "cells": [
  {
   "cell_type": "code",
   "execution_count": 564,
   "id": "a41ab487",
   "metadata": {
    "scrolled": true
   },
   "outputs": [
    {
     "name": "stdout",
     "output_type": "stream",
     "text": [
      "733\n"
     ]
    },
    {
     "ename": "IndexError",
     "evalue": "list index out of range",
     "output_type": "error",
     "traceback": [
      "\u001b[0;31m---------------------------------------------------------------------------\u001b[0m",
      "\u001b[0;31mIndexError\u001b[0m                                Traceback (most recent call last)",
      "\u001b[0;32m/var/folders/81/ckf4k5wn0d16719pp2dp8rqw0000gn/T/ipykernel_42891/2268109481.py\u001b[0m in \u001b[0;36m<module>\u001b[0;34m\u001b[0m\n\u001b[1;32m    107\u001b[0m \u001b[0manalyzes_dict\u001b[0m \u001b[0;34m=\u001b[0m \u001b[0;34m{\u001b[0m\u001b[0;34m}\u001b[0m\u001b[0;34m\u001b[0m\u001b[0;34m\u001b[0m\u001b[0m\n\u001b[1;32m    108\u001b[0m \u001b[0;32mfor\u001b[0m \u001b[0mi\u001b[0m \u001b[0;32min\u001b[0m \u001b[0mrange\u001b[0m\u001b[0;34m(\u001b[0m\u001b[0mlen\u001b[0m\u001b[0;34m(\u001b[0m\u001b[0mall_title\u001b[0m\u001b[0;34m)\u001b[0m\u001b[0;34m)\u001b[0m\u001b[0;34m:\u001b[0m\u001b[0;34m\u001b[0m\u001b[0;34m\u001b[0m\u001b[0m\n\u001b[0;32m--> 109\u001b[0;31m     \u001b[0manalyzes_dict\u001b[0m\u001b[0;34m[\u001b[0m\u001b[0mall_title\u001b[0m\u001b[0;34m[\u001b[0m\u001b[0mi\u001b[0m\u001b[0;34m]\u001b[0m\u001b[0;34m]\u001b[0m \u001b[0;34m=\u001b[0m \u001b[0;34m[\u001b[0m\u001b[0muriagedaka_stock\u001b[0m\u001b[0;34m[\u001b[0m\u001b[0mi\u001b[0m\u001b[0;34m]\u001b[0m\u001b[0;34m,\u001b[0m \u001b[0meps_stock\u001b[0m\u001b[0;34m[\u001b[0m\u001b[0mi\u001b[0m\u001b[0;34m]\u001b[0m\u001b[0;34m,\u001b[0m \u001b[0meiri_stock\u001b[0m\u001b[0;34m[\u001b[0m\u001b[0mi\u001b[0m\u001b[0;34m]\u001b[0m\u001b[0;34m,\u001b[0m \u001b[0mzikosihon_stock\u001b[0m\u001b[0;34m[\u001b[0m\u001b[0mi\u001b[0m\u001b[0;34m]\u001b[0m\u001b[0;34m,\u001b[0m \u001b[0mgenkin_stock\u001b[0m\u001b[0;34m[\u001b[0m\u001b[0mi\u001b[0m\u001b[0;34m]\u001b[0m\u001b[0;34m,\u001b[0m \u001b[0mcflow_stock\u001b[0m\u001b[0;34m[\u001b[0m\u001b[0mi\u001b[0m\u001b[0;34m]\u001b[0m\u001b[0;34m,\u001b[0m \u001b[0mhitokabu_stock\u001b[0m\u001b[0;34m[\u001b[0m\u001b[0mi\u001b[0m\u001b[0;34m]\u001b[0m\u001b[0;34m,\u001b[0m\u001b[0mseikou_stock\u001b[0m\u001b[0;34m[\u001b[0m\u001b[0mi\u001b[0m\u001b[0;34m]\u001b[0m\u001b[0;34m]\u001b[0m\u001b[0;34m\u001b[0m\u001b[0;34m\u001b[0m\u001b[0m\n\u001b[0m\u001b[1;32m    110\u001b[0m \u001b[0;34m\u001b[0m\u001b[0m\n\u001b[1;32m    111\u001b[0m \u001b[0mgooo\u001b[0m \u001b[0;34m=\u001b[0m \u001b[0;34m[\u001b[0m\u001b[0;34m[\u001b[0m\u001b[0mkey\u001b[0m\u001b[0;34m,\u001b[0m \u001b[0mlen\u001b[0m\u001b[0;34m(\u001b[0m\u001b[0mva\u001b[0m\u001b[0;34m)\u001b[0m\u001b[0;34m]\u001b[0m \u001b[0;32mfor\u001b[0m \u001b[0mkey\u001b[0m\u001b[0;34m,\u001b[0m \u001b[0mvalue\u001b[0m \u001b[0;32min\u001b[0m \u001b[0manalyzes_dict\u001b[0m\u001b[0;34m.\u001b[0m\u001b[0mitems\u001b[0m\u001b[0;34m(\u001b[0m\u001b[0;34m)\u001b[0m \u001b[0;32mfor\u001b[0m \u001b[0mva\u001b[0m \u001b[0;32min\u001b[0m \u001b[0mvalue\u001b[0m\u001b[0;34m]\u001b[0m\u001b[0;34m\u001b[0m\u001b[0;34m\u001b[0m\u001b[0m\n",
      "\u001b[0;31mIndexError\u001b[0m: list index out of range"
     ]
    }
   ],
   "source": [
    "from bs4 import BeautifulSoup\n",
    "import requests \n",
    "import re\n",
    "from time import sleep\n",
    "import pandas as pd\n",
    "import time\n",
    "from tqdm import tqdm\n",
    "import pickle\n",
    "import itertools\n",
    "import random\n",
    "#1番目\n",
    "with open('csv/securities_codes.pickle', 'rb') as f:\n",
    "            existing_data = pickle.load(f)\n",
    "#リストを一緒くたに一つに\n",
    "flattened_codes = list(itertools.chain(*existing_data.values()))\n",
    "print(len(flattened_codes))\n",
    "\n",
    "\n",
    "\n",
    "#2番目\n",
    "#flattened_codesの値を渡すとその企業コードのIRBANKのトップページが開き、その中の決算情報ページのリンクURLの一部を取得\n",
    "with open('csv/closing_dict.pickle', 'rb') as f:\n",
    "            ex_data = pickle.load(f)\n",
    "flatclosing_urls = list(itertools.chain(ex_data.values()))\n",
    "\n",
    "#-------------------------------------------------------------------------一先ず終了2023/01/05----------------------------------------------------------------------#\n",
    "#上記を満たした企業コードの決算ページxxxxxx/resultsにアクセスし企業名と条件の財務の値を取得\n",
    "focus_url=[]\n",
    "all_title=[]\n",
    "text1=[]\n",
    "for flatclosing_url in flatclosing_urls[33:35]:\n",
    "    url='https://irbank.net{}'.format(flatclosing_url)\n",
    "    sleep(random.uniform(3, 8)) \n",
    "    focus_url.append(url)\n",
    "    r=requests.get(url)\n",
    "    soup = BeautifulSoup(r.text, 'html.parser')\n",
    "    title=soup.find('h1').text\n",
    "    all_title.append(title)\n",
    "    decopo=soup.find_all('a')\n",
    "    for a in decopo:\n",
    "        a.decompose()\n",
    "    tagget= soup.find_all('h2')\n",
    "    text1.append(tagget)\n",
    "text1_stringso = [[h2 for h2 in text] for text in text1]\n",
    "        \n",
    "target_h2_stringso = [[t for t in ext if \"売上高\" in t or\"EPS\" in t or \"営業利益率\" in t or \"自己資本比率\" in t or\n",
    "                      \"営業活動によるCF\" in t or \"現金等\" in t or \"一株配当\" in t or \"配当性向\" in t] for ext in text1_stringso ]\n",
    "test_lists = [[i.find_next_sibling().find_all('span', class_='text') for i in uu]for uu in target_h2_stringso   if len(uu)==8]\n",
    "\n",
    "#-------------------------------------------------------------------------ひとまず終了き------------------------------------------------------------------------#\n",
    "# d_list=[]\n",
    "for test_list in test_lists:\n",
    "    if len(test_list)==8:\n",
    "            sales_list=[[sale.text for sale in test_list[0]]for test_list in test_lists]\n",
    "            #zfill完了\n",
    "            eval_sales_list = [[convert_sales_figure(sale) for sale in sale_list] for sale_list in sales_list]\n",
    "            #採点完了\n",
    "            uriagedaka_stock = [check_uriagedaka(sale) for sale in eval_sales_list]\n",
    "\n",
    "#-------------------------------------------------------------------------2:ここからEPS2023/01/05--------------------------------------------------------------------------#\n",
    "            eps_lists=[[ep.text for ep in test_list[1]]for test_list in test_lists]\n",
    "            #zfill完了\n",
    "            zeps_list = [[convert_eps(ep) for ep in eps_list]for eps_list in eps_lists]\n",
    "            eps_stock = [check_eps(zeps) for zeps in zeps_list]\n",
    "\n",
    "#-------------------------------------------------------------------------3:ここから営業利益率2023/01/05- -------------------------------------------------------------------------#     \n",
    "\n",
    "            op_lists=[[op.text for op in test_list[2]]for test_list in test_lists]\n",
    "            zop_list = [[eval(s.split('%')[0]) for s in op_list]for op_list in op_lists] # '15.65' のような文字列を取得\n",
    "            eiri_stock = [check_eiri(zop)for zop in zop_list]\n",
    "\n",
    "\n",
    "#-------------------------------------------------------------------------4:ここから自己資本利益率2023/01/05-------------------------------------------------------------------------#\n",
    "\n",
    "            operation_lists=[[operation.text for operation in test_list[3]]for test_list in test_lists]\n",
    "            zoption_list = [[floatparcent_hennkan(s) for s in operation_list]for operation_list in operation_lists]\n",
    "            zikosihon_stock = [check_zikosihon(zoption)for zoption in zoption_list]\n",
    "\n",
    "\n",
    "#-------------------------------------------------------------------------5:ここから現金2023/01/05-------------------------------------------------------------------------#\n",
    "            cash_lists=[[cash.text for cash in test_list[5]]for test_list in test_lists]\n",
    "              #zfill完了\n",
    "            eval_cash_list = [[convert_sales_figure(cash)for cash in cash_list]for cash_list in cash_lists]\n",
    "            genkin_stock = [check_genkin(eval_cash)for eval_cash in eval_cash_list]\n",
    "       #-------------------------------------------------------------------------6:ここからCF -------------------------------------------------------------------------#\n",
    "            cf_flow_lists=[[cfflow.text for cfflow in test_list[4]]for test_list in test_lists]\n",
    "            #zfill完了\n",
    "            eval_cf_flow_list = [[convert_flow_figure(flow)for flow in cf_flow_list]for cf_flow_list in cf_flow_lists]\n",
    "            # モジュール内の関数を呼び出す\n",
    "            cflow_stock = [check_cflow_order(eval_cf)for eval_cf in eval_cf_flow_list]\n",
    "\n",
    "    #-------------------------------------------------------------------------7:ここから一株当たり-------------------------------------------------------------------------#\n",
    "        #zfill完了\n",
    "            stock_lists=[[stock.text for stock in test_list[6]]for test_list in test_lists]\n",
    "            zstock_list = [[convert_stock_figure(s) for s in stock_list]for stock_list in stock_lists]\n",
    "            hitokabu_stock=[check_zstock_order(zstock)for zstock in zstock_list]\n",
    "\n",
    "        #-------------------------------------------------------------------------8:配当性向-------------------------------------------------------------------------#\n",
    "            return_lists=[[return_money.text for return_money in test_list[7]]for test_list in test_lists]\n",
    "            #zfill完了\n",
    "            zreturn_list = [[convert_return(return_money)for return_money in return_list]for return_list in return_lists]\n",
    "            seikou_stock=[check_zreturn_range(zreturn)for zreturn in zreturn_list]\n",
    " #-------------------------------------------------------------------------ひとまず終了------------------------------------------------------------------------#\n",
    "else:\n",
    "    pass\n",
    "\n",
    "analyzes_dict = {}\n",
    "for i in range(len(all_title)):\n",
    "    analyzes_dict[all_title[i]] = [uriagedaka_stock[i], eps_stock[i], eiri_stock[i], zikosihon_stock[i], genkin_stock[i], cflow_stock[i], hitokabu_stock[i],seikou_stock[i]]\n",
    "\n",
    "gooo = [[key, len(va)] for key, value in analyzes_dict.items() for va in value]\n",
    "gooo_dict = {}\n",
    "for lst in gooo:\n",
    "    key, val = lst\n",
    "    if key not in gooo_dict:\n",
    "        gooo_dict[key] = []\n",
    "    gooo_dict[key].append(val)\n",
    "for key, value in gooo_dict.items():\n",
    "    gooo_dict[key] = list(map(lambda x: '○' if x <= 5 else x, value))\n",
    "\n",
    "ed_list = {}\n",
    "for key, value in gooo_dict.items():\n",
    "    if value.count('○') >= 4:\n",
    "        ed_list[key] = value\n",
    "print(ed_list)\n",
    "ed_df = pd.DataFrame.from_dict(ed_list, orient='index', columns=['売上高','EPS','営業利益率','自己資本比率','現金','営業キャッシュフロー','一株配当','配当性向'])\n",
    "ed_df.style.set_properties(**{'text-align': 'center'})\n",
    "ed_df.to_csv('csv/stock_target.csv',index=True,encoding='utf-8-sig',mode='a')\n",
    "\n",
    "\n",
    "\n"
   ]
  },
  {
   "cell_type": "code",
   "execution_count": 491,
   "id": "308e76e3",
   "metadata": {},
   "outputs": [],
   "source": [
    "ed_list = {}\n",
    "for key, value in gooo_dict.items():\n",
    "    if value.count('○') >= 2:\n",
    "        ed_list[key] = value"
   ]
  },
  {
   "cell_type": "code",
   "execution_count": 550,
   "id": "1af10ad8",
   "metadata": {},
   "outputs": [
    {
     "data": {
      "text/plain": [
       "['https://irbank.net/E02561/results',\n",
       " 'https://irbank.net/E02155/results',\n",
       " 'https://irbank.net/E04243/results',\n",
       " 'https://irbank.net/E03733/results',\n",
       " 'https://irbank.net/E02464/results']"
      ]
     },
     "execution_count": 550,
     "metadata": {},
     "output_type": "execute_result"
    }
   ],
   "source": [
    "focus_url"
   ]
  },
  {
   "cell_type": "code",
   "execution_count": 571,
   "id": "9494d32c",
   "metadata": {},
   "outputs": [
    {
     "data": {
      "text/plain": [
       "[[<h2>EPS</h2>,\n",
       "  <h2>営業利益率</h2>,\n",
       "  <h2>自己資本比率</h2>,\n",
       "  <h2>営業活動によるCF</h2>,\n",
       "  <h2>現金等</h2>,\n",
       "  <h2>一株配当</h2>,\n",
       "  <h2>配当性向</h2>],\n",
       " [<h2>売上高</h2>,\n",
       "  <h2>EPS</h2>,\n",
       "  <h2>営業利益率</h2>,\n",
       "  <h2>自己資本比率</h2>,\n",
       "  <h2>営業活動によるCF</h2>,\n",
       "  <h2>現金等</h2>,\n",
       "  <h2>一株配当</h2>,\n",
       "  <h2>配当性向</h2>]]"
      ]
     },
     "execution_count": 571,
     "metadata": {},
     "output_type": "execute_result"
    }
   ],
   "source": [
    "target_h2_stringso"
   ]
  },
  {
   "cell_type": "code",
   "execution_count": 479,
   "id": "7e894192",
   "metadata": {},
   "outputs": [
    {
     "name": "stdout",
     "output_type": "stream",
     "text": [
      "{'9104 商船三井': [8, '○', 14, 14, '○', 7, '○', 12], '9101 日本郵船': [8, '○', 15, 14, 8, '○', '○', 10], '9110 NSユナイテッド海運': ['○', '○', 12, 12, '○', '○', '○', 9], '1518 三井松島 HD': [9, '○', 14, '○', '○', '○', 9, 8]}\n"
     ]
    }
   ],
   "source": [
    "ed_list = {}\n",
    "for key, value in gooo_dict.items():\n",
    "    if value.count('○') >= 2:\n",
    "        ed_list[key] = value\n",
    "print(ed_list)\n"
   ]
  },
  {
   "cell_type": "code",
   "execution_count": 565,
   "id": "91f44990",
   "metadata": {},
   "outputs": [
    {
     "data": {
      "text/plain": [
       "['https://irbank.net/E03733/results', 'https://irbank.net/E02464/results']"
      ]
     },
     "execution_count": 565,
     "metadata": {},
     "output_type": "execute_result"
    }
   ],
   "source": [
    "focus_url"
   ]
  },
  {
   "cell_type": "code",
   "execution_count": 574,
   "id": "b0a0f17a",
   "metadata": {},
   "outputs": [
    {
     "ename": "IndexError",
     "evalue": "list index out of range",
     "output_type": "error",
     "traceback": [
      "\u001b[0;31m---------------------------------------------------------------------------\u001b[0m",
      "\u001b[0;31mIndexError\u001b[0m                                Traceback (most recent call last)",
      "\u001b[0;32m/var/folders/81/ckf4k5wn0d16719pp2dp8rqw0000gn/T/ipykernel_42891/420678278.py\u001b[0m in \u001b[0;36m<module>\u001b[0;34m\u001b[0m\n\u001b[0;32m----> 1\u001b[0;31m \u001b[0mtest_lists\u001b[0m\u001b[0;34m[\u001b[0m\u001b[0;36m1\u001b[0m\u001b[0;34m]\u001b[0m\u001b[0;34m\u001b[0m\u001b[0;34m\u001b[0m\u001b[0m\n\u001b[0m",
      "\u001b[0;31mIndexError\u001b[0m: list index out of range"
     ]
    }
   ],
   "source": [
    "test_lists[1]"
   ]
  },
  {
   "cell_type": "code",
   "execution_count": 456,
   "id": "537c0825",
   "metadata": {},
   "outputs": [],
   "source": []
  },
  {
   "cell_type": "code",
   "execution_count": 462,
   "id": "5679243f",
   "metadata": {},
   "outputs": [],
   "source": [
    "gooo = [[key, len(va)] for key, value in analyzes_dict.items() for va in value]\n",
    "gooo_dict = {}\n",
    "for lst in gooo:\n",
    "    key, val = lst\n",
    "    if key not in gooo_dict:\n",
    "        gooo_dict[key] = []\n",
    "    gooo_dict[key].append(val)\n",
    "for key, value in gooo_dict.items():\n",
    "    gooo_dict[key] = list(map(lambda x: '○' if x >= 0 else x, value))\n"
   ]
  },
  {
   "cell_type": "code",
   "execution_count": 466,
   "id": "c531bb9a",
   "metadata": {},
   "outputs": [
    {
     "name": "stdout",
     "output_type": "stream",
     "text": [
      "{'9104 商船三井': ['○', '○', '○', '○', '○', '○', '○', '○'], '9101 日本郵船': ['○', '○', '○', '○', '○', '○', '○', '○'], '9110 NSユナイテッド海運': ['○', '○', '○', '○', '○', '○', '○', '○'], '1518 三井松島 HD': ['○', '○', '○', '○', '○', '○', '○', '○'], '9308 乾汽船': ['○', '○', '○', '○', '○', '○', '○', '○']}\n"
     ]
    }
   ],
   "source": [
    "ed_list = {}\n",
    "for key, value in gooo_dict.items():\n",
    "    if value.count('○') >= 2:\n",
    "        ed_list[key] = value\n",
    "print(ed_list)\n",
    "import pandas as pd\n",
    "ed_df = pd.DataFrame.from_dict(ed_list, orient='index', columns=['売上高','EPS','営業利益率','自己資本比率','現金','営業キャッシュフロー','一株配当','配当性向'])\n"
   ]
  },
  {
   "cell_type": "code",
   "execution_count": 549,
   "id": "e3f910f7",
   "metadata": {},
   "outputs": [
    {
     "data": {
      "text/html": [
       "<div>\n",
       "<style scoped>\n",
       "    .dataframe tbody tr th:only-of-type {\n",
       "        vertical-align: middle;\n",
       "    }\n",
       "\n",
       "    .dataframe tbody tr th {\n",
       "        vertical-align: top;\n",
       "    }\n",
       "\n",
       "    .dataframe thead th {\n",
       "        text-align: right;\n",
       "    }\n",
       "</style>\n",
       "<table border=\"1\" class=\"dataframe\">\n",
       "  <thead>\n",
       "    <tr style=\"text-align: right;\">\n",
       "      <th></th>\n",
       "      <th>売上高</th>\n",
       "      <th>EPS</th>\n",
       "      <th>営業利益率</th>\n",
       "      <th>自己資本比率</th>\n",
       "      <th>現金</th>\n",
       "      <th>営業キャッシュフロー</th>\n",
       "      <th>一株配当</th>\n",
       "      <th>配当性向</th>\n",
       "    </tr>\n",
       "  </thead>\n",
       "  <tbody>\n",
       "    <tr>\n",
       "      <th>3245 ディア・ライフ</th>\n",
       "      <td>○</td>\n",
       "      <td>6</td>\n",
       "      <td>7</td>\n",
       "      <td>○</td>\n",
       "      <td>6</td>\n",
       "      <td>6</td>\n",
       "      <td>○</td>\n",
       "      <td>○</td>\n",
       "    </tr>\n",
       "    <tr>\n",
       "      <th>7638 NEW ART HOLDINGS</th>\n",
       "      <td>6</td>\n",
       "      <td>○</td>\n",
       "      <td>9</td>\n",
       "      <td>○</td>\n",
       "      <td>6</td>\n",
       "      <td>○</td>\n",
       "      <td>○</td>\n",
       "      <td>○</td>\n",
       "    </tr>\n",
       "    <tr>\n",
       "      <th>2986 LA HD</th>\n",
       "      <td>○</td>\n",
       "      <td>○</td>\n",
       "      <td>○</td>\n",
       "      <td>○</td>\n",
       "      <td>○</td>\n",
       "      <td>○</td>\n",
       "      <td>○</td>\n",
       "      <td>○</td>\n",
       "    </tr>\n",
       "    <tr>\n",
       "      <th>6651 日東工業</th>\n",
       "      <td>6</td>\n",
       "      <td>○</td>\n",
       "      <td>11</td>\n",
       "      <td>○</td>\n",
       "      <td>○</td>\n",
       "      <td>8</td>\n",
       "      <td>○</td>\n",
       "      <td>○</td>\n",
       "    </tr>\n",
       "  </tbody>\n",
       "</table>\n",
       "</div>"
      ],
      "text/plain": [
       "                      売上高 EPS 営業利益率 自己資本比率 現金 営業キャッシュフロー 一株配当 配当性向\n",
       "3245 ディア・ライフ            ○   6     7      ○  6          6    ○    ○\n",
       "7638 NEW ART HOLDINGS   6   ○     9      ○  6          ○    ○    ○\n",
       "2986 LA HD              ○   ○     ○      ○  ○          ○    ○    ○\n",
       "6651 日東工業               6   ○    11      ○  ○          8    ○    ○"
      ]
     },
     "execution_count": 549,
     "metadata": {},
     "output_type": "execute_result"
    }
   ],
   "source": [
    "ed_df"
   ]
  },
  {
   "cell_type": "code",
   "execution_count": 435,
   "id": "f60b9756",
   "metadata": {},
   "outputs": [
    {
     "ename": "TypeError",
     "evalue": "'>=' not supported between instances of 'str' and 'int'",
     "output_type": "error",
     "traceback": [
      "\u001b[0;31m---------------------------------------------------------------------------\u001b[0m",
      "\u001b[0;31mTypeError\u001b[0m                                 Traceback (most recent call last)",
      "\u001b[0;32m/var/folders/81/ckf4k5wn0d16719pp2dp8rqw0000gn/T/ipykernel_42891/2292296195.py\u001b[0m in \u001b[0;36m<module>\u001b[0;34m\u001b[0m\n\u001b[1;32m      1\u001b[0m \u001b[0;32mfor\u001b[0m \u001b[0mkey\u001b[0m\u001b[0;34m,\u001b[0m \u001b[0mvalue\u001b[0m \u001b[0;32min\u001b[0m \u001b[0mgooo_dict\u001b[0m\u001b[0;34m.\u001b[0m\u001b[0mitems\u001b[0m\u001b[0;34m(\u001b[0m\u001b[0;34m)\u001b[0m\u001b[0;34m:\u001b[0m\u001b[0;34m\u001b[0m\u001b[0;34m\u001b[0m\u001b[0m\n\u001b[0;32m----> 2\u001b[0;31m     \u001b[0mgooo_dict\u001b[0m\u001b[0;34m[\u001b[0m\u001b[0mkey\u001b[0m\u001b[0;34m]\u001b[0m \u001b[0;34m=\u001b[0m \u001b[0mlist\u001b[0m\u001b[0;34m(\u001b[0m\u001b[0mmap\u001b[0m\u001b[0;34m(\u001b[0m\u001b[0;32mlambda\u001b[0m \u001b[0mx\u001b[0m\u001b[0;34m:\u001b[0m \u001b[0;34m'○'\u001b[0m \u001b[0;32mif\u001b[0m \u001b[0mx\u001b[0m \u001b[0;34m>=\u001b[0m \u001b[0;36m0\u001b[0m \u001b[0;32melse\u001b[0m \u001b[0mx\u001b[0m\u001b[0;34m,\u001b[0m \u001b[0mvalue\u001b[0m\u001b[0;34m)\u001b[0m\u001b[0;34m)\u001b[0m\u001b[0;34m\u001b[0m\u001b[0;34m\u001b[0m\u001b[0m\n\u001b[0m",
      "\u001b[0;32m/var/folders/81/ckf4k5wn0d16719pp2dp8rqw0000gn/T/ipykernel_42891/2292296195.py\u001b[0m in \u001b[0;36m<lambda>\u001b[0;34m(x)\u001b[0m\n\u001b[1;32m      1\u001b[0m \u001b[0;32mfor\u001b[0m \u001b[0mkey\u001b[0m\u001b[0;34m,\u001b[0m \u001b[0mvalue\u001b[0m \u001b[0;32min\u001b[0m \u001b[0mgooo_dict\u001b[0m\u001b[0;34m.\u001b[0m\u001b[0mitems\u001b[0m\u001b[0;34m(\u001b[0m\u001b[0;34m)\u001b[0m\u001b[0;34m:\u001b[0m\u001b[0;34m\u001b[0m\u001b[0;34m\u001b[0m\u001b[0m\n\u001b[0;32m----> 2\u001b[0;31m     \u001b[0mgooo_dict\u001b[0m\u001b[0;34m[\u001b[0m\u001b[0mkey\u001b[0m\u001b[0;34m]\u001b[0m \u001b[0;34m=\u001b[0m \u001b[0mlist\u001b[0m\u001b[0;34m(\u001b[0m\u001b[0mmap\u001b[0m\u001b[0;34m(\u001b[0m\u001b[0;32mlambda\u001b[0m \u001b[0mx\u001b[0m\u001b[0;34m:\u001b[0m \u001b[0;34m'○'\u001b[0m \u001b[0;32mif\u001b[0m \u001b[0mx\u001b[0m \u001b[0;34m>=\u001b[0m \u001b[0;36m0\u001b[0m \u001b[0;32melse\u001b[0m \u001b[0mx\u001b[0m\u001b[0;34m,\u001b[0m \u001b[0mvalue\u001b[0m\u001b[0;34m)\u001b[0m\u001b[0;34m)\u001b[0m\u001b[0;34m\u001b[0m\u001b[0;34m\u001b[0m\u001b[0m\n\u001b[0m",
      "\u001b[0;31mTypeError\u001b[0m: '>=' not supported between instances of 'str' and 'int'"
     ]
    }
   ],
   "source": [
    "for key, value in gooo_dict.items():\n",
    "    gooo_dict[key] = list(map(lambda x: '○' if x >= 0 else x, value))\n"
   ]
  },
  {
   "cell_type": "code",
   "execution_count": null,
   "id": "a3fffe17",
   "metadata": {},
   "outputs": [],
   "source": []
  },
  {
   "cell_type": "code",
   "execution_count": 344,
   "id": "0eaec174",
   "metadata": {},
   "outputs": [],
   "source": [
    "d_list=[]\n",
    "for fi in fine:\n",
    "    if fi.count('○') >= 0:\n",
    "        d_list.append(fi)\n",
    "# d_list=[fi for if fi.count('○') >= 0 for alltitle in all_title]"
   ]
  },
  {
   "cell_type": "code",
   "execution_count": 345,
   "id": "a690dc1a",
   "metadata": {},
   "outputs": [
    {
     "data": {
      "text/plain": [
       "[['○', '○', '○', '○', '○', '○', '○', '○'],\n",
       " ['○', '○', '○', '○', '○', '○', '○', '○'],\n",
       " ['○', '○', '○', '○', '○', '○', '○', '○'],\n",
       " ['○', '○', '○', '○', '○', '○', '○', '○'],\n",
       " ['○', '○', '○', '○', '○', '○', '○', '○']]"
      ]
     },
     "execution_count": 345,
     "metadata": {},
     "output_type": "execute_result"
    }
   ],
   "source": [
    "d_list"
   ]
  },
  {
   "cell_type": "code",
   "execution_count": 256,
   "id": "01f44cfd",
   "metadata": {},
   "outputs": [],
   "source": [
    "focus_url=[]\n",
    "text=[]\n",
    "for flatclosing_url in flatclosing_urls[0:3]:\n",
    "    url='https://irbank.net{}'.format(flatclosing_url)\n",
    "    sleep(random.uniform(3, 8)) \n",
    "    focus_url.append(url)\n",
    "    r=requests.get(url)\n",
    "    soup = BeautifulSoup(r.text, 'html.parser')\n",
    "    title=soup.find('h1').text\n",
    "    tagget= soup.find_all('h2')\n",
    "    text.append(tagget)\n"
   ]
  },
  {
   "cell_type": "code",
   "execution_count": 11,
   "id": "002928cd",
   "metadata": {},
   "outputs": [
    {
     "name": "stdout",
     "output_type": "stream",
     "text": [
      "733\n"
     ]
    },
    {
     "ename": "NameError",
     "evalue": "name 'sleep' is not defined",
     "output_type": "error",
     "traceback": [
      "\u001b[0;31m---------------------------------------------------------------------------\u001b[0m",
      "\u001b[0;31mNameError\u001b[0m                                 Traceback (most recent call last)",
      "\u001b[0;32m/var/folders/81/ckf4k5wn0d16719pp2dp8rqw0000gn/T/ipykernel_42891/599292824.py\u001b[0m in \u001b[0;36m<module>\u001b[0;34m\u001b[0m\n\u001b[1;32m     12\u001b[0m \u001b[0;32mfor\u001b[0m \u001b[0mflatclosing_url\u001b[0m \u001b[0;32min\u001b[0m \u001b[0mflatclosing_urls\u001b[0m\u001b[0;34m[\u001b[0m\u001b[0;34m:\u001b[0m\u001b[0;36m2\u001b[0m\u001b[0;34m]\u001b[0m\u001b[0;34m:\u001b[0m\u001b[0;34m\u001b[0m\u001b[0;34m\u001b[0m\u001b[0m\n\u001b[1;32m     13\u001b[0m     \u001b[0murl\u001b[0m\u001b[0;34m=\u001b[0m\u001b[0;34m'https://irbank.net{}'\u001b[0m\u001b[0;34m.\u001b[0m\u001b[0mformat\u001b[0m\u001b[0;34m(\u001b[0m\u001b[0mflatclosing_url\u001b[0m\u001b[0;34m)\u001b[0m\u001b[0;34m\u001b[0m\u001b[0;34m\u001b[0m\u001b[0m\n\u001b[0;32m---> 14\u001b[0;31m     \u001b[0msleep\u001b[0m\u001b[0;34m(\u001b[0m\u001b[0mrandom\u001b[0m\u001b[0;34m.\u001b[0m\u001b[0muniform\u001b[0m\u001b[0;34m(\u001b[0m\u001b[0;36m3\u001b[0m\u001b[0;34m,\u001b[0m \u001b[0;36m8\u001b[0m\u001b[0;34m)\u001b[0m\u001b[0;34m)\u001b[0m\u001b[0;34m\u001b[0m\u001b[0;34m\u001b[0m\u001b[0m\n\u001b[0m\u001b[1;32m     15\u001b[0m     \u001b[0mfocus_url\u001b[0m\u001b[0;34m.\u001b[0m\u001b[0mappend\u001b[0m\u001b[0;34m(\u001b[0m\u001b[0murl\u001b[0m\u001b[0;34m)\u001b[0m\u001b[0;34m\u001b[0m\u001b[0;34m\u001b[0m\u001b[0m\n\u001b[1;32m     16\u001b[0m     \u001b[0mr\u001b[0m\u001b[0;34m=\u001b[0m\u001b[0mrequests\u001b[0m\u001b[0;34m.\u001b[0m\u001b[0mget\u001b[0m\u001b[0;34m(\u001b[0m\u001b[0murl\u001b[0m\u001b[0;34m)\u001b[0m\u001b[0;34m\u001b[0m\u001b[0;34m\u001b[0m\u001b[0m\n",
      "\u001b[0;31mNameError\u001b[0m: name 'sleep' is not defined"
     ]
    }
   ],
   "source": [
    "with open('csv/securities_codes.pickle', 'rb') as f:\n",
    "            existing_data = pickle.load(f)\n",
    "#リストを一緒くたに一つに\n",
    "flattened_codes = list(itertools.chain(*existing_data.values()))\n",
    "print(len(flattened_codes))\n",
    "#flattened_codesの値を渡すとその企業コードのIRBANKのトップページが開き、その中の決算情報ページのリンクURLの一部を取得\n",
    "with open('csv/closing_dict.pickle', 'rb') as f:\n",
    "            ex_data = pickle.load(f)\n",
    "flatclosing_urls = list(itertools.chain(ex_data.values()))\n",
    "focus_url=[]\n",
    "text1=[]\n",
    "for flatclosing_url in flatclosing_urls[:2]:\n",
    "    url='https://irbank.net{}'.format(flatclosing_url)\n",
    "    sleep(random.uniform(3, 8)) \n",
    "    focus_url.append(url)\n",
    "    r=requests.get(url)\n",
    "    soup = BeautifulSoup(r.text, 'html.parser')\n",
    "    title=soup.find('h1').text\n",
    "    decopo=soup.find_all('a')\n",
    "    for a in decopo:\n",
    "        a.decompose()\n",
    "    tagget= soup.find_all('h2')\n",
    "    text1.append(tagget)\n",
    "text1_stringso = [[h2 for h2 in text] for text in text1]\n",
    "        \n",
    "target_h2_stringso = [[t for t in ext if \"売上高\" in t or\"EPS\" in t or \"営業利益率\" in t or \"自己資本比率\" in t or\n",
    "                      \"営業活動によるCF\" in t or \"現金等\" in t or \"一株配当\" in t or \"配当性向\" in t] for ext in text1_stringso ]\n",
    "test_lists = [[i.find_next_sibling().find_all('span', class_='text') for i in uu]for uu in target_h2_stringso   if len(uu)==8]\n",
    "\n",
    "\n",
    "\n",
    "# test_lists=[]\n",
    "# for uu in target_h2_stringso:\n",
    "#     if len(uu)==8:\n",
    "#         for i in uu:\n",
    "#             bro=i.find_next_sibling()\n",
    "#             ss = bro.find_all('span', class_='text')\n",
    "#             test_lists.append(ss)\n",
    "        \n",
    "        \n",
    "        \n",
    "#     for tag in soup.find_all('h2'):\n",
    "#         text1.append(tag.text)\n",
    "# ii = []\n",
    "# for i in range(len(text1)):\n",
    "#     ii.append([html.fromstring(t) for t in text1[i]])\n",
    "# ii=[]\n",
    "# for tem in text1:\n",
    "#     for kkc in tem:\n",
    "#         ii.append(kkc)\n",
    "\n"
   ]
  },
  {
   "cell_type": "code",
   "execution_count": 258,
   "id": "693732b4",
   "metadata": {},
   "outputs": [
    {
     "name": "stdout",
     "output_type": "stream",
     "text": [
      "          会社名 企業コード  売上  EPS  自己資本  現金  営業キャッシュフロー  一株配当  配当性向\n",
      "0        商船三井  9104   8    5    14   6           7     5    12\n",
      "1        日本郵船  9101   8    4    14   8           6     5    10\n",
      "2  NSユナイテッド海運  9110   5    6    12   3           6     5     9\n",
      "3     三井松島 HD  1518   9    5     2   6           6     9     8\n",
      "4         乾汽船  9308   8    8     8   7           6    10    10\n"
     ]
    }
   ],
   "source": [
    "import pandas as pd\n",
    "df = pd.DataFrame(all_title,columns=[\"会社名\"])\n",
    "df[\"企業コード\"] = df[\"会社名\"].str.extract(\"(\\d+)\", expand=True)\n",
    "df[\"会社名\"] = df[\"会社名\"].str.extract(\" (.*)\", expand=True)\n",
    "for i, uriages in enumerate(uriagedaka_stock):\n",
    "    df.loc[i, \"売上\"] = len(uriages)\n",
    "df['売上'] = df['売上'].astype(int)\n",
    "\n",
    "for i, epssto in enumerate(eps_stock):\n",
    "    df.loc[i, \"EPS\"] = len(epssto)\n",
    "df['EPS'] = df['EPS'].astype(int)\n",
    "\n",
    "for i, zikosihon in enumerate(zikosihon_stock):\n",
    "    df.loc[i, \"自己資本\"] = len(zikosihon)\n",
    "df['自己資本'] = df['自己資本'].astype(int)\n",
    "\n",
    "for i, genkin in enumerate(genkin_stock):\n",
    "    df.loc[i, \"現金\"] = len(genkin)\n",
    "df['現金'] = df['現金'].astype(int)\n",
    "\n",
    "for i, cflo in enumerate(cflow_stock):\n",
    "    df.loc[i, \"営業キャッシュフロー\"] = len(cflo)\n",
    "df['営業キャッシュフロー'] = df['営業キャッシュフロー'].astype(int)\n",
    "\n",
    "for i, hitokabu in enumerate(hitokabu_stock):\n",
    "    df.loc[i, \"一株配当\"] = len(hitokabu)\n",
    "df['一株配当'] = df['一株配当'].astype(int)\n",
    "\n",
    "for i, seiko in enumerate(seikou_stock):\n",
    "    df.loc[i, \"配当性向\"] = len(seiko)\n",
    "df['配当性向'] = df['配当性向'].astype(int)\n",
    "\n",
    "print(df)\n",
    "\n",
    "\n",
    "#     analyze.append(hitokabu_stock)\n",
    "#     analyze.append(seikou_stock)\n"
   ]
  },
  {
   "cell_type": "code",
   "execution_count": 238,
   "id": "c294e574",
   "metadata": {},
   "outputs": [
    {
     "name": "stdout",
     "output_type": "stream",
     "text": [
      "8\n",
      "8\n",
      "5\n",
      "9\n",
      "8\n"
     ]
    }
   ],
   "source": [
    "for uriages in uriagedaka_stock:\n",
    "    print(len(uriages))"
   ]
  },
  {
   "cell_type": "code",
   "execution_count": 234,
   "id": "560b803b",
   "metadata": {},
   "outputs": [
    {
     "ename": "SyntaxError",
     "evalue": "invalid syntax (3231367424.py, line 1)",
     "output_type": "error",
     "traceback": [
      "\u001b[0;36m  File \u001b[0;32m\"/var/folders/81/ckf4k5wn0d16719pp2dp8rqw0000gn/T/ipykernel_42891/3231367424.py\"\u001b[0;36m, line \u001b[0;32m1\u001b[0m\n\u001b[0;31m    len_not_uriage =[print(len(uriage))for uriage in uriages]for uriages in uriagedaka_stock]\u001b[0m\n\u001b[0m                                                             ^\u001b[0m\n\u001b[0;31mSyntaxError\u001b[0m\u001b[0;31m:\u001b[0m invalid syntax\n"
     ]
    }
   ],
   "source": [
    "len_not_uriage =[[print(len(uriage))for uriage in uriages]for uriages in uriagedaka_stock]\n"
   ]
  },
  {
   "cell_type": "code",
   "execution_count": null,
   "id": "2dffd851",
   "metadata": {},
   "outputs": [],
   "source": [
    "\n",
    "\n"
   ]
  },
  {
   "cell_type": "code",
   "execution_count": null,
   "id": "265866b6",
   "metadata": {},
   "outputs": [],
   "source": []
  },
  {
   "cell_type": "code",
   "execution_count": 29,
   "id": "fcfb22d4",
   "metadata": {},
   "outputs": [],
   "source": [
    "d_list=[]\n",
    "for test_list in test_lists:\n",
    "    if len(test_list)==8:\n",
    "            sales_list=[[sale.text for sale in test_list[0]]for test_list in test_lists]\n",
    "            eval_sales_list = [[convert_sales_figure(sale) for sale in sale_list] for sale_list in sales_list]\n",
    "            uriagedaka_stock = [check_uriagedaka(sale) for sale in eval_sale_list]\n",
    "            \n",
    "            eps_lists=[[ep.text for ep in test_list[1]]for test_list in test_lists]\n",
    "            #zfill完了\n",
    "            zeps_list = [[convert_eps(ep) for ep in eps_list]for eps_list in eps_lists]\n",
    "            eps_stock = [check_eps(zeps) for zeps in zeps_list]\n",
    "\n",
    "        #-------------------------------------------------------------------------3:ここから営業利益率2023/01/05- -------------------------------------------------------------------------#     \n",
    "\n",
    "            op_lists=[[op.text for op in test_list[2]]for test_list in test_lists]\n",
    "            zop_list = [[eval(s.split('%')[0]) for s in op_list]for op_list in op_lists]\n",
    "            eiri_stock = [check_eiri(zop)for zop in zop_list]\n",
    "        \n",
    "\n"
   ]
  },
  {
   "cell_type": "code",
   "execution_count": 1272,
   "id": "93c3d12a",
   "metadata": {},
   "outputs": [],
   "source": [
    "text1_stringso = [[h2.text for h2 in text] for text in text1]\n"
   ]
  },
  {
   "cell_type": "code",
   "execution_count": 33,
   "id": "33c7b649",
   "metadata": {},
   "outputs": [
    {
     "data": {
      "text/plain": [
       "[['NOT (at index 2)',\n",
       "  'NOT (at index 3)',\n",
       "  'NOT (at index 5)',\n",
       "  'NOT (at index 6)',\n",
       "  'NOT (at index 8)'],\n",
       " ['NOT (at index 2)',\n",
       "  'NOT (at index 6)',\n",
       "  'NOT (at index 7)',\n",
       "  'NOT (at index 9)']]"
      ]
     },
     "execution_count": 33,
     "metadata": {},
     "output_type": "execute_result"
    }
   ],
   "source": [
    "eps_stock"
   ]
  },
  {
   "cell_type": "code",
   "execution_count": 28,
   "id": "92c8f0f5",
   "metadata": {},
   "outputs": [
    {
     "data": {
      "text/plain": [
       "['NOT (at index 1)',\n",
       " 'NOT (at index 2)',\n",
       " 'NOT (at index 4)',\n",
       " 'NOT (at index 8)',\n",
       " 'NOT (at index 9)',\n",
       " 'NOT (at index 11)',\n",
       " 'NOT (at index 12)',\n",
       " 'NOT (at index 13)']"
      ]
     },
     "execution_count": 28,
     "metadata": {},
     "output_type": "execute_result"
    }
   ],
   "source": [
    "uriagedaka_stock[0]"
   ]
  },
  {
   "cell_type": "code",
   "execution_count": 1205,
   "id": "8aa39825",
   "metadata": {},
   "outputs": [],
   "source": [
    "focus_url=[]\n",
    "text1=[]\n",
    "for flatclosing_url in flatclosing_urls[:2]:\n",
    "    url='https://irbank.net{}'.format(flatclosing_url)\n",
    "    sleep(random.uniform(3, 8)) \n",
    "    focus_url.append(url)\n",
    "    r=requests.get(url)\n",
    "    soup = BeautifulSoup(r.text, 'html.parser')\n",
    "    title=soup.find('h1').text\n",
    "    decopo=soup.find_all('a')\n",
    "    for a in decopo:\n",
    "        a.decompose()\n",
    "    for tag in soup.find_all('h2'):\n",
    "        text1.append(tag.text).    flatclosing_urlsの１と2のそれぞれをtext1[0],text1[1]に入れたtext1にしたいのですが\n",
    "​\n",
    "for tem in ii:\n",
    "    print(type(tem))\n",
    "# target_h2 = []\n",
    "# for t in ii:\n",
    "#     if \"売上高\" in t or\"EPS\" in t or \"営業利益率\" in t or \"自己資本比率\" in t or \"営業活動によるCF\" in t or \"現金等\" in t or \"一株配当\" in t or \"配当性向\" in t:\n",
    "#         target_h2.append(t)"
   ]
  },
  {
   "cell_type": "code",
   "execution_count": null,
   "id": "3e485898",
   "metadata": {},
   "outputs": [],
   "source": []
  },
  {
   "cell_type": "code",
   "execution_count": 1206,
   "id": "4992a44d",
   "metadata": {},
   "outputs": [
    {
     "name": "stdout",
     "output_type": "stream",
     "text": [
      "<class 'bs4.element.ResultSet'>\n"
     ]
    }
   ],
   "source": [
    "print(type(tem))"
   ]
  },
  {
   "cell_type": "code",
   "execution_count": 1207,
   "id": "8c9ec7e4",
   "metadata": {},
   "outputs": [
    {
     "ename": "IndexError",
     "evalue": "list index out of range",
     "output_type": "error",
     "traceback": [
      "\u001b[0;31m---------------------------------------------------------------------------\u001b[0m",
      "\u001b[0;31mIndexError\u001b[0m                                Traceback (most recent call last)",
      "\u001b[0;32m/var/folders/81/ckf4k5wn0d16719pp2dp8rqw0000gn/T/ipykernel_16689/815646322.py\u001b[0m in \u001b[0;36m<module>\u001b[0;34m\u001b[0m\n\u001b[0;32m----> 1\u001b[0;31m \u001b[0mii\u001b[0m\u001b[0;34m[\u001b[0m\u001b[0;36m0\u001b[0m\u001b[0;34m]\u001b[0m\u001b[0;34m\u001b[0m\u001b[0;34m\u001b[0m\u001b[0m\n\u001b[0m",
      "\u001b[0;31mIndexError\u001b[0m: list index out of range"
     ]
    }
   ],
   "source": [
    "ii[0]"
   ]
  },
  {
   "cell_type": "code",
   "execution_count": 296,
   "id": "0ba2af38",
   "metadata": {},
   "outputs": [
    {
     "name": "stdout",
     "output_type": "stream",
     "text": [
      "['NOT (at index 3)', 'NOT (at index 6)', 'NOT (at index 7)', 'NOT (at index 10)', 'NOT (at index 11)']\n",
      "<class 'list'>\n",
      "['NOT (at index 2)', 'NOT (at index 3)', 'NOT (at index 5)', 'NOT (at index 6)', 'NOT (at index 7)', 'NOT (at index 10)']\n",
      "<class 'list'>\n",
      "['NOT (at index 0)', 'NOT (at index 1)', 'NOT (at index 2)', 'NOT (at index 3)', 'NOT (at index 4)', 'NOT (at index 5)', 'NOT (at index 6)', 'NOT (at index 7)', 'NOT (at index 8)', 'NOT (at index 9)', 'NOT (at index 10)', 'NOT (at index 11)']\n",
      "<class 'list'>\n",
      "['NOT (at index 1)', 'NOT (at index 3)', 'NOT (at index 4)', 'NOT (at index 5)', 'NOT (at index 6)', 'NOT (at index 7)', 'NOT (at index 8)', 'NOT (at index 9)', 'NOT (at index 10)', 'NOT (at index 11)', 'NOT (at index 12)', 'NOT (at index 13)']\n",
      "<class 'list'>\n",
      "['NOT (at index 8)', 'NOT (at index 11)', 'NOT (at index 12)']\n",
      "<class 'list'>\n",
      "['NOT (at index 1)', 'NOT (at index 4)', 'NOT (at index 8)', 'NOT (at index 9)', 'NOT (at index 10)', 'NOT (at index 12)']\n",
      "<class 'list'>\n",
      "['NOT (at index 3)', 'NOT (at index 4)', 'NOT (at index 5)', 'NOT (at index 8)', 'NOT (at index 9)']\n",
      "<class 'list'>\n",
      "['NOT (at index 0)', 'NOT (at index 1)', 'NOT (at index 2)', 'NOT (at index 3)', 'NOT (at index 4)', 'NOT (at index 5)', 'NOT (at index 6)', 'NOT (at index 8)', 'NOT (at index 11)']\n",
      "<class 'list'>\n"
     ]
    }
   ],
   "source": [
    "\n",
    "for tem in analyze[2]:\n",
    "    print(tem)\n",
    "    print(type(tem))"
   ]
  },
  {
   "cell_type": "code",
   "execution_count": 1106,
   "id": "91615d0d",
   "metadata": {},
   "outputs": [],
   "source": [
    "text = []#正規は８項目  \n",
    "for element in list_tagget:\n",
    "    for i in range(len(element)):\n",
    "        ele = element[i]\n",
    "        for a in ele.find_all('a'):\n",
    "            a.decompose()\n",
    "            text.append(element)\n",
    "\n",
    "        \n"
   ]
  },
  {
   "cell_type": "code",
   "execution_count": 1111,
   "id": "80af0e2c",
   "metadata": {},
   "outputs": [],
   "source": [
    "focus_url=[]\n",
    "list_tagget=[]\n",
    "for flatclosing_url in flatclosing_urls[0:3]:\n",
    "    url='https://irbank.net{}'.format(flatclosing_url)\n",
    "    sleep(random.uniform(3, 8)) \n",
    "    focus_url.append(url)\n",
    "    r=requests.get(url)\n",
    "    soup = BeautifulSoup(r.text, 'html.parser')\n",
    "    title=soup.find('h1').text\n",
    "    tagget= soup.find_all('h2')\n",
    "    list_tagget.append(tagget)"
   ]
  },
  {
   "cell_type": "code",
   "execution_count": 1139,
   "id": "aa226a7d",
   "metadata": {},
   "outputs": [
    {
     "data": {
      "text/plain": [
       "<h2>売上高</h2>"
      ]
     },
     "execution_count": 1139,
     "metadata": {},
     "output_type": "execute_result"
    }
   ],
   "source": [
    "tagget[0]"
   ]
  },
  {
   "cell_type": "code",
   "execution_count": null,
   "id": "104e192b",
   "metadata": {},
   "outputs": [],
   "source": []
  },
  {
   "cell_type": "code",
   "execution_count": 883,
   "id": "0a96cc54",
   "metadata": {},
   "outputs": [],
   "source": []
  },
  {
   "cell_type": "code",
   "execution_count": 660,
   "id": "36e66f2d",
   "metadata": {},
   "outputs": [],
   "source": [
    "with open('irbank/csv/closing_dict.pickle', 'wb') as f:\n",
    "            pickle.dump(ex_data, f)\n",
    "flatclosing_urls = list(itertools.chain(ex_data.values()))"
   ]
  },
  {
   "cell_type": "code",
   "execution_count": null,
   "id": "543dabd7",
   "metadata": {},
   "outputs": [],
   "source": []
  },
  {
   "cell_type": "code",
   "execution_count": 335,
   "id": "6aa78249",
   "metadata": {},
   "outputs": [],
   "source": [
    "with open('irbank/csv/securities_codes.pickle','rb') as f:\n",
    "    securities_codes=pickle.load(f)"
   ]
  },
  {
   "cell_type": "code",
   "execution_count": 78,
   "id": "8d7a3e43",
   "metadata": {
    "scrolled": true
   },
   "outputs": [],
   "source": [
    "def convert_eps(eps_figure: str) -> int:\n",
    "    number_str = eps_figure.split('円')[0]\n",
    "    hennkan = number_str + '*100'\n",
    "    return eval(hennkan)"
   ]
  },
  {
   "cell_type": "code",
   "execution_count": 77,
   "id": "df12207f",
   "metadata": {},
   "outputs": [],
   "source": [
    "def convert_sales(*args):\n",
    "    eval_list = []\n",
    "    for arg in args:\n",
    "        eval_arg = []\n",
    "        for value in arg:\n",
    "            # 兆しかない時\n",
    "            if '兆' in value and '億' not in value and '万' not in value:\n",
    "                hennkan = value.replace('兆', '*10**12')\n",
    "                eval_arg.append(eval(hennkan))\n",
    "        eval_list.append(eval_arg)\n",
    "    return eval_list\n"
   ]
  },
  {
   "cell_type": "code",
   "execution_count": 46,
   "id": "a4e9bc1a",
   "metadata": {},
   "outputs": [],
   "source": [
    "\n",
    "\n",
    "def get_securities_codes(start_page, end_page):\n",
    "    url='https://minkabu.jp/financial_item_ranking/dividend_yield?page={}'\n",
    "    dd_list=[]\n",
    "    for i in range(start_page, end_page+1):\n",
    "        target_url=url.format(i)\n",
    "        r=requests.get(target_url)\n",
    "        sleep(random.uniform(3, 8)) \n",
    "        soup=BeautifulSoup(r.text,'html.parser')\n",
    "        tab=soup.find('table',class_='md_table rnk_li')\n",
    "        conts=tab.find_all('tr')\n",
    "        del conts[0]\n",
    "\n",
    "        for cont in conts:\n",
    "            rank=cont.find('span',class_='ranking_no fsize_l').text\n",
    "            code=cont.find('div',class_='md_sub').text\n",
    "            name=cont.find('div',class_='fwb w90p').text\n",
    "            y=cont.find('td',class_='tar cur vamd').text\n",
    "            yeild= y.strip().replace('%', '')\n",
    "            dic={\n",
    "                'ランキング':rank,\n",
    "                '証券コード':code,\n",
    "                '企業名':name,\n",
    "                '配当利回り':yeild,\n",
    "            }\n",
    "            if float(yeild) >= 3.75:\n",
    "                dd_list.append(dic)\n",
    "    securities_codes = [d['証券コード'] for d in dd_list]\n",
    "    return securities_codes\n",
    "\n",
    "\n",
    "\n",
    "\n",
    "\n",
    "def float_hennkan(s):\n",
    "    # *だけの時\n",
    "    if '*' in s:\n",
    "        s = s.split('円')[0]  # '15.65' のような文字列を取得\n",
    "        s = s.replace('*', '')  # * を削除\n",
    "        if '.'in s:\n",
    "            integer_part, decimal_part =s.split('.')  # '15' と '65' のような文字列を取得\n",
    "            integer_part = integer_part.zfill(2)  # 整数部を 0 で埋める\n",
    "            decimal_part = decimal_part.zfill(2)  # 小数部を 0 で埋める\n",
    "            hennkan_result= f\"{integer_part}.{decimal_part}\"  # 埋めた数値を結合\n",
    "        return hennkan_result\n",
    "    #小数点の時\n",
    "    elif '.' in s :\n",
    "        number_str = s.split('円')[0]  # '15.65' のような文字列を取得\n",
    "        integer_part, decimal_part = number_str.split('.')  # '15' と '65' のような文字列を取得\n",
    "        integer_part = integer_part.zfill(2)  # 整数部を 0 で埋める\n",
    "        decimal_part = decimal_part.zfill(2)  # 小数部を 0 で埋める\n",
    "        hennkan_result = f\"{integer_part}.{decimal_part}\"  # 埋めた数値を結合\n",
    "        return hennkan_result\n",
    "      \n",
    "\n",
    "    else:\n",
    "        # 整数部と小数部が分離されていない場合\n",
    "        number_str = s.split('円')[0]  # '86' のような文字列を取得\n",
    "        integer_part = number_str.zfill(2)  # 整数部を 0 で埋める\n",
    "        hennkan_result = f\"{integer_part}.00\"\n",
    "        return hennkan_result\n",
    "    \n",
    "\n",
    "#     if '.' in s:\n",
    "#         number_str1 = kn .split('円')[0]  # '86' のような文字列を取得\n",
    "#         integer_part1 = number_str1.zfill(2)  # 整数部を 0 で埋める\n",
    "#         hennkan_result = f\"{integer_part1}.00\"\n",
    "#         return hennkan_result\n",
    "#     *だけの時\n",
    "#     elif '*' in s:\n",
    "#         kn = s.split('*')[1]\n",
    "#         number_str1 = kn .split('円')[0]  # '86' のような文字列を取得\n",
    "#         integer_part1 = number_str1.zfill(2)  # 整数部を 0 で埋める\n",
    "#         hennkan_result = f\"{integer_part1}.00\"\n",
    "#         return hennkan_result\n",
    "\n",
    "\n",
    "\n",
    "def convert_sales_figure(sales_figure: str) -> int:\n",
    "    #兆しかない時\n",
    "    if '兆' in sales_figure and '億' not in sales_figure and '万' not in sales_figure:\n",
    "        hennkan = sales_figure.replace('兆', '*10**12')\n",
    "        return eval(hennkan)\n",
    "    #億しかない時\n",
    "    elif '億' in sales_figure and '兆' not in sales_figure and '万' not in sales_figure:\n",
    "        hennkan = sales_figure.replace('億', '*10**8')\n",
    "        return eval(hennkan)\n",
    "    #万しかない時\n",
    "    elif '万' in sales_figure and '兆' not in sales_figure and '万' not in sales_figure:\n",
    "        hennkan = sales_figure.replace('万', '*10**4')\n",
    "        return eval(hennkan)\n",
    "    #兆と億の時\n",
    "    elif'兆'in sales_figure and '億' in sales_figure:\n",
    "        hennkan = sales_figure.replace('兆', '*10**12+').replace('億','*10**8')\n",
    "        return eval(hennkan)\n",
    "    #億と万の時\n",
    "    elif'億'in sales_figure and '万' in sales_figure:\n",
    "        hennkan = sales_figure.replace('億', '*10**8+').replace('万','*10**4')\n",
    "        return eval(hennkan)\n",
    "    else:\n",
    "        hennkan = re.sub(r\"(兆)|(億)|(万)\", lambda x: \"*10**12+\" if x.group(1) else \"*10**8\" if x.group(2) else \"*10**4\", sales_figure)\n",
    "        return eval(hennkan)\n",
    "\n",
    "\n",
    "\n",
    "def convert_eps(eps_figure: str) -> int:\n",
    "    number_str = eps_figure.split('円')[0]\n",
    "    hennkan = number_str + '*100'\n",
    "    return eval(hennkan)\n",
    "\n",
    "\n",
    "def convert_stock_figure(stock_figure: str) -> int:\n",
    "    if '.' in stock_figure and '*' not in stock_figure :\n",
    "        number_str = stock_figure.split('円')[0]\n",
    "        integer_part, decimal_part = number_str.split('.')\n",
    "        integer_part = integer_part.zfill(2)\n",
    "        decimal_part = decimal_part.zfill(2)\n",
    "        return f\"{integer_part}.{decimal_part}\"\n",
    "    elif '*' in stock_figure and '.' not in stock_figure :\n",
    "        kn = stock_figure.split('*')[1]\n",
    "        number_str1 = kn .split('円')[0]\n",
    "        integer_part1 = number_str1.zfill(2)\n",
    "        return f\"{integer_part1}.00\"\n",
    "    \n",
    "    elif'*'in stock_figure and '.' in stock_figure:\n",
    "        kn = stock_figure.split('*')[1]\n",
    "        number_str = kn.split('円')[0]\n",
    "        integer_part, decimal_part = number_str.split('.')\n",
    "        integer_part = integer_part.zfill(2)\n",
    "        decimal_part = decimal_part.zfill(2)\n",
    "        return f\"{integer_part}.{decimal_part}\"\n",
    "    else:\n",
    "        number_str = stock_figure.split('円')[0]\n",
    "        integer_part = number_str.zfill(2)\n",
    "        return f\"{integer_part}.00\"\n",
    "    \n",
    "\n",
    "def convert_stock(stock_price: str) -> str:\n",
    "    if '.' in stock_price:\n",
    "        number_str = stock_price.split('円')[0]\n",
    "        integer_part, decimal_part = number_str.split('.')\n",
    "        integer_part = integer_part.zfill(2)\n",
    "        decimal_part = decimal_part.zfill(2)\n",
    "        return f\"{integer_part}.{decimal_part}\"\n",
    "    elif '*' in stock_price:\n",
    "        kn = stock_price.split('*')[1]\n",
    "        number_str1 = kn .split('円')[0]\n",
    "        integer_part1 = number_str1.zfill(2)\n",
    "        return f\"{integer_part1}.00\"\n",
    "    else:\n",
    "        number_str = stock_price.split('円')[0]\n",
    "        integer_part = number_str.zfill(2)\n",
    "        return f\"{integer_part}.00\"\n",
    "\n",
    "\n",
    "\n",
    "def convert_return(return_figure: str) -> str:\n",
    "    if '.' in return_figure:\n",
    "        number_str = return_figure.split('%')[0]\n",
    "        integer_part, decimal_part = number_str.split('.')\n",
    "        integer_part = integer_part.zfill(2)\n",
    "        decimal_part = decimal_part.zfill(2)\n",
    "        return f\"{integer_part}.{decimal_part}\"\n",
    "\n",
    "    else:\n",
    "        integer_part = return_figure.split('%')[0]\n",
    "        integer_part = integer_part.zfill(2)\n",
    "        return f\"{integer_part}.00\"\n",
    "\n",
    "def process_cashes(cashes):\n",
    "    cash_list = [cash.text for cash in cashes]\n",
    "    eval_cash_list = []\n",
    "    for cash in cash_list:\n",
    "        # 兆しかない時\n",
    "        if '兆' in cash and '億' not in cash and '万' not in cash:\n",
    "            hennkan = cash.replace('兆', '*10**12')\n",
    "            eval_cash_list.append(eval(hennkan))\n",
    "        # 億しかない時\n",
    "        elif '億' in cash and '兆' not in cash and '万' not in cash:\n",
    "            hennkan = cash.replace('億', '*10**8')\n",
    "            eval_cash_list.append(eval(hennkan))\n",
    "        # 万しかない時\n",
    "        elif '万' in cash and '兆' not in cash and '万' not in cash:\n",
    "            hennkan = cash.replace('万', '*10**4')\n",
    "            eval_cash_list.append(eval(hennkan))\n",
    "        # 兆と億の時\n",
    "        elif '兆' in cash and '億' in cash:\n",
    "            hennkan = cash.replace('兆', '*10**12+').replace('億','*10**8')\n",
    "            eval_cash_list.append(eval(hennkan))\n",
    "        # 億と万の時\n",
    "        elif '億' in cash and '万' in cash:\n",
    "            hennkan = cash.replace('億', '*10**8+').replace('万','*10**4')\n",
    "            eval_cash_list.append(eval(hennkan))\n",
    "        else:\n",
    "            hennkan = re.sub(r\"(兆)|(億)|(万)\", lambda x: \"*10**12+\" if x.group(1) else \"*10**8\" if x.group(2) else \"*10**4\", sale)\n",
    "            eval_cash_list.append(eval(hennkan))\n",
    "    return eval_cash_list\n",
    "\n",
    "\n",
    "import re\n",
    "\n",
    "def process_cfflows(cfflows):\n",
    "    cf_flow_list = [cfflow.text for cfflow in cfflows]\n",
    "    eval_cf_flow_list = []\n",
    "    for flow in cf_flow_list:\n",
    "        # 兆しかない時\n",
    "        if '兆' in flow and '億' not in flow and '万' not in flow:\n",
    "            hennkan = flow.replace('兆', '*10**12')\n",
    "            eval_cf_flow_list.append(eval(hennkan))\n",
    "        # 億しかない時\n",
    "        elif '億' in flow and '兆' not in flow and '万' not in flow:\n",
    "            hennkan = flow.replace('億', '*10**8')\n",
    "            eval_cf_flow_list.append(eval(hennkan))\n",
    "        # 万しかない時\n",
    "        elif '万' in flow and '兆' not in flow and '万' not in flow:\n",
    "            hennkan = flow.replace('万', '*10**4')\n",
    "            eval_cf_flow_list.append(eval(hennkan))\n",
    "        # 兆と億の時\n",
    "        elif '兆' in flow and '億' in flow:\n",
    "            hennkan = flow.replace('兆', '*10**12+').replace('億','*10**8')\n",
    "            eval_cf_flow_list.append(eval(hennkan))\n",
    "        # 億と万の時\n",
    "        elif '億' in flow and '万' in flow:\n",
    "            hennkan = flow.replace('億', '*10**8+').replace('万','*10**4')\n",
    "            eval_cf_flow_list.append(eval(hennkan))\n",
    "        else:\n",
    "            hennkan = re.sub(r\"(兆)|(億)|(万)\", lambda x: \"*10**12+\" if x.group(1) else \"*10**8\" if x.group(2) else \"*10**4\", sale)\n",
    "            eval_cf_flow_list.append(eval(hennkan))\n",
    "    return eval_cf_flow_list\n",
    "\n",
    "\n",
    "def convert_japanese_financial_string(string):\n",
    "    hennkan = string.replace('兆', '*10**12').replace('億', '*10**8').replace('万', '*10**4')\n",
    "    return eval(hennkan)\n",
    "\n",
    "\n",
    "\n",
    "def convert_flow_figure(flow_figure: str) -> int:\n",
    "        #兆しかない時\n",
    "        if '兆' in flow_figure and '億' not in flow_figure and '万' not in flow_figure:\n",
    "            hennkan = flow_figure.replace('兆', '*10**12')\n",
    "            return eval(hennkan)         \n",
    "        #億しかない時\n",
    "        elif '億' in flow_figure and '兆' not in flow_figure and '万' not in flow_figure:\n",
    "            hennkan = flow_figure.replace('億', '*10**8')\n",
    "            return eval(hennkan)             \n",
    "        #万しかない時\n",
    "        elif '万' in flow_figure and '兆' not in flow_figure and '万' not in flow_figure:\n",
    "            hennkan = flow_figure.replace('万', '*10**4')\n",
    "            return eval(hennkan)\n",
    "        #兆と億の時\n",
    "        elif'兆'in flow_figure and '億' in flow_figure:\n",
    "            hennkan = flow_figure.replace('兆', '*10**12+').replace('億','*10**8')\n",
    "            return eval(hennkan)\n",
    "        #億と万の時\n",
    "        elif'億'in flow_figure and '万' in flow_figure:\n",
    "            hennkan = flow_figure.replace('億', '*10**8+').replace('万','*10**4')\n",
    "            return eval(hennkan)\n",
    "        else:\n",
    "            hennkan = re.sub(r\"(兆)|(億)|(万)\", lambda x: \"*10**12+\" if x.group(1) else \"*10**8\" if x.group(2) else \"*10**4\", flow_figure)\n",
    "            return eval(hennkan)\n",
    "\n",
    "\n",
    "def floatparcent_hennkan(s):\n",
    "    if '.' in s:\n",
    "        number_str = s.split('%')[0]  # '15.65' のような文字列を取得\n",
    "        integer_part, decimal_part = number_str.split('.')  # '15' と '65' のような文字列を取得\n",
    "        integer_part = integer_part.zfill(2)  # 整数部を 0 で埋める\n",
    "        decimal_part = decimal_part.zfill(2)  # 小数部を 0 で埋める\n",
    "        hennkan_result = f\"{integer_part}.{decimal_part}\"  # 埋めた数値を結合\n",
    "        return hennkan_result\n",
    "\n",
    "    else:\n",
    "        # 整数部と小数部が分離されていない場合\n",
    "        integer_part = s.split('%')[0]  # '86' のような文字列を取得\n",
    "        integer_part = integer_part.zfill(2)  # 整数部を 0 で埋める\n",
    "        hennkan_result = f\"{integer_part}.00\"\n",
    "        return hennkan_result\n",
    "def check_uriagedaka(eval_sale_list):\n",
    "    result = all(int(eval_sale_list[i]) < int(eval_sale_list[i+1]) for i in range(len(eval_sale_list)-1))\n",
    "    uriagedaka_stock = []\n",
    "    if result:\n",
    "        uriagedaka_stock.append('OK')\n",
    "    else:\n",
    "        for i in range(len(eval_sale_list)-1):\n",
    "            if int(eval_sale_list[i]) >= int(eval_sale_list[i+1]):\n",
    "                uriagedaka_stock.append(f'NOT (at index {i+1})')\n",
    "    return uriagedaka_stock\n",
    "\n",
    "\n",
    "def check_eps(zeps_list):\n",
    "    result = all(int(zeps_list[i]) < int(zeps_list[i+1]) for i in range(len(zeps_list)-1))\n",
    "    eps_stock = []\n",
    "    if result:\n",
    "        eps_stock.append('OK')\n",
    "    else:\n",
    "        for i in range(len(zeps_list)-1):\n",
    "            if int(zeps_list[i]) >= int(zeps_list[i+1]):\n",
    "                eps_stock.append(f'NOT (at index {i+1})')\n",
    "    return eps_stock\n",
    "\n",
    "def check_eiri(zop_list):\n",
    "    zop_list = [float(x) for x in zop_list]\n",
    "    resault = all(10 <= float(zop_list[i]) for i in range(len(zop_list)))\n",
    "    eiri_stock = []\n",
    "    if resault:\n",
    "        eiri_stock.append('OK')\n",
    "    else:\n",
    "        for i in range(len(zop_list)):\n",
    "            if 10 >= float(zop_list[i]):\n",
    "                eiri_stock.append(f'NOT (at index {i})')\n",
    "    return eiri_stock\n",
    "\n",
    "def check_zikosihon(zoption_list):\n",
    "    oolist = [float(x) for x in zoption_list]\n",
    "    result = all(40 <= float(oolist[i]) for i in range(len(oolist)))\n",
    "    zikosihon_stock = []\n",
    "    if result:\n",
    "        zikosihon_stock.append('OK')\n",
    "    else:\n",
    "        for i in range(len(oolist)):\n",
    "            if 40 >= float(oolist[i]):\n",
    "                zikosihon_stock.append(f'NOT (at index {i})')\n",
    "    return zikosihon_stock\n",
    "\n",
    "\n",
    "def check_genkin(eval_cash_list):\n",
    "    result = all(int(eval_cash_list[i]) < int(eval_cash_list[i+1]) for i in range(len(eval_cash_list)-1))\n",
    "    genkin_stock = []\n",
    "    if result:\n",
    "        genkin_stock.append('OK')\n",
    "    else:\n",
    "        for i in range(len(eval_cash_list)-1):\n",
    "            if int(eval_cash_list[i]) >= int(eval_cash_list[i+1]):\n",
    "                genkin_stock.append(f'NOT (at index {i+1})')\n",
    "    return genkin_stock\n",
    "\n",
    "\n",
    "def check_cflow_order(eval_cf_flow_list):\n",
    "    result = all(int(eval_cf_flow_list[i]) < int(eval_cf_flow_list[i+1]) for i in range(len(eval_cf_flow_list)-1))\n",
    "    cflow_stock=[]\n",
    "    if result:\n",
    "        cflow_stock.append('OK')\n",
    "    else:\n",
    "        for i in range(len(eval_cf_flow_list)-1):\n",
    "            if int(eval_cf_flow_list[i]) >= int(eval_cf_flow_list[i+1]):\n",
    "                cflow_stock.append(f'NOT (at index {i+1})')\n",
    "    return cflow_stock\n",
    "\n",
    "def check_zstock_order(zstock_list):\n",
    "    result = all(float(zstock_list[i]) < float(zstock_list[i+1]) for i in range(len(zstock_list)-1))\n",
    "    hitokabu_stock=[]\n",
    "    if result:\n",
    "        hitokabu_stock.append('OK')\n",
    "    else:\n",
    "        for i in range(len(zstock_list)-1):\n",
    "            if float(zstock_list[i]) >= float(zstock_list[i+1]):\n",
    "                hitokabu_stock.append(f'NOT (at index {i+1})')\n",
    "    return hitokabu_stock\n",
    "\n",
    "\n",
    "def check_zreturn_range(zreturn_list):\n",
    "    int_zreturn_list = [float(x) for x in zreturn_list]\n",
    "    result = all(30<int(int_zreturn_list[i]<50) for i in range(len(int_zreturn_list)))\n",
    "    seikou_stock=[]\n",
    "    if result:\n",
    "        seikou_stock.append('OK')\n",
    "    else:\n",
    "        for i in range(len(int_zreturn_list)):\n",
    "            if int(30>int_zreturn_list[i] or int_zreturn_list[i]>70):\n",
    "                seikou_stock.append(f'NOT (at index {i})')\n",
    "    return seikou_stock\n",
    "\n",
    "\n",
    "\n",
    "def get_closing_url(code):\n",
    "    url = f'https://irbank.net/{code}/ir'\n",
    "    r = requests.get(url)\n",
    "    sleep(2)\n",
    "    soup = BeautifulSoup(r.text,'html.parser')\n",
    "    element = soup.select_one('div.csb.cc2 > ul:nth-of-type(2) > li:first-of-type')\n",
    "    taget = element.find('a')\n",
    "    link = taget.get('href')\n",
    "    return link\n",
    "\n",
    "def convert_sales_figure(sales_figure: str) -> int:\n",
    "    #兆しかない時\n",
    "    if '兆' in sales_figure and '億' not in sales_figure and '万' not in sales_figure:\n",
    "        hennkan = sales_figure.replace('兆', '*10**12')\n",
    "        return eval(hennkan)\n",
    "    #億しかない時\n",
    "    elif '億' in sales_figure and '兆' not in sales_figure and '万' not in sales_figure:\n",
    "        hennkan = sales_figure.replace('億', '*10**8')\n",
    "        return eval(hennkan)\n",
    "    #万しかない時\n",
    "    elif '万' in sales_figure and '兆' not in sales_figure and '万' not in sales_figure:\n",
    "        hennkan = sales_figure.replace('万', '*10**4')\n",
    "        return eval(hennkan)\n",
    "    #兆と億の時\n",
    "    elif'兆'in sales_figure and '億' in sales_figure:\n",
    "        hennkan = sales_figure.replace('兆', '*10**12+').replace('億','*10**8')\n",
    "        return eval(hennkan)\n",
    "    #億と万の時\n",
    "    elif'億'in sales_figure and '万' in sales_figure:\n",
    "        hennkan = sales_figure.replace('億', '*10**8+').replace('万','*10**4')\n",
    "        return eval(hennkan)\n",
    "    else:\n",
    "        hennkan = re.sub(r\"(兆)|(億)|(万)\", lambda x: \"*10**12+\" if x.group(1) else \"*10**8\" if x.group(2) else \"*10**4\", sales_figure)\n",
    "        return eval(hennkan)"
   ]
  },
  {
   "cell_type": "code",
   "execution_count": 363,
   "id": "87539772",
   "metadata": {},
   "outputs": [],
   "source": [
    "\n"
   ]
  },
  {
   "cell_type": "code",
   "execution_count": 429,
   "id": "57b62ffd",
   "metadata": {},
   "outputs": [],
   "source": []
  },
  {
   "cell_type": "code",
   "execution_count": null,
   "id": "bb92713a",
   "metadata": {},
   "outputs": [],
   "source": []
  },
  {
   "cell_type": "code",
   "execution_count": null,
   "id": "4476ffa0",
   "metadata": {},
   "outputs": [],
   "source": []
  },
  {
   "cell_type": "code",
   "execution_count": null,
   "id": "4c1b77fe",
   "metadata": {},
   "outputs": [],
   "source": [
    "test__lists"
   ]
  },
  {
   "cell_type": "code",
   "execution_count": null,
   "id": "4db589ba",
   "metadata": {},
   "outputs": [],
   "source": []
  },
  {
   "cell_type": "code",
   "execution_count": 155,
   "id": "937e7723",
   "metadata": {},
   "outputs": [
    {
     "name": "stdout",
     "output_type": "stream",
     "text": [
      "from_cache: False\n",
      "status_code: 200\n"
     ]
    }
   ],
   "source": [
    "import requests\n",
    "from cachecontrol import CacheControl \n",
    "from cachecontrol.caches import FileCache\n",
    "\n",
    "session = requests.Session()\n",
    "# sessionをラップしたcached_sessionを作る。\n",
    "# キャッシュはファイルとして .webcache ディレクトリ内に保存する。\n",
    "cached_session = CacheControl(session, cache=FileCache('.webcache'))\n",
    "\n",
    "response = cached_session.get('https://irbank.net/E31167/results') \n",
    "\n",
    "# response.from_cache属性でキャッシュから取得されたレスポンスかどうかを取得できる。\n",
    "print(f'from_cache: {response.from_cache}') \n",
    "print(f'status_code: {response.status_code}')"
   ]
  },
  {
   "cell_type": "code",
   "execution_count": 132,
   "id": "2cacfc63",
   "metadata": {},
   "outputs": [
    {
     "ename": "NameError",
     "evalue": "name 'number_str' is not defined",
     "output_type": "error",
     "traceback": [
      "\u001b[0;31m---------------------------------------------------------------------------\u001b[0m",
      "\u001b[0;31mNameError\u001b[0m                                 Traceback (most recent call last)",
      "\u001b[0;32m/var/folders/81/ckf4k5wn0d16719pp2dp8rqw0000gn/T/ipykernel_16689/3116207713.py\u001b[0m in \u001b[0;36m<module>\u001b[0;34m\u001b[0m\n\u001b[1;32m      7\u001b[0m     \u001b[0mdecimal_part\u001b[0m \u001b[0;34m=\u001b[0m \u001b[0mdecimal_part\u001b[0m\u001b[0;34m.\u001b[0m\u001b[0mzfill\u001b[0m\u001b[0;34m(\u001b[0m\u001b[0;36m2\u001b[0m\u001b[0;34m)\u001b[0m\u001b[0;34m\u001b[0m\u001b[0;34m\u001b[0m\u001b[0m\n\u001b[1;32m      8\u001b[0m     \u001b[0mprint\u001b[0m \u001b[0;34m(\u001b[0m\u001b[0;34mf\"{integer_part}.{decimal_part}\"\u001b[0m\u001b[0;34m)\u001b[0m\u001b[0;34m\u001b[0m\u001b[0;34m\u001b[0m\u001b[0m\n\u001b[0;32m----> 9\u001b[0;31m \u001b[0mnumber_str\u001b[0m\u001b[0;34m\u001b[0m\u001b[0;34m\u001b[0m\u001b[0m\n\u001b[0m",
      "\u001b[0;31mNameError\u001b[0m: name 'number_str' is not defined"
     ]
    }
   ],
   "source": []
  },
  {
   "cell_type": "code",
   "execution_count": 180,
   "id": "addc330c",
   "metadata": {},
   "outputs": [
    {
     "name": "stderr",
     "output_type": "stream",
     "text": [
      "これはデバッグログ\n",
      "これはデバッグログ\n",
      "これはデバッグログ\n",
      "これはデバッグログ\n",
      "これはデバッグログ\n"
     ]
    }
   ],
   "source": [
    "from logging import getLogger,StreamHandler,DEBUG,ERROR\n",
    "\n",
    "logger=getLogger(__name__)\n",
    "handler=StreamHandler()\n",
    "handler.setLevel(ERROR)\n",
    "logger.setLevel(DEBUG)\n",
    "logger.addHandler(handler)\n",
    "logger.debug('これはデバッグログ')"
   ]
  },
  {
   "cell_type": "code",
   "execution_count": 195,
   "id": "28bc7b70",
   "metadata": {},
   "outputs": [
    {
     "name": "stdout",
     "output_type": "stream",
     "text": [
      "5019\n"
     ]
    }
   ],
   "source": [
    "securities_codes = get_securities_codes(27,28)\n",
    "for x in securities_codes:\n",
    "    with open('irbank/csv/securities_codes.pickle','wb') as f:\n",
    "        pickle.dump(x,f)\n",
    "    with open('irbank/csv/securities_codes.pickle','rb') as f:\n",
    "        x=pickle.load(f)\n",
    "print(x)"
   ]
  },
  {
   "cell_type": "code",
   "execution_count": 768,
   "id": "d62b680b",
   "metadata": {},
   "outputs": [
    {
     "name": "stdout",
     "output_type": "stream",
     "text": [
      "time: 0.000744820 [sec]\n",
      "time: 0.000028849 [sec]\n",
      "time: 0.000043154 [sec]\n",
      "time: 0.000023127 [sec]\n"
     ]
    }
   ],
   "source": [
    "\n",
    "\n"
   ]
  },
  {
   "cell_type": "code",
   "execution_count": 477,
   "id": "30ec88d1",
   "metadata": {},
   "outputs": [
    {
     "data": {
      "text/plain": [
       "(40, 4)"
      ]
     },
     "execution_count": 477,
     "metadata": {},
     "output_type": "execute_result"
    }
   ],
   "source": [
    " df=pd.DataFrame(dd_list)\n",
    "df.head()\n",
    "df.shape"
   ]
  },
  {
   "cell_type": "code",
   "execution_count": 514,
   "id": "8069ddb4",
   "metadata": {},
   "outputs": [
    {
     "ename": "Error",
     "evalue": "iterable expected, not int",
     "output_type": "error",
     "traceback": [
      "\u001b[0;31m---------------------------------------------------------------------------\u001b[0m",
      "\u001b[0;31mError\u001b[0m                                     Traceback (most recent call last)",
      "\u001b[0;32m/var/folders/81/ckf4k5wn0d16719pp2dp8rqw0000gn/T/ipykernel_16689/2144688670.py\u001b[0m in \u001b[0;36m<module>\u001b[0;34m\u001b[0m\n\u001b[1;32m      1\u001b[0m \u001b[0;32mfor\u001b[0m \u001b[0mdata\u001b[0m \u001b[0;32min\u001b[0m \u001b[0mexisting_data\u001b[0m\u001b[0;34m:\u001b[0m\u001b[0;34m\u001b[0m\u001b[0;34m\u001b[0m\u001b[0m\n\u001b[0;32m----> 2\u001b[0;31m     \u001b[0mwriter\u001b[0m\u001b[0;34m.\u001b[0m\u001b[0mwriterow\u001b[0m\u001b[0;34m(\u001b[0m\u001b[0mdata\u001b[0m\u001b[0;34m)\u001b[0m\u001b[0;34m\u001b[0m\u001b[0;34m\u001b[0m\u001b[0m\n\u001b[0m",
      "\u001b[0;31mError\u001b[0m: iterable expected, not int"
     ]
    }
   ],
   "source": []
  },
  {
   "cell_type": "code",
   "execution_count": 518,
   "id": "7f1f4d88",
   "metadata": {},
   "outputs": [
    {
     "ename": "Error",
     "evalue": "iterable expected, not int",
     "output_type": "error",
     "traceback": [
      "\u001b[0;31m---------------------------------------------------------------------------\u001b[0m",
      "\u001b[0;31mError\u001b[0m                                     Traceback (most recent call last)",
      "\u001b[0;32m/var/folders/81/ckf4k5wn0d16719pp2dp8rqw0000gn/T/ipykernel_16689/1272504193.py\u001b[0m in \u001b[0;36m<module>\u001b[0;34m\u001b[0m\n\u001b[1;32m      4\u001b[0m     \u001b[0mwriter\u001b[0m \u001b[0;34m=\u001b[0m \u001b[0mcsv\u001b[0m\u001b[0;34m.\u001b[0m\u001b[0mwriter\u001b[0m\u001b[0;34m(\u001b[0m\u001b[0mf\u001b[0m\u001b[0;34m)\u001b[0m\u001b[0;34m\u001b[0m\u001b[0;34m\u001b[0m\u001b[0m\n\u001b[1;32m      5\u001b[0m     \u001b[0;32mfor\u001b[0m \u001b[0mdata\u001b[0m \u001b[0;32min\u001b[0m \u001b[0mexisting_data\u001b[0m\u001b[0;34m:\u001b[0m\u001b[0;34m\u001b[0m\u001b[0;34m\u001b[0m\u001b[0m\n\u001b[0;32m----> 6\u001b[0;31m         \u001b[0mwriter\u001b[0m\u001b[0;34m.\u001b[0m\u001b[0mwriterows\u001b[0m\u001b[0;34m(\u001b[0m\u001b[0mexisting_data\u001b[0m\u001b[0;34m)\u001b[0m\u001b[0;34m\u001b[0m\u001b[0;34m\u001b[0m\u001b[0m\n\u001b[0m",
      "\u001b[0;31mError\u001b[0m: iterable expected, not int"
     ]
    }
   ],
   "source": [
    "\n"
   ]
  },
  {
   "cell_type": "code",
   "execution_count": 764,
   "id": "da20684b",
   "metadata": {},
   "outputs": [
    {
     "name": "stdout",
     "output_type": "stream",
     "text": [
      "729\n"
     ]
    }
   ],
   "source": [
    "import itertools\n",
    "with open('irbank/csv/securities_codes.pickle', 'rb') as f:\n",
    "            existing_data = pickle.load(f)\n",
    "flattened_codes = list(itertools.chain(*existing_data.values()))\n",
    "print(len(flattened_codes))"
   ]
  },
  {
   "cell_type": "code",
   "execution_count": 797,
   "id": "d638f082",
   "metadata": {},
   "outputs": [
    {
     "ename": "NameError",
     "evalue": "name 'existing_dat' is not defined",
     "output_type": "error",
     "traceback": [
      "\u001b[0;31m---------------------------------------------------------------------------\u001b[0m",
      "\u001b[0;31mNameError\u001b[0m                                 Traceback (most recent call last)",
      "\u001b[0;32m/var/folders/81/ckf4k5wn0d16719pp2dp8rqw0000gn/T/ipykernel_16689/3685444111.py\u001b[0m in \u001b[0;36m<module>\u001b[0;34m\u001b[0m\n\u001b[0;32m----> 1\u001b[0;31m \u001b[0mexisting_dat\u001b[0m\u001b[0;34m\u001b[0m\u001b[0;34m\u001b[0m\u001b[0m\n\u001b[0m",
      "\u001b[0;31mNameError\u001b[0m: name 'existing_dat' is not defined"
     ]
    }
   ],
   "source": [
    "existing_dat"
   ]
  },
  {
   "cell_type": "code",
   "execution_count": 599,
   "id": "271a8d10",
   "metadata": {},
   "outputs": [],
   "source": [
    "with open('irbank/csv/code.pickle', 'rb') as f:\n",
    "            company_code = pickle.load(f)"
   ]
  },
  {
   "cell_type": "code",
   "execution_count": 619,
   "id": "a74b2222",
   "metadata": {},
   "outputs": [],
   "source": [
    "del existing_data[0]"
   ]
  },
  {
   "cell_type": "code",
   "execution_count": 620,
   "id": "32527c07",
   "metadata": {},
   "outputs": [
    {
     "name": "stdout",
     "output_type": "stream",
     "text": [
      "709\n"
     ]
    }
   ],
   "source": [
    "\n"
   ]
  },
  {
   "cell_type": "code",
   "execution_count": null,
   "id": "10998b00",
   "metadata": {},
   "outputs": [],
   "source": []
  },
  {
   "cell_type": "code",
   "execution_count": 508,
   "id": "d7a1d375",
   "metadata": {},
   "outputs": [],
   "source": []
  },
  {
   "cell_type": "code",
   "execution_count": null,
   "id": "13e345ac",
   "metadata": {},
   "outputs": [],
   "source": []
  },
  {
   "cell_type": "code",
   "execution_count": 3,
   "id": "28857735",
   "metadata": {},
   "outputs": [],
   "source": [
    "import time\n",
    "\n",
    "# 関数の実行時間を測るデコレータ\n",
    "def tictoc(func):\n",
    "    def _wrapper(*args, **keywargs):\n",
    "        start_time = time.time()\n",
    "        result = func(*args, **keywargs)\n",
    "        print('time: {:.9f} [sec]'.format(time.time() - start_time))\n",
    "        return result\n",
    "    return _wrapper"
   ]
  },
  {
   "cell_type": "code",
   "execution_count": 4,
   "id": "581139d1",
   "metadata": {},
   "outputs": [
    {
     "name": "stdout",
     "output_type": "stream",
     "text": [
      "time: 0.077428818 [sec]\n",
      "time: 0.000001907 [sec]\n"
     ]
    },
    {
     "data": {
      "text/plain": [
       "1000001"
      ]
     },
     "execution_count": 4,
     "metadata": {},
     "output_type": "execute_result"
    }
   ],
   "source": [
    "from functools import cache\n",
    "\n",
    "@tictoc\n",
    "@cache  # デコレータを付与\n",
    "def func(num):\n",
    "    # なんらかの重い処理\n",
    "    for _ in range(1000000):\n",
    "        num += 1\n",
    "    return num\n",
    "\n",
    "# 1度目の呼び出し\n",
    "func(1)\n",
    "\n",
    "# 2度目の呼び出し\n",
    "func(1)"
   ]
  },
  {
   "cell_type": "code",
   "execution_count": 207,
   "id": "4f335a81",
   "metadata": {},
   "outputs": [
    {
     "name": "stdout",
     "output_type": "stream",
     "text": [
      "time: 0.000001907 [sec]\n"
     ]
    },
    {
     "data": {
      "text/plain": [
       "1000001"
      ]
     },
     "execution_count": 207,
     "metadata": {},
     "output_type": "execute_result"
    }
   ],
   "source": [
    "func(1)"
   ]
  },
  {
   "cell_type": "code",
   "execution_count": 5,
   "id": "35976710",
   "metadata": {},
   "outputs": [],
   "source": [
    "#1\n",
    "import random\n",
    "@tictoc\n",
    "@cache\n",
    "def get_securities_codes(start_page, end_page):\n",
    "    url='https://minkabu.jp/financial_item_ranking/dividend_yield?page={}'\n",
    "    dd_list=[]\n",
    "    for i in range(start_page, end_page+1):\n",
    "        target_url=url.format(i)\n",
    "        r=requests.get(target_url)\n",
    "        sleep(random.uniform(3, 8)) \n",
    "        soup=BeautifulSoup(r.text,'html.parser')\n",
    "        tab=soup.find('table',class_='md_table rnk_li')\n",
    "        conts=tab.find_all('tr')\n",
    "        del conts[0]\n",
    "\n",
    "        for cont in conts:\n",
    "            rank=cont.find('span',class_='ranking_no fsize_l').text\n",
    "            code=cont.find('div',class_='md_sub').text\n",
    "            name=cont.find('div',class_='fwb w90p').text\n",
    "            y=cont.find('td',class_='tar cur vamd').text\n",
    "            yeild= y.strip().replace('%', '')\n",
    "            dic={\n",
    "                'ランキング':rank,\n",
    "                '証券コード':code,\n",
    "                '企業名':name,\n",
    "                '配当利回り':yeild,\n",
    "            }\n",
    "            \n",
    "            \n",
    "            if float(yeild) >= 3.75:\n",
    "                dd_list.append(dic)\n",
    "    securities_codes = [d['証券コード'] for d in dd_list]\n",
    "    #csvに保存まだ更新はできず追加しかされない\n",
    "    new_data=pd.DataFrame(dd_list)\n",
    "    if os.path.exists('irbank/csv/20230115ranking.csv'):\n",
    "                df=pd.read_csv('irbank/csv/20230115ranking.csv')\n",
    "                df=pd.concat([df, new_data], ignore_index=True)\n",
    "                \n",
    "    else:\n",
    "        df=new_data\n",
    "    df.to_csv('irbank/csv/20230115ranking.csv',index=None,encoding='utf-8-sig')\n",
    "\n",
    "    return securities_codes\n"
   ]
  },
  {
   "cell_type": "code",
   "execution_count": 798,
   "id": "e41f9cab",
   "metadata": {},
   "outputs": [
    {
     "name": "stdout",
     "output_type": "stream",
     "text": [
      "time: 5.357740641 [sec]\n",
      "time: 6.625604153 [sec]\n",
      "time: 8.049380302 [sec]\n",
      "time: 7.945807934 [sec]\n",
      "time: 5.542266130 [sec]\n",
      "time: 5.170459032 [sec]\n",
      "time: 6.947769880 [sec]\n"
     ]
    }
   ],
   "source": [
    "#1\n",
    "\n",
    "result = {}\n",
    "#1ページ目から取得なので値に0はいらない\n",
    "for page in range(30, 37, 1):\n",
    "    securities_codes = get_securities_codes(page, page)\n",
    "    result[page] = securities_codes\n",
    "    if os.path.exists('irbank/csv/securities_codes.pickle'):\n",
    "     # ファイルから既存のデータを読み込む\n",
    "        with open('irbank/csv/securities_codes.pickle', 'rb') as f:\n",
    "            existing_data = pickle.load(f)\n",
    "        # 既存のデータを更新する\n",
    "        existing_data.update(result)\n",
    "        # ファイルに追加されたデータを保存する\n",
    "        with open('irbank/csv/securities_codes.pickle', 'wb') as f:\n",
    "            pickle.dump(existing_data, f)\n",
    "    else:\n",
    "        del result[0]\n",
    "        with open('irbank/csv/securities_codes.pickle', 'wb') as f:\n",
    "            pickle.dump(result, f)"
   ]
  },
  {
   "cell_type": "code",
   "execution_count": 61,
   "id": "f58dac07",
   "metadata": {},
   "outputs": [
    {
     "name": "stdout",
     "output_type": "stream",
     "text": [
      "713\n"
     ]
    }
   ],
   "source": [
    "import itertools\n",
    "with open('csv/securities_codes.pickle', 'rb') as f:\n",
    "            existing_data = pickle.load(f)\n",
    "            del existing_data[0]\n",
    "flattened_codes = list(itertools.chain(*existing_data.values()))\n",
    "print(len(flattened_codes))"
   ]
  },
  {
   "cell_type": "code",
   "execution_count": null,
   "id": "e7199566",
   "metadata": {},
   "outputs": [],
   "source": []
  },
  {
   "cell_type": "code",
   "execution_count": 543,
   "id": "0844d05a",
   "metadata": {},
   "outputs": [],
   "source": [
    "#     with open('irbank/csv/ranking.csv', 'w', newline='') as csvfile:\n",
    "#         fieldnames = ['ランキング','証券コード','企業名','配当利回り']\n",
    "#         #辞書型を書き込むためのクラス\n",
    "#         writer = csv.DictWriter(csvfile, fieldnames=fieldnames)\n",
    "#         writer.writeheader()\n",
    "#         for d in dd_list:\n",
    "#             writer.writerow({'ランキング':d['ランキング'],'証券コード': d['証券コード'],'企業名':d['企業名'],'配当利回り':d['配当利回り']})\n",
    "    \n"
   ]
  },
  {
   "cell_type": "code",
   "execution_count": 629,
   "id": "cb2af83c",
   "metadata": {},
   "outputs": [
    {
     "name": "stdout",
     "output_type": "stream",
     "text": [
      "time: 0.000003099 [sec]\n",
      "['/E04236/results']\n"
     ]
    }
   ],
   "source": [
    "closing_urls= []\n",
    "# for code in securities_codes[:3]:\n",
    "for code in flattened_codes[0:1]:\n",
    "    closing_urls.append(get_closing_url(code))\n",
    "print (closing_urls)"
   ]
  },
  {
   "cell_type": "code",
   "execution_count": 30,
   "id": "471135f0",
   "metadata": {},
   "outputs": [],
   "source": [
    "@tictoc\n",
    "@cache\n",
    "def get_closing_url(code):\n",
    "    url = f'https://irbank.net/{code}/ir'\n",
    "    r = requests.get(url)\n",
    "    sleep(random.uniform(3, 8)) \n",
    "    soup = BeautifulSoup(r.text,'html.parser')\n",
    "    element = soup.select_one('div.csb.cc2 > ul:nth-of-type(2) > li:first-of-type')\n",
    "    taget = element.find('a')\n",
    "    link = taget.get('href')\n",
    "    return link\n"
   ]
  },
  {
   "cell_type": "code",
   "execution_count": 777,
   "id": "96c55176",
   "metadata": {},
   "outputs": [
    {
     "name": "stdout",
     "output_type": "stream",
     "text": [
      "time: 2.522117853 [sec]\n",
      "time: 2.484273195 [sec]\n",
      "time: 2.296419144 [sec]\n",
      "time: 2.385443687 [sec]\n",
      "time: 2.317987204 [sec]\n",
      "time: 2.381206036 [sec]\n",
      "time: 2.426397085 [sec]\n",
      "time: 2.504644871 [sec]\n",
      "time: 2.421528101 [sec]\n",
      "time: 2.425532103 [sec]\n",
      "time: 2.524970055 [sec]\n",
      "time: 2.401628971 [sec]\n",
      "time: 2.468930960 [sec]\n",
      "time: 2.386493921 [sec]\n",
      "time: 2.442391872 [sec]\n",
      "time: 2.417729139 [sec]\n",
      "time: 2.303143263 [sec]\n",
      "time: 2.543843031 [sec]\n",
      "time: 2.398165941 [sec]\n",
      "time: 2.271637201 [sec]\n"
     ]
    }
   ],
   "source": [
    "#2\n",
    "#ここからclosing_dict=\n",
    "import pickle\n",
    "closing_dict = {}\n",
    "# for page in range(0, 100, 10):\n",
    "#     # your code here\n",
    "#     time.sleep(60) \n",
    "for code in flattened_codes[1:300]:\n",
    "    new_url = get_closing_url(code)\n",
    "    closing_dict[code] = new_url\n",
    "\n",
    "# 既存のpickleファイルがある場合\n",
    "    if os.path.exists('irbank/csv/closing_dict.pickle'):\n",
    "        # ファイルから既存のデータを読み込む\n",
    "        with open('irbank/csv/closing_dict.pickle', 'rb') as f:\n",
    "            ex_data = pickle.load(f)\n",
    "        # 既存のデータに新しいデータを追加\n",
    "        ex_data.update(closing_dict)\n",
    "        # ファイルに追加されたデータを保存する\n",
    "        with open('irbank/csv/closing_dict.pickle', 'wb') as f:\n",
    "            pickle.dump(ex_data, f)\n",
    "    # 初めての保存の場合\n",
    "    else:\n",
    "        with open('irbank/csv/closing_dict.pickle', 'wb') as f:\n",
    "            pickle.dump(closing_dict, f)\n",
    "            \n",
    "            \n"
   ]
  },
  {
   "cell_type": "code",
   "execution_count": 778,
   "id": "a85de1b0",
   "metadata": {},
   "outputs": [],
   "source": [
    "#2\n",
    "with open('irbank/csv/closing_dict.pickle', 'rb') as f:\n",
    "            ex_data = pickle.load(f)"
   ]
  },
  {
   "cell_type": "code",
   "execution_count": 779,
   "id": "6c2b0713",
   "metadata": {},
   "outputs": [
    {
     "data": {
      "text/plain": [
       "180"
      ]
     },
     "execution_count": 779,
     "metadata": {},
     "output_type": "execute_result"
    }
   ],
   "source": [
    "len(ex_data)"
   ]
  },
  {
   "cell_type": "code",
   "execution_count": 32,
   "id": "8dcdd2ee",
   "metadata": {},
   "outputs": [],
   "source": []
  },
  {
   "cell_type": "code",
   "execution_count": 667,
   "id": "df105761",
   "metadata": {},
   "outputs": [
    {
     "name": "stdout",
     "output_type": "stream",
     "text": [
      "729\n"
     ]
    }
   ],
   "source": []
  },
  {
   "cell_type": "code",
   "execution_count": null,
   "id": "80d85387",
   "metadata": {},
   "outputs": [],
   "source": []
  },
  {
   "cell_type": "code",
   "execution_count": 719,
   "id": "80fbd3ec",
   "metadata": {},
   "outputs": [],
   "source": [
    "#3\n",
    "\n",
    "#ここからfinal_dict\n",
    "import pickle\n",
    "final_dict = {}\n",
    "focus_url=[]\n",
    "for flatclosing_url in flatclosing_urls[8:10]:\n",
    "    url='https://irbank.net{}'.format(flatclosing_url)\n",
    "    sleep(2)\n",
    "    focus_url.append(url)\n",
    "    final_dict[flatclosing_url] = focus_url[-1]\n",
    "    save_pickle(final_dict, 'irbank/csv/final_dict.pickle')\n"
   ]
  },
  {
   "cell_type": "code",
   "execution_count": 720,
   "id": "0b82001b",
   "metadata": {},
   "outputs": [],
   "source": [
    "with open('irbank/csv/final_dict.pickle', 'rb') as f:\n",
    "    ex_data = pickle.load(f)\n",
    "final_code = list(itertools.chain(ex_data.values()))\n"
   ]
  },
  {
   "cell_type": "code",
   "execution_count": 721,
   "id": "dc377015",
   "metadata": {},
   "outputs": [
    {
     "data": {
      "text/plain": [
       "['https://irbank.net/E04236/results',\n",
       " 'https://irbank.net/E04235/results',\n",
       " 'https://irbank.nethttps://irbank.net/E04236/results',\n",
       " 'https://irbank.nethttps://irbank.net/E04235/results']"
      ]
     },
     "execution_count": 721,
     "metadata": {},
     "output_type": "execute_result"
    }
   ],
   "source": [
    "final_code"
   ]
  },
  {
   "cell_type": "code",
   "execution_count": 692,
   "id": "d7c3eb8f",
   "metadata": {},
   "outputs": [],
   "source": [
    "#3\n",
    "with open('irbank/csv/final_dict.pickle', 'rb') as f:\n",
    "    ex_data = pickle.load(f)\n",
    "final_code = list(itertools.chain(ex_data.values()))\n",
    "\n",
    "for i in final_code:\n",
    "    r=requests.get(i)\n",
    "    soup = BeautifulSoup(r.text, 'html.parser')\n",
    "    title=soup.find('h1').text\n",
    "    tagget= soup.find_all('h2')\n",
    "    \n",
    "text=[]\n",
    "for element in tagget:\n",
    "    for a in element.find_all('a'):\n",
    "        a.decompose()\n",
    "    text.append(element)\n",
    "target_h2 = []#正規は８項目\n",
    "for t in text:\n",
    "    if \"売上高\" in t or\"EPS\" in t or \"営業利益率\" in t or \"自己資本比率\" in t or \"営業活動によるCF\" in t or \"現金等\" in t or \"一株配当\" in t or \"配当性向\" in t:\n",
    "        target_h2.append(t)\n",
    "test_lists=[]\n",
    "if len(target_h2)==8:\n",
    "    for i in target_h2:\n",
    "        bro=i.find_next_sibling()\n",
    "        ss = bro.find_all('span', class_='text')\n",
    "        test_lists.append(ss)\n",
    "\n"
   ]
  },
  {
   "cell_type": "code",
   "execution_count": 696,
   "id": "a6b4d395",
   "metadata": {},
   "outputs": [
    {
     "ename": "NameError",
     "evalue": "name 'tagge' is not defined",
     "output_type": "error",
     "traceback": [
      "\u001b[0;31m---------------------------------------------------------------------------\u001b[0m",
      "\u001b[0;31mNameError\u001b[0m                                 Traceback (most recent call last)",
      "\u001b[0;32m/var/folders/81/ckf4k5wn0d16719pp2dp8rqw0000gn/T/ipykernel_16689/3753987964.py\u001b[0m in \u001b[0;36m<module>\u001b[0;34m\u001b[0m\n\u001b[0;32m----> 1\u001b[0;31m \u001b[0mtagge\u001b[0m\u001b[0;34m\u001b[0m\u001b[0;34m\u001b[0m\u001b[0m\n\u001b[0m",
      "\u001b[0;31mNameError\u001b[0m: name 'tagge' is not defined"
     ]
    }
   ],
   "source": [
    "tagge"
   ]
  },
  {
   "cell_type": "code",
   "execution_count": 680,
   "id": "77e65258",
   "metadata": {},
   "outputs": [
    {
     "data": {
      "text/plain": [
       "['https://irbank.net/E04236/results', 'https://irbank.net/E04235/results']"
      ]
     },
     "execution_count": 680,
     "metadata": {},
     "output_type": "execute_result"
    }
   ],
   "source": [
    "nw_url"
   ]
  },
  {
   "cell_type": "code",
   "execution_count": 671,
   "id": "2e91e6a4",
   "metadata": {},
   "outputs": [],
   "source": [
    "import os\n",
    "import pickle\n",
    "\n",
    "def save_pickle(data, filepath):\n",
    "    # 既存のpickleファイルがある場合\n",
    "    if os.path.exists(filepath):\n",
    "        # ファイルから既存のデータを読み込む\n",
    "        with open(filepath, 'rb') as f:\n",
    "            ex_data = pickle.load(f)\n",
    "        # 既存のデータに新しいデータを追加\n",
    "        ex_data.update(data)\n",
    "        # ファイルに追加されたデータを保存する\n",
    "        with open(filepath, 'wb') as f:\n",
    "            pickle.dump(ex_data, f)\n",
    "    # 初めての保存の場合\n",
    "    else:\n",
    "        with open(filepath, 'wb') as f:\n",
    "            pickle.dump(data, f)\n"
   ]
  },
  {
   "cell_type": "code",
   "execution_count": 539,
   "id": "b27a23ec",
   "metadata": {},
   "outputs": [],
   "source": [
    "def convert_yeild_figure(yeild_figure: str) -> int:\n",
    "    #兆しかない時\n",
    "    if '兆' in yeild_figure and '億' not in yeild_figure and '万' not in yeild_figure:\n",
    "        hennkan = yeild_figure.replace('兆', '*10**12')\n",
    "        return eval(hennkan)\n",
    "    #億しかない時\n",
    "    elif '億' in yeild_figure and '兆' not in yeild_figure and '万' not in yeild_figure:\n",
    "        hennkan = yeild_figure.replace('億', '*10**8')\n",
    "        return eval(hennkan)\n",
    "    #万しかない時\n",
    "    elif '万' in yeild_figure and '兆' not in yeild_figure and '万' not in yeild_figure:\n",
    "        hennkan = yeild_figure.replace('万', '*10**4')\n",
    "        return eval(hennkan)\n",
    "    elif '-' in yeild_figure and '兆' not in yeild_figure and '億' not in yeild_figure and '万' not in yeild_figure:\n",
    "        hennkan=yeild_figure.replace('-','0')\n",
    "        return eval(hennkan)\n",
    "    #兆と億の時\n",
    "    elif'兆'in yeild_figure and '億' in yeild_figure:\n",
    "        hennkan = yeild_figure.replace('兆', '*10**12+').replace('億','*10**8')\n",
    "        return eval(hennkan)\n",
    "    #億と万の時\n",
    "    elif'億'in yeild_figure and '万' in yeild_figure:\n",
    "        hennkan = yeild_figure.replace('億', '*10**8+').replace('万','*10**4')\n",
    "        return eval(hennkan)\n",
    "    \n",
    "    else:\n",
    "        hennkan = re.sub(r\"(兆)|(億)|(万)\", lambda x: \"*10**12+\" if x.group(1) else \"*10**8\" if x.group(2) else \"*10**4\", yeild_figure)\n",
    "        return eval(hennkan)\n",
    "    \n",
    "def check_yeild(eval_yeild_lists):\n",
    "    result = all(int(eval_yeild_lists[i]) < int(eval_yeild_lists[i+1]) for i in range(len(eval_yeild_lists)-1))\n",
    "    yeild_stock = []\n",
    "    if result:\n",
    "        yeild_stock.append('OK')\n",
    "    else:\n",
    "        for i in range(len(eval_yeild_lists)-1):\n",
    "            if int(eval_yeild_lists[i]) >= int(eval_yeild_lists[i+1]):\n",
    "                yeild_stock.append(f'NOT (at index {i+1})')\n",
    "    return yeild_stock\n"
   ]
  },
  {
   "cell_type": "code",
   "execution_count": 516,
   "id": "6d29f2ef",
   "metadata": {},
   "outputs": [
    {
     "name": "stdout",
     "output_type": "stream",
     "text": [
      "1000000000000000000000000000000000000000000000000000000000000000000000000000000000000000000000000000000000000000000000000000000000000000000000000000000000000000000000000000000000000000000000000000000000000000000000000000000000000000000000000000000000\n"
     ]
    }
   ],
   "source": []
  },
  {
   "cell_type": "code",
   "execution_count": 559,
   "id": "6ae9ce52",
   "metadata": {},
   "outputs": [
    {
     "name": "stdout",
     "output_type": "stream",
     "text": [
      "733\n"
     ]
    },
    {
     "ename": "IndexError",
     "evalue": "list index out of range",
     "output_type": "error",
     "traceback": [
      "\u001b[0;31m---------------------------------------------------------------------------\u001b[0m",
      "\u001b[0;31mIndexError\u001b[0m                                Traceback (most recent call last)",
      "\u001b[0;32m/var/folders/81/ckf4k5wn0d16719pp2dp8rqw0000gn/T/ipykernel_42891/2653328000.py\u001b[0m in \u001b[0;36m<module>\u001b[0;34m\u001b[0m\n\u001b[1;32m     45\u001b[0m \u001b[0myeild_analyze_dict\u001b[0m \u001b[0;34m=\u001b[0m \u001b[0;34m{\u001b[0m\u001b[0;34m}\u001b[0m\u001b[0;34m\u001b[0m\u001b[0;34m\u001b[0m\u001b[0m\n\u001b[1;32m     46\u001b[0m \u001b[0;32mfor\u001b[0m \u001b[0mi\u001b[0m \u001b[0;32min\u001b[0m \u001b[0mrange\u001b[0m\u001b[0;34m(\u001b[0m\u001b[0mlen\u001b[0m\u001b[0;34m(\u001b[0m\u001b[0mall_title\u001b[0m\u001b[0;34m)\u001b[0m\u001b[0;34m)\u001b[0m\u001b[0;34m:\u001b[0m\u001b[0;34m\u001b[0m\u001b[0;34m\u001b[0m\u001b[0m\n\u001b[0;32m---> 47\u001b[0;31m     \u001b[0myeild_analyze_dict\u001b[0m\u001b[0;34m[\u001b[0m\u001b[0mall_title1\u001b[0m\u001b[0;34m[\u001b[0m\u001b[0mi\u001b[0m\u001b[0;34m]\u001b[0m\u001b[0;34m]\u001b[0m \u001b[0;34m=\u001b[0m \u001b[0;34m[\u001b[0m\u001b[0myeild_stock\u001b[0m\u001b[0;34m[\u001b[0m\u001b[0mi\u001b[0m\u001b[0;34m]\u001b[0m\u001b[0;34m]\u001b[0m\u001b[0;34m\u001b[0m\u001b[0;34m\u001b[0m\u001b[0m\n\u001b[0m\u001b[1;32m     48\u001b[0m \u001b[0mgoood\u001b[0m \u001b[0;34m=\u001b[0m \u001b[0;34m[\u001b[0m\u001b[0;34m[\u001b[0m\u001b[0mkey\u001b[0m\u001b[0;34m,\u001b[0m \u001b[0mlen\u001b[0m\u001b[0;34m(\u001b[0m\u001b[0mvi\u001b[0m\u001b[0;34m)\u001b[0m\u001b[0;34m]\u001b[0m \u001b[0;32mfor\u001b[0m \u001b[0mkey\u001b[0m\u001b[0;34m,\u001b[0m \u001b[0mvalue\u001b[0m \u001b[0;32min\u001b[0m \u001b[0myeild_analyze_dict\u001b[0m\u001b[0;34m.\u001b[0m\u001b[0mitems\u001b[0m\u001b[0;34m(\u001b[0m\u001b[0;34m)\u001b[0m \u001b[0;32mfor\u001b[0m \u001b[0mvi\u001b[0m \u001b[0;32min\u001b[0m \u001b[0mvalue\u001b[0m\u001b[0;34m]\u001b[0m\u001b[0;34m\u001b[0m\u001b[0;34m\u001b[0m\u001b[0m\n\u001b[1;32m     49\u001b[0m \u001b[0mgoood_dict\u001b[0m \u001b[0;34m=\u001b[0m \u001b[0;34m{\u001b[0m\u001b[0;34m}\u001b[0m\u001b[0;34m\u001b[0m\u001b[0;34m\u001b[0m\u001b[0m\n",
      "\u001b[0;31mIndexError\u001b[0m: list index out of range"
     ]
    }
   ],
   "source": [
    "from bs4 import BeautifulSoup\n",
    "import requests \n",
    "import re\n",
    "from time import sleep\n",
    "import pandas as pd\n",
    "import time\n",
    "from tqdm import tqdm\n",
    "import pickle\n",
    "import itertools\n",
    "import random\n",
    "with open('csv/securities_codes.pickle', 'rb') as f:\n",
    "            existing_data = pickle.load(f)\n",
    "#リストを一緒くたに一つに\n",
    "flattened_codes = list(itertools.chain(*existing_data.values()))\n",
    "print(len(flattened_codes))\n",
    "\n",
    "#flattened_codesの値を渡すとその企業コードのIRBANKのトップページが開き、その中の決算情報ページのリンクURLの一部を取得\n",
    "with open('csv/yeild_dict.pickle', 'rb') as f:\n",
    "            ye_data = pickle.load(f)\n",
    "flatyeild_urls = list(itertools.chain(ye_data.values()))\n",
    "\n",
    "#-------------------------------------------------------------------------一先ず終了2023/01/05----------------------------------------------------------------------#\n",
    "#上記を満たした企業コードの決算ページxxxxxx/resultsにアクセスし企業名と条件の財務の値を取得\n",
    "focus_urls1=[]\n",
    "text2=[]\n",
    "all_title1=[]\n",
    "for flatyeild_url in flatyeild_urls[:3]:\n",
    "    url='https://irbank.net{}'.format(flatyeild_url)\n",
    "    sleep(random.uniform(3, 8)) \n",
    "    focus_urls1.append(url)\n",
    "for focus_url1 in focus_urls1:\n",
    "    r1=requests.get(focus_url1)\n",
    "    soup1 = BeautifulSoup(r1.text, 'html.parser')\n",
    "    title1=soup1.find('h1').text\n",
    "    all_title1.append(title1)\n",
    "    suii=soup1.find(id='g_3')\n",
    "    numv=suii.find_all('span', class_='text')\n",
    "    text2.append(numv)\n",
    "yeild_lists=[[text2_list.text for text2_list in text2_lists]for text2_lists in text2]\n",
    "    #zfill完了\n",
    "eval_yeild_lists = [[convert_yeild_figure(yeild) for yeild in yeild_list] for yeild_list in yeild_lists]\n",
    "yeild_stock = [check_yeild(yeild) for yeild in eval_yeild_lists]\n",
    "\n",
    "\n",
    "yeild_analyze_dict = {}\n",
    "for i in range(len(all_title)):\n",
    "    yeild_analyze_dict[all_title1[i]] = [yeild_stock[i]]\n",
    "goood = [[key, len(vi)] for key, value in yeild_analyze_dict.items() for vi in value]\n",
    "goood_dict = {}\n",
    "for elst in goood:\n",
    "    key, val = elst\n",
    "    if key not in goood_dict:\n",
    "        goood_dict[key] = []\n",
    "    goood_dict[key].append(val)\n",
    "for key, value in goood_dict.items():\n",
    "    goood_dict[key] = list(map(lambda x: '○' if x <= 5 else x, value))"
   ]
  },
  {
   "cell_type": "code",
   "execution_count": 555,
   "id": "ee49fe8e",
   "metadata": {},
   "outputs": [
    {
     "data": {
      "text/plain": [
       "{'9104 商船三井': [['NOT (at index 2)',\n",
       "   'NOT (at index 3)',\n",
       "   'NOT (at index 4)',\n",
       "   'NOT (at index 5)',\n",
       "   'NOT (at index 6)',\n",
       "   'NOT (at index 9)',\n",
       "   'NOT (at index 10)',\n",
       "   'NOT (at index 13)']],\n",
       " '9101 日本郵船': [['NOT (at index 2)',\n",
       "   'NOT (at index 4)',\n",
       "   'NOT (at index 5)',\n",
       "   'NOT (at index 6)',\n",
       "   'NOT (at index 9)',\n",
       "   'NOT (at index 10)',\n",
       "   'NOT (at index 12)']],\n",
       " '9110 NSユナイテッド海運': [['NOT (at index 2)',\n",
       "   'NOT (at index 5)',\n",
       "   'NOT (at index 8)',\n",
       "   'NOT (at index 9)',\n",
       "   'NOT (at index 10)',\n",
       "   'NOT (at index 12)',\n",
       "   'NOT (at index 13)']]}"
      ]
     },
     "execution_count": 555,
     "metadata": {},
     "output_type": "execute_result"
    }
   ],
   "source": [
    "yeild_analyze_dict\n",
    "\n"
   ]
  },
  {
   "cell_type": "code",
   "execution_count": 87,
   "id": "2e83b6fe",
   "metadata": {},
   "outputs": [
    {
     "data": {
      "text/plain": [
       "['https://irbank.net/E04236/dividend',\n",
       " 'https://irbank.net/E04235/dividend',\n",
       " 'https://irbank.net/E04239/dividend']"
      ]
     },
     "execution_count": 87,
     "metadata": {},
     "output_type": "execute_result"
    }
   ],
   "source": [
    "focus_url1"
   ]
  },
  {
   "cell_type": "code",
   "execution_count": 49,
   "id": "dbb937e2",
   "metadata": {},
   "outputs": [],
   "source": [
    "#ここから配当推移ページ\n",
    "@tictoc\n",
    "@cache\n",
    "def get_yeild_curve(code):\n",
    "\n",
    "    url = f'https://irbank.net/{code}/ir'\n",
    "    r = requests.get(url)\n",
    "    sleep(random.uniform(3, 8)) \n",
    "    soup = BeautifulSoup(r.text,'html.parser')\n",
    "    element = soup.select('div.csb.cc2 > ul:nth-of-type(2) > li:nth-of-type(7)')\n",
    "    for ec in element:\n",
    "        taget = ec.find('a')\n",
    "        link = taget.get('href')\n",
    "    return link"
   ]
  },
  {
   "cell_type": "code",
   "execution_count": 59,
   "id": "fd1ba2da",
   "metadata": {},
   "outputs": [
    {
     "name": "stdout",
     "output_type": "stream",
     "text": [
      "time: 0.000003099 [sec]\n",
      "time: 0.000004292 [sec]\n",
      "time: 0.000003815 [sec]\n",
      "time: 0.000003815 [sec]\n",
      "time: 0.000005245 [sec]\n",
      "time: 0.000006199 [sec]\n",
      "time: 0.000003099 [sec]\n",
      "time: 0.000005007 [sec]\n",
      "time: 0.000041962 [sec]\n",
      "time: 0.000007153 [sec]\n",
      "time: 0.000005960 [sec]\n",
      "time: 0.000005007 [sec]\n",
      "time: 0.000003815 [sec]\n",
      "time: 0.000006914 [sec]\n",
      "time: 0.000005007 [sec]\n",
      "time: 3.956977129 [sec]\n",
      "time: 5.480154037 [sec]\n",
      "time: 4.167751074 [sec]\n",
      "time: 5.064061880 [sec]\n",
      "time: 5.905288935 [sec]\n",
      "time: 4.087606907 [sec]\n",
      "time: 7.761102200 [sec]\n",
      "time: 6.688001156 [sec]\n",
      "time: 5.672971010 [sec]\n",
      "time: 6.611789942 [sec]\n",
      "time: 3.800131083 [sec]\n",
      "time: 7.404054880 [sec]\n",
      "time: 7.714793921 [sec]\n",
      "time: 4.473711014 [sec]\n",
      "time: 3.784794807 [sec]\n"
     ]
    }
   ],
   "source": [
    "#2\n",
    "#ここから配当推移ページ\n",
    "import pickle\n",
    "import os\n",
    "yeild_dict = {}\n",
    "# for page in range(0, 100, 10):\n",
    "#     # your code here\n",
    "#     time.sleep(60) \n",
    "for code in flattened_codes[110:140]:\n",
    "    yeuld_url = get_yeild_curve(code)\n",
    "    yeild_dict[code] = yeuld_url\n",
    "\n",
    "# 既存のpickleファイルがある場合\n",
    "    if os.path.exists('csv/yeild_dict.pickle'):\n",
    "        # ファイルから既存のデータを読み込む\n",
    "        with open('csv/yeild_dict.pickle', 'rb') as f:\n",
    "            ye_data = pickle.load(f)\n",
    "        # 既存のデータに新しいデータを追加\n",
    "        ye_data.update(yeild_dict)\n",
    "        # ファイルに追加されたデータを保存する\n",
    "        with open('csv/yeild_dict.pickle', 'wb') as f:\n",
    "            pickle.dump(ye_data, f)\n",
    "    # 初めての保存の場合\n",
    "    else:\n",
    "        with open('csv/yeild_dict.pickle', 'wb') as f:\n",
    "            pickle.dump(yeild_dict, f)\n",
    "            \n",
    "            "
   ]
  },
  {
   "cell_type": "code",
   "execution_count": null,
   "id": "d4f23634",
   "metadata": {},
   "outputs": [],
   "source": []
  },
  {
   "cell_type": "code",
   "execution_count": null,
   "id": "62099faa",
   "metadata": {},
   "outputs": [],
   "source": []
  },
  {
   "cell_type": "code",
   "execution_count": null,
   "id": "d2cf81d9",
   "metadata": {},
   "outputs": [],
   "source": []
  },
  {
   "cell_type": "code",
   "execution_count": null,
   "id": "a073b460",
   "metadata": {},
   "outputs": [],
   "source": []
  }
 ],
 "metadata": {
  "kernelspec": {
   "display_name": "Python 3 (ipykernel)",
   "language": "python",
   "name": "python3"
  },
  "language_info": {
   "codemirror_mode": {
    "name": "ipython",
    "version": 3
   },
   "file_extension": ".py",
   "mimetype": "text/x-python",
   "name": "python",
   "nbconvert_exporter": "python",
   "pygments_lexer": "ipython3",
   "version": "3.9.13"
  }
 },
 "nbformat": 4,
 "nbformat_minor": 5
}
