{
 "cells": [
  {
   "cell_type": "code",
   "execution_count": 7,
   "id": "a41ab487",
   "metadata": {
    "scrolled": true
   },
   "outputs": [
    {
     "name": "stdout",
     "output_type": "stream",
     "text": [
      "733\n"
     ]
    },
    {
     "ename": "KeyboardInterrupt",
     "evalue": "",
     "output_type": "error",
     "traceback": [
      "\u001b[0;31m---------------------------------------------------------------------------\u001b[0m",
      "\u001b[0;31mKeyboardInterrupt\u001b[0m                         Traceback (most recent call last)",
      "\u001b[0;32m/var/folders/81/ckf4k5wn0d16719pp2dp8rqw0000gn/T/ipykernel_42501/4097888398.py\u001b[0m in \u001b[0;36m<module>\u001b[0;34m\u001b[0m\n\u001b[1;32m     29\u001b[0m \u001b[0;32mfor\u001b[0m \u001b[0mflatclosing_url\u001b[0m \u001b[0;32min\u001b[0m \u001b[0mflatclosing_urls\u001b[0m\u001b[0;34m[\u001b[0m\u001b[0;34m:\u001b[0m\u001b[0;36m2\u001b[0m\u001b[0;34m]\u001b[0m\u001b[0;34m:\u001b[0m\u001b[0;34m\u001b[0m\u001b[0;34m\u001b[0m\u001b[0m\n\u001b[1;32m     30\u001b[0m     \u001b[0murl\u001b[0m\u001b[0;34m=\u001b[0m\u001b[0;34m'https://irbank.net{}'\u001b[0m\u001b[0;34m.\u001b[0m\u001b[0mformat\u001b[0m\u001b[0;34m(\u001b[0m\u001b[0mflatclosing_url\u001b[0m\u001b[0;34m)\u001b[0m\u001b[0;34m\u001b[0m\u001b[0;34m\u001b[0m\u001b[0m\n\u001b[0;32m---> 31\u001b[0;31m     \u001b[0msleep\u001b[0m\u001b[0;34m(\u001b[0m\u001b[0mrandom\u001b[0m\u001b[0;34m.\u001b[0m\u001b[0muniform\u001b[0m\u001b[0;34m(\u001b[0m\u001b[0;36m3\u001b[0m\u001b[0;34m,\u001b[0m \u001b[0;36m8\u001b[0m\u001b[0;34m)\u001b[0m\u001b[0;34m)\u001b[0m\u001b[0;34m\u001b[0m\u001b[0;34m\u001b[0m\u001b[0m\n\u001b[0m\u001b[1;32m     32\u001b[0m     \u001b[0mfocus_url\u001b[0m\u001b[0;34m.\u001b[0m\u001b[0mappend\u001b[0m\u001b[0;34m(\u001b[0m\u001b[0murl\u001b[0m\u001b[0;34m)\u001b[0m\u001b[0;34m\u001b[0m\u001b[0;34m\u001b[0m\u001b[0m\n\u001b[1;32m     33\u001b[0m     \u001b[0mr\u001b[0m\u001b[0;34m=\u001b[0m\u001b[0mrequests\u001b[0m\u001b[0;34m.\u001b[0m\u001b[0mget\u001b[0m\u001b[0;34m(\u001b[0m\u001b[0murl\u001b[0m\u001b[0;34m)\u001b[0m\u001b[0;34m\u001b[0m\u001b[0;34m\u001b[0m\u001b[0m\n",
      "\u001b[0;31mKeyboardInterrupt\u001b[0m: "
     ]
    }
   ],
   "source": [
    "from bs4 import BeautifulSoup\n",
    "import requests \n",
    "import re\n",
    "from time import sleep\n",
    "import pandas as pd\n",
    "import time\n",
    "from tqdm import tqdm\n",
    "import pickle\n",
    "import itertools\n",
    "import random\n",
    "#1番目\n",
    "with open('csv/securities_codes.pickle', 'rb') as f:\n",
    "            existing_data = pickle.load(f)\n",
    "#リストを一緒くたに一つに\n",
    "flattened_codes = list(itertools.chain(*existing_data.values()))\n",
    "print(len(flattened_codes))\n",
    "\n",
    "\n",
    "\n",
    "#2番目\n",
    "#flattened_codesの値を渡すとその企業コードのIRBANKのトップページが開き、その中の決算情報ページのリンクURLの一部を取得\n",
    "with open('csv/closing_dict.pickle', 'rb') as f:\n",
    "            ex_data = pickle.load(f)\n",
    "flatclosing_urls = list(itertools.chain(ex_data.values()))\n",
    "\n",
    "#-------------------------------------------------------------------------一先ず終了2023/01/05----------------------------------------------------------------------#\n",
    "#上記を満たした企業コードの決算ページxxxxxx/resultsにアクセスし企業名と条件の財務の値を取得\n",
    "focus_url=[]\n",
    "text1=[]\n",
    "for flatclosing_url in flatclosing_urls[:2]:\n",
    "    url='https://irbank.net{}'.format(flatclosing_url)\n",
    "    sleep(random.uniform(3, 8)) \n",
    "    focus_url.append(url)\n",
    "    r=requests.get(url)\n",
    "    soup = BeautifulSoup(r.text, 'html.parser')\n",
    "    title=soup.find('h1').text\n",
    "    decopo=soup.find_all('a')\n",
    "    for a in decopo:\n",
    "        a.decompose()\n",
    "    tagget= soup.find_all('h2')\n",
    "    text1.append(tagget)\n",
    "text1_stringso = [[h2 for h2 in text] for text in text1]\n",
    "        \n",
    "target_h2_stringso = [[t for t in ext if \"売上高\" in t or\"EPS\" in t or \"営業利益率\" in t or \"自己資本比率\" in t or\n",
    "                      \"営業活動によるCF\" in t or \"現金等\" in t or \"一株配当\" in t or \"配当性向\" in t] for ext in text1_stringso ]\n",
    "test_lists = [[i.find_next_sibling().find_all('span', class_='text') for i in uu]for uu in target_h2_stringso   if len(uu)==8]\n",
    "\n",
    "#-------------------------------------------------------------------------ひとまず終了き------------------------------------------------------------------------#\n",
    "d_list=[]\n",
    "for test_list in test_lists:\n",
    "    if len(test_list)==8:\n",
    "            sales_list=[[sale.text for sale in test_list[0]]for test_list in test_lists]\n",
    "\n",
    "\n",
    "            #zfill完了\n",
    "            eval_sale_list = []\n",
    "            for sale in sales_list:\n",
    "                eval_sale_list.append(convert_sales_figure(sale))\n",
    "            #採点完了\n",
    "            uriagedaka_stock = check_uriagedaka(eval_sale_list)\n",
    "\n",
    "\n",
    "#-------------------------------------------------------------------------2:ここからEPS2023/01/05--------------------------------------------------------------------------#\n",
    "    eps_list=[ep.text for ep in test_lists[1]]\n",
    "    #zfill完了\n",
    "    zeps_list = []\n",
    "    for ep in eps_list:\n",
    "        zeps_list.append(convert_eps(ep))\n",
    "    eps_stock = check_eps(zeps_list)\n",
    "\n",
    "#-------------------------------------------------------------------------3:ここから営業利益率2023/01/05- -------------------------------------------------------------------------#     \n",
    "\n",
    "    op_list=[op.text for op in test_lists[2]]\n",
    "    zop_list=[]\n",
    "    for s in op_list:\n",
    "        hennkan = s.split('%')[0]  # '15.65' のような文字列を取得\n",
    "        zop_list.append(eval(hennkan))\n",
    "\n",
    "    eiri_stock = check_eiri(zop_list)\n",
    "\n",
    "\n",
    "#-------------------------------------------------------------------------4:ここから自己資本利益率2023/01/05-------------------------------------------------------------------------#\n",
    "\n",
    "    operation_list=[operation.text for operation in test_lists[3]]\n",
    "    zoption_list=[]\n",
    "    for s in operation_list:\n",
    "        result = floatparcent_hennkan(s)  # hennkan 関数を呼び出す\n",
    "        zoption_list.append(result)\n",
    "\n",
    "        zikosihon_stock = check_zikosihon(zoption_list)\n",
    "\n",
    "\n",
    "               #zoption_list 変数に格納された要素を、個別に確認する\n",
    "    #     for i, value in enumerate(zoption_list):\n",
    "    #         # value 変数が 40.00 以上であるかどうかを判定する\n",
    "    #         if float(40.00) <= float(value):\n",
    "    #             print(f'index {i}: OK')\n",
    "    #         else:\n",
    "    #             print(f'index {i}: NOT')\n",
    "#-------------------------------------------------------------------------5:ここから現金2023/01/05-------------------------------------------------------------------------#\n",
    "    cash_list=[cash.text for cash in test_lists[5]]\n",
    "      #zfill完了\n",
    "    eval_cash_list = []\n",
    "    for cash in cash_list:\n",
    "        eval_cash_list.append(convert_sales_figure(cash))\n",
    "        genkin_stock = check_genkin(eval_cash_list)\n",
    "       #-------------------------------------------------------------------------6:ここからCF -------------------------------------------------------------------------#\n",
    "\n",
    "    cf_flow_list=[cfflow.text for cfflow in test_lists[4]]\n",
    "    #zfill完了\n",
    "    eval_cf_flow_list = []\n",
    "    for flow in cf_flow_list:\n",
    "        eval_cf_flow_list.append(convert_flow_figure(flow))\n",
    "    # モジュール内の関数を呼び出す\n",
    "        cflow_stock = check_cflow_order(eval_cf_flow_list)\n",
    "\n",
    "    #-------------------------------------------------------------------------7:ここから一株当たり-------------------------------------------------------------------------#\n",
    "        #zfill完了\n",
    "\n",
    "    stock_list=[stock.text for stock in test_lists[6]]\n",
    "\n",
    "    zstock_list=[]\n",
    "    for s in stock_list:\n",
    "        result = convert_stock_figure(s)  # hennkan 関数を呼び出す\n",
    "        zstock_list.append(result)   \n",
    "        \n",
    "    hitokabu_stock=check_zstock_order(zstock_list)\n",
    "\n",
    "        #-------------------------------------------------------------------------8:配当性向-------------------------------------------------------------------------#\n",
    "    return_list=[return_money.text for return_money in test_lists[7]]\n",
    "    #zfill完了\n",
    "    zreturn_list = []\n",
    "    for return_money in return_list:\n",
    "        zreturn_list.append(convert_return(return_money))\n",
    "\n",
    "    seikou_stock=check_zreturn_range(zreturn_list)\n",
    "        #-------------------------------------------------------------------------ひとまず終了------------------------------------------------------------------------#\n",
    "    analyze=[]\n",
    "    analyze.append(title)\n",
    "    analyze.append(uriagedaka_stock)\n",
    "    analyze.append(eps_stock)\n",
    "    analyze.append(eiri_stock)\n",
    "    analyze.append(zikosihon_stock)\n",
    "    analyze.append(genkin_stock)\n",
    "    analyze.append(cflow_stock)\n",
    "    analyze.append(hitokabu_stock)\n",
    "    analyze.append(seikou_stock)\n",
    "    \n",
    "    assess=[]\n",
    "    d_list_dic={\n",
    "        '会社名':title,\n",
    "        '売上高':uriagedaka_stock,\n",
    "        'EPS':eps_stock,\n",
    "        '営業利益':eiri_stock,\n",
    "        '自己資本比率':zikosihon_stock,\n",
    "        '現金':genkin_stock,\n",
    "        '営業キャッシュフロー':cflow_stock,\n",
    "        '一株配当':hitokabu_stock,\n",
    "        '配当性向':seikou_stock,\n",
    "    }\n",
    "    assess.append(d_list_dic)\n",
    "    dff=pd.DataFrame(assess)\n",
    "    dff.to_csv('irbank/csv/stock_assess.csv',index=True,encoding='utf-8-sig',mode='a')\n",
    "    \n",
    "\n",
    "\n",
    "    fine=[]\n",
    "    for analy in analyze:\n",
    "        if 'OK'in analy or len(analy)>=0:#analyがOKかNOTが２以下なら◯\n",
    "            fine.append('○')\n",
    "    #     if len(analy)==1:\n",
    "    #         fine.append('○')\n",
    "        else:\n",
    "            fine.append('X')#NOT２以上なら×\n",
    "    if fine.count('○') >= 0:#もし◯が１より上ならd＿list\n",
    "        d_list.append(title)\n",
    "        d_list.append(fine)\n",
    "        print(f\"{len(d_list)}個入りました\")\n",
    "        df=pd.DataFrame(d_list)\n",
    "        #to_csv()を使って、データフレームをCSV出力する\n",
    "        df.to_csv('irbank/csv/stock_target.csv',index=True,encoding='utf-8-sig',mode='a')\n",
    "else:\n",
    "    pass\n"
   ]
  },
  {
   "cell_type": "code",
   "execution_count": null,
   "id": "9494d32c",
   "metadata": {},
   "outputs": [],
   "source": [
    "#"
   ]
  },
  {
   "cell_type": "code",
   "execution_count": 1162,
   "id": "01f44cfd",
   "metadata": {},
   "outputs": [
    {
     "ename": "KeyboardInterrupt",
     "evalue": "",
     "output_type": "error",
     "traceback": [
      "\u001b[0;31m---------------------------------------------------------------------------\u001b[0m",
      "\u001b[0;31mKeyboardInterrupt\u001b[0m                         Traceback (most recent call last)",
      "\u001b[0;32m/var/folders/81/ckf4k5wn0d16719pp2dp8rqw0000gn/T/ipykernel_16689/1172839428.py\u001b[0m in \u001b[0;36m<module>\u001b[0;34m\u001b[0m\n\u001b[1;32m      3\u001b[0m \u001b[0;32mfor\u001b[0m \u001b[0mflatclosing_url\u001b[0m \u001b[0;32min\u001b[0m \u001b[0mflatclosing_urls\u001b[0m\u001b[0;34m[\u001b[0m\u001b[0;36m0\u001b[0m\u001b[0;34m:\u001b[0m\u001b[0;36m3\u001b[0m\u001b[0;34m]\u001b[0m\u001b[0;34m:\u001b[0m\u001b[0;34m\u001b[0m\u001b[0;34m\u001b[0m\u001b[0m\n\u001b[1;32m      4\u001b[0m     \u001b[0murl\u001b[0m\u001b[0;34m=\u001b[0m\u001b[0;34m'https://irbank.net{}'\u001b[0m\u001b[0;34m.\u001b[0m\u001b[0mformat\u001b[0m\u001b[0;34m(\u001b[0m\u001b[0mflatclosing_url\u001b[0m\u001b[0;34m)\u001b[0m\u001b[0;34m\u001b[0m\u001b[0;34m\u001b[0m\u001b[0m\n\u001b[0;32m----> 5\u001b[0;31m     \u001b[0msleep\u001b[0m\u001b[0;34m(\u001b[0m\u001b[0mrandom\u001b[0m\u001b[0;34m.\u001b[0m\u001b[0muniform\u001b[0m\u001b[0;34m(\u001b[0m\u001b[0;36m3\u001b[0m\u001b[0;34m,\u001b[0m \u001b[0;36m8\u001b[0m\u001b[0;34m)\u001b[0m\u001b[0;34m)\u001b[0m\u001b[0;34m\u001b[0m\u001b[0;34m\u001b[0m\u001b[0m\n\u001b[0m\u001b[1;32m      6\u001b[0m     \u001b[0mfocus_url\u001b[0m\u001b[0;34m.\u001b[0m\u001b[0mappend\u001b[0m\u001b[0;34m(\u001b[0m\u001b[0murl\u001b[0m\u001b[0;34m)\u001b[0m\u001b[0;34m\u001b[0m\u001b[0;34m\u001b[0m\u001b[0m\n\u001b[1;32m      7\u001b[0m     \u001b[0mr\u001b[0m\u001b[0;34m=\u001b[0m\u001b[0mrequests\u001b[0m\u001b[0;34m.\u001b[0m\u001b[0mget\u001b[0m\u001b[0;34m(\u001b[0m\u001b[0murl\u001b[0m\u001b[0;34m)\u001b[0m\u001b[0;34m\u001b[0m\u001b[0;34m\u001b[0m\u001b[0m\n",
      "\u001b[0;31mKeyboardInterrupt\u001b[0m: "
     ]
    }
   ],
   "source": [
    "focus_url=[]\n",
    "text=[]\n",
    "for flatclosing_url in flatclosing_urls[0:3]:\n",
    "    url='https://irbank.net{}'.format(flatclosing_url)\n",
    "    sleep(random.uniform(3, 8)) \n",
    "    focus_url.append(url)\n",
    "    r=requests.get(url)\n",
    "    soup = BeautifulSoup(r.text, 'html.parser')\n",
    "    title=soup.find('h1').text\n",
    "    tagget= soup.find_all('h2')\n",
    "    text.append(tagget)\n"
   ]
  },
  {
   "cell_type": "code",
   "execution_count": 7,
   "id": "002928cd",
   "metadata": {},
   "outputs": [
    {
     "ename": "NameError",
     "evalue": "name 'itertools' is not defined",
     "output_type": "error",
     "traceback": [
      "\u001b[0;31m---------------------------------------------------------------------------\u001b[0m",
      "\u001b[0;31mNameError\u001b[0m                                 Traceback (most recent call last)",
      "\u001b[0;32m/var/folders/81/ckf4k5wn0d16719pp2dp8rqw0000gn/T/ipykernel_42891/599292824.py\u001b[0m in \u001b[0;36m<module>\u001b[0;34m\u001b[0m\n\u001b[1;32m      2\u001b[0m             \u001b[0mexisting_data\u001b[0m \u001b[0;34m=\u001b[0m \u001b[0mpickle\u001b[0m\u001b[0;34m.\u001b[0m\u001b[0mload\u001b[0m\u001b[0;34m(\u001b[0m\u001b[0mf\u001b[0m\u001b[0;34m)\u001b[0m\u001b[0;34m\u001b[0m\u001b[0;34m\u001b[0m\u001b[0m\n\u001b[1;32m      3\u001b[0m \u001b[0;31m#リストを一緒くたに一つに\u001b[0m\u001b[0;34m\u001b[0m\u001b[0;34m\u001b[0m\u001b[0m\n\u001b[0;32m----> 4\u001b[0;31m \u001b[0mflattened_codes\u001b[0m \u001b[0;34m=\u001b[0m \u001b[0mlist\u001b[0m\u001b[0;34m(\u001b[0m\u001b[0mitertools\u001b[0m\u001b[0;34m.\u001b[0m\u001b[0mchain\u001b[0m\u001b[0;34m(\u001b[0m\u001b[0;34m*\u001b[0m\u001b[0mexisting_data\u001b[0m\u001b[0;34m.\u001b[0m\u001b[0mvalues\u001b[0m\u001b[0;34m(\u001b[0m\u001b[0;34m)\u001b[0m\u001b[0;34m)\u001b[0m\u001b[0;34m)\u001b[0m\u001b[0;34m\u001b[0m\u001b[0;34m\u001b[0m\u001b[0m\n\u001b[0m\u001b[1;32m      5\u001b[0m \u001b[0mprint\u001b[0m\u001b[0;34m(\u001b[0m\u001b[0mlen\u001b[0m\u001b[0;34m(\u001b[0m\u001b[0mflattened_codes\u001b[0m\u001b[0;34m)\u001b[0m\u001b[0;34m)\u001b[0m\u001b[0;34m\u001b[0m\u001b[0;34m\u001b[0m\u001b[0m\n\u001b[1;32m      6\u001b[0m \u001b[0;31m#flattened_codesの値を渡すとその企業コードのIRBANKのトップページが開き、その中の決算情報ページのリンクURLの一部を取得\u001b[0m\u001b[0;34m\u001b[0m\u001b[0;34m\u001b[0m\u001b[0m\n",
      "\u001b[0;31mNameError\u001b[0m: name 'itertools' is not defined"
     ]
    }
   ],
   "source": [
    "with open('csv/securities_codes.pickle', 'rb') as f:\n",
    "            existing_data = pickle.load(f)\n",
    "#リストを一緒くたに一つに\n",
    "flattened_codes = list(itertools.chain(*existing_data.values()))\n",
    "print(len(flattened_codes))\n",
    "#flattened_codesの値を渡すとその企業コードのIRBANKのトップページが開き、その中の決算情報ページのリンクURLの一部を取得\n",
    "with open('csv/closing_dict.pickle', 'rb') as f:\n",
    "            ex_data = pickle.load(f)\n",
    "flatclosing_urls = list(itertools.chain(ex_data.values()))\n",
    "focus_url=[]\n",
    "text1=[]\n",
    "for flatclosing_url in flatclosing_urls[:2]:\n",
    "    url='https://irbank.net{}'.format(flatclosing_url)\n",
    "    sleep(random.uniform(3, 8)) \n",
    "    focus_url.append(url)\n",
    "    r=requests.get(url)\n",
    "    soup = BeautifulSoup(r.text, 'html.parser')\n",
    "    title=soup.find('h1').text\n",
    "    decopo=soup.find_all('a')\n",
    "    for a in decopo:\n",
    "        a.decompose()\n",
    "    tagget= soup.find_all('h2')\n",
    "    text1.append(tagget)\n",
    "text1_stringso = [[h2 for h2 in text] for text in text1]\n",
    "        \n",
    "target_h2_stringso = [[t for t in ext if \"売上高\" in t or\"EPS\" in t or \"営業利益率\" in t or \"自己資本比率\" in t or\n",
    "                      \"営業活動によるCF\" in t or \"現金等\" in t or \"一株配当\" in t or \"配当性向\" in t] for ext in text1_stringso ]\n",
    "test_lists = [[i.find_next_sibling().find_all('span', class_='text') for i in uu]for uu in target_h2_stringso   if len(uu)==8]\n",
    "\n",
    "\n",
    "\n",
    "# test_lists=[]\n",
    "# for uu in target_h2_stringso:\n",
    "#     if len(uu)==8:\n",
    "#         for i in uu:\n",
    "#             bro=i.find_next_sibling()\n",
    "#             ss = bro.find_all('span', class_='text')\n",
    "#             test_lists.append(ss)\n",
    "        \n",
    "        \n",
    "        \n",
    "#     for tag in soup.find_all('h2'):\n",
    "#         text1.append(tag.text)\n",
    "# ii = []\n",
    "# for i in range(len(text1)):\n",
    "#     ii.append([html.fromstring(t) for t in text1[i]])\n",
    "# ii=[]\n",
    "# for tem in text1:\n",
    "#     for kkc in tem:\n",
    "#         ii.append(kkc)\n",
    "\n"
   ]
  },
  {
   "cell_type": "code",
   "execution_count": null,
   "id": "693732b4",
   "metadata": {},
   "outputs": [],
   "source": [
    "test_lists["
   ]
  },
  {
   "cell_type": "code",
   "execution_count": null,
   "id": "fcfb22d4",
   "metadata": {},
   "outputs": [],
   "source": [
    "d_list=[]\n",
    "for test_list in test_lists:\n",
    "    if len(test_list)==8:\n",
    "            sales_list=[[sale.text for sale in test_list[0]]for test_list in test_lists]\n",
    "\n"
   ]
  },
  {
   "cell_type": "code",
   "execution_count": 1272,
   "id": "93c3d12a",
   "metadata": {},
   "outputs": [],
   "source": [
    "text1_stringso = [[h2.text for h2 in text] for text in text1]\n"
   ]
  },
  {
   "cell_type": "code",
   "execution_count": null,
   "id": "92c8f0f5",
   "metadata": {},
   "outputs": [],
   "source": [
    "sales_list"
   ]
  },
  {
   "cell_type": "code",
   "execution_count": 1205,
   "id": "8aa39825",
   "metadata": {},
   "outputs": [],
   "source": [
    "focus_url=[]\n",
    "text1=[]\n",
    "for flatclosing_url in flatclosing_urls[:2]:\n",
    "    url='https://irbank.net{}'.format(flatclosing_url)\n",
    "    sleep(random.uniform(3, 8)) \n",
    "    focus_url.append(url)\n",
    "    r=requests.get(url)\n",
    "    soup = BeautifulSoup(r.text, 'html.parser')\n",
    "    title=soup.find('h1').text\n",
    "    decopo=soup.find_all('a')\n",
    "    for a in decopo:\n",
    "        a.decompose()\n",
    "    for tag in soup.find_all('h2'):\n",
    "        text1.append(tag.text).    flatclosing_urlsの１と2のそれぞれをtext1[0],text1[1]に入れたtext1にしたいのですが\n",
    "​\n",
    "for tem in ii:\n",
    "    print(type(tem))\n",
    "# target_h2 = []\n",
    "# for t in ii:\n",
    "#     if \"売上高\" in t or\"EPS\" in t or \"営業利益率\" in t or \"自己資本比率\" in t or \"営業活動によるCF\" in t or \"現金等\" in t or \"一株配当\" in t or \"配当性向\" in t:\n",
    "#         target_h2.append(t)"
   ]
  },
  {
   "cell_type": "code",
   "execution_count": null,
   "id": "3e485898",
   "metadata": {},
   "outputs": [],
   "source": []
  },
  {
   "cell_type": "code",
   "execution_count": 1206,
   "id": "4992a44d",
   "metadata": {},
   "outputs": [
    {
     "name": "stdout",
     "output_type": "stream",
     "text": [
      "<class 'bs4.element.ResultSet'>\n"
     ]
    }
   ],
   "source": [
    "print(type(tem))"
   ]
  },
  {
   "cell_type": "code",
   "execution_count": 1207,
   "id": "8c9ec7e4",
   "metadata": {},
   "outputs": [
    {
     "ename": "IndexError",
     "evalue": "list index out of range",
     "output_type": "error",
     "traceback": [
      "\u001b[0;31m---------------------------------------------------------------------------\u001b[0m",
      "\u001b[0;31mIndexError\u001b[0m                                Traceback (most recent call last)",
      "\u001b[0;32m/var/folders/81/ckf4k5wn0d16719pp2dp8rqw0000gn/T/ipykernel_16689/815646322.py\u001b[0m in \u001b[0;36m<module>\u001b[0;34m\u001b[0m\n\u001b[0;32m----> 1\u001b[0;31m \u001b[0mii\u001b[0m\u001b[0;34m[\u001b[0m\u001b[0;36m0\u001b[0m\u001b[0;34m]\u001b[0m\u001b[0;34m\u001b[0m\u001b[0;34m\u001b[0m\u001b[0m\n\u001b[0m",
      "\u001b[0;31mIndexError\u001b[0m: list index out of range"
     ]
    }
   ],
   "source": [
    "ii[0]"
   ]
  },
  {
   "cell_type": "code",
   "execution_count": 1137,
   "id": "0ba2af38",
   "metadata": {},
   "outputs": [
    {
     "name": "stdout",
     "output_type": "stream",
     "text": [
      "経常利益\n",
      "<class 'bs4.element.NavigableString'>\n"
     ]
    }
   ],
   "source": [
    "\n",
    "for tem in tagget[2]:\n",
    "    print(tem)\n",
    "    print(type(tem))"
   ]
  },
  {
   "cell_type": "code",
   "execution_count": 1106,
   "id": "91615d0d",
   "metadata": {},
   "outputs": [],
   "source": [
    "text = []#正規は８項目  \n",
    "for element in list_tagget:\n",
    "    for i in range(len(element)):\n",
    "        ele = element[i]\n",
    "        for a in ele.find_all('a'):\n",
    "            a.decompose()\n",
    "            text.append(element)\n",
    "\n",
    "        \n"
   ]
  },
  {
   "cell_type": "code",
   "execution_count": 1111,
   "id": "80af0e2c",
   "metadata": {},
   "outputs": [],
   "source": [
    "focus_url=[]\n",
    "list_tagget=[]\n",
    "for flatclosing_url in flatclosing_urls[0:3]:\n",
    "    url='https://irbank.net{}'.format(flatclosing_url)\n",
    "    sleep(random.uniform(3, 8)) \n",
    "    focus_url.append(url)\n",
    "    r=requests.get(url)\n",
    "    soup = BeautifulSoup(r.text, 'html.parser')\n",
    "    title=soup.find('h1').text\n",
    "    tagget= soup.find_all('h2')\n",
    "    list_tagget.append(tagget)"
   ]
  },
  {
   "cell_type": "code",
   "execution_count": 1139,
   "id": "aa226a7d",
   "metadata": {},
   "outputs": [
    {
     "data": {
      "text/plain": [
       "<h2>売上高</h2>"
      ]
     },
     "execution_count": 1139,
     "metadata": {},
     "output_type": "execute_result"
    }
   ],
   "source": [
    "tagget[0]"
   ]
  },
  {
   "cell_type": "code",
   "execution_count": null,
   "id": "104e192b",
   "metadata": {},
   "outputs": [],
   "source": []
  },
  {
   "cell_type": "code",
   "execution_count": 883,
   "id": "0a96cc54",
   "metadata": {},
   "outputs": [],
   "source": []
  },
  {
   "cell_type": "code",
   "execution_count": 660,
   "id": "36e66f2d",
   "metadata": {},
   "outputs": [],
   "source": [
    "with open('irbank/csv/closing_dict.pickle', 'wb') as f:\n",
    "            pickle.dump(ex_data, f)\n",
    "flatclosing_urls = list(itertools.chain(ex_data.values()))"
   ]
  },
  {
   "cell_type": "code",
   "execution_count": null,
   "id": "543dabd7",
   "metadata": {},
   "outputs": [],
   "source": []
  },
  {
   "cell_type": "code",
   "execution_count": 335,
   "id": "6aa78249",
   "metadata": {},
   "outputs": [],
   "source": [
    "with open('irbank/csv/securities_codes.pickle','rb') as f:\n",
    "    securities_codes=pickle.load(f)"
   ]
  },
  {
   "cell_type": "code",
   "execution_count": 78,
   "id": "8d7a3e43",
   "metadata": {
    "scrolled": true
   },
   "outputs": [],
   "source": [
    "def convert_eps(eps_figure: str) -> int:\n",
    "    number_str = eps_figure.split('円')[0]\n",
    "    hennkan = number_str + '*100'\n",
    "    return eval(hennkan)"
   ]
  },
  {
   "cell_type": "code",
   "execution_count": 77,
   "id": "df12207f",
   "metadata": {},
   "outputs": [],
   "source": [
    "def convert_sales(*args):\n",
    "    eval_list = []\n",
    "    for arg in args:\n",
    "        eval_arg = []\n",
    "        for value in arg:\n",
    "            # 兆しかない時\n",
    "            if '兆' in value and '億' not in value and '万' not in value:\n",
    "                hennkan = value.replace('兆', '*10**12')\n",
    "                eval_arg.append(eval(hennkan))\n",
    "        eval_list.append(eval_arg)\n",
    "    return eval_list\n"
   ]
  },
  {
   "cell_type": "code",
   "execution_count": 2,
   "id": "a4e9bc1a",
   "metadata": {},
   "outputs": [],
   "source": [
    "\n",
    "\n",
    "def get_securities_codes(start_page, end_page):\n",
    "    url='https://minkabu.jp/financial_item_ranking/dividend_yield?page={}'\n",
    "    dd_list=[]\n",
    "    for i in range(start_page, end_page+1):\n",
    "        target_url=url.format(i)\n",
    "        r=requests.get(target_url)\n",
    "        sleep(random.uniform(3, 8)) \n",
    "        soup=BeautifulSoup(r.text,'html.parser')\n",
    "        tab=soup.find('table',class_='md_table rnk_li')\n",
    "        conts=tab.find_all('tr')\n",
    "        del conts[0]\n",
    "\n",
    "        for cont in conts:\n",
    "            rank=cont.find('span',class_='ranking_no fsize_l').text\n",
    "            code=cont.find('div',class_='md_sub').text\n",
    "            name=cont.find('div',class_='fwb w90p').text\n",
    "            y=cont.find('td',class_='tar cur vamd').text\n",
    "            yeild= y.strip().replace('%', '')\n",
    "            dic={\n",
    "                'ランキング':rank,\n",
    "                '証券コード':code,\n",
    "                '企業名':name,\n",
    "                '配当利回り':yeild,\n",
    "            }\n",
    "            if float(yeild) >= 3.75:\n",
    "                dd_list.append(dic)\n",
    "    securities_codes = [d['証券コード'] for d in dd_list]\n",
    "    return securities_codes\n",
    "\n",
    "\n",
    "\n",
    "\n",
    "\n",
    "def float_hennkan(s):\n",
    "    # *だけの時\n",
    "    if '*' in s:\n",
    "        s = s.split('円')[0]  # '15.65' のような文字列を取得\n",
    "        s = s.replace('*', '')  # * を削除\n",
    "        if '.'in s:\n",
    "            integer_part, decimal_part =s.split('.')  # '15' と '65' のような文字列を取得\n",
    "            integer_part = integer_part.zfill(2)  # 整数部を 0 で埋める\n",
    "            decimal_part = decimal_part.zfill(2)  # 小数部を 0 で埋める\n",
    "            hennkan_result= f\"{integer_part}.{decimal_part}\"  # 埋めた数値を結合\n",
    "        return hennkan_result\n",
    "    #小数点の時\n",
    "    elif '.' in s :\n",
    "        number_str = s.split('円')[0]  # '15.65' のような文字列を取得\n",
    "        integer_part, decimal_part = number_str.split('.')  # '15' と '65' のような文字列を取得\n",
    "        integer_part = integer_part.zfill(2)  # 整数部を 0 で埋める\n",
    "        decimal_part = decimal_part.zfill(2)  # 小数部を 0 で埋める\n",
    "        hennkan_result = f\"{integer_part}.{decimal_part}\"  # 埋めた数値を結合\n",
    "        return hennkan_result\n",
    "      \n",
    "\n",
    "    else:\n",
    "        # 整数部と小数部が分離されていない場合\n",
    "        number_str = s.split('円')[0]  # '86' のような文字列を取得\n",
    "        integer_part = number_str.zfill(2)  # 整数部を 0 で埋める\n",
    "        hennkan_result = f\"{integer_part}.00\"\n",
    "        return hennkan_result\n",
    "    \n",
    "\n",
    "#     if '.' in s:\n",
    "#         number_str1 = kn .split('円')[0]  # '86' のような文字列を取得\n",
    "#         integer_part1 = number_str1.zfill(2)  # 整数部を 0 で埋める\n",
    "#         hennkan_result = f\"{integer_part1}.00\"\n",
    "#         return hennkan_result\n",
    "#     *だけの時\n",
    "#     elif '*' in s:\n",
    "#         kn = s.split('*')[1]\n",
    "#         number_str1 = kn .split('円')[0]  # '86' のような文字列を取得\n",
    "#         integer_part1 = number_str1.zfill(2)  # 整数部を 0 で埋める\n",
    "#         hennkan_result = f\"{integer_part1}.00\"\n",
    "#         return hennkan_result\n",
    "\n",
    "\n",
    "\n",
    "def convert_sales_figure(sales_figure: str) -> int:\n",
    "    #兆しかない時\n",
    "    if '兆' in sales_figure and '億' not in sales_figure and '万' not in sales_figure:\n",
    "        hennkan = sales_figure.replace('兆', '*10**12')\n",
    "        return eval(hennkan)\n",
    "    #億しかない時\n",
    "    elif '億' in sales_figure and '兆' not in sales_figure and '万' not in sales_figure:\n",
    "        hennkan = sales_figure.replace('億', '*10**8')\n",
    "        return eval(hennkan)\n",
    "    #万しかない時\n",
    "    elif '万' in sales_figure and '兆' not in sales_figure and '万' not in sales_figure:\n",
    "        hennkan = sales_figure.replace('万', '*10**4')\n",
    "        return eval(hennkan)\n",
    "    #兆と億の時\n",
    "    elif'兆'in sales_figure and '億' in sales_figure:\n",
    "        hennkan = sales_figure.replace('兆', '*10**12+').replace('億','*10**8')\n",
    "        return eval(hennkan)\n",
    "    #億と万の時\n",
    "    elif'億'in sales_figure and '万' in sales_figure:\n",
    "        hennkan = sales_figure.replace('億', '*10**8+').replace('万','*10**4')\n",
    "        return eval(hennkan)\n",
    "    else:\n",
    "        hennkan = re.sub(r\"(兆)|(億)|(万)\", lambda x: \"*10**12+\" if x.group(1) else \"*10**8\" if x.group(2) else \"*10**4\", sales_figure)\n",
    "        return eval(hennkan)\n",
    "\n",
    "\n",
    "\n",
    "def convert_eps(eps_figure: str) -> int:\n",
    "    number_str = eps_figure.split('円')[0]\n",
    "    hennkan = number_str + '*100'\n",
    "    return eval(hennkan)\n",
    "\n",
    "\n",
    "def convert_stock_figure(stock_figure: str) -> int:\n",
    "    if '.' in stock_figure and '*' not in stock_figure :\n",
    "        number_str = stock_figure.split('円')[0]\n",
    "        integer_part, decimal_part = number_str.split('.')\n",
    "        integer_part = integer_part.zfill(2)\n",
    "        decimal_part = decimal_part.zfill(2)\n",
    "        return f\"{integer_part}.{decimal_part}\"\n",
    "    elif '*' in stock_figure and '.' not in stock_figure :\n",
    "        kn = stock_figure.split('*')[1]\n",
    "        number_str1 = kn .split('円')[0]\n",
    "        integer_part1 = number_str1.zfill(2)\n",
    "        return f\"{integer_part1}.00\"\n",
    "    \n",
    "    elif'*'in stock_figure and '.' in stock_figure:\n",
    "        kn = stock_figure.split('*')[1]\n",
    "        number_str = kn.split('円')[0]\n",
    "        integer_part, decimal_part = number_str.split('.')\n",
    "        integer_part = integer_part.zfill(2)\n",
    "        decimal_part = decimal_part.zfill(2)\n",
    "        return f\"{integer_part}.{decimal_part}\"\n",
    "    else:\n",
    "        number_str = stock_figure.split('円')[0]\n",
    "        integer_part = number_str.zfill(2)\n",
    "        return f\"{integer_part}.00\"\n",
    "    \n",
    "\n",
    "def convert_stock(stock_price: str) -> str:\n",
    "    if '.' in stock_price:\n",
    "        number_str = stock_price.split('円')[0]\n",
    "        integer_part, decimal_part = number_str.split('.')\n",
    "        integer_part = integer_part.zfill(2)\n",
    "        decimal_part = decimal_part.zfill(2)\n",
    "        return f\"{integer_part}.{decimal_part}\"\n",
    "    elif '*' in stock_price:\n",
    "        kn = stock_price.split('*')[1]\n",
    "        number_str1 = kn .split('円')[0]\n",
    "        integer_part1 = number_str1.zfill(2)\n",
    "        return f\"{integer_part1}.00\"\n",
    "    else:\n",
    "        number_str = stock_price.split('円')[0]\n",
    "        integer_part = number_str.zfill(2)\n",
    "        return f\"{integer_part}.00\"\n",
    "\n",
    "\n",
    "\n",
    "def convert_return(return_figure: str) -> str:\n",
    "    if '.' in return_figure:\n",
    "        number_str = return_figure.split('%')[0]\n",
    "        integer_part, decimal_part = number_str.split('.')\n",
    "        integer_part = integer_part.zfill(2)\n",
    "        decimal_part = decimal_part.zfill(2)\n",
    "        return f\"{integer_part}.{decimal_part}\"\n",
    "\n",
    "    else:\n",
    "        integer_part = return_figure.split('%')[0]\n",
    "        integer_part = integer_part.zfill(2)\n",
    "        return f\"{integer_part}.00\"\n",
    "\n",
    "def process_cashes(cashes):\n",
    "    cash_list = [cash.text for cash in cashes]\n",
    "    eval_cash_list = []\n",
    "    for cash in cash_list:\n",
    "        # 兆しかない時\n",
    "        if '兆' in cash and '億' not in cash and '万' not in cash:\n",
    "            hennkan = cash.replace('兆', '*10**12')\n",
    "            eval_cash_list.append(eval(hennkan))\n",
    "        # 億しかない時\n",
    "        elif '億' in cash and '兆' not in cash and '万' not in cash:\n",
    "            hennkan = cash.replace('億', '*10**8')\n",
    "            eval_cash_list.append(eval(hennkan))\n",
    "        # 万しかない時\n",
    "        elif '万' in cash and '兆' not in cash and '万' not in cash:\n",
    "            hennkan = cash.replace('万', '*10**4')\n",
    "            eval_cash_list.append(eval(hennkan))\n",
    "        # 兆と億の時\n",
    "        elif '兆' in cash and '億' in cash:\n",
    "            hennkan = cash.replace('兆', '*10**12+').replace('億','*10**8')\n",
    "            eval_cash_list.append(eval(hennkan))\n",
    "        # 億と万の時\n",
    "        elif '億' in cash and '万' in cash:\n",
    "            hennkan = cash.replace('億', '*10**8+').replace('万','*10**4')\n",
    "            eval_cash_list.append(eval(hennkan))\n",
    "        else:\n",
    "            hennkan = re.sub(r\"(兆)|(億)|(万)\", lambda x: \"*10**12+\" if x.group(1) else \"*10**8\" if x.group(2) else \"*10**4\", sale)\n",
    "            eval_cash_list.append(eval(hennkan))\n",
    "    return eval_cash_list\n",
    "\n",
    "\n",
    "import re\n",
    "\n",
    "def process_cfflows(cfflows):\n",
    "    cf_flow_list = [cfflow.text for cfflow in cfflows]\n",
    "    eval_cf_flow_list = []\n",
    "    for flow in cf_flow_list:\n",
    "        # 兆しかない時\n",
    "        if '兆' in flow and '億' not in flow and '万' not in flow:\n",
    "            hennkan = flow.replace('兆', '*10**12')\n",
    "            eval_cf_flow_list.append(eval(hennkan))\n",
    "        # 億しかない時\n",
    "        elif '億' in flow and '兆' not in flow and '万' not in flow:\n",
    "            hennkan = flow.replace('億', '*10**8')\n",
    "            eval_cf_flow_list.append(eval(hennkan))\n",
    "        # 万しかない時\n",
    "        elif '万' in flow and '兆' not in flow and '万' not in flow:\n",
    "            hennkan = flow.replace('万', '*10**4')\n",
    "            eval_cf_flow_list.append(eval(hennkan))\n",
    "        # 兆と億の時\n",
    "        elif '兆' in flow and '億' in flow:\n",
    "            hennkan = flow.replace('兆', '*10**12+').replace('億','*10**8')\n",
    "            eval_cf_flow_list.append(eval(hennkan))\n",
    "        # 億と万の時\n",
    "        elif '億' in flow and '万' in flow:\n",
    "            hennkan = flow.replace('億', '*10**8+').replace('万','*10**4')\n",
    "            eval_cf_flow_list.append(eval(hennkan))\n",
    "        else:\n",
    "            hennkan = re.sub(r\"(兆)|(億)|(万)\", lambda x: \"*10**12+\" if x.group(1) else \"*10**8\" if x.group(2) else \"*10**4\", sale)\n",
    "            eval_cf_flow_list.append(eval(hennkan))\n",
    "    return eval_cf_flow_list\n",
    "\n",
    "\n",
    "def convert_japanese_financial_string(string):\n",
    "    hennkan = string.replace('兆', '*10**12').replace('億', '*10**8').replace('万', '*10**4')\n",
    "    return eval(hennkan)\n",
    "\n",
    "\n",
    "\n",
    "def convert_flow_figure(flow_figure: str) -> int:\n",
    "        #兆しかない時\n",
    "        if '兆' in flow_figure and '億' not in flow_figure and '万' not in flow_figure:\n",
    "            hennkan = flow_figure.replace('兆', '*10**12')\n",
    "            return eval(hennkan)         \n",
    "        #億しかない時\n",
    "        elif '億' in flow_figure and '兆' not in flow_figure and '万' not in flow_figure:\n",
    "            hennkan = flow_figure.replace('億', '*10**8')\n",
    "            return eval(hennkan)             \n",
    "        #万しかない時\n",
    "        elif '万' in flow_figure and '兆' not in flow_figure and '万' not in flow_figure:\n",
    "            hennkan = flow_figure.replace('万', '*10**4')\n",
    "            return eval(hennkan)\n",
    "        #兆と億の時\n",
    "        elif'兆'in flow_figure and '億' in flow_figure:\n",
    "            hennkan = flow_figure.replace('兆', '*10**12+').replace('億','*10**8')\n",
    "            return eval(hennkan)\n",
    "        #億と万の時\n",
    "        elif'億'in flow_figure and '万' in flow_figure:\n",
    "            hennkan = flow_figure.replace('億', '*10**8+').replace('万','*10**4')\n",
    "            return eval(hennkan)\n",
    "        else:\n",
    "            hennkan = re.sub(r\"(兆)|(億)|(万)\", lambda x: \"*10**12+\" if x.group(1) else \"*10**8\" if x.group(2) else \"*10**4\", flow_figure)\n",
    "            return eval(hennkan)\n",
    "\n",
    "\n",
    "def floatparcent_hennkan(s):\n",
    "    if '.' in s:\n",
    "        number_str = s.split('%')[0]  # '15.65' のような文字列を取得\n",
    "        integer_part, decimal_part = number_str.split('.')  # '15' と '65' のような文字列を取得\n",
    "        integer_part = integer_part.zfill(2)  # 整数部を 0 で埋める\n",
    "        decimal_part = decimal_part.zfill(2)  # 小数部を 0 で埋める\n",
    "        hennkan_result = f\"{integer_part}.{decimal_part}\"  # 埋めた数値を結合\n",
    "        return hennkan_result\n",
    "\n",
    "    else:\n",
    "        # 整数部と小数部が分離されていない場合\n",
    "        integer_part = s.split('%')[0]  # '86' のような文字列を取得\n",
    "        integer_part = integer_part.zfill(2)  # 整数部を 0 で埋める\n",
    "        hennkan_result = f\"{integer_part}.00\"\n",
    "        return hennkan_result\n",
    "def check_uriagedaka(eval_sale_list):\n",
    "    result = all(int(eval_sale_list[i]) < int(eval_sale_list[i+1]) for i in range(len(eval_sale_list)-1))\n",
    "    uriagedaka_stock = []\n",
    "    if result:\n",
    "        uriagedaka_stock.append('OK')\n",
    "    else:\n",
    "        for i in range(len(eval_sale_list)-1):\n",
    "            if int(eval_sale_list[i]) >= int(eval_sale_list[i+1]):\n",
    "                uriagedaka_stock.append(f'NOT (at index {i+1})')\n",
    "    return uriagedaka_stock\n",
    "\n",
    "\n",
    "def check_eps(zeps_list):\n",
    "    result = all(int(zeps_list[i]) < int(zeps_list[i+1]) for i in range(len(zeps_list)-1))\n",
    "    eps_stock = []\n",
    "    if result:\n",
    "        eps_stock.append('OK')\n",
    "    else:\n",
    "        for i in range(len(zeps_list)-1):\n",
    "            if int(zeps_list[i]) >= int(zeps_list[i+1]):\n",
    "                eps_stock.append(f'NOT (at index {i+1})')\n",
    "    return eps_stock\n",
    "\n",
    "def check_eiri(zop_list):\n",
    "    zop_list = [float(x) for x in zop_list]\n",
    "    resault = all(10 <= float(zop_list[i]) for i in range(len(zop_list)))\n",
    "    eiri_stock = []\n",
    "    if resault:\n",
    "        eiri_stock.append('OK')\n",
    "    else:\n",
    "        for i in range(len(zop_list)):\n",
    "            if 10 >= float(zop_list[i]):\n",
    "                eiri_stock.append(f'NOT (at index {i})')\n",
    "    return eiri_stock\n",
    "\n",
    "def check_zikosihon(zoption_list):\n",
    "    oolist = [float(x) for x in zoption_list]\n",
    "    result = all(40 <= float(oolist[i]) for i in range(len(oolist)))\n",
    "    zikosihon_stock = []\n",
    "    if result:\n",
    "        zikosihon_stock.append('OK')\n",
    "    else:\n",
    "        for i in range(len(oolist)):\n",
    "            if 40 >= float(oolist[i]):\n",
    "                zikosihon_stock.append(f'NOT (at index {i})')\n",
    "    return zikosihon_stock\n",
    "\n",
    "\n",
    "def check_genkin(eval_cash_list):\n",
    "    result = all(int(eval_cash_list[i]) < int(eval_cash_list[i+1]) for i in range(len(eval_cash_list)-1))\n",
    "    genkin_stock = []\n",
    "    if result:\n",
    "        genkin_stock.append('OK')\n",
    "    else:\n",
    "        for i in range(len(eval_cash_list)-1):\n",
    "            if int(eval_cash_list[i]) >= int(eval_cash_list[i+1]):\n",
    "                genkin_stock.append(f'NOT (at index {i+1})')\n",
    "    return genkin_stock\n",
    "\n",
    "\n",
    "\n",
    "\n",
    "def get_closing_url(code):\n",
    "    url = f'https://irbank.net/{code}/ir'\n",
    "    r = requests.get(url)\n",
    "    sleep(2)\n",
    "    soup = BeautifulSoup(r.text,'html.parser')\n",
    "    element = soup.select_one('div.csb.cc2 > ul:nth-of-type(2) > li:first-of-type')\n",
    "    taget = element.find('a')\n",
    "    link = taget.get('href')\n",
    "    return link\n",
    "\n"
   ]
  },
  {
   "cell_type": "code",
   "execution_count": 363,
   "id": "87539772",
   "metadata": {},
   "outputs": [],
   "source": [
    "\n"
   ]
  },
  {
   "cell_type": "code",
   "execution_count": 429,
   "id": "57b62ffd",
   "metadata": {},
   "outputs": [],
   "source": []
  },
  {
   "cell_type": "code",
   "execution_count": null,
   "id": "bb92713a",
   "metadata": {},
   "outputs": [],
   "source": []
  },
  {
   "cell_type": "code",
   "execution_count": null,
   "id": "4476ffa0",
   "metadata": {},
   "outputs": [],
   "source": []
  },
  {
   "cell_type": "code",
   "execution_count": null,
   "id": "4c1b77fe",
   "metadata": {},
   "outputs": [],
   "source": [
    "test__lists"
   ]
  },
  {
   "cell_type": "code",
   "execution_count": null,
   "id": "4db589ba",
   "metadata": {},
   "outputs": [],
   "source": []
  },
  {
   "cell_type": "code",
   "execution_count": 155,
   "id": "937e7723",
   "metadata": {},
   "outputs": [
    {
     "name": "stdout",
     "output_type": "stream",
     "text": [
      "from_cache: False\n",
      "status_code: 200\n"
     ]
    }
   ],
   "source": [
    "import requests\n",
    "from cachecontrol import CacheControl \n",
    "from cachecontrol.caches import FileCache\n",
    "\n",
    "session = requests.Session()\n",
    "# sessionをラップしたcached_sessionを作る。\n",
    "# キャッシュはファイルとして .webcache ディレクトリ内に保存する。\n",
    "cached_session = CacheControl(session, cache=FileCache('.webcache'))\n",
    "\n",
    "response = cached_session.get('https://irbank.net/E31167/results') \n",
    "\n",
    "# response.from_cache属性でキャッシュから取得されたレスポンスかどうかを取得できる。\n",
    "print(f'from_cache: {response.from_cache}') \n",
    "print(f'status_code: {response.status_code}')"
   ]
  },
  {
   "cell_type": "code",
   "execution_count": 132,
   "id": "2cacfc63",
   "metadata": {},
   "outputs": [
    {
     "ename": "NameError",
     "evalue": "name 'number_str' is not defined",
     "output_type": "error",
     "traceback": [
      "\u001b[0;31m---------------------------------------------------------------------------\u001b[0m",
      "\u001b[0;31mNameError\u001b[0m                                 Traceback (most recent call last)",
      "\u001b[0;32m/var/folders/81/ckf4k5wn0d16719pp2dp8rqw0000gn/T/ipykernel_16689/3116207713.py\u001b[0m in \u001b[0;36m<module>\u001b[0;34m\u001b[0m\n\u001b[1;32m      7\u001b[0m     \u001b[0mdecimal_part\u001b[0m \u001b[0;34m=\u001b[0m \u001b[0mdecimal_part\u001b[0m\u001b[0;34m.\u001b[0m\u001b[0mzfill\u001b[0m\u001b[0;34m(\u001b[0m\u001b[0;36m2\u001b[0m\u001b[0;34m)\u001b[0m\u001b[0;34m\u001b[0m\u001b[0;34m\u001b[0m\u001b[0m\n\u001b[1;32m      8\u001b[0m     \u001b[0mprint\u001b[0m \u001b[0;34m(\u001b[0m\u001b[0;34mf\"{integer_part}.{decimal_part}\"\u001b[0m\u001b[0;34m)\u001b[0m\u001b[0;34m\u001b[0m\u001b[0;34m\u001b[0m\u001b[0m\n\u001b[0;32m----> 9\u001b[0;31m \u001b[0mnumber_str\u001b[0m\u001b[0;34m\u001b[0m\u001b[0;34m\u001b[0m\u001b[0m\n\u001b[0m",
      "\u001b[0;31mNameError\u001b[0m: name 'number_str' is not defined"
     ]
    }
   ],
   "source": []
  },
  {
   "cell_type": "code",
   "execution_count": 180,
   "id": "addc330c",
   "metadata": {},
   "outputs": [
    {
     "name": "stderr",
     "output_type": "stream",
     "text": [
      "これはデバッグログ\n",
      "これはデバッグログ\n",
      "これはデバッグログ\n",
      "これはデバッグログ\n",
      "これはデバッグログ\n"
     ]
    }
   ],
   "source": [
    "from logging import getLogger,StreamHandler,DEBUG,ERROR\n",
    "\n",
    "logger=getLogger(__name__)\n",
    "handler=StreamHandler()\n",
    "handler.setLevel(ERROR)\n",
    "logger.setLevel(DEBUG)\n",
    "logger.addHandler(handler)\n",
    "logger.debug('これはデバッグログ')"
   ]
  },
  {
   "cell_type": "code",
   "execution_count": 195,
   "id": "28bc7b70",
   "metadata": {},
   "outputs": [
    {
     "name": "stdout",
     "output_type": "stream",
     "text": [
      "5019\n"
     ]
    }
   ],
   "source": [
    "securities_codes = get_securities_codes(27,28)\n",
    "for x in securities_codes:\n",
    "    with open('irbank/csv/securities_codes.pickle','wb') as f:\n",
    "        pickle.dump(x,f)\n",
    "    with open('irbank/csv/securities_codes.pickle','rb') as f:\n",
    "        x=pickle.load(f)\n",
    "print(x)"
   ]
  },
  {
   "cell_type": "code",
   "execution_count": 768,
   "id": "d62b680b",
   "metadata": {},
   "outputs": [
    {
     "name": "stdout",
     "output_type": "stream",
     "text": [
      "time: 0.000744820 [sec]\n",
      "time: 0.000028849 [sec]\n",
      "time: 0.000043154 [sec]\n",
      "time: 0.000023127 [sec]\n"
     ]
    }
   ],
   "source": [
    "\n",
    "\n"
   ]
  },
  {
   "cell_type": "code",
   "execution_count": 477,
   "id": "30ec88d1",
   "metadata": {},
   "outputs": [
    {
     "data": {
      "text/plain": [
       "(40, 4)"
      ]
     },
     "execution_count": 477,
     "metadata": {},
     "output_type": "execute_result"
    }
   ],
   "source": [
    " df=pd.DataFrame(dd_list)\n",
    "df.head()\n",
    "df.shape"
   ]
  },
  {
   "cell_type": "code",
   "execution_count": 514,
   "id": "8069ddb4",
   "metadata": {},
   "outputs": [
    {
     "ename": "Error",
     "evalue": "iterable expected, not int",
     "output_type": "error",
     "traceback": [
      "\u001b[0;31m---------------------------------------------------------------------------\u001b[0m",
      "\u001b[0;31mError\u001b[0m                                     Traceback (most recent call last)",
      "\u001b[0;32m/var/folders/81/ckf4k5wn0d16719pp2dp8rqw0000gn/T/ipykernel_16689/2144688670.py\u001b[0m in \u001b[0;36m<module>\u001b[0;34m\u001b[0m\n\u001b[1;32m      1\u001b[0m \u001b[0;32mfor\u001b[0m \u001b[0mdata\u001b[0m \u001b[0;32min\u001b[0m \u001b[0mexisting_data\u001b[0m\u001b[0;34m:\u001b[0m\u001b[0;34m\u001b[0m\u001b[0;34m\u001b[0m\u001b[0m\n\u001b[0;32m----> 2\u001b[0;31m     \u001b[0mwriter\u001b[0m\u001b[0;34m.\u001b[0m\u001b[0mwriterow\u001b[0m\u001b[0;34m(\u001b[0m\u001b[0mdata\u001b[0m\u001b[0;34m)\u001b[0m\u001b[0;34m\u001b[0m\u001b[0;34m\u001b[0m\u001b[0m\n\u001b[0m",
      "\u001b[0;31mError\u001b[0m: iterable expected, not int"
     ]
    }
   ],
   "source": []
  },
  {
   "cell_type": "code",
   "execution_count": 518,
   "id": "7f1f4d88",
   "metadata": {},
   "outputs": [
    {
     "ename": "Error",
     "evalue": "iterable expected, not int",
     "output_type": "error",
     "traceback": [
      "\u001b[0;31m---------------------------------------------------------------------------\u001b[0m",
      "\u001b[0;31mError\u001b[0m                                     Traceback (most recent call last)",
      "\u001b[0;32m/var/folders/81/ckf4k5wn0d16719pp2dp8rqw0000gn/T/ipykernel_16689/1272504193.py\u001b[0m in \u001b[0;36m<module>\u001b[0;34m\u001b[0m\n\u001b[1;32m      4\u001b[0m     \u001b[0mwriter\u001b[0m \u001b[0;34m=\u001b[0m \u001b[0mcsv\u001b[0m\u001b[0;34m.\u001b[0m\u001b[0mwriter\u001b[0m\u001b[0;34m(\u001b[0m\u001b[0mf\u001b[0m\u001b[0;34m)\u001b[0m\u001b[0;34m\u001b[0m\u001b[0;34m\u001b[0m\u001b[0m\n\u001b[1;32m      5\u001b[0m     \u001b[0;32mfor\u001b[0m \u001b[0mdata\u001b[0m \u001b[0;32min\u001b[0m \u001b[0mexisting_data\u001b[0m\u001b[0;34m:\u001b[0m\u001b[0;34m\u001b[0m\u001b[0;34m\u001b[0m\u001b[0m\n\u001b[0;32m----> 6\u001b[0;31m         \u001b[0mwriter\u001b[0m\u001b[0;34m.\u001b[0m\u001b[0mwriterows\u001b[0m\u001b[0;34m(\u001b[0m\u001b[0mexisting_data\u001b[0m\u001b[0;34m)\u001b[0m\u001b[0;34m\u001b[0m\u001b[0;34m\u001b[0m\u001b[0m\n\u001b[0m",
      "\u001b[0;31mError\u001b[0m: iterable expected, not int"
     ]
    }
   ],
   "source": [
    "\n"
   ]
  },
  {
   "cell_type": "code",
   "execution_count": 764,
   "id": "da20684b",
   "metadata": {},
   "outputs": [
    {
     "name": "stdout",
     "output_type": "stream",
     "text": [
      "729\n"
     ]
    }
   ],
   "source": [
    "import itertools\n",
    "with open('irbank/csv/securities_codes.pickle', 'rb') as f:\n",
    "            existing_data = pickle.load(f)\n",
    "flattened_codes = list(itertools.chain(*existing_data.values()))\n",
    "print(len(flattened_codes))"
   ]
  },
  {
   "cell_type": "code",
   "execution_count": 797,
   "id": "d638f082",
   "metadata": {},
   "outputs": [
    {
     "ename": "NameError",
     "evalue": "name 'existing_dat' is not defined",
     "output_type": "error",
     "traceback": [
      "\u001b[0;31m---------------------------------------------------------------------------\u001b[0m",
      "\u001b[0;31mNameError\u001b[0m                                 Traceback (most recent call last)",
      "\u001b[0;32m/var/folders/81/ckf4k5wn0d16719pp2dp8rqw0000gn/T/ipykernel_16689/3685444111.py\u001b[0m in \u001b[0;36m<module>\u001b[0;34m\u001b[0m\n\u001b[0;32m----> 1\u001b[0;31m \u001b[0mexisting_dat\u001b[0m\u001b[0;34m\u001b[0m\u001b[0;34m\u001b[0m\u001b[0m\n\u001b[0m",
      "\u001b[0;31mNameError\u001b[0m: name 'existing_dat' is not defined"
     ]
    }
   ],
   "source": [
    "existing_dat"
   ]
  },
  {
   "cell_type": "code",
   "execution_count": 599,
   "id": "271a8d10",
   "metadata": {},
   "outputs": [],
   "source": [
    "with open('irbank/csv/code.pickle', 'rb') as f:\n",
    "            company_code = pickle.load(f)"
   ]
  },
  {
   "cell_type": "code",
   "execution_count": 619,
   "id": "a74b2222",
   "metadata": {},
   "outputs": [],
   "source": [
    "del existing_data[0]"
   ]
  },
  {
   "cell_type": "code",
   "execution_count": 620,
   "id": "32527c07",
   "metadata": {},
   "outputs": [
    {
     "name": "stdout",
     "output_type": "stream",
     "text": [
      "709\n"
     ]
    }
   ],
   "source": [
    "\n"
   ]
  },
  {
   "cell_type": "code",
   "execution_count": null,
   "id": "10998b00",
   "metadata": {},
   "outputs": [],
   "source": []
  },
  {
   "cell_type": "code",
   "execution_count": 508,
   "id": "d7a1d375",
   "metadata": {},
   "outputs": [],
   "source": []
  },
  {
   "cell_type": "code",
   "execution_count": null,
   "id": "13e345ac",
   "metadata": {},
   "outputs": [],
   "source": []
  },
  {
   "cell_type": "code",
   "execution_count": 3,
   "id": "28857735",
   "metadata": {},
   "outputs": [],
   "source": [
    "import time\n",
    "\n",
    "# 関数の実行時間を測るデコレータ\n",
    "def tictoc(func):\n",
    "    def _wrapper(*args, **keywargs):\n",
    "        start_time = time.time()\n",
    "        result = func(*args, **keywargs)\n",
    "        print('time: {:.9f} [sec]'.format(time.time() - start_time))\n",
    "        return result\n",
    "    return _wrapper"
   ]
  },
  {
   "cell_type": "code",
   "execution_count": 4,
   "id": "581139d1",
   "metadata": {},
   "outputs": [
    {
     "name": "stdout",
     "output_type": "stream",
     "text": [
      "time: 0.077428818 [sec]\n",
      "time: 0.000001907 [sec]\n"
     ]
    },
    {
     "data": {
      "text/plain": [
       "1000001"
      ]
     },
     "execution_count": 4,
     "metadata": {},
     "output_type": "execute_result"
    }
   ],
   "source": [
    "from functools import cache\n",
    "\n",
    "@tictoc\n",
    "@cache  # デコレータを付与\n",
    "def func(num):\n",
    "    # なんらかの重い処理\n",
    "    for _ in range(1000000):\n",
    "        num += 1\n",
    "    return num\n",
    "\n",
    "# 1度目の呼び出し\n",
    "func(1)\n",
    "\n",
    "# 2度目の呼び出し\n",
    "func(1)"
   ]
  },
  {
   "cell_type": "code",
   "execution_count": 207,
   "id": "4f335a81",
   "metadata": {},
   "outputs": [
    {
     "name": "stdout",
     "output_type": "stream",
     "text": [
      "time: 0.000001907 [sec]\n"
     ]
    },
    {
     "data": {
      "text/plain": [
       "1000001"
      ]
     },
     "execution_count": 207,
     "metadata": {},
     "output_type": "execute_result"
    }
   ],
   "source": [
    "func(1)"
   ]
  },
  {
   "cell_type": "code",
   "execution_count": 5,
   "id": "35976710",
   "metadata": {},
   "outputs": [],
   "source": [
    "#1\n",
    "import random\n",
    "@tictoc\n",
    "@cache\n",
    "def get_securities_codes(start_page, end_page):\n",
    "    url='https://minkabu.jp/financial_item_ranking/dividend_yield?page={}'\n",
    "    dd_list=[]\n",
    "    for i in range(start_page, end_page+1):\n",
    "        target_url=url.format(i)\n",
    "        r=requests.get(target_url)\n",
    "        sleep(random.uniform(3, 8)) \n",
    "        soup=BeautifulSoup(r.text,'html.parser')\n",
    "        tab=soup.find('table',class_='md_table rnk_li')\n",
    "        conts=tab.find_all('tr')\n",
    "        del conts[0]\n",
    "\n",
    "        for cont in conts:\n",
    "            rank=cont.find('span',class_='ranking_no fsize_l').text\n",
    "            code=cont.find('div',class_='md_sub').text\n",
    "            name=cont.find('div',class_='fwb w90p').text\n",
    "            y=cont.find('td',class_='tar cur vamd').text\n",
    "            yeild= y.strip().replace('%', '')\n",
    "            dic={\n",
    "                'ランキング':rank,\n",
    "                '証券コード':code,\n",
    "                '企業名':name,\n",
    "                '配当利回り':yeild,\n",
    "            }\n",
    "            \n",
    "            \n",
    "            if float(yeild) >= 3.75:\n",
    "                dd_list.append(dic)\n",
    "    securities_codes = [d['証券コード'] for d in dd_list]\n",
    "    #csvに保存まだ更新はできず追加しかされない\n",
    "    new_data=pd.DataFrame(dd_list)\n",
    "    if os.path.exists('irbank/csv/20230115ranking.csv'):\n",
    "                df=pd.read_csv('irbank/csv/20230115ranking.csv')\n",
    "                df=pd.concat([df, new_data], ignore_index=True)\n",
    "                \n",
    "    else:\n",
    "        df=new_data\n",
    "    df.to_csv('irbank/csv/20230115ranking.csv',index=None,encoding='utf-8-sig')\n",
    "\n",
    "    return securities_codes\n"
   ]
  },
  {
   "cell_type": "code",
   "execution_count": 798,
   "id": "e41f9cab",
   "metadata": {},
   "outputs": [
    {
     "name": "stdout",
     "output_type": "stream",
     "text": [
      "time: 5.357740641 [sec]\n",
      "time: 6.625604153 [sec]\n",
      "time: 8.049380302 [sec]\n",
      "time: 7.945807934 [sec]\n",
      "time: 5.542266130 [sec]\n",
      "time: 5.170459032 [sec]\n",
      "time: 6.947769880 [sec]\n"
     ]
    }
   ],
   "source": [
    "#1\n",
    "\n",
    "result = {}\n",
    "#1ページ目から取得なので値に0はいらない\n",
    "for page in range(30, 37, 1):\n",
    "    securities_codes = get_securities_codes(page, page)\n",
    "    result[page] = securities_codes\n",
    "    if os.path.exists('irbank/csv/securities_codes.pickle'):\n",
    "     # ファイルから既存のデータを読み込む\n",
    "        with open('irbank/csv/securities_codes.pickle', 'rb') as f:\n",
    "            existing_data = pickle.load(f)\n",
    "        # 既存のデータを更新する\n",
    "        existing_data.update(result)\n",
    "        # ファイルに追加されたデータを保存する\n",
    "        with open('irbank/csv/securities_codes.pickle', 'wb') as f:\n",
    "            pickle.dump(existing_data, f)\n",
    "    else:\n",
    "        del result[0]\n",
    "        with open('irbank/csv/securities_codes.pickle', 'wb') as f:\n",
    "            pickle.dump(result, f)"
   ]
  },
  {
   "cell_type": "code",
   "execution_count": 805,
   "id": "f58dac07",
   "metadata": {},
   "outputs": [
    {
     "name": "stdout",
     "output_type": "stream",
     "text": [
      "713\n"
     ]
    }
   ],
   "source": [
    "import itertools\n",
    "with open('irbank/csv/securities_codes.pickle', 'rb') as f:\n",
    "            existing_data = pickle.load(f)\n",
    "            del existing_data[0]\n",
    "flattened_codes = list(itertools.chain(*existing_data.values()))\n",
    "print(len(flattened_codes))"
   ]
  },
  {
   "cell_type": "code",
   "execution_count": null,
   "id": "e7199566",
   "metadata": {},
   "outputs": [],
   "source": []
  },
  {
   "cell_type": "code",
   "execution_count": 543,
   "id": "0844d05a",
   "metadata": {},
   "outputs": [],
   "source": [
    "#     with open('irbank/csv/ranking.csv', 'w', newline='') as csvfile:\n",
    "#         fieldnames = ['ランキング','証券コード','企業名','配当利回り']\n",
    "#         #辞書型を書き込むためのクラス\n",
    "#         writer = csv.DictWriter(csvfile, fieldnames=fieldnames)\n",
    "#         writer.writeheader()\n",
    "#         for d in dd_list:\n",
    "#             writer.writerow({'ランキング':d['ランキング'],'証券コード': d['証券コード'],'企業名':d['企業名'],'配当利回り':d['配当利回り']})\n",
    "    \n"
   ]
  },
  {
   "cell_type": "code",
   "execution_count": 629,
   "id": "cb2af83c",
   "metadata": {},
   "outputs": [
    {
     "name": "stdout",
     "output_type": "stream",
     "text": [
      "time: 0.000003099 [sec]\n",
      "['/E04236/results']\n"
     ]
    }
   ],
   "source": [
    "closing_urls= []\n",
    "# for code in securities_codes[:3]:\n",
    "for code in flattened_codes[0:1]:\n",
    "    closing_urls.append(get_closing_url(code))\n",
    "print (closing_urls)"
   ]
  },
  {
   "cell_type": "code",
   "execution_count": 30,
   "id": "471135f0",
   "metadata": {},
   "outputs": [],
   "source": [
    "@tictoc\n",
    "@cache\n",
    "def get_closing_url(code):\n",
    "    url = f'https://irbank.net/{code}/ir'\n",
    "    r = requests.get(url)\n",
    "    sleep(random.uniform(3, 8)) \n",
    "    soup = BeautifulSoup(r.text,'html.parser')\n",
    "    element = soup.select_one('div.csb.cc2 > ul:nth-of-type(2) > li:first-of-type')\n",
    "    taget = element.find('a')\n",
    "    link = taget.get('href')\n",
    "    return link\n"
   ]
  },
  {
   "cell_type": "code",
   "execution_count": 777,
   "id": "96c55176",
   "metadata": {},
   "outputs": [
    {
     "name": "stdout",
     "output_type": "stream",
     "text": [
      "time: 2.522117853 [sec]\n",
      "time: 2.484273195 [sec]\n",
      "time: 2.296419144 [sec]\n",
      "time: 2.385443687 [sec]\n",
      "time: 2.317987204 [sec]\n",
      "time: 2.381206036 [sec]\n",
      "time: 2.426397085 [sec]\n",
      "time: 2.504644871 [sec]\n",
      "time: 2.421528101 [sec]\n",
      "time: 2.425532103 [sec]\n",
      "time: 2.524970055 [sec]\n",
      "time: 2.401628971 [sec]\n",
      "time: 2.468930960 [sec]\n",
      "time: 2.386493921 [sec]\n",
      "time: 2.442391872 [sec]\n",
      "time: 2.417729139 [sec]\n",
      "time: 2.303143263 [sec]\n",
      "time: 2.543843031 [sec]\n",
      "time: 2.398165941 [sec]\n",
      "time: 2.271637201 [sec]\n"
     ]
    }
   ],
   "source": [
    "#2\n",
    "#ここからclosing_dict=\n",
    "import pickle\n",
    "closing_dict = {}\n",
    "# for page in range(0, 100, 10):\n",
    "#     # your code here\n",
    "#     time.sleep(60) \n",
    "for code in flattened_codes[1:300]:\n",
    "    new_url = get_closing_url(code)\n",
    "    closing_dict[code] = new_url\n",
    "\n",
    "# 既存のpickleファイルがある場合\n",
    "    if os.path.exists('irbank/csv/closing_dict.pickle'):\n",
    "        # ファイルから既存のデータを読み込む\n",
    "        with open('irbank/csv/closing_dict.pickle', 'rb') as f:\n",
    "            ex_data = pickle.load(f)\n",
    "        # 既存のデータに新しいデータを追加\n",
    "        ex_data.update(closing_dict)\n",
    "        # ファイルに追加されたデータを保存する\n",
    "        with open('irbank/csv/closing_dict.pickle', 'wb') as f:\n",
    "            pickle.dump(ex_data, f)\n",
    "    # 初めての保存の場合\n",
    "    else:\n",
    "        with open('irbank/csv/closing_dict.pickle', 'wb') as f:\n",
    "            pickle.dump(closing_dict, f)\n",
    "            \n",
    "            \n"
   ]
  },
  {
   "cell_type": "code",
   "execution_count": 778,
   "id": "a85de1b0",
   "metadata": {},
   "outputs": [],
   "source": [
    "#2\n",
    "with open('irbank/csv/closing_dict.pickle', 'rb') as f:\n",
    "            ex_data = pickle.load(f)"
   ]
  },
  {
   "cell_type": "code",
   "execution_count": 779,
   "id": "6c2b0713",
   "metadata": {},
   "outputs": [
    {
     "data": {
      "text/plain": [
       "180"
      ]
     },
     "execution_count": 779,
     "metadata": {},
     "output_type": "execute_result"
    }
   ],
   "source": [
    "len(ex_data)"
   ]
  },
  {
   "cell_type": "code",
   "execution_count": 32,
   "id": "8dcdd2ee",
   "metadata": {},
   "outputs": [],
   "source": []
  },
  {
   "cell_type": "code",
   "execution_count": 667,
   "id": "df105761",
   "metadata": {},
   "outputs": [
    {
     "name": "stdout",
     "output_type": "stream",
     "text": [
      "729\n"
     ]
    }
   ],
   "source": []
  },
  {
   "cell_type": "code",
   "execution_count": null,
   "id": "80d85387",
   "metadata": {},
   "outputs": [],
   "source": []
  },
  {
   "cell_type": "code",
   "execution_count": 719,
   "id": "80fbd3ec",
   "metadata": {},
   "outputs": [],
   "source": [
    "#3\n",
    "\n",
    "#ここからfinal_dict\n",
    "import pickle\n",
    "final_dict = {}\n",
    "focus_url=[]\n",
    "for flatclosing_url in flatclosing_urls[8:10]:\n",
    "    url='https://irbank.net{}'.format(flatclosing_url)\n",
    "    sleep(2)\n",
    "    focus_url.append(url)\n",
    "    final_dict[flatclosing_url] = focus_url[-1]\n",
    "    save_pickle(final_dict, 'irbank/csv/final_dict.pickle')\n"
   ]
  },
  {
   "cell_type": "code",
   "execution_count": 720,
   "id": "0b82001b",
   "metadata": {},
   "outputs": [],
   "source": [
    "with open('irbank/csv/final_dict.pickle', 'rb') as f:\n",
    "    ex_data = pickle.load(f)\n",
    "final_code = list(itertools.chain(ex_data.values()))\n"
   ]
  },
  {
   "cell_type": "code",
   "execution_count": 721,
   "id": "dc377015",
   "metadata": {},
   "outputs": [
    {
     "data": {
      "text/plain": [
       "['https://irbank.net/E04236/results',\n",
       " 'https://irbank.net/E04235/results',\n",
       " 'https://irbank.nethttps://irbank.net/E04236/results',\n",
       " 'https://irbank.nethttps://irbank.net/E04235/results']"
      ]
     },
     "execution_count": 721,
     "metadata": {},
     "output_type": "execute_result"
    }
   ],
   "source": [
    "final_code"
   ]
  },
  {
   "cell_type": "code",
   "execution_count": 692,
   "id": "d7c3eb8f",
   "metadata": {},
   "outputs": [],
   "source": [
    "#3\n",
    "with open('irbank/csv/final_dict.pickle', 'rb') as f:\n",
    "    ex_data = pickle.load(f)\n",
    "final_code = list(itertools.chain(ex_data.values()))\n",
    "\n",
    "for i in final_code:\n",
    "    r=requests.get(i)\n",
    "    soup = BeautifulSoup(r.text, 'html.parser')\n",
    "    title=soup.find('h1').text\n",
    "    tagget= soup.find_all('h2')\n",
    "    \n",
    "text=[]\n",
    "for element in tagget:\n",
    "    for a in element.find_all('a'):\n",
    "        a.decompose()\n",
    "    text.append(element)\n",
    "target_h2 = []#正規は８項目\n",
    "for t in text:\n",
    "    if \"売上高\" in t or\"EPS\" in t or \"営業利益率\" in t or \"自己資本比率\" in t or \"営業活動によるCF\" in t or \"現金等\" in t or \"一株配当\" in t or \"配当性向\" in t:\n",
    "        target_h2.append(t)\n",
    "test_lists=[]\n",
    "if len(target_h2)==8:\n",
    "    for i in target_h2:\n",
    "        bro=i.find_next_sibling()\n",
    "        ss = bro.find_all('span', class_='text')\n",
    "        test_lists.append(ss)\n",
    "\n"
   ]
  },
  {
   "cell_type": "code",
   "execution_count": 696,
   "id": "a6b4d395",
   "metadata": {},
   "outputs": [
    {
     "ename": "NameError",
     "evalue": "name 'tagge' is not defined",
     "output_type": "error",
     "traceback": [
      "\u001b[0;31m---------------------------------------------------------------------------\u001b[0m",
      "\u001b[0;31mNameError\u001b[0m                                 Traceback (most recent call last)",
      "\u001b[0;32m/var/folders/81/ckf4k5wn0d16719pp2dp8rqw0000gn/T/ipykernel_16689/3753987964.py\u001b[0m in \u001b[0;36m<module>\u001b[0;34m\u001b[0m\n\u001b[0;32m----> 1\u001b[0;31m \u001b[0mtagge\u001b[0m\u001b[0;34m\u001b[0m\u001b[0;34m\u001b[0m\u001b[0m\n\u001b[0m",
      "\u001b[0;31mNameError\u001b[0m: name 'tagge' is not defined"
     ]
    }
   ],
   "source": [
    "tagge"
   ]
  },
  {
   "cell_type": "code",
   "execution_count": 680,
   "id": "77e65258",
   "metadata": {},
   "outputs": [
    {
     "data": {
      "text/plain": [
       "['https://irbank.net/E04236/results', 'https://irbank.net/E04235/results']"
      ]
     },
     "execution_count": 680,
     "metadata": {},
     "output_type": "execute_result"
    }
   ],
   "source": [
    "nw_url"
   ]
  },
  {
   "cell_type": "code",
   "execution_count": 671,
   "id": "2e91e6a4",
   "metadata": {},
   "outputs": [],
   "source": [
    "import os\n",
    "import pickle\n",
    "\n",
    "def save_pickle(data, filepath):\n",
    "    # 既存のpickleファイルがある場合\n",
    "    if os.path.exists(filepath):\n",
    "        # ファイルから既存のデータを読み込む\n",
    "        with open(filepath, 'rb') as f:\n",
    "            ex_data = pickle.load(f)\n",
    "        # 既存のデータに新しいデータを追加\n",
    "        ex_data.update(data)\n",
    "        # ファイルに追加されたデータを保存する\n",
    "        with open(filepath, 'wb') as f:\n",
    "            pickle.dump(ex_data, f)\n",
    "    # 初めての保存の場合\n",
    "    else:\n",
    "        with open(filepath, 'wb') as f:\n",
    "            pickle.dump(data, f)\n"
   ]
  },
  {
   "cell_type": "code",
   "execution_count": 695,
   "id": "b27a23ec",
   "metadata": {},
   "outputs": [
    {
     "data": {
      "text/plain": [
       "['https://irbank.net/E04236/results', 'https://irbank.net/E04235/results']"
      ]
     },
     "execution_count": 695,
     "metadata": {},
     "output_type": "execute_result"
    }
   ],
   "source": [
    "flatclosing_urls"
   ]
  },
  {
   "cell_type": "code",
   "execution_count": null,
   "id": "6ae9ce52",
   "metadata": {},
   "outputs": [],
   "source": [
    "from bs4 import BeautifulSoup\n",
    "import requests \n",
    "import re\n",
    "from time import sleep\n",
    "import pandas as pd\n",
    "import time\n",
    "from tqdm import tqdm\n",
    "import pickle\n",
    "import itertools\n",
    "import random\n",
    "with open('csv/securities_codes.pickle', 'rb') as f:\n",
    "            existing_data = pickle.load(f)\n",
    "#リストを一緒くたに一つに\n",
    "flattened_codes = list(itertools.chain(*existing_data.values()))\n",
    "print(len(flattened_codes))\n",
    "\n",
    "\n",
    "\n",
    "\n",
    "#flattened_codesの値を渡すとその企業コードのIRBANKのトップページが開き、その中の決算情報ページのリンクURLの一部を取得\n",
    "with open('csv/closing_dict.pickle', 'rb') as f:\n",
    "            ex_data = pickle.load(f)\n",
    "flatclosing_urls = list(itertools.chain(ex_data.values()))\n",
    "\n",
    "#-------------------------------------------------------------------------一先ず終了2023/01/05----------------------------------------------------------------------#\n",
    "#上記を満たした企業コードの決算ページxxxxxx/resultsにアクセスし企業名と条件の財務の値を取得\n",
    "focus_url=[]\n",
    "text1=[]\n",
    "for flatclosing_url in flatclosing_urls[:2]:\n",
    "    url='https://irbank.net{}'.format(flatclosing_url)\n",
    "    sleep(random.uniform(3, 8)) \n",
    "    focus_url.append(url)\n",
    "    r=requests.get(url)\n",
    "    soup = BeautifulSoup(r.text, 'html.parser')\n",
    "    title=soup.find('h1').text\n",
    "    decopo=soup.find_all('a')\n",
    "    for a in decopo:\n",
    "        a.decompose()\n",
    "    tagget= soup.find_all('h2')\n",
    "    text1.append(tagget)\n",
    "text1_stringso = [[h2 for h2 in text] for text in text1]\n",
    "        \n",
    "target_h2_stringso = [[t for t in ext if \"売上高\" in t or\"EPS\" in t or \"営業利益率\" in t or \"自己資本比率\" in t or\n",
    "                      \"営業活動によるCF\" in t or \"現金等\" in t or \"一株配当\" in t or \"配当性向\" in t] for ext in text1_stringso ]\n",
    "test_lists = [[i.find_next_sibling().find_all('span', class_='text') for i in uu]for uu in target_h2_stringso   if len(uu)==8]\n",
    "\n",
    "#-------------------------------------------------------------------------ひとまず終了き------------------------------------------------------------------------#\n",
    "d_list=[]\n",
    "for test_list in test_lists:\n",
    "    if len(test_list)==8:"
   ]
  },
  {
   "cell_type": "code",
   "execution_count": 49,
   "id": "dbb937e2",
   "metadata": {},
   "outputs": [],
   "source": [
    "#ここから配当推移ページ\n",
    "@tictoc\n",
    "@cache\n",
    "def get_yeild_curve(code):\n",
    "\n",
    "    url = f'https://irbank.net/{code}/ir'\n",
    "    r = requests.get(url)\n",
    "    sleep(random.uniform(3, 8)) \n",
    "    soup = BeautifulSoup(r.text,'html.parser')\n",
    "    element = soup.select('div.csb.cc2 > ul:nth-of-type(2) > li:nth-of-type(7)')\n",
    "    for ec in element:\n",
    "        taget = ec.find('a')\n",
    "        link = taget.get('href')\n",
    "    return link"
   ]
  },
  {
   "cell_type": "code",
   "execution_count": 6,
   "id": "fd1ba2da",
   "metadata": {},
   "outputs": [
    {
     "ename": "NameError",
     "evalue": "name 'flattened_codes' is not defined",
     "output_type": "error",
     "traceback": [
      "\u001b[0;31m---------------------------------------------------------------------------\u001b[0m",
      "\u001b[0;31mNameError\u001b[0m                                 Traceback (most recent call last)",
      "\u001b[0;32m/var/folders/81/ckf4k5wn0d16719pp2dp8rqw0000gn/T/ipykernel_42891/2786257560.py\u001b[0m in \u001b[0;36m<module>\u001b[0;34m\u001b[0m\n\u001b[1;32m      7\u001b[0m \u001b[0;31m#     # your code here\u001b[0m\u001b[0;34m\u001b[0m\u001b[0;34m\u001b[0m\u001b[0m\n\u001b[1;32m      8\u001b[0m \u001b[0;31m#     time.sleep(60)\u001b[0m\u001b[0;34m\u001b[0m\u001b[0;34m\u001b[0m\u001b[0m\n\u001b[0;32m----> 9\u001b[0;31m \u001b[0;32mfor\u001b[0m \u001b[0mcode\u001b[0m \u001b[0;32min\u001b[0m \u001b[0mflattened_codes\u001b[0m\u001b[0;34m[\u001b[0m\u001b[0;36m0\u001b[0m\u001b[0;34m:\u001b[0m\u001b[0;36m300\u001b[0m\u001b[0;34m]\u001b[0m\u001b[0;34m:\u001b[0m\u001b[0;34m\u001b[0m\u001b[0;34m\u001b[0m\u001b[0m\n\u001b[0m\u001b[1;32m     10\u001b[0m     \u001b[0myeuld_url\u001b[0m \u001b[0;34m=\u001b[0m \u001b[0mget_yeild_curve\u001b[0m\u001b[0;34m(\u001b[0m\u001b[0mcode\u001b[0m\u001b[0;34m)\u001b[0m\u001b[0;34m\u001b[0m\u001b[0;34m\u001b[0m\u001b[0m\n\u001b[1;32m     11\u001b[0m     \u001b[0myeild_dict\u001b[0m\u001b[0;34m[\u001b[0m\u001b[0mcode\u001b[0m\u001b[0;34m]\u001b[0m \u001b[0;34m=\u001b[0m \u001b[0myeuld_url\u001b[0m\u001b[0;34m\u001b[0m\u001b[0;34m\u001b[0m\u001b[0m\n",
      "\u001b[0;31mNameError\u001b[0m: name 'flattened_codes' is not defined"
     ]
    }
   ],
   "source": [
    "#2\n",
    "#ここから配当推移ページ\n",
    "import pickle\n",
    "import os\n",
    "yeild_dict = {}\n",
    "# for page in range(0, 100, 10):\n",
    "#     # your code here\n",
    "#     time.sleep(60) \n",
    "for code in flattened_codes[0:300]:\n",
    "    yeuld_url = get_yeild_curve(code)\n",
    "    yeild_dict[code] = yeuld_url\n",
    "\n",
    "# 既存のpickleファイルがある場合\n",
    "    if os.path.exists('csv/yeild_dict.pickle'):\n",
    "        # ファイルから既存のデータを読み込む\n",
    "        with open('csv/yeild_dict.pickle', 'rb') as f:\n",
    "            ye_data = pickle.load(f)\n",
    "        # 既存のデータに新しいデータを追加\n",
    "        ye_data.update(yeild_dict)\n",
    "        # ファイルに追加されたデータを保存する\n",
    "        with open('csv/yeild_dict.pickle', 'wb') as f:\n",
    "            pickle.dump(ye_data, f)\n",
    "    # 初めての保存の場合\n",
    "    else:\n",
    "        with open('csv/yeild_dict.pickle', 'wb') as f:\n",
    "            pickle.dump(yeild_dict, f)\n",
    "            \n",
    "            "
   ]
  },
  {
   "cell_type": "code",
   "execution_count": 1,
   "id": "d4f23634",
   "metadata": {},
   "outputs": [
    {
     "ename": "NameError",
     "evalue": "name 'flattened_codes' is not defined",
     "output_type": "error",
     "traceback": [
      "\u001b[0;31m---------------------------------------------------------------------------\u001b[0m",
      "\u001b[0;31mNameError\u001b[0m                                 Traceback (most recent call last)",
      "\u001b[0;32m/var/folders/81/ckf4k5wn0d16719pp2dp8rqw0000gn/T/ipykernel_42891/1157520493.py\u001b[0m in \u001b[0;36m<module>\u001b[0;34m\u001b[0m\n\u001b[0;32m----> 1\u001b[0;31m \u001b[0mlen\u001b[0m\u001b[0;34m(\u001b[0m\u001b[0mflattened_codes\u001b[0m\u001b[0;34m)\u001b[0m\u001b[0;34m\u001b[0m\u001b[0;34m\u001b[0m\u001b[0m\n\u001b[0m",
      "\u001b[0;31mNameError\u001b[0m: name 'flattened_codes' is not defined"
     ]
    }
   ],
   "source": [
    "len(flattened_codes)"
   ]
  },
  {
   "cell_type": "code",
   "execution_count": 47,
   "id": "62099faa",
   "metadata": {},
   "outputs": [
    {
     "data": {
      "text/plain": [
       "[<li><a href=\"/E35470/dividend\" title=\"配当推移\">配当推移</a></li>]"
      ]
     },
     "execution_count": 47,
     "metadata": {},
     "output_type": "execute_result"
    }
   ],
   "source": [
    "element"
   ]
  },
  {
   "cell_type": "code",
   "execution_count": 39,
   "id": "d2cf81d9",
   "metadata": {},
   "outputs": [
    {
     "data": {
      "text/plain": [
       "{'9104': '/E04236/results',\n",
       " '9101': '/E04235/results',\n",
       " '9110': '/E04239/results',\n",
       " '1518': '/E00037/results',\n",
       " '9308': '/E04288/results',\n",
       " '1662': '/E00041/results',\n",
       " '1820': '/E00060/results',\n",
       " '9107': '/E04237/results',\n",
       " '2914': '/E00492/results',\n",
       " '5192': '/E01098/results',\n",
       " '5208': '/E01152/results',\n",
       " '5334': '/E01136/results',\n",
       " '5009': '/E01076/results',\n",
       " '8595': '/E04806/results',\n",
       " '5444': '/E01259/results',\n",
       " '8886': '/E03988/results',\n",
       " '7239': '/E02210/results',\n",
       " '4595': '/E31946/results',\n",
       " '7744': '/E02322/results',\n",
       " '3284': '/E27281/results',\n",
       " '6035': '/E31054/results',\n",
       " '6502': '/E01738/results',\n",
       " '1852': '/E00120/results',\n",
       " '3948': '/E00708/results',\n",
       " '1833': '/E00083/results',\n",
       " '3245': '/E04072/results',\n",
       " '7638': '/E03333/results',\n",
       " '2986': '/E35631/results',\n",
       " '2892': '/E00442/results',\n",
       " '6651': '/E01759/results',\n",
       " '8076': '/E02561/results',\n",
       " '7236': '/E02155/results',\n",
       " '9119': '/E04243/results',\n",
       " '8737': '/E03733/results',\n",
       " '7847': '/E02464/results',\n",
       " '8996': '/E04048/results',\n",
       " '5985': '/E01402/results',\n",
       " '7433': '/E02802/results',\n",
       " '6156': '/E02343/results',\n",
       " '9268': '/E33616/results',\n",
       " '3242': '/E04069/results',\n",
       " '7494': '/E03259/results',\n",
       " '7088': '/E35487/results',\n",
       " '3465': '/E31979/results',\n",
       " '7762': '/E02281/results',\n",
       " '9434': '/E04426/results',\n",
       " '7480': '/E02838/results',\n",
       " '4249': '/E33603/results',\n",
       " '8093': '/E02503/results',\n",
       " '8150': '/E02671/results',\n",
       " '9381': '/E04369/results',\n",
       " '8075': '/E02522/results',\n",
       " '8304': '/E03531/results',\n",
       " '1822': '/E00095/results',\n",
       " '8999': '/E04044/results',\n",
       " '9282': '/G12276/results',\n",
       " '6461': '/E01597/results',\n",
       " '6918': '/E01993/results',\n",
       " '5901': '/E01353/results',\n",
       " '6291': '/E02421/results',\n",
       " '1720': '/E00316/results',\n",
       " '4031': '/E00789/results',\n",
       " '8893': '/E03994/results',\n",
       " '7414': '/E01324/results',\n",
       " '5988': '/E01438/results',\n",
       " '4705': '/E05011/results',\n",
       " '1847': '/E00117/results',\n",
       " '6393': '/E01612/results',\n",
       " '2999': '/E35234/results',\n",
       " '7278': '/E02203/results',\n",
       " '9147': '/E36706/results',\n",
       " '5408': '/E01229/results',\n",
       " '1808': '/E00090/results',\n",
       " '6210': '/E01528/results',\n",
       " '2975': '/E34707/results',\n",
       " '7198': '/E33625/results',\n",
       " '4246': '/E30438/results',\n",
       " '3447': '/E33834/results',\n",
       " '7284': '/E02387/results',\n",
       " '1451': '/E34679/results',\n",
       " '5015': '/E02800/results',\n",
       " '7148': '/E24651/results',\n",
       " '3321': '/E02968/results',\n",
       " '5703': '/E26707/results',\n",
       " '9880': '/E02724/results',\n",
       " '3294': '/E30124/results',\n",
       " '8897': '/E03997/results',\n",
       " '5105': '/E01090/results',\n",
       " '8835': '/E00034/results',\n",
       " '2676': '/E02927/results',\n",
       " '1911': '/E00011/results',\n",
       " '7879': '/E00636/results',\n",
       " '6462': '/E01598/results',\n",
       " '8887': '/E03989/results',\n",
       " '3109': '/E00530/results',\n",
       " '6358': '/E01610/results',\n",
       " '2737': '/E02946/results',\n",
       " '9445': '/E04476/results',\n",
       " '1814': '/E00093/results',\n",
       " '7905': '/E00619/results',\n",
       " '6369': '/E01572/results',\n",
       " '9303': '/E04285/results',\n",
       " '8140': '/E02663/results',\n",
       " '2768': '/E02958/results',\n",
       " '9362': '/E04342/results',\n",
       " '8053': '/E02528/results',\n",
       " '6804': '/E01815/results',\n",
       " '4410': '/E01020/results',\n",
       " '7618': '/E03323/results',\n",
       " '5742': '/E01331/results',\n",
       " '6809': '/E01831/results',\n",
       " '8713': '/E23187/results',\n",
       " '1939': '/E00181/results',\n",
       " '4745': '/E05067/results',\n",
       " '5697': '/E01296/results',\n",
       " '5702': '/E01318/results',\n",
       " '5351': '/E01146/results',\n",
       " '4208': '/E01002/results',\n",
       " '4845': '/E05187/results',\n",
       " '8065': '/E02535/results',\n",
       " '5391': '/E01163/results',\n",
       " '7523': '/E03276/results',\n",
       " '8020': '/E02506/results',\n",
       " '6333': '/E01761/results',\n",
       " '7525': '/E02856/results',\n",
       " '1972': '/E00109/results',\n",
       " '8881': '/E03984/results',\n",
       " '5410': '/E01235/results',\n",
       " '1861': '/E00056/results',\n",
       " '5185': '/E01113/results',\n",
       " '7467': '/E02828/results',\n",
       " '9302': '/E04284/results',\n",
       " '3228': '/E04059/results',\n",
       " '7488': '/E02843/results',\n",
       " '4968': '/E01048/results',\n",
       " '1941': '/E00073/results',\n",
       " '4078': '/E00780/results',\n",
       " '4005': '/E00752/results',\n",
       " '4042': '/E00767/results',\n",
       " '8892': '/E03992/results',\n",
       " '3467': '/E32158/results',\n",
       " '7246': '/E02154/results',\n",
       " '4064': '/E00777/results',\n",
       " '8005': '/E03054/results',\n",
       " '4767': '/E05100/results',\n",
       " '6292': '/E01694/results',\n",
       " '4634': '/E00903/results',\n",
       " '4008': '/E00755/results',\n",
       " '3457': '/E31284/results',\n",
       " '5237': '/E01166/results',\n",
       " '9761': '/E04800/results',\n",
       " '5214': '/E01190/results',\n",
       " '7593': '/E02889/results',\n",
       " '1870': '/E00148/results',\n",
       " '1430': '/E31306/results',\n",
       " '8935': '/E04032/results',\n",
       " '7957': '/E02402/results',\n",
       " '3023': '/E02547/results',\n",
       " '6941': '/E01979/results',\n",
       " '1929': '/E00142/results',\n",
       " '1805': '/E00063/results',\n",
       " '7287': '/E02214/results',\n",
       " '8931': '/E04029/results',\n",
       " '8903': '/E04001/results',\n",
       " '7291': '/E02216/results',\n",
       " '5632': '/E01233/results',\n",
       " '7729': '/E02289/results',\n",
       " '7812': '/E31622/results',\n",
       " '1871': '/E01161/results',\n",
       " '8002': '/E02498/results',\n",
       " '1960': '/E00173/results',\n",
       " '4619': '/E00900/results',\n",
       " '7940': '/E33050/results',\n",
       " '8349': '/E03544/results',\n",
       " '9640': '/E04889/results',\n",
       " '6870': '/E02020/results',\n",
       " '4932': '/E35568/results',\n",
       " '6998': '/E01907/results',\n",
       " '8869': '/E03967/results',\n",
       " '9904': '/E03181/results'}"
      ]
     },
     "execution_count": 39,
     "metadata": {},
     "output_type": "execute_result"
    }
   ],
   "source": [
    "ex_data"
   ]
  },
  {
   "cell_type": "code",
   "execution_count": null,
   "id": "a073b460",
   "metadata": {},
   "outputs": [],
   "source": []
  }
 ],
 "metadata": {
  "kernelspec": {
   "display_name": "Python 3 (ipykernel)",
   "language": "python",
   "name": "python3"
  },
  "language_info": {
   "codemirror_mode": {
    "name": "ipython",
    "version": 3
   },
   "file_extension": ".py",
   "mimetype": "text/x-python",
   "name": "python",
   "nbconvert_exporter": "python",
   "pygments_lexer": "ipython3",
   "version": "3.9.13"
  }
 },
 "nbformat": 4,
 "nbformat_minor": 5
}
