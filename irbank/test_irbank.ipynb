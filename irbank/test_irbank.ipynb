{
 "cells": [
  {
   "cell_type": "code",
   "execution_count": 640,
   "id": "a41ab487",
   "metadata": {
    "scrolled": true
   },
   "outputs": [
    {
     "name": "stdout",
     "output_type": "stream",
     "text": [
      "733\n",
      "{'8999 グランディハウス': ['○', '○', 16, '○', '○', 7, '○', 9], '6918 アバールデータ': ['○', '○', 8, '○', '○', 8, '○', '○'], '6291 日本エアーテック': ['○', '○', 13, '○', '○', '○', '○', '○']}\n"
     ]
    }
   ],
   "source": [
    "from bs4 import BeautifulSoup\n",
    "import requests \n",
    "import re\n",
    "from time import sleep\n",
    "import pandas as pd\n",
    "import time\n",
    "from tqdm import tqdm\n",
    "import pickle\n",
    "import itertools\n",
    "import random　sleep(random.uniform(3, 8)) \n",
    "#全部のリストをつなげる(このページで取得するものはflatclosing_urls=決算ページのhrefで終了)\n",
    "with open('csv/closing_dict.pickle', 'rb') as f:\n",
    "            ex_data = pickle.load(f)\n",
    "flatclosing_urls = list(itertools.chain(ex_data.values()))\n",
    "\n",
    "#-------------------------------------------------------------------------一先ず終了2023/01/05----------------------------------------------------------------------#\n",
    "#上記を満たした企業コードの決算ページxxxxxx/resultsにアクセスし企業名と条件の財務の値を取得\n",
    "focus_url=[]\n",
    "\n",
    "all_title=[]\n",
    "text1=[]\n",
    "for flatclosing_url in flatclosing_url[50:60]:\n",
    "    url='https://irbank.net{}'.format(flatclosing_url)\n",
    "    sleep(random.uniform(3, 8)) \n",
    "    focus_url.append(url)\n",
    "    r=requests.get(url)\n",
    "    soup = BeautifulSoup(r.text, 'html.parser')\n",
    "    title=soup.find('h1').text\n",
    "    all_title.append(title)\n",
    "    decopo=soup.find_all('a')\n",
    "    for a in decopo:\n",
    "        a.decompose()\n",
    "    tagget= soup.find_all('h2')\n",
    "    text1.append(tagget)\n",
    "text1_stringso = [[h2 for h2 in text] for text in text1]\n",
    "\n",
    "target_h2_stringso = [[t for t in ext if \"売上高\" in t or\"EPS\" in t or \"営業利益率\" in t or \"自己資本比率\" in t or\n",
    "                      \"営業活動によるCF\" in t or \"現金等\" in t or \"一株配当\" in t or \"配当性向\" in t] for ext in text1_stringso ]\n",
    "test_lists = []\n",
    "titles = []\n",
    "false=[]\n",
    "for uu, title1 in zip(target_h2_stringso, all_title):\n",
    "    if len(uu) == 8:\n",
    "        test_lists.append([i.find_next_sibling().find_all('span', class_='text') for i in uu])\n",
    "        titles.append(title1)\n",
    "    else:\n",
    "        false.append({\"企業名\":title1,\"評価\":uu})\n",
    "        \n",
    "df_false = pd.DataFrame(false, columns=['title','uu'])\n",
    "#-------------------------------------------------------------------------ひとまず終了き------------------------------------------------------------------------#\n",
    "# d_list=[]\n",
    "sales_list=[[sale.text for sale in test_list[0]]for test_list in test_lists]\n",
    "#zfill完了\n",
    "eval_sales_list = [[convert_sales_figure(sale) for sale in sale_list] for sale_list in sales_list]\n",
    "#採点完了\n",
    "uriagedaka_stock = [check_uriagedaka(sale) for sale in eval_sales_list]\n",
    "\n",
    "#-------------------------------------------------------------------------2:ここからEPS2023/01/05--------------------------------------------------------------------------#\n",
    "eps_lists=[[ep.text for ep in test_list[1]]for test_list in test_lists]\n",
    "#zfill完了\n",
    "zeps_list = [[convert_eps(ep) for ep in eps_list]for eps_list in eps_lists]\n",
    "eps_stock = [check_eps(zeps) for zeps in zeps_list]\n",
    "\n",
    "#-------------------------------------------------------------------------3:ここから営業利益率2023/01/05- -------------------------------------------------------------------------#     \n",
    "\n",
    "op_lists=[[op.text for op in test_list[2]]for test_list in test_lists]\n",
    "zop_list = [[eval(s.split('%')[0]) for s in op_list]for op_list in op_lists] # '15.65' のような文字列を取得\n",
    "eiri_stock = [check_eiri(zop)for zop in zop_list]\n",
    "\n",
    "\n",
    "#-------------------------------------------------------------------------4:ここから自己資本利益率2023/01/05-------------------------------------------------------------------------#\n",
    "\n",
    "operation_lists=[[operation.text for operation in test_list[3]]for test_list in test_lists]\n",
    "zoption_list = [[floatparcent_hennkan(s) for s in operation_list]for operation_list in operation_lists]\n",
    "zikosihon_stock = [check_zikosihon(zoption)for zoption in zoption_list]\n",
    "\n",
    "\n",
    "#-------------------------------------------------------------------------5:ここから現金2023/01/05-------------------------------------------------------------------------#\n",
    "cash_lists=[[cash.text for cash in test_list[5]]for test_list in test_lists]\n",
    "  #zfill完了\n",
    "eval_cash_list = [[convert_sales_figure(cash)for cash in cash_list]for cash_list in cash_lists]\n",
    "genkin_stock = [check_genkin(eval_cash)for eval_cash in eval_cash_list]\n",
    "#-------------------------------------------------------------------------6:ここからCF -------------------------------------------------------------------------#\n",
    "cf_flow_lists=[[cfflow.text for cfflow in test_list[4]]for test_list in test_lists]\n",
    "#zfill完了\n",
    "eval_cf_flow_list = [[convert_flow_figure(flow)for flow in cf_flow_list]for cf_flow_list in cf_flow_lists]\n",
    "# モジュール内の関数を呼び出す\n",
    "cflow_stock = [check_cflow_order(eval_cf)for eval_cf in eval_cf_flow_list]\n",
    "\n",
    "#-------------------------------------------------------------------------7:ここから一株当たり-------------------------------------------------------------------------#\n",
    "#zfill完了\n",
    "stock_lists=[[stock.text for stock in test_list[6]]for test_list in test_lists]\n",
    "zstock_list = [[convert_stock_figure(s) for s in stock_list]for stock_list in stock_lists]\n",
    "hitokabu_stock=[check_zstock_order(zstock)for zstock in zstock_list]\n",
    "\n",
    "#-------------------------------------------------------------------------8:配当性向-------------------------------------------------------------------------#\n",
    "return_lists=[[return_money.text for return_money in test_list[7]]for test_list in test_lists]\n",
    "#zfill完了\n",
    "zreturn_list = [[convert_return(return_money)for return_money in return_list]for return_list in return_lists]\n",
    "seikou_stock=[check_zreturn_range(zreturn)for zreturn in zreturn_list]\n",
    "#-------------------------------------------------------------------------ひとまず終了------------------------------------------------------------------------#\n",
    "\n",
    "\n",
    "analyzes_dict = {}\n",
    "for i in range(len(titles)):\n",
    "    analyzes_dict[titles[i]] = [uriagedaka_stock[i], eps_stock[i], eiri_stock[i], zikosihon_stock[i], genkin_stock[i], cflow_stock[i], hitokabu_stock[i],seikou_stock[i]]\n",
    "\n",
    "gooo = [[key, len(va)] for key, value in analyzes_dict.items() for va in value]\n",
    "gooo_dict = {}\n",
    "for lst in gooo:\n",
    "    key, val = lst\n",
    "    if key not in gooo_dict:\n",
    "        gooo_dict[key] = []\n",
    "    gooo_dict[key].append(val)\n",
    "for key, value in gooo_dict.items():\n",
    "    gooo_dict[key] = list(map(lambda x: '○' if x <= 6 else x, value))\n",
    "\n",
    "ed_list = {}\n",
    "for key, value in gooo_dict.items():\n",
    "    if value.count('○') >= 4:\n",
    "        ed_list[key] = value\n",
    "print(ed_list)\n",
    "ed_df = pd.DataFrame.from_dict(ed_list, orient='index', columns=['売上高','EPS','営業利益率','自己資本比率','現金','営業キャッシュフロー','一株配当','配当性向'])\n",
    "ed_df.style.set_properties(**{'text-align': 'center'})\n",
    "ed_df.to_csv('csv/stock_target.csv',index=True,encoding='utf-8-sig',mode='a')\n",
    "\n",
    "\n",
    "\n"
   ]
  },
  {
   "cell_type": "code",
   "execution_count": 491,
   "id": "f45d263c",
   "metadata": {},
   "outputs": [],
   "source": [
    "ed_list = {}\n",
    "for key, value in gooo_dict.items():\n",
    "    if value.count('○') >= 2:\n",
    "        ed_list[key] = value"
   ]
  },
  {
   "cell_type": "code",
   "execution_count": 634,
   "id": "426aa68f",
   "metadata": {},
   "outputs": [
    {
     "name": "stdout",
     "output_type": "stream",
     "text": [
      "733\n"
     ]
    },
    {
     "ename": "KeyError",
     "evalue": "0",
     "output_type": "error",
     "traceback": [
      "\u001b[0;31m---------------------------------------------------------------------------\u001b[0m",
      "\u001b[0;31mKeyError\u001b[0m                                  Traceback (most recent call last)",
      "\u001b[0;32m/var/folders/81/ckf4k5wn0d16719pp2dp8rqw0000gn/T/ipykernel_42891/2805148264.py\u001b[0m in \u001b[0;36m<module>\u001b[0;34m\u001b[0m\n\u001b[1;32m     55\u001b[0m \u001b[0;31m#-------------------------------------------------------------------------ひとまず終了き------------------------------------------------------------------------#\u001b[0m\u001b[0;34m\u001b[0m\u001b[0;34m\u001b[0m\u001b[0m\n\u001b[1;32m     56\u001b[0m \u001b[0;31m# d_list=[]\u001b[0m\u001b[0;34m\u001b[0m\u001b[0;34m\u001b[0m\u001b[0m\n\u001b[0;32m---> 57\u001b[0;31m \u001b[0msales_list\u001b[0m\u001b[0;34m=\u001b[0m\u001b[0;34m[\u001b[0m\u001b[0;34m[\u001b[0m\u001b[0msale\u001b[0m\u001b[0;34m.\u001b[0m\u001b[0mtext\u001b[0m \u001b[0;32mfor\u001b[0m \u001b[0msale\u001b[0m \u001b[0;32min\u001b[0m \u001b[0mtest_list\u001b[0m\u001b[0;34m[\u001b[0m\u001b[0;36m0\u001b[0m\u001b[0;34m]\u001b[0m\u001b[0;34m]\u001b[0m\u001b[0;32mfor\u001b[0m \u001b[0mtest_list\u001b[0m \u001b[0;32min\u001b[0m \u001b[0mtest_lists\u001b[0m\u001b[0;34m]\u001b[0m\u001b[0;34m\u001b[0m\u001b[0;34m\u001b[0m\u001b[0m\n\u001b[0m\u001b[1;32m     58\u001b[0m \u001b[0;31m#zfill完了\u001b[0m\u001b[0;34m\u001b[0m\u001b[0;34m\u001b[0m\u001b[0m\n\u001b[1;32m     59\u001b[0m \u001b[0meval_sales_list\u001b[0m \u001b[0;34m=\u001b[0m \u001b[0;34m[\u001b[0m\u001b[0;34m[\u001b[0m\u001b[0mconvert_sales_figure\u001b[0m\u001b[0;34m(\u001b[0m\u001b[0msale\u001b[0m\u001b[0;34m)\u001b[0m \u001b[0;32mfor\u001b[0m \u001b[0msale\u001b[0m \u001b[0;32min\u001b[0m \u001b[0msale_list\u001b[0m\u001b[0;34m]\u001b[0m \u001b[0;32mfor\u001b[0m \u001b[0msale_list\u001b[0m \u001b[0;32min\u001b[0m \u001b[0msales_list\u001b[0m\u001b[0;34m]\u001b[0m\u001b[0;34m\u001b[0m\u001b[0;34m\u001b[0m\u001b[0m\n",
      "\u001b[0;32m/var/folders/81/ckf4k5wn0d16719pp2dp8rqw0000gn/T/ipykernel_42891/2805148264.py\u001b[0m in \u001b[0;36m<listcomp>\u001b[0;34m(.0)\u001b[0m\n\u001b[1;32m     55\u001b[0m \u001b[0;31m#-------------------------------------------------------------------------ひとまず終了き------------------------------------------------------------------------#\u001b[0m\u001b[0;34m\u001b[0m\u001b[0;34m\u001b[0m\u001b[0m\n\u001b[1;32m     56\u001b[0m \u001b[0;31m# d_list=[]\u001b[0m\u001b[0;34m\u001b[0m\u001b[0;34m\u001b[0m\u001b[0m\n\u001b[0;32m---> 57\u001b[0;31m \u001b[0msales_list\u001b[0m\u001b[0;34m=\u001b[0m\u001b[0;34m[\u001b[0m\u001b[0;34m[\u001b[0m\u001b[0msale\u001b[0m\u001b[0;34m.\u001b[0m\u001b[0mtext\u001b[0m \u001b[0;32mfor\u001b[0m \u001b[0msale\u001b[0m \u001b[0;32min\u001b[0m \u001b[0mtest_list\u001b[0m\u001b[0;34m[\u001b[0m\u001b[0;36m0\u001b[0m\u001b[0;34m]\u001b[0m\u001b[0;34m]\u001b[0m\u001b[0;32mfor\u001b[0m \u001b[0mtest_list\u001b[0m \u001b[0;32min\u001b[0m \u001b[0mtest_lists\u001b[0m\u001b[0;34m]\u001b[0m\u001b[0;34m\u001b[0m\u001b[0;34m\u001b[0m\u001b[0m\n\u001b[0m\u001b[1;32m     58\u001b[0m \u001b[0;31m#zfill完了\u001b[0m\u001b[0;34m\u001b[0m\u001b[0;34m\u001b[0m\u001b[0m\n\u001b[1;32m     59\u001b[0m \u001b[0meval_sales_list\u001b[0m \u001b[0;34m=\u001b[0m \u001b[0;34m[\u001b[0m\u001b[0;34m[\u001b[0m\u001b[0mconvert_sales_figure\u001b[0m\u001b[0;34m(\u001b[0m\u001b[0msale\u001b[0m\u001b[0;34m)\u001b[0m \u001b[0;32mfor\u001b[0m \u001b[0msale\u001b[0m \u001b[0;32min\u001b[0m \u001b[0msale_list\u001b[0m\u001b[0;34m]\u001b[0m \u001b[0;32mfor\u001b[0m \u001b[0msale_list\u001b[0m \u001b[0;32min\u001b[0m \u001b[0msales_list\u001b[0m\u001b[0;34m]\u001b[0m\u001b[0;34m\u001b[0m\u001b[0;34m\u001b[0m\u001b[0m\n",
      "\u001b[0;31mKeyError\u001b[0m: 0"
     ]
    }
   ],
   "source": [
    "from bs4 import BeautifulSoup\n",
    "import requests \n",
    "import re\n",
    "from time import sleep\n",
    "import pandas as pd\n",
    "import time\n",
    "from tqdm import tqdm\n",
    "import pickle\n",
    "import itertools\n",
    "import random\n",
    "#1番目\n",
    "with open('csv/securities_codes.pickle', 'rb') as f:\n",
    "            existing_data = pickle.load(f)\n",
    "#リストを一緒くたに一つに\n",
    "flattened_codes = list(itertools.chain(*existing_data.values()))\n",
    "print(len(flattened_codes))\n",
    "\n",
    "#2番目\n",
    "#flattened_codesの値を渡すとその企業コードのIRBANKのトップページが開き、その中の決算情報ページのリンクURLの一部を取得\n",
    "with open('csv/closing_dict.pickle', 'rb') as f:\n",
    "            ex_data = pickle.load(f)\n",
    "flatclosing_urls = list(itertools.chain(ex_data.values()))\n",
    "\n",
    "#-------------------------------------------------------------------------一先ず終了2023/01/05----------------------------------------------------------------------#\n",
    "#上記を満たした企業コードの決算ページxxxxxx/resultsにアクセスし企業名と条件の財務の値を取得\n",
    "focus_url=[]\n",
    "false=[]\n",
    "all_title=[]\n",
    "text1=[]\n",
    "for flatclosing_url in flatclosing_urls[30:35]:\n",
    "    url='https://irbank.net{}'.format(flatclosing_url)\n",
    "    sleep(random.uniform(3, 8)) \n",
    "    focus_url.append(url)\n",
    "    r=requests.get(url)\n",
    "    soup = BeautifulSoup(r.text, 'html.parser')\n",
    "    title=soup.find('h1').text\n",
    "    all_title.append(title)\n",
    "    decopo=soup.find_all('a')\n",
    "    for a in decopo:\n",
    "        a.decompose()\n",
    "    tagget= soup.find_all('h2')\n",
    "    text1.append(tagget)\n",
    "text1_stringso = [[h2 for h2 in text] for text in text1]\n",
    "\n",
    "target_h2_stringso = [[t for t in ext if \"売上高\" in t or\"EPS\" in t or \"営業利益率\" in t or \"自己資本比率\" in t or\n",
    "                      \"営業活動によるCF\" in t or \"現金等\" in t or \"一株配当\" in t or \"配当性向\" in t] for ext in text1_stringso ]\n",
    "test_lists = []\n",
    "#見た目的にはこの方が綺麗\n",
    "# for uu, title1 in zip(target_h2_stringso, all_title):\n",
    "#     if len(uu) == 8:\n",
    "#         test_lists.append({\"企業名\": title1, \"評価\": [i.find_next_sibling().find_all('span', class_='text') for i in uu]})\n",
    "#     else:\n",
    "#         false.append({\"企業名\":title1,\"評価\":uu})\n",
    "        \n",
    "df_false = pd.DataFrame(false, columns=['title','uu'])\n",
    "#-------------------------------------------------------------------------ひとまず終了き------------------------------------------------------------------------#\n",
    "\n",
    "# d_list=[]\n",
    "sales_list=[[sale.text for sale in test_list[0]]for test_list in test_lists]\n",
    "#zfill完了\n",
    "eval_sales_list = [[convert_sales_figure(sale) for sale in sale_list] for sale_list in sales_list]\n",
    "#採点完了\n",
    "uriagedaka_stock = [check_uriagedaka(sale) for sale in eval_sales_list]\n",
    "\n",
    "#-------------------------------------------------------------------------2:ここからEPS2023/01/05--------------------------------------------------------------------------#\n",
    "eps_lists=[[ep.text for ep in test_list[1]]for test_list in test_lists]\n",
    "#zfill完了\n",
    "zeps_list = [[convert_eps(ep) for ep in eps_list]for eps_list in eps_lists]\n",
    "eps_stock = [check_eps(zeps) for zeps in zeps_list]\n",
    "\n",
    "#-------------------------------------------------------------------------3:ここから営業利益率2023/01/05- -------------------------------------------------------------------------#     \n",
    "\n",
    "op_lists=[[op.text for op in test_list[2]]for test_list in test_lists]\n",
    "zop_list = [[eval(s.split('%')[0]) for s in op_list]for op_list in op_lists] # '15.65' のような文字列を取得\n",
    "eiri_stock = [check_eiri(zop)for zop in zop_list]\n",
    "\n",
    "\n",
    "#-------------------------------------------------------------------------4:ここから自己資本利益率2023/01/05-------------------------------------------------------------------------#\n",
    "\n",
    "operation_lists=[[operation.text for operation in test_list[3]]for test_list in test_lists]\n",
    "zoption_list = [[floatparcent_hennkan(s) for s in operation_list]for operation_list in operation_lists]\n",
    "zikosihon_stock = [check_zikosihon(zoption)for zoption in zoption_list]\n",
    "\n",
    "\n",
    "#-------------------------------------------------------------------------5:ここから現金2023/01/05-------------------------------------------------------------------------#\n",
    "cash_lists=[[cash.text for cash in test_list[5]]for test_list in test_lists]\n",
    "  #zfill完了\n",
    "eval_cash_list = [[convert_sales_figure(cash)for cash in cash_list]for cash_list in cash_lists]\n",
    "genkin_stock = [check_genkin(eval_cash)for eval_cash in eval_cash_list]\n",
    "#-------------------------------------------------------------------------6:ここからCF -------------------------------------------------------------------------#\n",
    "cf_flow_lists=[[cfflow.text for cfflow in test_list[4]]for test_list in test_lists]\n",
    "#zfill完了\n",
    "eval_cf_flow_list = [[convert_flow_figure(flow)for flow in cf_flow_list]for cf_flow_list in cf_flow_lists]\n",
    "# モジュール内の関数を呼び出す\n",
    "cflow_stock = [check_cflow_order(eval_cf)for eval_cf in eval_cf_flow_list]\n",
    "\n",
    "#-------------------------------------------------------------------------7:ここから一株当たり-------------------------------------------------------------------------#\n",
    "#zfill完了\n",
    "stock_lists=[[stock.text for stock in test_list[6]]for test_list in test_lists]\n",
    "zstock_list = [[convert_stock_figure(s) for s in stock_list]for stock_list in stock_lists]\n",
    "hitokabu_stock=[check_zstock_order(zstock)for zstock in zstock_list]\n",
    "\n",
    "#-------------------------------------------------------------------------8:配当性向-------------------------------------------------------------------------#\n",
    "return_lists=[[return_money.text for return_money in test_list[7]]for test_list in test_lists]\n",
    "#zfill完了\n",
    "zreturn_list = [[convert_return(return_money)for return_money in return_list]for return_list in return_lists]\n",
    "seikou_stock=[check_zreturn_range(zreturn)for zreturn in zreturn_list]\n",
    "#-------------------------------------------------------------------------ひとまず終了------------------------------------------------------------------------#\n",
    "\n",
    "\n",
    "analyzes_dict = {}\n",
    "for i in range(len(all_title)):\n",
    "    analyzes_dict[all_title[i]] = [uriagedaka_stock[i], eps_stock[i], eiri_stock[i], zikosihon_stock[i], genkin_stock[i], cflow_stock[i], hitokabu_stock[i],seikou_stock[i]]\n",
    "\n",
    "gooo = [[key, len(va)] for key, value in analyzes_dict.items() for va in value]\n",
    "gooo_dict = {}\n",
    "for lst in gooo:\n",
    "    key, val = lst\n",
    "    if key not in gooo_dict:\n",
    "        gooo_dict[key] = []\n",
    "    gooo_dict[key].append(val)\n",
    "for key, value in gooo_dict.items():\n",
    "    gooo_dict[key] = list(map(lambda x: '○' if x <= 4 else x, value))\n",
    "\n",
    "ed_list = {}\n",
    "for key, value in gooo_dict.items():\n",
    "    if value.count('○') >= 4:\n",
    "        ed_list[key] = value\n",
    "print(ed_list)\n",
    "ed_df = pd.DataFrame.from_dict(ed_list, orient='index', columns=['売上高','EPS','営業利益率','自己資本比率','現金','営業キャッシュフロー','一株配当','配当性向'])\n",
    "ed_df.style.set_properties(**{'text-align': 'center'})\n",
    "ed_df.to_csv('csv/stock_target.csv',index=True,encoding='utf-8-sig',mode='a')\n",
    "\n",
    "\n",
    "\n",
    "\n"
   ]
  },
  {
   "cell_type": "code",
   "execution_count": 638,
   "id": "9494d32c",
   "metadata": {},
   "outputs": [
    {
     "data": {
      "text/plain": [
       "180"
      ]
     },
     "execution_count": 638,
     "metadata": {},
     "output_type": "execute_result"
    }
   ],
   "source": [
    "len(flatclosing_urls)"
   ]
  },
  {
   "cell_type": "code",
   "execution_count": 479,
   "id": "0f071c11",
   "metadata": {},
   "outputs": [
    {
     "name": "stdout",
     "output_type": "stream",
     "text": [
      "{'9104 商船三井': [8, '○', 14, 14, '○', 7, '○', 12], '9101 日本郵船': [8, '○', 15, 14, 8, '○', '○', 10], '9110 NSユナイテッド海運': ['○', '○', 12, 12, '○', '○', '○', 9], '1518 三井松島 HD': [9, '○', 14, '○', '○', '○', 9, 8]}\n"
     ]
    }
   ],
   "source": [
    "ed_list = {}\n",
    "for key, value in gooo_dict.items():\n",
    "    if value.count('○') >= 2:\n",
    "        ed_list[key] = value\n",
    "print(ed_list)\n"
   ]
  },
  {
   "cell_type": "code",
   "execution_count": 623,
   "id": "ae473bd3",
   "metadata": {},
   "outputs": [],
   "source": [
    "test_lists = []\n",
    "for uu, title1 in zip(target_h2_stringso, all_title):\n",
    "    if len(uu) == 8:\n",
    "        test_lists.append([i.find_next_sibling().find_all('span', class_='text') for i in uu])\n"
   ]
  },
  {
   "cell_type": "code",
   "execution_count": 627,
   "id": "29626e9d",
   "metadata": {},
   "outputs": [
    {
     "data": {
      "text/plain": [
       "4"
      ]
     },
     "execution_count": 627,
     "metadata": {},
     "output_type": "execute_result"
    }
   ],
   "source": [
    "len(test_lists)\n"
   ]
  },
  {
   "cell_type": "code",
   "execution_count": 456,
   "id": "f19070eb",
   "metadata": {},
   "outputs": [],
   "source": []
  },
  {
   "cell_type": "code",
   "execution_count": 462,
   "id": "eb05b272",
   "metadata": {},
   "outputs": [],
   "source": [
    "gooo = [[key, len(va)] for key, value in analyzes_dict.items() for va in value]\n",
    "gooo_dict = {}\n",
    "for lst in gooo:\n",
    "    key, val = lst\n",
    "    if key not in gooo_dict:\n",
    "        gooo_dict[key] = []\n",
    "    gooo_dict[key].append(val)\n",
    "for key, value in gooo_dict.items():\n",
    "    gooo_dict[key] = list(map(lambda x: '○' if x >= 0 else x, value))\n"
   ]
  },
  {
   "cell_type": "code",
   "execution_count": 466,
   "id": "d9636c5b",
   "metadata": {},
   "outputs": [
    {
     "name": "stdout",
     "output_type": "stream",
     "text": [
      "{'9104 商船三井': ['○', '○', '○', '○', '○', '○', '○', '○'], '9101 日本郵船': ['○', '○', '○', '○', '○', '○', '○', '○'], '9110 NSユナイテッド海運': ['○', '○', '○', '○', '○', '○', '○', '○'], '1518 三井松島 HD': ['○', '○', '○', '○', '○', '○', '○', '○'], '9308 乾汽船': ['○', '○', '○', '○', '○', '○', '○', '○']}\n"
     ]
    }
   ],
   "source": [
    "ed_list = {}\n",
    "for key, value in gooo_dict.items():\n",
    "    if value.count('○') >= 2:\n",
    "        ed_list[key] = value\n",
    "print(ed_list)\n",
    "import pandas as pd\n",
    "ed_df = pd.DataFrame.from_dict(ed_list, orient='index', columns=['売上高','EPS','営業利益率','自己資本比率','現金','営業キャッシュフロー','一株配当','配当性向'])\n"
   ]
  },
  {
   "cell_type": "code",
   "execution_count": 549,
   "id": "22948c31",
   "metadata": {},
   "outputs": [
    {
     "data": {
      "text/html": [
       "<div>\n",
       "<style scoped>\n",
       "    .dataframe tbody tr th:only-of-type {\n",
       "        vertical-align: middle;\n",
       "    }\n",
       "\n",
       "    .dataframe tbody tr th {\n",
       "        vertical-align: top;\n",
       "    }\n",
       "\n",
       "    .dataframe thead th {\n",
       "        text-align: right;\n",
       "    }\n",
       "</style>\n",
       "<table border=\"1\" class=\"dataframe\">\n",
       "  <thead>\n",
       "    <tr style=\"text-align: right;\">\n",
       "      <th></th>\n",
       "      <th>売上高</th>\n",
       "      <th>EPS</th>\n",
       "      <th>営業利益率</th>\n",
       "      <th>自己資本比率</th>\n",
       "      <th>現金</th>\n",
       "      <th>営業キャッシュフロー</th>\n",
       "      <th>一株配当</th>\n",
       "      <th>配当性向</th>\n",
       "    </tr>\n",
       "  </thead>\n",
       "  <tbody>\n",
       "    <tr>\n",
       "      <th>3245 ディア・ライフ</th>\n",
       "      <td>○</td>\n",
       "      <td>6</td>\n",
       "      <td>7</td>\n",
       "      <td>○</td>\n",
       "      <td>6</td>\n",
       "      <td>6</td>\n",
       "      <td>○</td>\n",
       "      <td>○</td>\n",
       "    </tr>\n",
       "    <tr>\n",
       "      <th>7638 NEW ART HOLDINGS</th>\n",
       "      <td>6</td>\n",
       "      <td>○</td>\n",
       "      <td>9</td>\n",
       "      <td>○</td>\n",
       "      <td>6</td>\n",
       "      <td>○</td>\n",
       "      <td>○</td>\n",
       "      <td>○</td>\n",
       "    </tr>\n",
       "    <tr>\n",
       "      <th>2986 LA HD</th>\n",
       "      <td>○</td>\n",
       "      <td>○</td>\n",
       "      <td>○</td>\n",
       "      <td>○</td>\n",
       "      <td>○</td>\n",
       "      <td>○</td>\n",
       "      <td>○</td>\n",
       "      <td>○</td>\n",
       "    </tr>\n",
       "    <tr>\n",
       "      <th>6651 日東工業</th>\n",
       "      <td>6</td>\n",
       "      <td>○</td>\n",
       "      <td>11</td>\n",
       "      <td>○</td>\n",
       "      <td>○</td>\n",
       "      <td>8</td>\n",
       "      <td>○</td>\n",
       "      <td>○</td>\n",
       "    </tr>\n",
       "  </tbody>\n",
       "</table>\n",
       "</div>"
      ],
      "text/plain": [
       "                      売上高 EPS 営業利益率 自己資本比率 現金 営業キャッシュフロー 一株配当 配当性向\n",
       "3245 ディア・ライフ            ○   6     7      ○  6          6    ○    ○\n",
       "7638 NEW ART HOLDINGS   6   ○     9      ○  6          ○    ○    ○\n",
       "2986 LA HD              ○   ○     ○      ○  ○          ○    ○    ○\n",
       "6651 日東工業               6   ○    11      ○  ○          8    ○    ○"
      ]
     },
     "execution_count": 549,
     "metadata": {},
     "output_type": "execute_result"
    }
   ],
   "source": [
    "ed_df"
   ]
  },
  {
   "cell_type": "code",
   "execution_count": 577,
   "id": "09862a5b",
   "metadata": {},
   "outputs": [
    {
     "name": "stdout",
     "output_type": "stream",
     "text": [
      "8737 あかつき本社\n"
     ]
    }
   ],
   "source": [
    "for uu, title in zip(target_h2_stringso, all_title):\n",
    "    if len(uu) == 8:\n",
    "        test_lists = [[i.find_next_sibling().find_all('span', class_='text') for i in uu]]\n",
    "    else:\n",
    "        print(title)\n",
    "\n",
    "\n",
    "\n",
    "\n",
    "\n"
   ]
  },
  {
   "cell_type": "code",
   "execution_count": null,
   "id": "ba278a11",
   "metadata": {},
   "outputs": [],
   "source": []
  },
  {
   "cell_type": "code",
   "execution_count": 344,
   "id": "5028a7ff",
   "metadata": {},
   "outputs": [],
   "source": [
    "d_list=[]\n",
    "for fi in fine:\n",
    "    if fi.count('○') >= 0:\n",
    "        d_list.append(fi)\n",
    "# d_list=[fi for if fi.count('○') >= 0 for alltitle in all_title]"
   ]
  },
  {
   "cell_type": "code",
   "execution_count": 345,
   "id": "1a9a1f4b",
   "metadata": {},
   "outputs": [
    {
     "data": {
      "text/plain": [
       "[['○', '○', '○', '○', '○', '○', '○', '○'],\n",
       " ['○', '○', '○', '○', '○', '○', '○', '○'],\n",
       " ['○', '○', '○', '○', '○', '○', '○', '○'],\n",
       " ['○', '○', '○', '○', '○', '○', '○', '○'],\n",
       " ['○', '○', '○', '○', '○', '○', '○', '○']]"
      ]
     },
     "execution_count": 345,
     "metadata": {},
     "output_type": "execute_result"
    }
   ],
   "source": [
    "d_list"
   ]
  },
  {
   "cell_type": "code",
   "execution_count": 256,
   "id": "01f44cfd",
   "metadata": {},
   "outputs": [],
   "source": [
    "focus_url=[]\n",
    "text=[]\n",
    "for flatclosing_url in flatclosing_urls[0:3]:\n",
    "    url='https://irbank.net{}'.format(flatclosing_url)\n",
    "    sleep(random.uniform(3, 8)) \n",
    "    focus_url.append(url)\n",
    "    r=requests.get(url)\n",
    "    soup = BeautifulSoup(r.text, 'html.parser')\n",
    "    title=soup.find('h1').text\n",
    "    tagget= soup.find_all('h2')\n",
    "    text.append(tagget)\n"
   ]
  },
  {
   "cell_type": "code",
   "execution_count": 11,
   "id": "002928cd",
   "metadata": {},
   "outputs": [
    {
     "name": "stdout",
     "output_type": "stream",
     "text": [
      "733\n"
     ]
    },
    {
     "ename": "NameError",
     "evalue": "name 'sleep' is not defined",
     "output_type": "error",
     "traceback": [
      "\u001b[0;31m---------------------------------------------------------------------------\u001b[0m",
      "\u001b[0;31mNameError\u001b[0m                                 Traceback (most recent call last)",
      "\u001b[0;32m/var/folders/81/ckf4k5wn0d16719pp2dp8rqw0000gn/T/ipykernel_42891/599292824.py\u001b[0m in \u001b[0;36m<module>\u001b[0;34m\u001b[0m\n\u001b[1;32m     12\u001b[0m \u001b[0;32mfor\u001b[0m \u001b[0mflatclosing_url\u001b[0m \u001b[0;32min\u001b[0m \u001b[0mflatclosing_urls\u001b[0m\u001b[0;34m[\u001b[0m\u001b[0;34m:\u001b[0m\u001b[0;36m2\u001b[0m\u001b[0;34m]\u001b[0m\u001b[0;34m:\u001b[0m\u001b[0;34m\u001b[0m\u001b[0;34m\u001b[0m\u001b[0m\n\u001b[1;32m     13\u001b[0m     \u001b[0murl\u001b[0m\u001b[0;34m=\u001b[0m\u001b[0;34m'https://irbank.net{}'\u001b[0m\u001b[0;34m.\u001b[0m\u001b[0mformat\u001b[0m\u001b[0;34m(\u001b[0m\u001b[0mflatclosing_url\u001b[0m\u001b[0;34m)\u001b[0m\u001b[0;34m\u001b[0m\u001b[0;34m\u001b[0m\u001b[0m\n\u001b[0;32m---> 14\u001b[0;31m     \u001b[0msleep\u001b[0m\u001b[0;34m(\u001b[0m\u001b[0mrandom\u001b[0m\u001b[0;34m.\u001b[0m\u001b[0muniform\u001b[0m\u001b[0;34m(\u001b[0m\u001b[0;36m3\u001b[0m\u001b[0;34m,\u001b[0m \u001b[0;36m8\u001b[0m\u001b[0;34m)\u001b[0m\u001b[0;34m)\u001b[0m\u001b[0;34m\u001b[0m\u001b[0;34m\u001b[0m\u001b[0m\n\u001b[0m\u001b[1;32m     15\u001b[0m     \u001b[0mfocus_url\u001b[0m\u001b[0;34m.\u001b[0m\u001b[0mappend\u001b[0m\u001b[0;34m(\u001b[0m\u001b[0murl\u001b[0m\u001b[0;34m)\u001b[0m\u001b[0;34m\u001b[0m\u001b[0;34m\u001b[0m\u001b[0m\n\u001b[1;32m     16\u001b[0m     \u001b[0mr\u001b[0m\u001b[0;34m=\u001b[0m\u001b[0mrequests\u001b[0m\u001b[0;34m.\u001b[0m\u001b[0mget\u001b[0m\u001b[0;34m(\u001b[0m\u001b[0murl\u001b[0m\u001b[0;34m)\u001b[0m\u001b[0;34m\u001b[0m\u001b[0;34m\u001b[0m\u001b[0m\n",
      "\u001b[0;31mNameError\u001b[0m: name 'sleep' is not defined"
     ]
    }
   ],
   "source": [
    "with open('csv/securities_codes.pickle', 'rb') as f:\n",
    "            existing_data = pickle.load(f)\n",
    "#リストを一緒くたに一つに\n",
    "flattened_codes = list(itertools.chain(*existing_data.values()))\n",
    "print(len(flattened_codes))\n",
    "#flattened_codesの値を渡すとその企業コードのIRBANKのトップページが開き、その中の決算情報ページのリンクURLの一部を取得\n",
    "with open('csv/closing_dict.pickle', 'rb') as f:\n",
    "            ex_data = pickle.load(f)\n",
    "flatclosing_urls = list(itertools.chain(ex_data.values()))\n",
    "focus_url=[]\n",
    "text1=[]\n",
    "for flatclosing_url in flatclosing_urls[:2]:\n",
    "    url='https://irbank.net{}'.format(flatclosing_url)\n",
    "    sleep(random.uniform(3, 8)) \n",
    "    focus_url.append(url)\n",
    "    r=requests.get(url)\n",
    "    soup = BeautifulSoup(r.text, 'html.parser')\n",
    "    title=soup.find('h1').text\n",
    "    decopo=soup.find_all('a')\n",
    "    for a in decopo:\n",
    "        a.decompose()\n",
    "    tagget= soup.find_all('h2')\n",
    "    text1.append(tagget)\n",
    "text1_stringso = [[h2 for h2 in text] for text in text1]\n",
    "        \n",
    "target_h2_stringso = [[t for t in ext if \"売上高\" in t or\"EPS\" in t or \"営業利益率\" in t or \"自己資本比率\" in t or\n",
    "                      \"営業活動によるCF\" in t or \"現金等\" in t or \"一株配当\" in t or \"配当性向\" in t] for ext in text1_stringso ]\n",
    "test_lists = [[i.find_next_sibling().find_all('span', class_='text') for i in uu]for uu in target_h2_stringso   if len(uu)==8]\n",
    "\n",
    "\n",
    "\n",
    "# test_lists=[]\n",
    "# for uu in target_h2_stringso:\n",
    "#     if len(uu)==8:\n",
    "#         for i in uu:\n",
    "#             bro=i.find_next_sibling()\n",
    "#             ss = bro.find_all('span', class_='text')\n",
    "#             test_lists.append(ss)\n",
    "        \n",
    "        \n",
    "        \n",
    "#     for tag in soup.find_all('h2'):\n",
    "#         text1.append(tag.text)\n",
    "# ii = []\n",
    "# for i in range(len(text1)):\n",
    "#     ii.append([html.fromstring(t) for t in text1[i]])\n",
    "# ii=[]\n",
    "# for tem in text1:\n",
    "#     for kkc in tem:\n",
    "#         ii.append(kkc)\n",
    "\n"
   ]
  },
  {
   "cell_type": "code",
   "execution_count": 258,
   "id": "693732b4",
   "metadata": {},
   "outputs": [
    {
     "name": "stdout",
     "output_type": "stream",
     "text": [
      "          会社名 企業コード  売上  EPS  自己資本  現金  営業キャッシュフロー  一株配当  配当性向\n",
      "0        商船三井  9104   8    5    14   6           7     5    12\n",
      "1        日本郵船  9101   8    4    14   8           6     5    10\n",
      "2  NSユナイテッド海運  9110   5    6    12   3           6     5     9\n",
      "3     三井松島 HD  1518   9    5     2   6           6     9     8\n",
      "4         乾汽船  9308   8    8     8   7           6    10    10\n"
     ]
    }
   ],
   "source": [
    "import pandas as pd\n",
    "df = pd.DataFrame(all_title,columns=[\"会社名\"])\n",
    "df[\"企業コード\"] = df[\"会社名\"].str.extract(\"(\\d+)\", expand=True)\n",
    "df[\"会社名\"] = df[\"会社名\"].str.extract(\" (.*)\", expand=True)\n",
    "for i, uriages in enumerate(uriagedaka_stock):\n",
    "    df.loc[i, \"売上\"] = len(uriages)\n",
    "df['売上'] = df['売上'].astype(int)\n",
    "\n",
    "for i, epssto in enumerate(eps_stock):\n",
    "    df.loc[i, \"EPS\"] = len(epssto)\n",
    "df['EPS'] = df['EPS'].astype(int)\n",
    "\n",
    "for i, zikosihon in enumerate(zikosihon_stock):\n",
    "    df.loc[i, \"自己資本\"] = len(zikosihon)\n",
    "df['自己資本'] = df['自己資本'].astype(int)\n",
    "\n",
    "for i, genkin in enumerate(genkin_stock):\n",
    "    df.loc[i, \"現金\"] = len(genkin)\n",
    "df['現金'] = df['現金'].astype(int)\n",
    "\n",
    "for i, cflo in enumerate(cflow_stock):\n",
    "    df.loc[i, \"営業キャッシュフロー\"] = len(cflo)\n",
    "df['営業キャッシュフロー'] = df['営業キャッシュフロー'].astype(int)\n",
    "\n",
    "for i, hitokabu in enumerate(hitokabu_stock):\n",
    "    df.loc[i, \"一株配当\"] = len(hitokabu)\n",
    "df['一株配当'] = df['一株配当'].astype(int)\n",
    "\n",
    "for i, seiko in enumerate(seikou_stock):\n",
    "    df.loc[i, \"配当性向\"] = len(seiko)\n",
    "df['配当性向'] = df['配当性向'].astype(int)\n",
    "\n",
    "print(df)\n",
    "\n",
    "\n",
    "#     analyze.append(hitokabu_stock)\n",
    "#     analyze.append(seikou_stock)\n"
   ]
  },
  {
   "cell_type": "code",
   "execution_count": 238,
   "id": "f47b5c13",
   "metadata": {},
   "outputs": [
    {
     "name": "stdout",
     "output_type": "stream",
     "text": [
      "8\n",
      "8\n",
      "5\n",
      "9\n",
      "8\n"
     ]
    }
   ],
   "source": [
    "for uriages in uriagedaka_stock:\n",
    "    print(len(uriages))"
   ]
  },
  {
   "cell_type": "code",
   "execution_count": 234,
   "id": "41e0becb",
   "metadata": {},
   "outputs": [
    {
     "ename": "SyntaxError",
     "evalue": "invalid syntax (3231367424.py, line 1)",
     "output_type": "error",
     "traceback": [
      "\u001b[0;36m  File \u001b[0;32m\"/var/folders/81/ckf4k5wn0d16719pp2dp8rqw0000gn/T/ipykernel_42891/3231367424.py\"\u001b[0;36m, line \u001b[0;32m1\u001b[0m\n\u001b[0;31m    len_not_uriage =[print(len(uriage))for uriage in uriages]for uriages in uriagedaka_stock]\u001b[0m\n\u001b[0m                                                             ^\u001b[0m\n\u001b[0;31mSyntaxError\u001b[0m\u001b[0;31m:\u001b[0m invalid syntax\n"
     ]
    }
   ],
   "source": [
    "len_not_uriage =[[print(len(uriage))for uriage in uriages]for uriages in uriagedaka_stock]\n"
   ]
  },
  {
   "cell_type": "code",
   "execution_count": null,
   "id": "0ed497b3",
   "metadata": {},
   "outputs": [],
   "source": [
    "\n",
    "\n"
   ]
  },
  {
   "cell_type": "code",
   "execution_count": null,
   "id": "98aa12ec",
   "metadata": {},
   "outputs": [],
   "source": []
  },
  {
   "cell_type": "code",
   "execution_count": 29,
   "id": "fcfb22d4",
   "metadata": {},
   "outputs": [],
   "source": [
    "d_list=[]\n",
    "for test_list in test_lists:\n",
    "    if len(test_list)==8:\n",
    "            sales_list=[[sale.text for sale in test_list[0]]for test_list in test_lists]\n",
    "            eval_sales_list = [[convert_sales_figure(sale) for sale in sale_list] for sale_list in sales_list]\n",
    "            uriagedaka_stock = [check_uriagedaka(sale) for sale in eval_sale_list]\n",
    "            \n",
    "            eps_lists=[[ep.text for ep in test_list[1]]for test_list in test_lists]\n",
    "            #zfill完了\n",
    "            zeps_list = [[convert_eps(ep) for ep in eps_list]for eps_list in eps_lists]\n",
    "            eps_stock = [check_eps(zeps) for zeps in zeps_list]\n",
    "\n",
    "        #-------------------------------------------------------------------------3:ここから営業利益率2023/01/05- -------------------------------------------------------------------------#     \n",
    "\n",
    "            op_lists=[[op.text for op in test_list[2]]for test_list in test_lists]\n",
    "            zop_list = [[eval(s.split('%')[0]) for s in op_list]for op_list in op_lists]\n",
    "            eiri_stock = [check_eiri(zop)for zop in zop_list]\n",
    "        \n",
    "\n"
   ]
  },
  {
   "cell_type": "code",
   "execution_count": 1272,
   "id": "93c3d12a",
   "metadata": {},
   "outputs": [],
   "source": [
    "text1_stringso = [[h2.text for h2 in text] for text in text1]\n"
   ]
  },
  {
   "cell_type": "code",
   "execution_count": 33,
   "id": "0b08a7a1",
   "metadata": {},
   "outputs": [
    {
     "data": {
      "text/plain": [
       "[['NOT (at index 2)',\n",
       "  'NOT (at index 3)',\n",
       "  'NOT (at index 5)',\n",
       "  'NOT (at index 6)',\n",
       "  'NOT (at index 8)'],\n",
       " ['NOT (at index 2)',\n",
       "  'NOT (at index 6)',\n",
       "  'NOT (at index 7)',\n",
       "  'NOT (at index 9)']]"
      ]
     },
     "execution_count": 33,
     "metadata": {},
     "output_type": "execute_result"
    }
   ],
   "source": [
    "eps_stock"
   ]
  },
  {
   "cell_type": "code",
   "execution_count": 28,
   "id": "92c8f0f5",
   "metadata": {},
   "outputs": [
    {
     "data": {
      "text/plain": [
       "['NOT (at index 1)',\n",
       " 'NOT (at index 2)',\n",
       " 'NOT (at index 4)',\n",
       " 'NOT (at index 8)',\n",
       " 'NOT (at index 9)',\n",
       " 'NOT (at index 11)',\n",
       " 'NOT (at index 12)',\n",
       " 'NOT (at index 13)']"
      ]
     },
     "execution_count": 28,
     "metadata": {},
     "output_type": "execute_result"
    }
   ],
   "source": [
    "uriagedaka_stock[0]"
   ]
  },
  {
   "cell_type": "code",
   "execution_count": 1205,
   "id": "8aa39825",
   "metadata": {},
   "outputs": [],
   "source": [
    "focus_url=[]\n",
    "text1=[]\n",
    "for flatclosing_url in flatclosing_urls[:2]:\n",
    "    url='https://irbank.net{}'.format(flatclosing_url)\n",
    "    sleep(random.uniform(3, 8)) \n",
    "    focus_url.append(url)\n",
    "    r=requests.get(url)\n",
    "    soup = BeautifulSoup(r.text, 'html.parser')\n",
    "    title=soup.find('h1').text\n",
    "    decopo=soup.find_all('a')\n",
    "    for a in decopo:\n",
    "        a.decompose()\n",
    "    for tag in soup.find_all('h2'):\n",
    "        text1.append(tag.text).    flatclosing_urlsの１と2のそれぞれをtext1[0],text1[1]に入れたtext1にしたいのですが\n",
    "​\n",
    "for tem in ii:\n",
    "    print(type(tem))\n",
    "# target_h2 = []\n",
    "# for t in ii:\n",
    "#     if \"売上高\" in t or\"EPS\" in t or \"営業利益率\" in t or \"自己資本比率\" in t or \"営業活動によるCF\" in t or \"現金等\" in t or \"一株配当\" in t or \"配当性向\" in t:\n",
    "#         target_h2.append(t)"
   ]
  },
  {
   "cell_type": "code",
   "execution_count": null,
   "id": "3e485898",
   "metadata": {},
   "outputs": [],
   "source": []
  },
  {
   "cell_type": "code",
   "execution_count": 1206,
   "id": "4992a44d",
   "metadata": {},
   "outputs": [
    {
     "name": "stdout",
     "output_type": "stream",
     "text": [
      "<class 'bs4.element.ResultSet'>\n"
     ]
    }
   ],
   "source": [
    "print(type(tem))"
   ]
  },
  {
   "cell_type": "code",
   "execution_count": 1207,
   "id": "8c9ec7e4",
   "metadata": {},
   "outputs": [
    {
     "ename": "IndexError",
     "evalue": "list index out of range",
     "output_type": "error",
     "traceback": [
      "\u001b[0;31m---------------------------------------------------------------------------\u001b[0m",
      "\u001b[0;31mIndexError\u001b[0m                                Traceback (most recent call last)",
      "\u001b[0;32m/var/folders/81/ckf4k5wn0d16719pp2dp8rqw0000gn/T/ipykernel_16689/815646322.py\u001b[0m in \u001b[0;36m<module>\u001b[0;34m\u001b[0m\n\u001b[0;32m----> 1\u001b[0;31m \u001b[0mii\u001b[0m\u001b[0;34m[\u001b[0m\u001b[0;36m0\u001b[0m\u001b[0;34m]\u001b[0m\u001b[0;34m\u001b[0m\u001b[0;34m\u001b[0m\u001b[0m\n\u001b[0m",
      "\u001b[0;31mIndexError\u001b[0m: list index out of range"
     ]
    }
   ],
   "source": [
    "ii[0]"
   ]
  },
  {
   "cell_type": "code",
   "execution_count": 296,
   "id": "0ba2af38",
   "metadata": {},
   "outputs": [
    {
     "name": "stdout",
     "output_type": "stream",
     "text": [
      "['NOT (at index 3)', 'NOT (at index 6)', 'NOT (at index 7)', 'NOT (at index 10)', 'NOT (at index 11)']\n",
      "<class 'list'>\n",
      "['NOT (at index 2)', 'NOT (at index 3)', 'NOT (at index 5)', 'NOT (at index 6)', 'NOT (at index 7)', 'NOT (at index 10)']\n",
      "<class 'list'>\n",
      "['NOT (at index 0)', 'NOT (at index 1)', 'NOT (at index 2)', 'NOT (at index 3)', 'NOT (at index 4)', 'NOT (at index 5)', 'NOT (at index 6)', 'NOT (at index 7)', 'NOT (at index 8)', 'NOT (at index 9)', 'NOT (at index 10)', 'NOT (at index 11)']\n",
      "<class 'list'>\n",
      "['NOT (at index 1)', 'NOT (at index 3)', 'NOT (at index 4)', 'NOT (at index 5)', 'NOT (at index 6)', 'NOT (at index 7)', 'NOT (at index 8)', 'NOT (at index 9)', 'NOT (at index 10)', 'NOT (at index 11)', 'NOT (at index 12)', 'NOT (at index 13)']\n",
      "<class 'list'>\n",
      "['NOT (at index 8)', 'NOT (at index 11)', 'NOT (at index 12)']\n",
      "<class 'list'>\n",
      "['NOT (at index 1)', 'NOT (at index 4)', 'NOT (at index 8)', 'NOT (at index 9)', 'NOT (at index 10)', 'NOT (at index 12)']\n",
      "<class 'list'>\n",
      "['NOT (at index 3)', 'NOT (at index 4)', 'NOT (at index 5)', 'NOT (at index 8)', 'NOT (at index 9)']\n",
      "<class 'list'>\n",
      "['NOT (at index 0)', 'NOT (at index 1)', 'NOT (at index 2)', 'NOT (at index 3)', 'NOT (at index 4)', 'NOT (at index 5)', 'NOT (at index 6)', 'NOT (at index 8)', 'NOT (at index 11)']\n",
      "<class 'list'>\n"
     ]
    }
   ],
   "source": [
    "\n",
    "for tem in analyze[2]:\n",
    "    print(tem)\n",
    "    print(type(tem))"
   ]
  },
  {
   "cell_type": "code",
   "execution_count": 1106,
   "id": "91615d0d",
   "metadata": {},
   "outputs": [],
   "source": [
    "text = []#正規は８項目  \n",
    "for element in list_tagget:\n",
    "    for i in range(len(element)):\n",
    "        ele = element[i]\n",
    "        for a in ele.find_all('a'):\n",
    "            a.decompose()\n",
    "            text.append(element)\n",
    "\n",
    "        \n"
   ]
  },
  {
   "cell_type": "code",
   "execution_count": 1111,
   "id": "80af0e2c",
   "metadata": {},
   "outputs": [],
   "source": [
    "focus_url=[]\n",
    "list_tagget=[]\n",
    "for flatclosing_url in flatclosing_urls[0:3]:\n",
    "    url='https://irbank.net{}'.format(flatclosing_url)\n",
    "    sleep(random.uniform(3, 8)) \n",
    "    focus_url.append(url)\n",
    "    r=requests.get(url)\n",
    "    soup = BeautifulSoup(r.text, 'html.parser')\n",
    "    title=soup.find('h1').text\n",
    "    tagget= soup.find_all('h2')\n",
    "    list_tagget.append(tagget)"
   ]
  },
  {
   "cell_type": "code",
   "execution_count": 1139,
   "id": "aa226a7d",
   "metadata": {},
   "outputs": [
    {
     "data": {
      "text/plain": [
       "<h2>売上高</h2>"
      ]
     },
     "execution_count": 1139,
     "metadata": {},
     "output_type": "execute_result"
    }
   ],
   "source": [
    "tagget[0]"
   ]
  },
  {
   "cell_type": "code",
   "execution_count": null,
   "id": "104e192b",
   "metadata": {},
   "outputs": [],
   "source": []
  },
  {
   "cell_type": "code",
   "execution_count": 883,
   "id": "0a96cc54",
   "metadata": {},
   "outputs": [],
   "source": []
  },
  {
   "cell_type": "code",
   "execution_count": 660,
   "id": "36e66f2d",
   "metadata": {},
   "outputs": [],
   "source": [
    "with open('irbank/csv/closing_dict.pickle', 'wb') as f:\n",
    "            pickle.dump(ex_data, f)\n",
    "flatclosing_urls = list(itertools.chain(ex_data.values()))"
   ]
  },
  {
   "cell_type": "code",
   "execution_count": null,
   "id": "543dabd7",
   "metadata": {},
   "outputs": [],
   "source": []
  },
  {
   "cell_type": "code",
   "execution_count": 335,
   "id": "6aa78249",
   "metadata": {},
   "outputs": [],
   "source": [
    "with open('irbank/csv/securities_codes.pickle','rb') as f:\n",
    "    securities_codes=pickle.load(f)"
   ]
  },
  {
   "cell_type": "code",
   "execution_count": 78,
   "id": "8d7a3e43",
   "metadata": {
    "scrolled": true
   },
   "outputs": [],
   "source": [
    "def convert_eps(eps_figure: str) -> int:\n",
    "    number_str = eps_figure.split('円')[0]\n",
    "    hennkan = number_str + '*100'\n",
    "    return eval(hennkan)"
   ]
  },
  {
   "cell_type": "code",
   "execution_count": 77,
   "id": "df12207f",
   "metadata": {},
   "outputs": [],
   "source": [
    "def convert_sales(*args):\n",
    "    eval_list = []\n",
    "    for arg in args:\n",
    "        eval_arg = []\n",
    "        for value in arg:\n",
    "            # 兆しかない時\n",
    "            if '兆' in value and '億' not in value and '万' not in value:\n",
    "                hennkan = value.replace('兆', '*10**12')\n",
    "                eval_arg.append(eval(hennkan))\n",
    "        eval_list.append(eval_arg)\n",
    "    return eval_list\n"
   ]
  },
  {
   "cell_type": "code",
   "execution_count": 46,
   "id": "a4e9bc1a",
   "metadata": {},
   "outputs": [],
   "source": [
    "\n",
    "\n",
    "def get_securities_codes(start_page, end_page):\n",
    "    url='https://minkabu.jp/financial_item_ranking/dividend_yield?page={}'\n",
    "    dd_list=[]\n",
    "    for i in range(start_page, end_page+1):\n",
    "        target_url=url.format(i)\n",
    "        r=requests.get(target_url)\n",
    "        sleep(random.uniform(3, 8)) \n",
    "        soup=BeautifulSoup(r.text,'html.parser')\n",
    "        tab=soup.find('table',class_='md_table rnk_li')\n",
    "        conts=tab.find_all('tr')\n",
    "        del conts[0]\n",
    "\n",
    "        for cont in conts:\n",
    "            rank=cont.find('span',class_='ranking_no fsize_l').text\n",
    "            code=cont.find('div',class_='md_sub').text\n",
    "            name=cont.find('div',class_='fwb w90p').text\n",
    "            y=cont.find('td',class_='tar cur vamd').text\n",
    "            yeild= y.strip().replace('%', '')\n",
    "            dic={\n",
    "                'ランキング':rank,\n",
    "                '証券コード':code,\n",
    "                '企業名':name,\n",
    "                '配当利回り':yeild,\n",
    "            }\n",
    "            if float(yeild) >= 3.75:\n",
    "                dd_list.append(dic)\n",
    "    securities_codes = [d['証券コード'] for d in dd_list]\n",
    "    return securities_codes\n",
    "\n",
    "\n",
    "\n",
    "\n",
    "\n",
    "def float_hennkan(s):\n",
    "    # *だけの時\n",
    "    if '*' in s:\n",
    "        s = s.split('円')[0]  # '15.65' のような文字列を取得\n",
    "        s = s.replace('*', '')  # * を削除\n",
    "        if '.'in s:\n",
    "            integer_part, decimal_part =s.split('.')  # '15' と '65' のような文字列を取得\n",
    "            integer_part = integer_part.zfill(2)  # 整数部を 0 で埋める\n",
    "            decimal_part = decimal_part.zfill(2)  # 小数部を 0 で埋める\n",
    "            hennkan_result= f\"{integer_part}.{decimal_part}\"  # 埋めた数値を結合\n",
    "        return hennkan_result\n",
    "    #小数点の時\n",
    "    elif '.' in s :\n",
    "        number_str = s.split('円')[0]  # '15.65' のような文字列を取得\n",
    "        integer_part, decimal_part = number_str.split('.')  # '15' と '65' のような文字列を取得\n",
    "        integer_part = integer_part.zfill(2)  # 整数部を 0 で埋める\n",
    "        decimal_part = decimal_part.zfill(2)  # 小数部を 0 で埋める\n",
    "        hennkan_result = f\"{integer_part}.{decimal_part}\"  # 埋めた数値を結合\n",
    "        return hennkan_result\n",
    "      \n",
    "\n",
    "    else:\n",
    "        # 整数部と小数部が分離されていない場合\n",
    "        number_str = s.split('円')[0]  # '86' のような文字列を取得\n",
    "        integer_part = number_str.zfill(2)  # 整数部を 0 で埋める\n",
    "        hennkan_result = f\"{integer_part}.00\"\n",
    "        return hennkan_result\n",
    "    \n",
    "\n",
    "#     if '.' in s:\n",
    "#         number_str1 = kn .split('円')[0]  # '86' のような文字列を取得\n",
    "#         integer_part1 = number_str1.zfill(2)  # 整数部を 0 で埋める\n",
    "#         hennkan_result = f\"{integer_part1}.00\"\n",
    "#         return hennkan_result\n",
    "#     *だけの時\n",
    "#     elif '*' in s:\n",
    "#         kn = s.split('*')[1]\n",
    "#         number_str1 = kn .split('円')[0]  # '86' のような文字列を取得\n",
    "#         integer_part1 = number_str1.zfill(2)  # 整数部を 0 で埋める\n",
    "#         hennkan_result = f\"{integer_part1}.00\"\n",
    "#         return hennkan_result\n",
    "\n",
    "\n",
    "\n",
    "def convert_sales_figure(sales_figure: str) -> int:\n",
    "    #兆しかない時\n",
    "    if '兆' in sales_figure and '億' not in sales_figure and '万' not in sales_figure:\n",
    "        hennkan = sales_figure.replace('兆', '*10**12')\n",
    "        return eval(hennkan)\n",
    "    #億しかない時\n",
    "    elif '億' in sales_figure and '兆' not in sales_figure and '万' not in sales_figure:\n",
    "        hennkan = sales_figure.replace('億', '*10**8')\n",
    "        return eval(hennkan)\n",
    "    #万しかない時\n",
    "    elif '万' in sales_figure and '兆' not in sales_figure and '万' not in sales_figure:\n",
    "        hennkan = sales_figure.replace('万', '*10**4')\n",
    "        return eval(hennkan)\n",
    "    #兆と億の時\n",
    "    elif'兆'in sales_figure and '億' in sales_figure:\n",
    "        hennkan = sales_figure.replace('兆', '*10**12+').replace('億','*10**8')\n",
    "        return eval(hennkan)\n",
    "    #億と万の時\n",
    "    elif'億'in sales_figure and '万' in sales_figure:\n",
    "        hennkan = sales_figure.replace('億', '*10**8+').replace('万','*10**4')\n",
    "        return eval(hennkan)\n",
    "    else:\n",
    "        hennkan = re.sub(r\"(兆)|(億)|(万)\", lambda x: \"*10**12+\" if x.group(1) else \"*10**8\" if x.group(2) else \"*10**4\", sales_figure)\n",
    "        return eval(hennkan)\n",
    "\n",
    "\n",
    "\n",
    "def convert_eps(eps_figure: str) -> int:\n",
    "    number_str = eps_figure.split('円')[0]\n",
    "    hennkan = number_str + '*100'\n",
    "    return eval(hennkan)\n",
    "\n",
    "\n",
    "def convert_stock_figure(stock_figure: str) -> int:\n",
    "    if '.' in stock_figure and '*' not in stock_figure :\n",
    "        number_str = stock_figure.split('円')[0]\n",
    "        integer_part, decimal_part = number_str.split('.')\n",
    "        integer_part = integer_part.zfill(2)\n",
    "        decimal_part = decimal_part.zfill(2)\n",
    "        return f\"{integer_part}.{decimal_part}\"\n",
    "    elif '*' in stock_figure and '.' not in stock_figure :\n",
    "        kn = stock_figure.split('*')[1]\n",
    "        number_str1 = kn .split('円')[0]\n",
    "        integer_part1 = number_str1.zfill(2)\n",
    "        return f\"{integer_part1}.00\"\n",
    "    \n",
    "    elif'*'in stock_figure and '.' in stock_figure:\n",
    "        kn = stock_figure.split('*')[1]\n",
    "        number_str = kn.split('円')[0]\n",
    "        integer_part, decimal_part = number_str.split('.')\n",
    "        integer_part = integer_part.zfill(2)\n",
    "        decimal_part = decimal_part.zfill(2)\n",
    "        return f\"{integer_part}.{decimal_part}\"\n",
    "    else:\n",
    "        number_str = stock_figure.split('円')[0]\n",
    "        integer_part = number_str.zfill(2)\n",
    "        return f\"{integer_part}.00\"\n",
    "    \n",
    "\n",
    "def convert_stock(stock_price: str) -> str:\n",
    "    if '.' in stock_price:\n",
    "        number_str = stock_price.split('円')[0]\n",
    "        integer_part, decimal_part = number_str.split('.')\n",
    "        integer_part = integer_part.zfill(2)\n",
    "        decimal_part = decimal_part.zfill(2)\n",
    "        return f\"{integer_part}.{decimal_part}\"\n",
    "    elif '*' in stock_price:\n",
    "        kn = stock_price.split('*')[1]\n",
    "        number_str1 = kn .split('円')[0]\n",
    "        integer_part1 = number_str1.zfill(2)\n",
    "        return f\"{integer_part1}.00\"\n",
    "    else:\n",
    "        number_str = stock_price.split('円')[0]\n",
    "        integer_part = number_str.zfill(2)\n",
    "        return f\"{integer_part}.00\"\n",
    "\n",
    "\n",
    "\n",
    "def convert_return(return_figure: str) -> str:\n",
    "    if '.' in return_figure:\n",
    "        number_str = return_figure.split('%')[0]\n",
    "        integer_part, decimal_part = number_str.split('.')\n",
    "        integer_part = integer_part.zfill(2)\n",
    "        decimal_part = decimal_part.zfill(2)\n",
    "        return f\"{integer_part}.{decimal_part}\"\n",
    "\n",
    "    else:\n",
    "        integer_part = return_figure.split('%')[0]\n",
    "        integer_part = integer_part.zfill(2)\n",
    "        return f\"{integer_part}.00\"\n",
    "\n",
    "def process_cashes(cashes):\n",
    "    cash_list = [cash.text for cash in cashes]\n",
    "    eval_cash_list = []\n",
    "    for cash in cash_list:\n",
    "        # 兆しかない時\n",
    "        if '兆' in cash and '億' not in cash and '万' not in cash:\n",
    "            hennkan = cash.replace('兆', '*10**12')\n",
    "            eval_cash_list.append(eval(hennkan))\n",
    "        # 億しかない時\n",
    "        elif '億' in cash and '兆' not in cash and '万' not in cash:\n",
    "            hennkan = cash.replace('億', '*10**8')\n",
    "            eval_cash_list.append(eval(hennkan))\n",
    "        # 万しかない時\n",
    "        elif '万' in cash and '兆' not in cash and '万' not in cash:\n",
    "            hennkan = cash.replace('万', '*10**4')\n",
    "            eval_cash_list.append(eval(hennkan))\n",
    "        # 兆と億の時\n",
    "        elif '兆' in cash and '億' in cash:\n",
    "            hennkan = cash.replace('兆', '*10**12+').replace('億','*10**8')\n",
    "            eval_cash_list.append(eval(hennkan))\n",
    "        # 億と万の時\n",
    "        elif '億' in cash and '万' in cash:\n",
    "            hennkan = cash.replace('億', '*10**8+').replace('万','*10**4')\n",
    "            eval_cash_list.append(eval(hennkan))\n",
    "        else:\n",
    "            hennkan = re.sub(r\"(兆)|(億)|(万)\", lambda x: \"*10**12+\" if x.group(1) else \"*10**8\" if x.group(2) else \"*10**4\", sale)\n",
    "            eval_cash_list.append(eval(hennkan))\n",
    "    return eval_cash_list\n",
    "\n",
    "\n",
    "import re\n",
    "\n",
    "def process_cfflows(cfflows):\n",
    "    cf_flow_list = [cfflow.text for cfflow in cfflows]\n",
    "    eval_cf_flow_list = []\n",
    "    for flow in cf_flow_list:\n",
    "        # 兆しかない時\n",
    "        if '兆' in flow and '億' not in flow and '万' not in flow:\n",
    "            hennkan = flow.replace('兆', '*10**12')\n",
    "            eval_cf_flow_list.append(eval(hennkan))\n",
    "        # 億しかない時\n",
    "        elif '億' in flow and '兆' not in flow and '万' not in flow:\n",
    "            hennkan = flow.replace('億', '*10**8')\n",
    "            eval_cf_flow_list.append(eval(hennkan))\n",
    "        # 万しかない時\n",
    "        elif '万' in flow and '兆' not in flow and '万' not in flow:\n",
    "            hennkan = flow.replace('万', '*10**4')\n",
    "            eval_cf_flow_list.append(eval(hennkan))\n",
    "        # 兆と億の時\n",
    "        elif '兆' in flow and '億' in flow:\n",
    "            hennkan = flow.replace('兆', '*10**12+').replace('億','*10**8')\n",
    "            eval_cf_flow_list.append(eval(hennkan))\n",
    "        # 億と万の時\n",
    "        elif '億' in flow and '万' in flow:\n",
    "            hennkan = flow.replace('億', '*10**8+').replace('万','*10**4')\n",
    "            eval_cf_flow_list.append(eval(hennkan))\n",
    "        else:\n",
    "            hennkan = re.sub(r\"(兆)|(億)|(万)\", lambda x: \"*10**12+\" if x.group(1) else \"*10**8\" if x.group(2) else \"*10**4\", sale)\n",
    "            eval_cf_flow_list.append(eval(hennkan))\n",
    "    return eval_cf_flow_list\n",
    "\n",
    "\n",
    "def convert_japanese_financial_string(string):\n",
    "    hennkan = string.replace('兆', '*10**12').replace('億', '*10**8').replace('万', '*10**4')\n",
    "    return eval(hennkan)\n",
    "\n",
    "\n",
    "\n",
    "def convert_flow_figure(flow_figure: str) -> int:\n",
    "        #兆しかない時\n",
    "        if '兆' in flow_figure and '億' not in flow_figure and '万' not in flow_figure:\n",
    "            hennkan = flow_figure.replace('兆', '*10**12')\n",
    "            return eval(hennkan)         \n",
    "        #億しかない時\n",
    "        elif '億' in flow_figure and '兆' not in flow_figure and '万' not in flow_figure:\n",
    "            hennkan = flow_figure.replace('億', '*10**8')\n",
    "            return eval(hennkan)             \n",
    "        #万しかない時\n",
    "        elif '万' in flow_figure and '兆' not in flow_figure and '万' not in flow_figure:\n",
    "            hennkan = flow_figure.replace('万', '*10**4')\n",
    "            return eval(hennkan)\n",
    "        #兆と億の時\n",
    "        elif'兆'in flow_figure and '億' in flow_figure:\n",
    "            hennkan = flow_figure.replace('兆', '*10**12+').replace('億','*10**8')\n",
    "            return eval(hennkan)\n",
    "        #億と万の時\n",
    "        elif'億'in flow_figure and '万' in flow_figure:\n",
    "            hennkan = flow_figure.replace('億', '*10**8+').replace('万','*10**4')\n",
    "            return eval(hennkan)\n",
    "        else:\n",
    "            hennkan = re.sub(r\"(兆)|(億)|(万)\", lambda x: \"*10**12+\" if x.group(1) else \"*10**8\" if x.group(2) else \"*10**4\", flow_figure)\n",
    "            return eval(hennkan)\n",
    "\n",
    "\n",
    "def floatparcent_hennkan(s):\n",
    "    if '.' in s:\n",
    "        number_str = s.split('%')[0]  # '15.65' のような文字列を取得\n",
    "        integer_part, decimal_part = number_str.split('.')  # '15' と '65' のような文字列を取得\n",
    "        integer_part = integer_part.zfill(2)  # 整数部を 0 で埋める\n",
    "        decimal_part = decimal_part.zfill(2)  # 小数部を 0 で埋める\n",
    "        hennkan_result = f\"{integer_part}.{decimal_part}\"  # 埋めた数値を結合\n",
    "        return hennkan_result\n",
    "\n",
    "    else:\n",
    "        # 整数部と小数部が分離されていない場合\n",
    "        integer_part = s.split('%')[0]  # '86' のような文字列を取得\n",
    "        integer_part = integer_part.zfill(2)  # 整数部を 0 で埋める\n",
    "        hennkan_result = f\"{integer_part}.00\"\n",
    "        return hennkan_result\n",
    "def check_uriagedaka(eval_sale_list):\n",
    "    result = all(int(eval_sale_list[i]) < int(eval_sale_list[i+1]) for i in range(len(eval_sale_list)-1))\n",
    "    uriagedaka_stock = []\n",
    "    if result:\n",
    "        uriagedaka_stock.append('OK')\n",
    "    else:\n",
    "        for i in range(len(eval_sale_list)-1):\n",
    "            if int(eval_sale_list[i]) >= int(eval_sale_list[i+1]):\n",
    "                uriagedaka_stock.append(f'NOT (at index {i+1})')\n",
    "    return uriagedaka_stock\n",
    "\n",
    "\n",
    "def check_eps(zeps_list):\n",
    "    result = all(int(zeps_list[i]) < int(zeps_list[i+1]) for i in range(len(zeps_list)-1))\n",
    "    eps_stock = []\n",
    "    if result:\n",
    "        eps_stock.append('OK')\n",
    "    else:\n",
    "        for i in range(len(zeps_list)-1):\n",
    "            if int(zeps_list[i]) >= int(zeps_list[i+1]):\n",
    "                eps_stock.append(f'NOT (at index {i+1})')\n",
    "    return eps_stock\n",
    "\n",
    "def check_eiri(zop_list):\n",
    "    zop_list = [float(x) for x in zop_list]\n",
    "    resault = all(10 <= float(zop_list[i]) for i in range(len(zop_list)))\n",
    "    eiri_stock = []\n",
    "    if resault:\n",
    "        eiri_stock.append('OK')\n",
    "    else:\n",
    "        for i in range(len(zop_list)):\n",
    "            if 10 >= float(zop_list[i]):\n",
    "                eiri_stock.append(f'NOT (at index {i})')\n",
    "    return eiri_stock\n",
    "\n",
    "def check_zikosihon(zoption_list):\n",
    "    oolist = [float(x) for x in zoption_list]\n",
    "    result = all(40 <= float(oolist[i]) for i in range(len(oolist)))\n",
    "    zikosihon_stock = []\n",
    "    if result:\n",
    "        zikosihon_stock.append('OK')\n",
    "    else:\n",
    "        for i in range(len(oolist)):\n",
    "            if 40 >= float(oolist[i]):\n",
    "                zikosihon_stock.append(f'NOT (at index {i})')\n",
    "    return zikosihon_stock\n",
    "\n",
    "\n",
    "def check_genkin(eval_cash_list):\n",
    "    result = all(int(eval_cash_list[i]) < int(eval_cash_list[i+1]) for i in range(len(eval_cash_list)-1))\n",
    "    genkin_stock = []\n",
    "    if result:\n",
    "        genkin_stock.append('OK')\n",
    "    else:\n",
    "        for i in range(len(eval_cash_list)-1):\n",
    "            if int(eval_cash_list[i]) >= int(eval_cash_list[i+1]):\n",
    "                genkin_stock.append(f'NOT (at index {i+1})')\n",
    "    return genkin_stock\n",
    "\n",
    "\n",
    "def check_cflow_order(eval_cf_flow_list):\n",
    "    result = all(int(eval_cf_flow_list[i]) < int(eval_cf_flow_list[i+1]) for i in range(len(eval_cf_flow_list)-1))\n",
    "    cflow_stock=[]\n",
    "    if result:\n",
    "        cflow_stock.append('OK')\n",
    "    else:\n",
    "        for i in range(len(eval_cf_flow_list)-1):\n",
    "            if int(eval_cf_flow_list[i]) >= int(eval_cf_flow_list[i+1]):\n",
    "                cflow_stock.append(f'NOT (at index {i+1})')\n",
    "    return cflow_stock\n",
    "\n",
    "def check_zstock_order(zstock_list):\n",
    "    result = all(float(zstock_list[i]) < float(zstock_list[i+1]) for i in range(len(zstock_list)-1))\n",
    "    hitokabu_stock=[]\n",
    "    if result:\n",
    "        hitokabu_stock.append('OK')\n",
    "    else:\n",
    "        for i in range(len(zstock_list)-1):\n",
    "            if float(zstock_list[i]) >= float(zstock_list[i+1]):\n",
    "                hitokabu_stock.append(f'NOT (at index {i+1})')\n",
    "    return hitokabu_stock\n",
    "\n",
    "\n",
    "def check_zreturn_range(zreturn_list):\n",
    "    int_zreturn_list = [float(x) for x in zreturn_list]\n",
    "    result = all(30<int(int_zreturn_list[i]<50) for i in range(len(int_zreturn_list)))\n",
    "    seikou_stock=[]\n",
    "    if result:\n",
    "        seikou_stock.append('OK')\n",
    "    else:\n",
    "        for i in range(len(int_zreturn_list)):\n",
    "            if int(30>int_zreturn_list[i] or int_zreturn_list[i]>70):\n",
    "                seikou_stock.append(f'NOT (at index {i})')\n",
    "    return seikou_stock\n",
    "\n",
    "\n",
    "\n",
    "def get_closing_url(code):\n",
    "    url = f'https://irbank.net/{code}/ir'\n",
    "    r = requests.get(url)\n",
    "    sleep(2)\n",
    "    soup = BeautifulSoup(r.text,'html.parser')\n",
    "    element = soup.select_one('div.csb.cc2 > ul:nth-of-type(2) > li:first-of-type')\n",
    "    taget = element.find('a')\n",
    "    link = taget.get('href')\n",
    "    return link\n",
    "\n",
    "def convert_sales_figure(sales_figure: str) -> int:\n",
    "    #兆しかない時\n",
    "    if '兆' in sales_figure and '億' not in sales_figure and '万' not in sales_figure:\n",
    "        hennkan = sales_figure.replace('兆', '*10**12')\n",
    "        return eval(hennkan)\n",
    "    #億しかない時\n",
    "    elif '億' in sales_figure and '兆' not in sales_figure and '万' not in sales_figure:\n",
    "        hennkan = sales_figure.replace('億', '*10**8')\n",
    "        return eval(hennkan)\n",
    "    #万しかない時\n",
    "    elif '万' in sales_figure and '兆' not in sales_figure and '万' not in sales_figure:\n",
    "        hennkan = sales_figure.replace('万', '*10**4')\n",
    "        return eval(hennkan)\n",
    "    #兆と億の時\n",
    "    elif'兆'in sales_figure and '億' in sales_figure:\n",
    "        hennkan = sales_figure.replace('兆', '*10**12+').replace('億','*10**8')\n",
    "        return eval(hennkan)\n",
    "    #億と万の時\n",
    "    elif'億'in sales_figure and '万' in sales_figure:\n",
    "        hennkan = sales_figure.replace('億', '*10**8+').replace('万','*10**4')\n",
    "        return eval(hennkan)\n",
    "    else:\n",
    "        hennkan = re.sub(r\"(兆)|(億)|(万)\", lambda x: \"*10**12+\" if x.group(1) else \"*10**8\" if x.group(2) else \"*10**4\", sales_figure)\n",
    "        return eval(hennkan)"
   ]
  },
  {
   "cell_type": "code",
   "execution_count": 363,
   "id": "87539772",
   "metadata": {},
   "outputs": [],
   "source": [
    "\n"
   ]
  },
  {
   "cell_type": "code",
   "execution_count": 429,
   "id": "57b62ffd",
   "metadata": {},
   "outputs": [],
   "source": []
  },
  {
   "cell_type": "code",
   "execution_count": null,
   "id": "bb92713a",
   "metadata": {},
   "outputs": [],
   "source": []
  },
  {
   "cell_type": "code",
   "execution_count": null,
   "id": "4476ffa0",
   "metadata": {},
   "outputs": [],
   "source": []
  },
  {
   "cell_type": "code",
   "execution_count": null,
   "id": "4c1b77fe",
   "metadata": {},
   "outputs": [],
   "source": [
    "test__lists"
   ]
  },
  {
   "cell_type": "code",
   "execution_count": null,
   "id": "4db589ba",
   "metadata": {},
   "outputs": [],
   "source": []
  },
  {
   "cell_type": "code",
   "execution_count": 155,
   "id": "937e7723",
   "metadata": {},
   "outputs": [
    {
     "name": "stdout",
     "output_type": "stream",
     "text": [
      "from_cache: False\n",
      "status_code: 200\n"
     ]
    }
   ],
   "source": [
    "import requests\n",
    "from cachecontrol import CacheControl \n",
    "from cachecontrol.caches import FileCache\n",
    "\n",
    "session = requests.Session()\n",
    "# sessionをラップしたcached_sessionを作る。\n",
    "# キャッシュはファイルとして .webcache ディレクトリ内に保存する。\n",
    "cached_session = CacheControl(session, cache=FileCache('.webcache'))\n",
    "\n",
    "response = cached_session.get('https://irbank.net/E31167/results') \n",
    "\n",
    "# response.from_cache属性でキャッシュから取得されたレスポンスかどうかを取得できる。\n",
    "print(f'from_cache: {response.from_cache}') \n",
    "print(f'status_code: {response.status_code}')"
   ]
  },
  {
   "cell_type": "code",
   "execution_count": 132,
   "id": "2cacfc63",
   "metadata": {},
   "outputs": [
    {
     "ename": "NameError",
     "evalue": "name 'number_str' is not defined",
     "output_type": "error",
     "traceback": [
      "\u001b[0;31m---------------------------------------------------------------------------\u001b[0m",
      "\u001b[0;31mNameError\u001b[0m                                 Traceback (most recent call last)",
      "\u001b[0;32m/var/folders/81/ckf4k5wn0d16719pp2dp8rqw0000gn/T/ipykernel_16689/3116207713.py\u001b[0m in \u001b[0;36m<module>\u001b[0;34m\u001b[0m\n\u001b[1;32m      7\u001b[0m     \u001b[0mdecimal_part\u001b[0m \u001b[0;34m=\u001b[0m \u001b[0mdecimal_part\u001b[0m\u001b[0;34m.\u001b[0m\u001b[0mzfill\u001b[0m\u001b[0;34m(\u001b[0m\u001b[0;36m2\u001b[0m\u001b[0;34m)\u001b[0m\u001b[0;34m\u001b[0m\u001b[0;34m\u001b[0m\u001b[0m\n\u001b[1;32m      8\u001b[0m     \u001b[0mprint\u001b[0m \u001b[0;34m(\u001b[0m\u001b[0;34mf\"{integer_part}.{decimal_part}\"\u001b[0m\u001b[0;34m)\u001b[0m\u001b[0;34m\u001b[0m\u001b[0;34m\u001b[0m\u001b[0m\n\u001b[0;32m----> 9\u001b[0;31m \u001b[0mnumber_str\u001b[0m\u001b[0;34m\u001b[0m\u001b[0;34m\u001b[0m\u001b[0m\n\u001b[0m",
      "\u001b[0;31mNameError\u001b[0m: name 'number_str' is not defined"
     ]
    }
   ],
   "source": []
  },
  {
   "cell_type": "code",
   "execution_count": 180,
   "id": "addc330c",
   "metadata": {},
   "outputs": [
    {
     "name": "stderr",
     "output_type": "stream",
     "text": [
      "これはデバッグログ\n",
      "これはデバッグログ\n",
      "これはデバッグログ\n",
      "これはデバッグログ\n",
      "これはデバッグログ\n"
     ]
    }
   ],
   "source": [
    "from logging import getLogger,StreamHandler,DEBUG,ERROR\n",
    "\n",
    "logger=getLogger(__name__)\n",
    "handler=StreamHandler()\n",
    "handler.setLevel(ERROR)\n",
    "logger.setLevel(DEBUG)\n",
    "logger.addHandler(handler)\n",
    "logger.debug('これはデバッグログ')"
   ]
  },
  {
   "cell_type": "code",
   "execution_count": 195,
   "id": "28bc7b70",
   "metadata": {},
   "outputs": [
    {
     "name": "stdout",
     "output_type": "stream",
     "text": [
      "5019\n"
     ]
    }
   ],
   "source": [
    "securities_codes = get_securities_codes(27,28)\n",
    "for x in securities_codes:\n",
    "    with open('irbank/csv/securities_codes.pickle','wb') as f:\n",
    "        pickle.dump(x,f)\n",
    "    with open('irbank/csv/securities_codes.pickle','rb') as f:\n",
    "        x=pickle.load(f)\n",
    "print(x)"
   ]
  },
  {
   "cell_type": "code",
   "execution_count": 768,
   "id": "d62b680b",
   "metadata": {},
   "outputs": [
    {
     "name": "stdout",
     "output_type": "stream",
     "text": [
      "time: 0.000744820 [sec]\n",
      "time: 0.000028849 [sec]\n",
      "time: 0.000043154 [sec]\n",
      "time: 0.000023127 [sec]\n"
     ]
    }
   ],
   "source": [
    "\n",
    "\n"
   ]
  },
  {
   "cell_type": "code",
   "execution_count": 477,
   "id": "30ec88d1",
   "metadata": {},
   "outputs": [
    {
     "data": {
      "text/plain": [
       "(40, 4)"
      ]
     },
     "execution_count": 477,
     "metadata": {},
     "output_type": "execute_result"
    }
   ],
   "source": [
    " df=pd.DataFrame(dd_list)\n",
    "df.head()\n",
    "df.shape"
   ]
  },
  {
   "cell_type": "code",
   "execution_count": 514,
   "id": "8069ddb4",
   "metadata": {},
   "outputs": [
    {
     "ename": "Error",
     "evalue": "iterable expected, not int",
     "output_type": "error",
     "traceback": [
      "\u001b[0;31m---------------------------------------------------------------------------\u001b[0m",
      "\u001b[0;31mError\u001b[0m                                     Traceback (most recent call last)",
      "\u001b[0;32m/var/folders/81/ckf4k5wn0d16719pp2dp8rqw0000gn/T/ipykernel_16689/2144688670.py\u001b[0m in \u001b[0;36m<module>\u001b[0;34m\u001b[0m\n\u001b[1;32m      1\u001b[0m \u001b[0;32mfor\u001b[0m \u001b[0mdata\u001b[0m \u001b[0;32min\u001b[0m \u001b[0mexisting_data\u001b[0m\u001b[0;34m:\u001b[0m\u001b[0;34m\u001b[0m\u001b[0;34m\u001b[0m\u001b[0m\n\u001b[0;32m----> 2\u001b[0;31m     \u001b[0mwriter\u001b[0m\u001b[0;34m.\u001b[0m\u001b[0mwriterow\u001b[0m\u001b[0;34m(\u001b[0m\u001b[0mdata\u001b[0m\u001b[0;34m)\u001b[0m\u001b[0;34m\u001b[0m\u001b[0;34m\u001b[0m\u001b[0m\n\u001b[0m",
      "\u001b[0;31mError\u001b[0m: iterable expected, not int"
     ]
    }
   ],
   "source": []
  },
  {
   "cell_type": "code",
   "execution_count": 518,
   "id": "7f1f4d88",
   "metadata": {},
   "outputs": [
    {
     "ename": "Error",
     "evalue": "iterable expected, not int",
     "output_type": "error",
     "traceback": [
      "\u001b[0;31m---------------------------------------------------------------------------\u001b[0m",
      "\u001b[0;31mError\u001b[0m                                     Traceback (most recent call last)",
      "\u001b[0;32m/var/folders/81/ckf4k5wn0d16719pp2dp8rqw0000gn/T/ipykernel_16689/1272504193.py\u001b[0m in \u001b[0;36m<module>\u001b[0;34m\u001b[0m\n\u001b[1;32m      4\u001b[0m     \u001b[0mwriter\u001b[0m \u001b[0;34m=\u001b[0m \u001b[0mcsv\u001b[0m\u001b[0;34m.\u001b[0m\u001b[0mwriter\u001b[0m\u001b[0;34m(\u001b[0m\u001b[0mf\u001b[0m\u001b[0;34m)\u001b[0m\u001b[0;34m\u001b[0m\u001b[0;34m\u001b[0m\u001b[0m\n\u001b[1;32m      5\u001b[0m     \u001b[0;32mfor\u001b[0m \u001b[0mdata\u001b[0m \u001b[0;32min\u001b[0m \u001b[0mexisting_data\u001b[0m\u001b[0;34m:\u001b[0m\u001b[0;34m\u001b[0m\u001b[0;34m\u001b[0m\u001b[0m\n\u001b[0;32m----> 6\u001b[0;31m         \u001b[0mwriter\u001b[0m\u001b[0;34m.\u001b[0m\u001b[0mwriterows\u001b[0m\u001b[0;34m(\u001b[0m\u001b[0mexisting_data\u001b[0m\u001b[0;34m)\u001b[0m\u001b[0;34m\u001b[0m\u001b[0;34m\u001b[0m\u001b[0m\n\u001b[0m",
      "\u001b[0;31mError\u001b[0m: iterable expected, not int"
     ]
    }
   ],
   "source": [
    "\n"
   ]
  },
  {
   "cell_type": "code",
   "execution_count": 764,
   "id": "da20684b",
   "metadata": {},
   "outputs": [
    {
     "name": "stdout",
     "output_type": "stream",
     "text": [
      "729\n"
     ]
    }
   ],
   "source": [
    "import itertools\n",
    "with open('irbank/csv/securities_codes.pickle', 'rb') as f:\n",
    "            existing_data = pickle.load(f)\n",
    "flattened_codes = list(itertools.chain(*existing_data.values()))\n",
    "print(len(flattened_codes))"
   ]
  },
  {
   "cell_type": "code",
   "execution_count": 797,
   "id": "d638f082",
   "metadata": {},
   "outputs": [
    {
     "ename": "NameError",
     "evalue": "name 'existing_dat' is not defined",
     "output_type": "error",
     "traceback": [
      "\u001b[0;31m---------------------------------------------------------------------------\u001b[0m",
      "\u001b[0;31mNameError\u001b[0m                                 Traceback (most recent call last)",
      "\u001b[0;32m/var/folders/81/ckf4k5wn0d16719pp2dp8rqw0000gn/T/ipykernel_16689/3685444111.py\u001b[0m in \u001b[0;36m<module>\u001b[0;34m\u001b[0m\n\u001b[0;32m----> 1\u001b[0;31m \u001b[0mexisting_dat\u001b[0m\u001b[0;34m\u001b[0m\u001b[0;34m\u001b[0m\u001b[0m\n\u001b[0m",
      "\u001b[0;31mNameError\u001b[0m: name 'existing_dat' is not defined"
     ]
    }
   ],
   "source": [
    "existing_dat"
   ]
  },
  {
   "cell_type": "code",
   "execution_count": 599,
   "id": "271a8d10",
   "metadata": {},
   "outputs": [],
   "source": [
    "with open('irbank/csv/code.pickle', 'rb') as f:\n",
    "            company_code = pickle.load(f)"
   ]
  },
  {
   "cell_type": "code",
   "execution_count": 619,
   "id": "a74b2222",
   "metadata": {},
   "outputs": [],
   "source": [
    "del existing_data[0]"
   ]
  },
  {
   "cell_type": "code",
   "execution_count": 620,
   "id": "32527c07",
   "metadata": {},
   "outputs": [
    {
     "name": "stdout",
     "output_type": "stream",
     "text": [
      "709\n"
     ]
    }
   ],
   "source": [
    "\n"
   ]
  },
  {
   "cell_type": "code",
   "execution_count": null,
   "id": "10998b00",
   "metadata": {},
   "outputs": [],
   "source": []
  },
  {
   "cell_type": "code",
   "execution_count": 508,
   "id": "d7a1d375",
   "metadata": {},
   "outputs": [],
   "source": []
  },
  {
   "cell_type": "code",
   "execution_count": null,
   "id": "13e345ac",
   "metadata": {},
   "outputs": [],
   "source": []
  },
  {
   "cell_type": "code",
   "execution_count": 3,
   "id": "28857735",
   "metadata": {},
   "outputs": [],
   "source": [
    "import time\n",
    "\n",
    "# 関数の実行時間を測るデコレータ\n",
    "def tictoc(func):\n",
    "    def _wrapper(*args, **keywargs):\n",
    "        start_time = time.time()\n",
    "        result = func(*args, **keywargs)\n",
    "        print('time: {:.9f} [sec]'.format(time.time() - start_time))\n",
    "        return result\n",
    "    return _wrapper"
   ]
  },
  {
   "cell_type": "code",
   "execution_count": 4,
   "id": "581139d1",
   "metadata": {},
   "outputs": [
    {
     "name": "stdout",
     "output_type": "stream",
     "text": [
      "time: 0.077428818 [sec]\n",
      "time: 0.000001907 [sec]\n"
     ]
    },
    {
     "data": {
      "text/plain": [
       "1000001"
      ]
     },
     "execution_count": 4,
     "metadata": {},
     "output_type": "execute_result"
    }
   ],
   "source": [
    "from functools import cache\n",
    "\n",
    "@tictoc\n",
    "@cache  # デコレータを付与\n",
    "def func(num):\n",
    "    # なんらかの重い処理\n",
    "    for _ in range(1000000):\n",
    "        num += 1\n",
    "    return num\n",
    "\n",
    "# 1度目の呼び出し\n",
    "func(1)\n",
    "\n",
    "# 2度目の呼び出し\n",
    "func(1)"
   ]
  },
  {
   "cell_type": "code",
   "execution_count": 207,
   "id": "4f335a81",
   "metadata": {},
   "outputs": [
    {
     "name": "stdout",
     "output_type": "stream",
     "text": [
      "time: 0.000001907 [sec]\n"
     ]
    },
    {
     "data": {
      "text/plain": [
       "1000001"
      ]
     },
     "execution_count": 207,
     "metadata": {},
     "output_type": "execute_result"
    }
   ],
   "source": [
    "func(1)"
   ]
  },
  {
   "cell_type": "code",
   "execution_count": 5,
   "id": "35976710",
   "metadata": {},
   "outputs": [],
   "source": [
    "#1\n",
    "import random\n",
    "@tictoc\n",
    "@cache\n",
    "def get_securities_codes(start_page, end_page):\n",
    "    url='https://minkabu.jp/financial_item_ranking/dividend_yield?page={}'\n",
    "    dd_list=[]\n",
    "    for i in range(start_page, end_page+1):\n",
    "        target_url=url.format(i)\n",
    "        r=requests.get(target_url)\n",
    "        sleep(random.uniform(3, 8)) \n",
    "        soup=BeautifulSoup(r.text,'html.parser')\n",
    "        tab=soup.find('table',class_='md_table rnk_li')\n",
    "        conts=tab.find_all('tr')\n",
    "        del conts[0]\n",
    "\n",
    "        for cont in conts:\n",
    "            rank=cont.find('span',class_='ranking_no fsize_l').text\n",
    "            code=cont.find('div',class_='md_sub').text\n",
    "            name=cont.find('div',class_='fwb w90p').text\n",
    "            y=cont.find('td',class_='tar cur vamd').text\n",
    "            yeild= y.strip().replace('%', '')\n",
    "            dic={\n",
    "                'ランキング':rank,\n",
    "                '証券コード':code,\n",
    "                '企業名':name,\n",
    "                '配当利回り':yeild,\n",
    "            }\n",
    "            \n",
    "            \n",
    "            if float(yeild) >= 3.75:\n",
    "                dd_list.append(dic)\n",
    "    securities_codes = [d['証券コード'] for d in dd_list]\n",
    "    #csvに保存まだ更新はできず追加しかされない\n",
    "    new_data=pd.DataFrame(dd_list)\n",
    "    if os.path.exists('irbank/csv/20230115ranking.csv'):\n",
    "                df=pd.read_csv('irbank/csv/20230115ranking.csv')\n",
    "                df=pd.concat([df, new_data], ignore_index=True)\n",
    "                \n",
    "    else:\n",
    "        df=new_data\n",
    "    df.to_csv('irbank/csv/20230115ranking.csv',index=None,encoding='utf-8-sig')\n",
    "\n",
    "    return securities_codes\n"
   ]
  },
  {
   "cell_type": "code",
   "execution_count": 798,
   "id": "e41f9cab",
   "metadata": {},
   "outputs": [
    {
     "name": "stdout",
     "output_type": "stream",
     "text": [
      "time: 5.357740641 [sec]\n",
      "time: 6.625604153 [sec]\n",
      "time: 8.049380302 [sec]\n",
      "time: 7.945807934 [sec]\n",
      "time: 5.542266130 [sec]\n",
      "time: 5.170459032 [sec]\n",
      "time: 6.947769880 [sec]\n"
     ]
    }
   ],
   "source": [
    "#1\n",
    "\n",
    "result = {}\n",
    "#1ページ目から取得なので値に0はいらない\n",
    "for page in range(30, 37, 1):\n",
    "    securities_codes = get_securities_codes(page, page)\n",
    "    result[page] = securities_codes\n",
    "    if os.path.exists('irbank/csv/securities_codes.pickle'):\n",
    "     # ファイルから既存のデータを読み込む\n",
    "        with open('irbank/csv/securities_codes.pickle', 'rb') as f:\n",
    "            existing_data = pickle.load(f)\n",
    "        # 既存のデータを更新する\n",
    "        existing_data.update(result)\n",
    "        # ファイルに追加されたデータを保存する\n",
    "        with open('irbank/csv/securities_codes.pickle', 'wb') as f:\n",
    "            pickle.dump(existing_data, f)\n",
    "    else:\n",
    "        del result[0]\n",
    "        with open('irbank/csv/securities_codes.pickle', 'wb') as f:\n",
    "            pickle.dump(result, f)"
   ]
  },
  {
   "cell_type": "code",
   "execution_count": 61,
   "id": "f58dac07",
   "metadata": {},
   "outputs": [
    {
     "name": "stdout",
     "output_type": "stream",
     "text": [
      "713\n"
     ]
    }
   ],
   "source": [
    "import itertools\n",
    "with open('csv/securities_codes.pickle', 'rb') as f:\n",
    "            existing_data = pickle.load(f)\n",
    "            del existing_data[0]\n",
    "flattened_codes = list(itertools.chain(*existing_data.values()))\n",
    "print(len(flattened_codes))"
   ]
  },
  {
   "cell_type": "code",
   "execution_count": null,
   "id": "e7199566",
   "metadata": {},
   "outputs": [],
   "source": []
  },
  {
   "cell_type": "code",
   "execution_count": 543,
   "id": "0844d05a",
   "metadata": {},
   "outputs": [],
   "source": [
    "#     with open('irbank/csv/ranking.csv', 'w', newline='') as csvfile:\n",
    "#         fieldnames = ['ランキング','証券コード','企業名','配当利回り']\n",
    "#         #辞書型を書き込むためのクラス\n",
    "#         writer = csv.DictWriter(csvfile, fieldnames=fieldnames)\n",
    "#         writer.writeheader()\n",
    "#         for d in dd_list:\n",
    "#             writer.writerow({'ランキング':d['ランキング'],'証券コード': d['証券コード'],'企業名':d['企業名'],'配当利回り':d['配当利回り']})\n",
    "    \n"
   ]
  },
  {
   "cell_type": "code",
   "execution_count": 629,
   "id": "cb2af83c",
   "metadata": {},
   "outputs": [
    {
     "name": "stdout",
     "output_type": "stream",
     "text": [
      "time: 0.000003099 [sec]\n",
      "['/E04236/results']\n"
     ]
    }
   ],
   "source": [
    "closing_urls= []\n",
    "# for code in securities_codes[:3]:\n",
    "for code in flattened_codes[0:1]:\n",
    "    closing_urls.append(get_closing_url(code))\n",
    "print (closing_urls)"
   ]
  },
  {
   "cell_type": "code",
   "execution_count": 30,
   "id": "471135f0",
   "metadata": {},
   "outputs": [],
   "source": [
    "@tictoc\n",
    "@cache\n",
    "def get_closing_url(code):\n",
    "    url = f'https://irbank.net/{code}/ir'\n",
    "    r = requests.get(url)\n",
    "    sleep(random.uniform(3, 8)) \n",
    "    soup = BeautifulSoup(r.text,'html.parser')\n",
    "    element = soup.select_one('div.csb.cc2 > ul:nth-of-type(2) > li:first-of-type')\n",
    "    taget = element.find('a')\n",
    "    link = taget.get('href')\n",
    "    return link\n"
   ]
  },
  {
   "cell_type": "code",
   "execution_count": 777,
   "id": "96c55176",
   "metadata": {},
   "outputs": [
    {
     "name": "stdout",
     "output_type": "stream",
     "text": [
      "time: 2.522117853 [sec]\n",
      "time: 2.484273195 [sec]\n",
      "time: 2.296419144 [sec]\n",
      "time: 2.385443687 [sec]\n",
      "time: 2.317987204 [sec]\n",
      "time: 2.381206036 [sec]\n",
      "time: 2.426397085 [sec]\n",
      "time: 2.504644871 [sec]\n",
      "time: 2.421528101 [sec]\n",
      "time: 2.425532103 [sec]\n",
      "time: 2.524970055 [sec]\n",
      "time: 2.401628971 [sec]\n",
      "time: 2.468930960 [sec]\n",
      "time: 2.386493921 [sec]\n",
      "time: 2.442391872 [sec]\n",
      "time: 2.417729139 [sec]\n",
      "time: 2.303143263 [sec]\n",
      "time: 2.543843031 [sec]\n",
      "time: 2.398165941 [sec]\n",
      "time: 2.271637201 [sec]\n"
     ]
    }
   ],
   "source": [
    "#2\n",
    "#ここからclosing_dict=\n",
    "import pickle\n",
    "closing_dict = {}\n",
    "# for page in range(0, 100, 10):\n",
    "#     # your code here\n",
    "#     time.sleep(60) \n",
    "for code in flattened_codes[1:300]:\n",
    "    new_url = get_closing_url(code)\n",
    "    closing_dict[code] = new_url\n",
    "\n",
    "# 既存のpickleファイルがある場合\n",
    "    if os.path.exists('irbank/csv/closing_dict.pickle'):\n",
    "        # ファイルから既存のデータを読み込む\n",
    "        with open('irbank/csv/closing_dict.pickle', 'rb') as f:\n",
    "            ex_data = pickle.load(f)\n",
    "        # 既存のデータに新しいデータを追加\n",
    "        ex_data.update(closing_dict)\n",
    "        # ファイルに追加されたデータを保存する\n",
    "        with open('irbank/csv/closing_dict.pickle', 'wb') as f:\n",
    "            pickle.dump(ex_data, f)\n",
    "    # 初めての保存の場合\n",
    "    else:\n",
    "        with open('irbank/csv/closing_dict.pickle', 'wb') as f:\n",
    "            pickle.dump(closing_dict, f)\n",
    "            \n",
    "            \n"
   ]
  },
  {
   "cell_type": "code",
   "execution_count": 778,
   "id": "a85de1b0",
   "metadata": {},
   "outputs": [],
   "source": [
    "#2\n",
    "with open('irbank/csv/closing_dict.pickle', 'rb') as f:\n",
    "            ex_data = pickle.load(f)"
   ]
  },
  {
   "cell_type": "code",
   "execution_count": 779,
   "id": "6c2b0713",
   "metadata": {},
   "outputs": [
    {
     "data": {
      "text/plain": [
       "180"
      ]
     },
     "execution_count": 779,
     "metadata": {},
     "output_type": "execute_result"
    }
   ],
   "source": [
    "len(ex_data)"
   ]
  },
  {
   "cell_type": "code",
   "execution_count": 32,
   "id": "8dcdd2ee",
   "metadata": {},
   "outputs": [],
   "source": []
  },
  {
   "cell_type": "code",
   "execution_count": 667,
   "id": "df105761",
   "metadata": {},
   "outputs": [
    {
     "name": "stdout",
     "output_type": "stream",
     "text": [
      "729\n"
     ]
    }
   ],
   "source": []
  },
  {
   "cell_type": "code",
   "execution_count": null,
   "id": "80d85387",
   "metadata": {},
   "outputs": [],
   "source": []
  },
  {
   "cell_type": "code",
   "execution_count": 719,
   "id": "80fbd3ec",
   "metadata": {},
   "outputs": [],
   "source": [
    "#3\n",
    "\n",
    "#ここからfinal_dict\n",
    "import pickle\n",
    "final_dict = {}\n",
    "focus_url=[]\n",
    "for flatclosing_url in flatclosing_urls[8:10]:\n",
    "    url='https://irbank.net{}'.format(flatclosing_url)\n",
    "    sleep(2)\n",
    "    focus_url.append(url)\n",
    "    final_dict[flatclosing_url] = focus_url[-1]\n",
    "    save_pickle(final_dict, 'irbank/csv/final_dict.pickle')\n"
   ]
  },
  {
   "cell_type": "code",
   "execution_count": 720,
   "id": "0b82001b",
   "metadata": {},
   "outputs": [],
   "source": [
    "with open('irbank/csv/final_dict.pickle', 'rb') as f:\n",
    "    ex_data = pickle.load(f)\n",
    "final_code = list(itertools.chain(ex_data.values()))\n"
   ]
  },
  {
   "cell_type": "code",
   "execution_count": 721,
   "id": "dc377015",
   "metadata": {},
   "outputs": [
    {
     "data": {
      "text/plain": [
       "['https://irbank.net/E04236/results',\n",
       " 'https://irbank.net/E04235/results',\n",
       " 'https://irbank.nethttps://irbank.net/E04236/results',\n",
       " 'https://irbank.nethttps://irbank.net/E04235/results']"
      ]
     },
     "execution_count": 721,
     "metadata": {},
     "output_type": "execute_result"
    }
   ],
   "source": [
    "final_code"
   ]
  },
  {
   "cell_type": "code",
   "execution_count": 692,
   "id": "d7c3eb8f",
   "metadata": {},
   "outputs": [],
   "source": [
    "#3\n",
    "with open('irbank/csv/final_dict.pickle', 'rb') as f:\n",
    "    ex_data = pickle.load(f)\n",
    "final_code = list(itertools.chain(ex_data.values()))\n",
    "\n",
    "for i in final_code:\n",
    "    r=requests.get(i)\n",
    "    soup = BeautifulSoup(r.text, 'html.parser')\n",
    "    title=soup.find('h1').text\n",
    "    tagget= soup.find_all('h2')\n",
    "    \n",
    "text=[]\n",
    "for element in tagget:\n",
    "    for a in element.find_all('a'):\n",
    "        a.decompose()\n",
    "    text.append(element)\n",
    "target_h2 = []#正規は８項目\n",
    "for t in text:\n",
    "    if \"売上高\" in t or\"EPS\" in t or \"営業利益率\" in t or \"自己資本比率\" in t or \"営業活動によるCF\" in t or \"現金等\" in t or \"一株配当\" in t or \"配当性向\" in t:\n",
    "        target_h2.append(t)\n",
    "test_lists=[]\n",
    "if len(target_h2)==8:\n",
    "    for i in target_h2:\n",
    "        bro=i.find_next_sibling()\n",
    "        ss = bro.find_all('span', class_='text')\n",
    "        test_lists.append(ss)\n",
    "\n"
   ]
  },
  {
   "cell_type": "code",
   "execution_count": 696,
   "id": "a6b4d395",
   "metadata": {},
   "outputs": [
    {
     "ename": "NameError",
     "evalue": "name 'tagge' is not defined",
     "output_type": "error",
     "traceback": [
      "\u001b[0;31m---------------------------------------------------------------------------\u001b[0m",
      "\u001b[0;31mNameError\u001b[0m                                 Traceback (most recent call last)",
      "\u001b[0;32m/var/folders/81/ckf4k5wn0d16719pp2dp8rqw0000gn/T/ipykernel_16689/3753987964.py\u001b[0m in \u001b[0;36m<module>\u001b[0;34m\u001b[0m\n\u001b[0;32m----> 1\u001b[0;31m \u001b[0mtagge\u001b[0m\u001b[0;34m\u001b[0m\u001b[0;34m\u001b[0m\u001b[0m\n\u001b[0m",
      "\u001b[0;31mNameError\u001b[0m: name 'tagge' is not defined"
     ]
    }
   ],
   "source": [
    "tagge"
   ]
  },
  {
   "cell_type": "code",
   "execution_count": 680,
   "id": "77e65258",
   "metadata": {},
   "outputs": [
    {
     "data": {
      "text/plain": [
       "['https://irbank.net/E04236/results', 'https://irbank.net/E04235/results']"
      ]
     },
     "execution_count": 680,
     "metadata": {},
     "output_type": "execute_result"
    }
   ],
   "source": [
    "nw_url"
   ]
  },
  {
   "cell_type": "code",
   "execution_count": 671,
   "id": "2e91e6a4",
   "metadata": {},
   "outputs": [],
   "source": [
    "import os\n",
    "import pickle\n",
    "\n",
    "def save_pickle(data, filepath):\n",
    "    # 既存のpickleファイルがある場合\n",
    "    if os.path.exists(filepath):\n",
    "        # ファイルから既存のデータを読み込む\n",
    "        with open(filepath, 'rb') as f:\n",
    "            ex_data = pickle.load(f)\n",
    "        # 既存のデータに新しいデータを追加\n",
    "        ex_data.update(data)\n",
    "        # ファイルに追加されたデータを保存する\n",
    "        with open(filepath, 'wb') as f:\n",
    "            pickle.dump(ex_data, f)\n",
    "    # 初めての保存の場合\n",
    "    else:\n",
    "        with open(filepath, 'wb') as f:\n",
    "            pickle.dump(data, f)\n"
   ]
  },
  {
   "cell_type": "code",
   "execution_count": 539,
   "id": "b27a23ec",
   "metadata": {},
   "outputs": [],
   "source": [
    "def convert_yeild_figure(yeild_figure: str) -> int:\n",
    "    #兆しかない時\n",
    "    if '兆' in yeild_figure and '億' not in yeild_figure and '万' not in yeild_figure:\n",
    "        hennkan = yeild_figure.replace('兆', '*10**12')\n",
    "        return eval(hennkan)\n",
    "    #億しかない時\n",
    "    elif '億' in yeild_figure and '兆' not in yeild_figure and '万' not in yeild_figure:\n",
    "        hennkan = yeild_figure.replace('億', '*10**8')\n",
    "        return eval(hennkan)\n",
    "    #万しかない時\n",
    "    elif '万' in yeild_figure and '兆' not in yeild_figure and '万' not in yeild_figure:\n",
    "        hennkan = yeild_figure.replace('万', '*10**4')\n",
    "        return eval(hennkan)\n",
    "    elif '-' in yeild_figure and '兆' not in yeild_figure and '億' not in yeild_figure and '万' not in yeild_figure:\n",
    "        hennkan=yeild_figure.replace('-','0')\n",
    "        return eval(hennkan)\n",
    "    #兆と億の時\n",
    "    elif'兆'in yeild_figure and '億' in yeild_figure:\n",
    "        hennkan = yeild_figure.replace('兆', '*10**12+').replace('億','*10**8')\n",
    "        return eval(hennkan)\n",
    "    #億と万の時\n",
    "    elif'億'in yeild_figure and '万' in yeild_figure:\n",
    "        hennkan = yeild_figure.replace('億', '*10**8+').replace('万','*10**4')\n",
    "        return eval(hennkan)\n",
    "    \n",
    "    else:\n",
    "        hennkan = re.sub(r\"(兆)|(億)|(万)\", lambda x: \"*10**12+\" if x.group(1) else \"*10**8\" if x.group(2) else \"*10**4\", yeild_figure)\n",
    "        return eval(hennkan)\n",
    "    \n",
    "def check_yeild(eval_yeild_lists):\n",
    "    result = all(int(eval_yeild_lists[i]) < int(eval_yeild_lists[i+1]) for i in range(len(eval_yeild_lists)-1))\n",
    "    yeild_stock = []\n",
    "    if result:\n",
    "        yeild_stock.append('OK')\n",
    "    else:\n",
    "        for i in range(len(eval_yeild_lists)-1):\n",
    "            if int(eval_yeild_lists[i]) >= int(eval_yeild_lists[i+1]):\n",
    "                yeild_stock.append(f'NOT (at index {i+1})')\n",
    "    return yeild_stock\n"
   ]
  },
  {
   "cell_type": "code",
   "execution_count": 516,
   "id": "8e850ac6",
   "metadata": {},
   "outputs": [
    {
     "name": "stdout",
     "output_type": "stream",
     "text": [
      "1000000000000000000000000000000000000000000000000000000000000000000000000000000000000000000000000000000000000000000000000000000000000000000000000000000000000000000000000000000000000000000000000000000000000000000000000000000000000000000000000000000000\n"
     ]
    }
   ],
   "source": []
  },
  {
   "cell_type": "code",
   "execution_count": 670,
   "id": "6ae9ce52",
   "metadata": {},
   "outputs": [
    {
     "name": "stdout",
     "output_type": "stream",
     "text": [
      "20:35:25\n",
      "20\n"
     ]
    },
    {
     "ename": "TypeError",
     "evalue": "int() argument must be a string, a bytes-like object or a number, not 'tuple'",
     "output_type": "error",
     "traceback": [
      "\u001b[0;31m---------------------------------------------------------------------------\u001b[0m",
      "\u001b[0;31mTypeError\u001b[0m                                 Traceback (most recent call last)",
      "\u001b[0;32m~/Desktop/program/scraping/stack_scr/irbank/modules/flattened_codes.py\u001b[0m in \u001b[0;36m<module>\u001b[0;34m\u001b[0m\n\u001b[1;32m     49\u001b[0m     \u001b[0;31m#zfill完了\u001b[0m\u001b[0;34m\u001b[0m\u001b[0;34m\u001b[0m\u001b[0m\n\u001b[1;32m     50\u001b[0m \u001b[0meval_yeild_lists\u001b[0m \u001b[0;34m=\u001b[0m \u001b[0;34m[\u001b[0m\u001b[0;34m[\u001b[0m\u001b[0mconvert_yeild_figure\u001b[0m\u001b[0;34m(\u001b[0m\u001b[0myeild\u001b[0m\u001b[0;34m)\u001b[0m \u001b[0;32mfor\u001b[0m \u001b[0myeild\u001b[0m \u001b[0;32min\u001b[0m \u001b[0myeild_list\u001b[0m\u001b[0;34m]\u001b[0m \u001b[0;32mfor\u001b[0m \u001b[0myeild_list\u001b[0m \u001b[0;32min\u001b[0m \u001b[0myeild_lists\u001b[0m\u001b[0;34m]\u001b[0m\u001b[0;34m\u001b[0m\u001b[0;34m\u001b[0m\u001b[0m\n\u001b[0;32m---> 51\u001b[0;31m \u001b[0myeild_stock\u001b[0m \u001b[0;34m=\u001b[0m \u001b[0;34m[\u001b[0m\u001b[0mcheck_yeild\u001b[0m\u001b[0;34m(\u001b[0m\u001b[0myeild\u001b[0m\u001b[0;34m)\u001b[0m \u001b[0;32mfor\u001b[0m \u001b[0myeild\u001b[0m \u001b[0;32min\u001b[0m \u001b[0meval_yeild_lists\u001b[0m\u001b[0;34m]\u001b[0m\u001b[0;34m\u001b[0m\u001b[0;34m\u001b[0m\u001b[0m\n\u001b[0m\u001b[1;32m     52\u001b[0m \u001b[0;34m\u001b[0m\u001b[0m\n\u001b[1;32m     53\u001b[0m \u001b[0;34m\u001b[0m\u001b[0m\n",
      "\u001b[0;32m~/Desktop/program/scraping/stack_scr/irbank/modules/flattened_codes.py\u001b[0m in \u001b[0;36m<listcomp>\u001b[0;34m(.0)\u001b[0m\n\u001b[1;32m     49\u001b[0m     \u001b[0;31m#zfill完了\u001b[0m\u001b[0;34m\u001b[0m\u001b[0;34m\u001b[0m\u001b[0m\n\u001b[1;32m     50\u001b[0m \u001b[0meval_yeild_lists\u001b[0m \u001b[0;34m=\u001b[0m \u001b[0;34m[\u001b[0m\u001b[0;34m[\u001b[0m\u001b[0mconvert_yeild_figure\u001b[0m\u001b[0;34m(\u001b[0m\u001b[0myeild\u001b[0m\u001b[0;34m)\u001b[0m \u001b[0;32mfor\u001b[0m \u001b[0myeild\u001b[0m \u001b[0;32min\u001b[0m \u001b[0myeild_list\u001b[0m\u001b[0;34m]\u001b[0m \u001b[0;32mfor\u001b[0m \u001b[0myeild_list\u001b[0m \u001b[0;32min\u001b[0m \u001b[0myeild_lists\u001b[0m\u001b[0;34m]\u001b[0m\u001b[0;34m\u001b[0m\u001b[0;34m\u001b[0m\u001b[0m\n\u001b[0;32m---> 51\u001b[0;31m \u001b[0myeild_stock\u001b[0m \u001b[0;34m=\u001b[0m \u001b[0;34m[\u001b[0m\u001b[0mcheck_yeild\u001b[0m\u001b[0;34m(\u001b[0m\u001b[0myeild\u001b[0m\u001b[0;34m)\u001b[0m \u001b[0;32mfor\u001b[0m \u001b[0myeild\u001b[0m \u001b[0;32min\u001b[0m \u001b[0meval_yeild_lists\u001b[0m\u001b[0;34m]\u001b[0m\u001b[0;34m\u001b[0m\u001b[0;34m\u001b[0m\u001b[0m\n\u001b[0m\u001b[1;32m     52\u001b[0m \u001b[0;34m\u001b[0m\u001b[0m\n\u001b[1;32m     53\u001b[0m \u001b[0;34m\u001b[0m\u001b[0m\n",
      "\u001b[0;32m~/Desktop/program/scraping/stack_scr/irbank/modules/flattened_codes.py\u001b[0m in \u001b[0;36mcheck_yeild\u001b[0;34m(eval_yeild_lists)\u001b[0m\n\u001b[1;32m     35\u001b[0m     \u001b[0;32melse\u001b[0m\u001b[0;34m:\u001b[0m\u001b[0;34m\u001b[0m\u001b[0;34m\u001b[0m\u001b[0m\n\u001b[1;32m     36\u001b[0m         \u001b[0;32mfor\u001b[0m \u001b[0mi\u001b[0m \u001b[0;32min\u001b[0m \u001b[0mrange\u001b[0m\u001b[0;34m(\u001b[0m\u001b[0mlen\u001b[0m\u001b[0;34m(\u001b[0m\u001b[0meval_yeild_lists\u001b[0m\u001b[0;34m)\u001b[0m\u001b[0;34m-\u001b[0m\u001b[0;36m1\u001b[0m\u001b[0;34m)\u001b[0m\u001b[0;34m:\u001b[0m\u001b[0;34m\u001b[0m\u001b[0;34m\u001b[0m\u001b[0m\n\u001b[0;32m---> 37\u001b[0;31m             \u001b[0;32mif\u001b[0m \u001b[0mint\u001b[0m\u001b[0;34m(\u001b[0m\u001b[0meval_yeild_lists\u001b[0m\u001b[0;34m[\u001b[0m\u001b[0mi\u001b[0m\u001b[0;34m]\u001b[0m\u001b[0;34m)\u001b[0m \u001b[0;34m>=\u001b[0m \u001b[0mint\u001b[0m\u001b[0;34m(\u001b[0m\u001b[0meval_yeild_lists\u001b[0m\u001b[0;34m[\u001b[0m\u001b[0mi\u001b[0m\u001b[0;34m+\u001b[0m\u001b[0;36m1\u001b[0m\u001b[0;34m]\u001b[0m\u001b[0;34m)\u001b[0m\u001b[0;34m:\u001b[0m\u001b[0;34m\u001b[0m\u001b[0;34m\u001b[0m\u001b[0m\n\u001b[0m\u001b[1;32m     38\u001b[0m                 \u001b[0myeild_stock\u001b[0m\u001b[0;34m.\u001b[0m\u001b[0mappend\u001b[0m\u001b[0;34m(\u001b[0m\u001b[0;34mf'NOT (at index {i+1})'\u001b[0m\u001b[0;34m)\u001b[0m\u001b[0;34m\u001b[0m\u001b[0;34m\u001b[0m\u001b[0m\n\u001b[1;32m     39\u001b[0m     \u001b[0;32mreturn\u001b[0m \u001b[0myeild_stock\u001b[0m\u001b[0;34m\u001b[0m\u001b[0;34m\u001b[0m\u001b[0m\n",
      "\u001b[0;31mTypeError\u001b[0m: int() argument must be a string, a bytes-like object or a number, not 'tuple'"
     ]
    }
   ],
   "source": [
    "from bs4 import BeautifulSoup\n",
    "import requests \n",
    "import re\n",
    "from time import sleep\n",
    "import pandas as pd\n",
    "import time\n",
    "from tqdm import tqdm\n",
    "import pickle\n",
    "import itertools\n",
    "import random\n",
    "from datetime import datetime\n",
    "\n",
    "print(datetime.now().strftime(\"%H:%M:%S\"))\n",
    "with open('csv/securities_codes.pickle', 'rb') as f:\n",
    "            existing_data = pickle.load(f)\n",
    "#リストを一緒くたに一つに\n",
    "flattened_codes = list(itertools.chain(*existing_data.values()))\n",
    "print(len(flattened_codes))\n",
    "\n",
    "#flattened_codesの値を渡すとその企業コードのIRBANKのトップページが開き、その中の決算情報ページのリンクURLの一部を取得\n",
    "with open('csv/yeild_dict.pickle', 'rb') as f:\n",
    "            ye_data = pickle.load(f)\n",
    "flatyeild_urls = list(itertools.chain(ye_data.values()))\n",
    "\n",
    "#flattened_codesの値を渡すとその企業コードのIRBANKのトップページが開き、その中の決算情報ページのリンクURLの一部を取得\n",
    "# with open('csv/yeild_dict.pickle', 'rb') as f:\n",
    "#             ye_data = pickle.load(f)\n",
    "# flatyeild_urls = list(itertools.chain(ye_data.values()))\n",
    "# print(len(flatyeild_urls))\n",
    "\n",
    "#-------------------------------------------------------------------------一先ず終了2023/01/05----------------------------------------------------------------------#\n",
    "#上記を満たした企業コードの決算ページxxxxxx/resultsにアクセスし企業名と条件の財務の値を取得\n",
    "focus_urls1=[]\n",
    "text2=[]\n",
    "all_title1=[]\n",
    "for flatyeild_url in flatyeild_urls[0:50]:\n",
    "    url='https://irbank.net{}'.format(flatyeild_url)\n",
    "    sleep(random.uniform(3, 8)) \n",
    "    focus_urls1.append(url)\n",
    "for focus_url1 in focus_urls1:\n",
    "    r1=requests.get(focus_url1)\n",
    "    soup1 = BeautifulSoup(r1.text, 'html.parser')\n",
    "    title1=soup1.find('h1').text\n",
    "    all_title1.append(title1)\n",
    "    suii=soup1.find(id='g_3')\n",
    "    numv=suii.find_all('span', class_='text')\n",
    "    text2.append(numv)\n",
    "yeild_lists=[[text2_list.text for text2_list in text2_lists]for text2_lists in text2]\n",
    "    #zfill完了\n",
    "eval_yeild_lists = [[convert_yeild_figure(yeild) for yeild in yeild_list] for yeild_list in yeild_lists]\n",
    "yeild_stock = [check_yeild(yeild) for yeild in eval_yeild_lists]\n",
    "\n",
    "\n",
    "yeild_analyze_dict = {}\n",
    "if len(all_title1) == len(yeild_stock):\n",
    "    for i in range(len(all_title1)):\n",
    "        yeild_analyze_dict[all_title1[i]] = [yeild_stock[i]]\n",
    "    goood = [[key, len(vi)] for key, value in yeild_analyze_dict.items() for vi in value]\n",
    "else:\n",
    "    print(\"The length of two lists are different.\")\n",
    "goood_dict = {}\n",
    "for elst in goood:\n",
    "    key, val = elst\n",
    "    if key not in goood_dict:\n",
    "        goood_dict[key] = []\n",
    "    goood_dict[key].append(val)\n",
    "for key, value in goood_dict.items():\n",
    "    goood_dict[key] = list(map(lambda x: '○' if x <= 2 else x, value))\n",
    "    \n",
    "edd_list = {}\n",
    "for key, value in goood_dict.items():\n",
    "    if value.count('○') == 1:\n",
    "        edd_list[key] = value\n",
    "print(edd_list)\n",
    "edd_df = pd.DataFrame.from_dict(edd_list, orient='index', columns=['剰余金の配当/配当金の支払額'])\n",
    "edd_df.style.set_properties(**{'text-align': 'center'})\n",
    "edd_df.to_csv('csv/yeild_rize.csv',index=True,encoding='utf-8-sig',mode='a')\n",
    "\n",
    "print(datetime.now().strftime(\"%H:%M:%S\"))"
   ]
  },
  {
   "cell_type": "code",
   "execution_count": 668,
   "id": "77ad803c",
   "metadata": {},
   "outputs": [
    {
     "data": {
      "text/plain": [
       "713"
      ]
     },
     "execution_count": 668,
     "metadata": {},
     "output_type": "execute_result"
    }
   ],
   "source": [
    "len(flatyeild_urls)\n"
   ]
  },
  {
   "cell_type": "code",
   "execution_count": 87,
   "id": "2844d9bb",
   "metadata": {},
   "outputs": [
    {
     "data": {
      "text/plain": [
       "['https://irbank.net/E04236/dividend',\n",
       " 'https://irbank.net/E04235/dividend',\n",
       " 'https://irbank.net/E04239/dividend']"
      ]
     },
     "execution_count": 87,
     "metadata": {},
     "output_type": "execute_result"
    }
   ],
   "source": [
    "focus_url1"
   ]
  },
  {
   "cell_type": "code",
   "execution_count": 49,
   "id": "dbb937e2",
   "metadata": {},
   "outputs": [],
   "source": [
    "#ここから配当推移ページ\n",
    "@tictoc\n",
    "@cache\n",
    "def get_yeild_curve(code):\n",
    "    url = f'https://irbank.net/{code}/ir'\n",
    "    r = requests.get(url)\n",
    "    sleep(random.uniform(3, 8)) \n",
    "    soup = BeautifulSoup(r.text,'html.parser')\n",
    "    element = soup.select('div.csb.cc2 > ul:nth-of-type(2) > li:nth-of-type(7)')\n",
    "    for ec in element:\n",
    "        taget = ec.find('a')\n",
    "        link = taget.get('href')\n",
    "    return link"
   ]
  },
  {
   "cell_type": "code",
   "execution_count": 650,
   "id": "7ba6b271",
   "metadata": {},
   "outputs": [],
   "source": [
    "with open('pickle/securities_codes.pickle', 'rb') as f:\n",
    "            existing_data = pickle.load(f)\n",
    "if existing_data[0] :\n",
    "    del existing_data[0]\n",
    "else:\n",
    "    pass\n",
    "\n",
    "flattened_codes = list(itertools.chain(*existing_data.values()))"
   ]
  },
  {
   "cell_type": "code",
   "execution_count": 664,
   "id": "fd1ba2da",
   "metadata": {},
   "outputs": [
    {
     "name": "stdout",
     "output_type": "stream",
     "text": [
      "19:29:01\n",
      "time: 0.000003099 [sec]\n",
      "time: 5.837694168 [sec]\n",
      "time: 7.513782024 [sec]\n",
      "time: 5.777966022 [sec]\n",
      "time: 3.804481030 [sec]\n",
      "time: 7.881258965 [sec]\n",
      "time: 7.739821196 [sec]\n",
      "time: 4.162638903 [sec]\n",
      "time: 5.148170948 [sec]\n",
      "time: 7.827220201 [sec]\n",
      "time: 3.643136740 [sec]\n",
      "time: 7.973680973 [sec]\n",
      "time: 4.182762861 [sec]\n",
      "time: 7.211318016 [sec]\n",
      "time: 7.192951918 [sec]\n",
      "time: 4.010494947 [sec]\n",
      "time: 3.584820271 [sec]\n",
      "time: 5.046642065 [sec]\n",
      "time: 5.444117308 [sec]\n",
      "time: 7.833501816 [sec]\n",
      "time: 4.246730089 [sec]\n",
      "time: 5.423904657 [sec]\n",
      "time: 8.347322702 [sec]\n",
      "time: 8.281979799 [sec]\n",
      "time: 6.040544033 [sec]\n",
      "time: 3.576762915 [sec]\n",
      "time: 7.496723890 [sec]\n",
      "time: 4.390842915 [sec]\n",
      "time: 7.847155094 [sec]\n",
      "time: 5.830360889 [sec]\n",
      "time: 5.489274979 [sec]\n",
      "time: 3.597939968 [sec]\n",
      "time: 6.228992939 [sec]\n",
      "time: 7.441301107 [sec]\n",
      "time: 6.446216106 [sec]\n",
      "time: 6.234951973 [sec]\n",
      "time: 4.811427116 [sec]\n",
      "time: 7.141684055 [sec]\n",
      "time: 7.184258223 [sec]\n",
      "time: 4.247434855 [sec]\n",
      "time: 5.754176140 [sec]\n",
      "time: 4.711187124 [sec]\n",
      "time: 4.340524197 [sec]\n",
      "time: 8.176131010 [sec]\n",
      "time: 3.989001989 [sec]\n",
      "time: 6.455743074 [sec]\n",
      "time: 6.740433931 [sec]\n",
      "time: 4.194092035 [sec]\n",
      "time: 4.435773849 [sec]\n",
      "time: 6.612615347 [sec]\n",
      "time: 6.458292007 [sec]\n",
      "time: 8.242829800 [sec]\n",
      "time: 7.920478106 [sec]\n",
      "time: 4.074362040 [sec]\n",
      "time: 6.731961012 [sec]\n",
      "time: 6.713614941 [sec]\n",
      "time: 5.527431965 [sec]\n",
      "time: 6.907248259 [sec]\n",
      "time: 6.658551216 [sec]\n",
      "time: 6.972139597 [sec]\n",
      "time: 4.416249037 [sec]\n",
      "time: 6.223311901 [sec]\n",
      "time: 7.160747051 [sec]\n",
      "time: 6.990248203 [sec]\n",
      "time: 5.948706150 [sec]\n",
      "time: 4.856211901 [sec]\n",
      "time: 3.529773235 [sec]\n",
      "time: 5.874065876 [sec]\n",
      "time: 4.414906025 [sec]\n",
      "time: 8.068704128 [sec]\n",
      "time: 7.041856050 [sec]\n",
      "time: 4.339940786 [sec]\n",
      "time: 4.801787853 [sec]\n",
      "time: 5.069093227 [sec]\n",
      "time: 7.452465773 [sec]\n",
      "time: 3.702766180 [sec]\n",
      "time: 3.606899977 [sec]\n",
      "time: 7.278396130 [sec]\n",
      "time: 5.876252890 [sec]\n",
      "time: 3.497378111 [sec]\n",
      "time: 6.233610153 [sec]\n",
      "time: 6.828499079 [sec]\n",
      "time: 7.636647224 [sec]\n",
      "time: 4.622098923 [sec]\n",
      "time: 6.644510984 [sec]\n",
      "time: 7.901448011 [sec]\n",
      "time: 7.925766945 [sec]\n",
      "time: 3.732747078 [sec]\n",
      "time: 6.942255259 [sec]\n",
      "time: 6.816472054 [sec]\n",
      "time: 5.047430277 [sec]\n",
      "time: 8.312324047 [sec]\n",
      "time: 7.932743073 [sec]\n",
      "time: 7.301665068 [sec]\n",
      "time: 3.493094921 [sec]\n",
      "time: 6.677261114 [sec]\n",
      "time: 4.739531040 [sec]\n",
      "time: 3.458990812 [sec]\n",
      "time: 6.706672668 [sec]\n",
      "time: 4.604794979 [sec]\n",
      "time: 4.500338078 [sec]\n",
      "time: 8.326411963 [sec]\n",
      "time: 5.015316963 [sec]\n",
      "time: 5.476541996 [sec]\n",
      "19:39:12\n"
     ]
    }
   ],
   "source": [
    "#2\n",
    "#ここから配当推移ページflatyeild_urls.pyの処理\n",
    "import pickle\n",
    "import os\n",
    "from datetime import datetime\n",
    "\n",
    "print(datetime.now().strftime(\"%H:%M:%S\"))\n",
    "\n",
    "yeild_dict = {}\n",
    "\n",
    "for code in flattened_codes[610:713]:\n",
    "    yeuld_url = get_yeild_curve(code)\n",
    "    yeild_dict[code] = yeuld_url\n",
    "\n",
    "# 既存のpickleファイルがある場合\n",
    "    if os.path.exists('csv/yeild_dict.pickle'):\n",
    "        # ファイルから既存のデータを読み込む\n",
    "        with open('csv/yeild_dict.pickle', 'rb') as f:\n",
    "            ye_data = pickle.load(f)\n",
    "        # 既存のデータに新しいデータを追加\n",
    "        ye_data.update(yeild_dict)\n",
    "        # ファイルに追加されたデータを保存する\n",
    "        with open('csv/yeild_dict.pickle', 'wb') as f:\n",
    "            pickle.dump(ye_data, f)\n",
    "    # 初めての保存の場合\n",
    "    else:\n",
    "        with open('csv/yeild_dict.pickle', 'wb') as f:\n",
    "            pickle.dump(yeild_dict, f)\n",
    "with open('csv/yeild_dict.pickle', 'rb') as f:\n",
    "            ye_data = pickle.load(f)\n",
    "flatyeild_urls = list(itertools.chain(ye_data.values()))\n",
    "\n",
    "print(datetime.now().strftime(\"%H:%M:%S\"))"
   ]
  },
  {
   "cell_type": "code",
   "execution_count": null,
   "id": "58dcdd18",
   "metadata": {},
   "outputs": [],
   "source": []
  },
  {
   "cell_type": "code",
   "execution_count": 666,
   "id": "d4f23634",
   "metadata": {},
   "outputs": [
    {
     "name": "stdout",
     "output_type": "stream",
     "text": [
      "{'9104': '/E04236/dividend', '9101': '/E04235/dividend', '9110': '/E04239/dividend', '9308': '/E04288/dividend', '1518': '/E00037/dividend', '1662': '/E00041/dividend', '2914': '/E00492/dividend', '1820': '/E00060/dividend', '9107': '/E04237/dividend', '5208': '/E01152/dividend', '5009': '/E01076/dividend', '5192': '/E01098/dividend', '5334': '/E01136/dividend', '7239': '/E02210/dividend', '8595': '/E04806/dividend', '3284': '/E27281/dividend', '7744': '/E02322/dividend', '8886': '/E03988/dividend', '2986': '/E35631/dividend', '6035': '/E31054/dividend', '4595': '/E31946/dividend', '6502': '/E01738/dividend', '1833': '/E00083/dividend', '5444': '/E01259/dividend', '3245': '/E04072/dividend', '7638': '/E03333/dividend', '1852': '/E00120/dividend', '8076': '/E02561/dividend', '3948': '/E00708/dividend', '7236': '/E02155/dividend', '6651': '/E01759/dividend', '2892': '/E00442/dividend', '7847': '/E02464/dividend', '5985': '/E01402/dividend', '9119': '/E04243/dividend', '8737': '/E03733/dividend', '8996': '/E04048/dividend', '7494': '/E03259/dividend', '3242': '/E04069/dividend', '7433': '/E02802/dividend', '8093': '/E02503/dividend', '6156': '/E02343/dividend', '9268': '/E33616/dividend', '7088': '/E35487/dividend', '7762': '/E02281/dividend', '9434': '/E04426/dividend', '7480': '/E02838/dividend', '3465': '/E31979/dividend', '4249': '/E33603/dividend', '8075': '/E02522/dividend', '6291': '/E02421/dividend', '6918': '/E01993/dividend', '9282': '/G12276/dividend', '9381': '/E04369/dividend', '6461': '/E01597/dividend', '8150': '/E02671/dividend', '8999': '/E04044/dividend', '8893': '/E03994/dividend', '1822': '/E00095/dividend', '2975': '/E34707/dividend', '4031': '/E00789/dividend', '1720': '/E00316/dividend', '5901': '/E01353/dividend', '5988': '/E01438/dividend', '4705': '/E05011/dividend', '1847': '/E00117/dividend', '7278': '/E02203/dividend', '8304': '/E03531/dividend', '7414': '/E01324/dividend', '6393': '/E01612/dividend', '1808': '/E00090/dividend', '9147': '/E36706/dividend', '2999': '/E35234/dividend', '4246': '/E30438/dividend', '6210': '/E01528/dividend', '7284': '/E02387/dividend', '3447': '/E33834/dividend', '5703': '/E26707/dividend', '7198': '/E33625/dividend', '1451': '/E34679/dividend', '5015': '/E02800/dividend', '5408': '/E01229/dividend', '5105': '/E01090/dividend', '3294': '/E30124/dividend', '9880': '/E02724/dividend', '7148': '/E24651/dividend', '3321': '/E02968/dividend', '8897': '/E03997/dividend', '2676': '/E02927/dividend', '2737': '/E02946/dividend', '6462': '/E01598/dividend', '1911': '/E00011/dividend', '3109': '/E00530/dividend', '6358': '/E01610/dividend', '5702': '/E01318/dividend', '8835': '/E00034/dividend', '7879': '/E00636/dividend', '9445': '/E04476/dividend', '6809': '/E01831/dividend', '1814': '/E00093/dividend', '7905': '/E00619/dividend', '5237': '/E01166/dividend', '6369': '/E01572/dividend', '2768': '/E02958/dividend', '4410': '/E01020/dividend', '7618': '/E03323/dividend', '8053': '/E02528/dividend', '8887': '/E03989/dividend', '5742': '/E01331/dividend', '6804': '/E01815/dividend', '8140': '/E02663/dividend', '9303': '/E04285/dividend', '4845': '/E05187/dividend', '4208': '/E01002/dividend', '5410': '/E01235/dividend', '1939': '/E00181/dividend', '9362': '/E04342/dividend', '5351': '/E01146/dividend', '5391': '/E01163/dividend', '8020': '/E02506/dividend', '5185': '/E01113/dividend', '7523': '/E03276/dividend', '1972': '/E00109/dividend', '7525': '/E02856/dividend', '4005': '/E00752/dividend', '4767': '/E05100/dividend', '8065': '/E02535/dividend', '8881': '/E03984/dividend', '1861': '/E00056/dividend', '4745': '/E05067/dividend', '4064': '/E00777/dividend', '7488': '/E02843/dividend', '4042': '/E00767/dividend', '7246': '/E02154/dividend', '4078': '/E00780/dividend', '4932': '/E35568/dividend', '5214': '/E01190/dividend', '3228': '/E04059/dividend', '6292': '/E01694/dividend', '3467': '/E32158/dividend', '1941': '/E00073/dividend', '6333': '/E01761/dividend', '7957': '/E02402/dividend', '4968': '/E01048/dividend', '5697': '/E01296/dividend', '7467': '/E02828/dividend', '4634': '/E00903/dividend', '1870': '/E00148/dividend', '4008': '/E00755/dividend', '8892': '/E03992/dividend', '1430': '/E31306/dividend', '7287': '/E02214/dividend', '9761': '/E04800/dividend', '8005': '/E03054/dividend', '3023': '/E02547/dividend', '7729': '/E02289/dividend', '4619': '/E00900/dividend', '7291': '/E02216/dividend', '1929': '/E00142/dividend', '8713': '/E23187/dividend', '1871': '/E01161/dividend', '8903': '/E04001/dividend', '8935': '/E04032/dividend', '6941': '/E01979/dividend', '3457': '/E31284/dividend', '1805': '/E00063/dividend', '9302': '/E04284/dividend', '8931': '/E04029/dividend', '7593': '/E02889/dividend', '7940': '/E33050/dividend', '7599': '/E02892/dividend', '7812': '/E31622/dividend', '8091': '/E00570/dividend', '6384': '/E01719/dividend', '8002': '/E02498/dividend', '5079': '/E37468/dividend', '4119': '/E00899/dividend', '6870': '/E02020/dividend', '7949': '/E02408/dividend', '7338': '/E35822/dividend', '6998': '/E01907/dividend', '8869': '/E03967/dividend', '6247': '/E01643/dividend', '6237': '/E32189/dividend', '9640': '/E04889/dividend', '5184': '/E01114/dividend', '1960': '/E00173/dividend', '9904': '/E03181/dividend', '8871': '/E03971/dividend', '6306': '/E01372/dividend', '4972': '/E01055/dividend', '6523': '/E36976/dividend', '8154': '/E02676/dividend', '6463': '/E01599/dividend', '8141': '/E02664/dividend', '8904': '/E00311/dividend', '5659': '/E01280/dividend', '3156': '/E23245/dividend', '3486': '/E33579/dividend', '1419': '/E27305/dividend', '2335': '/E05312/dividend', '6250': '/E21258/dividend', '8101': '/E02549/dividend', '4248': '/E31037/dividend', '5632': '/E01233/dividend', '7202': '/E02143/dividend', '8008': '/E02621/dividend', '2485': '/E05585/dividend', '8007': '/E02501/dividend', '5121': '/E01094/dividend', '4423': '/E34545/dividend', '5280': '/E01202/dividend', '1853': '/E00130/dividend', '5020': '/E24050/dividend', '4061': '/E00774/dividend', '8593': '/E04788/dividend', '3276': '/E25870/dividend', '3151': '/E22440/dividend', '8098': '/E02517/dividend', '7463': '/E02826/dividend', '3131': '/E23741/dividend', '9466': '/E32198/dividend', '7420': '/E02793/dividend', '8725': '/E03854/dividend', '6186': '/E31997/dividend', '4116': '/E00902/dividend', '2715': '/E02941/dividend', '1719': '/E00317/dividend', '6694': '/E33025/dividend', '9639': '/E04890/dividend', '2763': '/E03405/dividend', '8349': '/E03544/dividend', '1887': '/E00059/dividend', '4220': '/E00838/dividend', '1723': '/E00313/dividend', '3293': '/E30066/dividend', '7122': '/E02138/dividend', '6623': '/E01748/dividend', '5464': '/E01315/dividend', '2311': '/E05293/dividend', '4708': '/E05014/dividend', '6486': '/E01414/dividend', '6789': '/E02054/dividend', '2461': '/E05533/dividend', '1980': '/E00194/dividend', '5302': '/E01140/dividend', '5915': '/E01362/dividend', '8542': '/E03678/dividend', '5201': '/E01122/dividend', '7377': '/E36539/dividend', '9763': '/E04777/dividend', '7950': '/E02407/dividend', '5195': '/E01092/dividend', '5602': '/E01268/dividend', '3597': '/E00607/dividend', '9446': '/E05181/dividend', '6382': '/E01627/dividend', '3952': '/E00681/dividend', '7539': '/E02865/dividend', '8584': '/E04768/dividend', '3738': '/E05392/dividend', '2777': '/E02961/dividend', '7537': '/E02864/dividend', '6919': '/E01992/dividend', '8068': '/E02685/dividend', '1807': '/E00167/dividend', '4221': '/E00834/dividend', '1961': '/E00107/dividend', '7673': '/E34644/dividend', '6539': '/E32801/dividend', '3513': '/E00572/dividend', '9872': '/E02722/dividend', '7822': '/E00631/dividend', '5976': '/E01400/dividend', '5480': '/E01242/dividend', '6379': '/E01577/dividend', '5857': '/E21187/dividend', '7087': '/E35470/dividend', '4714': '/E05024/dividend', '3548': '/E32697/dividend', '6307': '/E01704/dividend', '9769': '/E04796/dividend', '7229': '/E02236/dividend', '8133': '/E02643/dividend', '2393': '/E05381/dividend', '7417': '/E02792/dividend', '1815': '/E00065/dividend', '6648': '/E01754/dividend', '7877': '/E02441/dividend', '5368': '/E35497/dividend', '6493': '/E02189/dividend', '9908': '/E02749/dividend', '3388': '/E02992/dividend', '1930': '/E00207/dividend', '3374': '/E02986/dividend', '1951': '/E00094/dividend', '7995': '/E01164/dividend', '3475': '/E30726/dividend', '8630': '/E23924/dividend', '5356': '/E01180/dividend', '4234': '/E01052/dividend', '6643': '/E01747/dividend', '9698': '/E04849/dividend', '8014': '/E02509/dividend', '2121': '/E05617/dividend', '6742': '/E01770/dividend', '5331': '/E01139/dividend', '7775': '/E22509/dividend', '6183': '/E31896/dividend', '7231': '/E01230/dividend', '4093': '/E00787/dividend', '6178': '/E31748/dividend', '6788': '/E02333/dividend', '7944': '/E01834/dividend', '4544': '/E00967/dividend', '3248': '/E04077/dividend', '6482': '/E01710/dividend', '6319': '/E01289/dividend', '2993': '/E37141/dividend', '5983': '/E01439/dividend', '4182': '/E00815/dividend', '6652': '/E01951/dividend', '5992': '/E01405/dividend', '6718': '/E01849/dividend', '6345': '/E01657/dividend', '6317': '/E01584/dividend', '1982': '/E00168/dividend', '4041': '/E00766/dividend', '1802': '/E00055/dividend', '8345': '/E03543/dividend', '4709': '/E05017/dividend', '8898': '/E05238/dividend', '6797': '/E02055/dividend', '3449': '/E35294/dividend', '7283': '/E02162/dividend', '8061': '/E02512/dividend', '5660': '/E01282/dividend', '7030': '/E34053/dividend', '1892': '/E00079/dividend', '5471': '/E01239/dividend', '2760': '/E02955/dividend', '9717': '/E04834/dividend', '4502': '/E00919/dividend', '9034': '/E04223/dividend', '5938': '/E01317/dividend', '3241': '/E04068/dividend', '3291': '/E27759/dividend', '6357': '/E01632/dividend', '3246': '/E04075/dividend', '4188': '/E00808/dividend', '3817': '/E05640/dividend', '6757': '/E02065/dividend', '6113': '/E01486/dividend', '5458': '/E01275/dividend', '4367': '/E00837/dividend', '1821': '/E00085/dividend', '1925': '/E00048/dividend', '6189': '/E32156/dividend', '7265': '/E02232/dividend', '7718': '/E02302/dividend', '6407': '/E01909/dividend', '4095': '/E00898/dividend', '7872': '/E03281/dividend', '8927': '/E04024/dividend', '6371': '/E01578/dividend', '7916': '/E00696/dividend', '7856': '/E01053/dividend', '4215': '/E00823/dividend', '1928': '/E00143/dividend', '6763': '/E01782/dividend', '8560': '/E03669/dividend', '7240': '/E02176/dividend', '5461': '/E01251/dividend', '8923': '/E04021/dividend', '7464': '/E03251/dividend', '8877': '/E03977/dividend', '6301': '/E01532/dividend', '1964': '/E00119/dividend', '5911': '/E01355/dividend', '1867': '/E00179/dividend', '7368': '/E36464/dividend', '2499': '/E05631/dividend', '7299': '/E02225/dividend', '9960': '/E02769/dividend', '9743': '/E00208/dividend', '4631': '/E00901/dividend', '6995': '/E01898/dividend', '8889': '/E05174/dividend', '1721': '/E00322/dividend', '8908': '/E05313/dividend', '7609': '/E02898/dividend', '7637': '/E03332/dividend', '7399': '/E02447/dividend', '9913': '/E02752/dividend', '6436': '/E01590/dividend', '5187': '/E02416/dividend', '9832': '/E03138/dividend', '5706': '/E00024/dividend', '6471': '/E01600/dividend', '6540': '/E32796/dividend', '5021': '/E31632/dividend', '7575': '/E02881/dividend', '8917': '/E04013/dividend', '9788': '/E04934/dividend', '5563': '/E01256/dividend', '3143': '/E21832/dividend', '8934': '/E04031/dividend', '6703': '/E01767/dividend', '6257': '/E02488/dividend', '7322': '/E33693/dividend', '5989': '/E02222/dividend', '2449': '/E05498/dividend', '9366': '/E04353/dividend', '1605': '/E00043/dividend', '6445': '/E01595/dividend', '4725': '/E05036/dividend', '3847': '/E05687/dividend', '6032': '/E31103/dividend', '7953': '/E00912/dividend', '7380': '/E36703/dividend', '7250': '/E02178/dividend', '3299': '/E30649/dividend', '9260': '/E33381/dividend', '5950': '/E01421/dividend', '2488': '/E05593/dividend', '3244': '/E04074/dividend', '7827': '/E00639/dividend', '6973': '/E01619/dividend', '8383': '/E03582/dividend', '8291': '/E02544/dividend', '8095': '/E02585/dividend', '1994': '/E00222/dividend', '6339': '/E01541/dividend', '3020': '/E03472/dividend', '4471': '/E00884/dividend', '9632': '/E04599/dividend', '4748': '/E05069/dividend', '7261': '/E02163/dividend', '7751': '/E02274/dividend', '8381': '/E03583/dividend', '9709': '/E04841/dividend', '7313': '/E02380/dividend', '7472': '/E02833/dividend', '7182': '/E31775/dividend', '9536': '/E04523/dividend', '8046': '/E02616/dividend', '8860': '/E03953/dividend', '4461': '/E00885/dividend', '7189': '/E32447/dividend', '9072': '/E04191/dividend', '3436': '/E02103/dividend', '7955': '/E02406/dividend', '9991': '/E02782/dividend', '7966': '/E02394/dividend', '1866': '/E00175/dividend', '4044': '/E00769/dividend', '9682': '/E04861/dividend', '7242': '/E02147/dividend', '7460': '/E02825/dividend', '7264': '/E02234/dividend', '3877': '/E00649/dividend', '1764': '/E00282/dividend', '1775': '/E00273/dividend', '8411': '/E03615/dividend', '8393': '/E03597/dividend', '5367': '/E01188/dividend', '9934': '/E02761/dividend', '6930': '/E01848/dividend', '9644': '/E04887/dividend', '3035': '/E02995/dividend', '6373': '/E01580/dividend', '1717': '/E05377/dividend', '9213': '/E37304/dividend', '8011': '/E00593/dividend', '5958': '/E01409/dividend', '3423': '/E01298/dividend', '8203': '/E03103/dividend', '5929': '/E01385/dividend', '7671': '/E34476/dividend', '6871': '/E02030/dividend', '3003': '/E00523/dividend', '3173': '/E26290/dividend', '6989': '/E01817/dividend', '8563': '/E03674/dividend', '5658': '/E01287/dividend', '4658': '/E04973/dividend', '4092': '/E00784/dividend', '7224': '/E02252/dividend', '2107': '/E00354/dividend', '7820': '/E00640/dividend', '4792': '/E05135/dividend', '7435': '/E02011/dividend', '1946': '/E00076/dividend', '3553': '/E00994/dividend', '6844': '/E01887/dividend', '8804': '/E03859/dividend', '4642': '/E04955/dividend', '8367': '/E03580/dividend', '3405': '/E00876/dividend', '9351': '/E04321/dividend', '3172': '/E26322/dividend', '8070': '/E02527/dividend', '5970': '/E02228/dividend', '6932': '/E01986/dividend', '3551': '/E00996/dividend', '8995': '/E04049/dividend', '4202': '/E00818/dividend', '5984': '/E01437/dividend', '5923': '/E01373/dividend', '5933': '/E01430/dividend', '1813': '/E00097/dividend', '9216': '/E37399/dividend', '9622': '/E04902/dividend', '7022': '/E25662/dividend', '6440': '/E01596/dividend', '5729': '/E00026/dividend', '9384': '/E21799/dividend', '1952': '/E00227/dividend', '6881': '/E02035/dividend', '6248': '/E27530/dividend', '8309': '/E03611/dividend', '7181': '/E31755/dividend', '4521': '/E00935/dividend', '3101': '/E00525/dividend', '3231': '/E04060/dividend', '4668': '/E04981/dividend', '8336': '/E03555/dividend', '1776': '/E00272/dividend', '4183': '/E00840/dividend', '7896': '/E00633/dividend', '8558': '/E03640/dividend', '9306': '/E04287/dividend', '8410': '/E03623/dividend', '3947': '/E00668/dividend', '7865': '/E02882/dividend', '1515': '/E00036/dividend', '8925': '/E04023/dividend', '8316': '/E03614/dividend', '6507': '/E01743/dividend', '8159': '/E02678/dividend', '4928': '/E24991/dividend', '2411': '/E05417/dividend', '3504': '/E32204/dividend', '1904': '/E00233/dividend', '8289': '/E03132/dividend', '9837': '/E02703/dividend', '6676': '/E02086/dividend', '8591': '/E04762/dividend', '3431': '/E01461/dividend', '8074': '/E02525/dividend', '2304': '/E05288/dividend', '7811': '/E31924/dividend', '6962': '/E01952/dividend', '4839': '/E04427/dividend', '7327': '/E34113/dividend', '7315': '/E27671/dividend', '9513': '/E04510/dividend', '2674': '/E03361/dividend', '4224': '/E01103/dividend', '7722': '/E02335/dividend', '2687': '/E03372/dividend', '6134': '/E01495/dividend', '7623': '/E03326/dividend', '5463': '/E01253/dividend', '2294': '/E03283/dividend', '3041': '/E05597/dividend', '3951': '/E00714/dividend', '1417': '/E24558/dividend', '3526': '/E00577/dividend', '6488': '/E01683/dividend', '8537': '/E03645/dividend', '7337': '/E35810/dividend', '7212': '/E02229/dividend', '4902': '/E00989/dividend', '2689': '/E02928/dividend', '6629': '/E23871/dividend', '3132': '/E31167/dividend', '4043': '/E00768/dividend', '7985': '/E02385/dividend', '5481': '/E01243/dividend', '7928': '/E01031/dividend', '7628': '/E02905/dividend', '6042': '/E02171/dividend', '3166': '/E24536/dividend', '7296': '/E02221/dividend', '7422': '/E02794/dividend', '9359': '/E04330/dividend', '5393': '/E01151/dividend', '5715': '/E00032/dividend', '5076': '/E36723/dividend', '1812': '/E00058/dividend', '9304': '/E04286/dividend', '3116': '/E00540/dividend', '5019': '/E01084/dividend', '6853': '/E01921/dividend', '9368': '/E04357/dividend', '8282': '/E03128/dividend', '6584': '/E01753/dividend', '2961': '/E36991/dividend', '9651': '/E04873/dividend', '1893': '/E00086/dividend', '7958': '/E00857/dividend', '8051': '/E02560/dividend', '7570': '/E02879/dividend', '9986': '/E02779/dividend', '6498': '/E01660/dividend', '3433': '/E01443/dividend', '8151': '/E02672/dividend', '7267': '/E02166/dividend', '6118': '/E01545/dividend', '7177': '/E26815/dividend', '3036': '/E02998/dividend', '6489': '/E01672/dividend', '8016': '/E02521/dividend', '7800': '/E34028/dividend', '8173': '/E03052/dividend', '8084': '/E02518/dividend', '1860': '/E00147/dividend', '5162': '/E01115/dividend', '6365': '/E01544/dividend', '1736': '/E00304/dividend', '9619': '/E04904/dividend', '8015': '/E02505/dividend', '8425': '/E05426/dividend', '5017': '/E01082/dividend', '8157': '/E00157/dividend', '3477': '/E32793/dividend', '6167': '/E31594/dividend', '9856': '/E02714/dividend', '3501': '/E00574/dividend', '5979': '/E01448/dividend', '1934': '/E00137/dividend', '7791': '/E36627/dividend', '6073': '/E27303/dividend', '8570': '/E04912/dividend', '7040': '/E34097/dividend', '2445': '/E05493/dividend', '5011': '/E01077/dividend', '6798': '/E01805/dividend', '1885': '/E00080/dividend', '6644': '/E01752/dividend', '5333': '/E01137/dividend', '7961': '/E00621/dividend', '9889': '/E02729/dividend', '3176': '/E02548/dividend', '3004': '/E02542/dividend', '7956': '/E02404/dividend', '6392': '/E02180/dividend', '7270': '/E02152/dividend', '3834': '/E04496/dividend', '3407': '/E00877/dividend', '9066': '/E04320/dividend', '2163': '/E05717/dividend', '4676': '/E04462/dividend', '7670': '/E34470/dividend', '7272': '/E02168/dividend', '6103': '/E01481/dividend', '6715': '/E01827/dividend', '7981': '/E02373/dividend', '6730': '/E02077/dividend', '8945': '/E05505/dividend', '7208': '/E02248/dividend', '7217': '/E02242/dividend', '3375': '/E03460/dividend', '4238': '/E02477/dividend', '1898': '/E00176/dividend', '4028': '/E00765/dividend', '4620': '/E00832/dividend', '5930': '/E01413/dividend', '7823': '/E03493/dividend', '7059': '/E34699/dividend', '1945': '/E00092/dividend', '9233': '/E04275/dividend', '1810': '/E00064/dividend', '8103': '/E02563/dividend', '1827': '/E00105/dividend', '3611': '/E33574/dividend', '8395': '/E03599/dividend', '2117': '/E25648/dividend', '7740': '/E02308/dividend', '9057': '/E04209/dividend', '6328': '/E01714/dividend', '3167': '/E25165/dividend', '5991': '/E01367/dividend', '1878': '/E00218/dividend', '7893': '/E00716/dividend', '8714': '/E23250/dividend', '6322': '/E01711/dividend', '3157': '/E23288/dividend', '5232': '/E01127/dividend', '3452': '/E31024/dividend', '6282': '/E01642/dividend', '1786': '/E36102/dividend', '2579': '/E00417/dividend', '4617': '/E00897/dividend', '2415': '/E05428/dividend', '6142': '/E01503/dividend', '5363': '/E01149/dividend', '3546': '/E32382/dividend', '3612': '/E02767/dividend', '8399': '/E03602/dividend', '6543': '/E32951/dividend', '6141': '/E01502/dividend', '4671': '/E04982/dividend', '6863': '/E02411/dividend', '6287': '/E01685/dividend', '6622': '/E01750/dividend', '8424': '/E05438/dividend', '4229': '/E00448/dividend', '1967': '/E00138/dividend', '3261': '/E27046/dividend', '7226': '/E02170/dividend', '8018': '/E02534/dividend'}\n"
     ]
    }
   ],
   "source": [
    "print(ye_data)"
   ]
  },
  {
   "cell_type": "code",
   "execution_count": null,
   "id": "62099faa",
   "metadata": {},
   "outputs": [],
   "source": []
  },
  {
   "cell_type": "code",
   "execution_count": null,
   "id": "d2cf81d9",
   "metadata": {},
   "outputs": [],
   "source": []
  },
  {
   "cell_type": "code",
   "execution_count": 676,
   "id": "a073b460",
   "metadata": {},
   "outputs": [
    {
     "name": "stdout",
     "output_type": "stream",
     "text": [
      "time: 0.003230333 [sec]\n",
      "time: 0.004262209 [sec]\n",
      "time: 0.002010822 [sec]\n",
      "time: 0.001401901 [sec]\n",
      "time: 0.001268864 [sec]\n",
      "time: 0.000041962 [sec]\n",
      "time: 0.000651121 [sec]\n",
      "time: 0.000619650 [sec]\n",
      "time: 0.000586033 [sec]\n",
      "time: 0.000021935 [sec]\n",
      "time: 0.000001907 [sec]\n",
      "time: 0.000030041 [sec]\n",
      "time: 0.000004768 [sec]\n",
      "time: 0.000025272 [sec]\n",
      "time: 0.000005245 [sec]\n",
      "time: 0.000006914 [sec]\n",
      "time: 0.000028849 [sec]\n",
      "time: 0.000025034 [sec]\n",
      "time: 0.000004053 [sec]\n",
      "time: 0.000005245 [sec]\n",
      "time: 0.000025034 [sec]\n",
      "time: 0.000008821 [sec]\n",
      "time: 0.000087023 [sec]\n",
      "time: 0.000036001 [sec]\n",
      "time: 0.000003099 [sec]\n",
      "time: 0.000021935 [sec]\n",
      "time: 0.000561237 [sec]\n",
      "time: 0.000004053 [sec]\n",
      "time: 0.000006914 [sec]\n",
      "time: 0.000007868 [sec]\n",
      "time: 0.000004768 [sec]\n",
      "time: 0.000005245 [sec]\n",
      "time: 0.000009060 [sec]\n",
      "time: 0.000004053 [sec]\n",
      "time: 0.000021935 [sec]\n",
      "time: 0.000020981 [sec]\n",
      "time: 0.000009060 [sec]\n",
      "time: 0.000009060 [sec]\n",
      "time: 0.000002146 [sec]\n",
      "time: 0.000002146 [sec]\n",
      "time: 0.000005960 [sec]\n",
      "time: 0.000002861 [sec]\n",
      "time: 0.000002146 [sec]\n",
      "time: 0.000003815 [sec]\n",
      "time: 0.000002146 [sec]\n",
      "time: 0.000018120 [sec]\n",
      "time: 0.000000954 [sec]\n",
      "time: 0.000001192 [sec]\n",
      "time: 0.000003099 [sec]\n"
     ]
    }
   ],
   "source": [
    "# 例 : securities_codesを取得する関数は、get_securities_codes()で、保存するファイルのパスは'pickle/securities_codes.pickle'である場合\n"
   ]
  },
  {
   "cell_type": "code",
   "execution_count": 675,
   "id": "80ed5acc",
   "metadata": {},
   "outputs": [
    {
     "name": "stdout",
     "output_type": "stream",
     "text": [
      "None\n"
     ]
    }
   ],
   "source": [
    "print(flattened_codes)"
   ]
  },
  {
   "cell_type": "code",
   "execution_count": null,
   "id": "b35f5657",
   "metadata": {},
   "outputs": [],
   "source": []
  }
 ],
 "metadata": {
  "kernelspec": {
   "display_name": "Python 3 (ipykernel)",
   "language": "python",
   "name": "python3"
  },
  "language_info": {
   "codemirror_mode": {
    "name": "ipython",
    "version": 3
   },
   "file_extension": ".py",
   "mimetype": "text/x-python",
   "name": "python",
   "nbconvert_exporter": "python",
   "pygments_lexer": "ipython3",
   "version": "3.9.13"
  }
 },
 "nbformat": 4,
 "nbformat_minor": 5
}
