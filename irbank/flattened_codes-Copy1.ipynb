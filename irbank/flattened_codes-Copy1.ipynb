{
 "cells": [
  {
   "cell_type": "code",
   "execution_count": 1,
   "id": "d41c6078",
   "metadata": {},
   "outputs": [],
   "source": [
    "import os\n",
    "import pickle\n",
    "import itertools\n",
    "def get_flattened_codes(start_page, end_page, file_path):\n",
    "    result = {}\n",
    "    for page in range(start_page, end_page + 1):\n",
    "        securities_codes = get_securities_codes(page, page)\n",
    "        result[page] = securities_codes\n",
    "        if os.path.exists(file_path):\n",
    "            with open(file_path, 'rb') as f:\n",
    "                existing_data = pickle.load(f)\n",
    "            existing_data.update(result)\n",
    "            with open(file_path, 'wb') as f:\n",
    "                pickle.dump(existing_data, f)\n",
    "        else:\n",
    "            with open(file_path, 'wb') as f:\n",
    "                pickle.dump(result, f)\n",
    "\n",
    "    with open(file_path, 'rb') as f:\n",
    "                existing_data = pickle.load(f)\n",
    "    if existing_data[0] :\n",
    "        del existing_data[0]\n",
    "    else:\n",
    "        pass\n",
    "    flattened_codes = list(itertools.chain(*existing_data.values()))\n",
    "    return flattened_codes\n"
   ]
  },
  {
   "cell_type": "code",
   "execution_count": null,
   "id": "07bddca5",
   "metadata": {},
   "outputs": [],
   "source": [
    "get_flattened_codes(1,3,'pickle.')"
   ]
  }
 ],
 "metadata": {
  "kernelspec": {
   "display_name": "Python 3 (ipykernel)",
   "language": "python",
   "name": "python3"
  },
  "language_info": {
   "codemirror_mode": {
    "name": "ipython",
    "version": 3
   },
   "file_extension": ".py",
   "mimetype": "text/x-python",
   "name": "python",
   "nbconvert_exporter": "python",
   "pygments_lexer": "ipython3",
   "version": "3.9.13"
  }
 },
 "nbformat": 4,
 "nbformat_minor": 5
}
