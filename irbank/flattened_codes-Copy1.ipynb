{
 "cells": [
  {
   "cell_type": "code",
   "execution_count": 1,
   "id": "d41c6078",
   "metadata": {},
   "outputs": [],
   "source": [
    "import os\n",
    "import pickle\n",
    "import itertools\n",
    "\n",
    "def get_flattened_codes(get_securities_codes, file_path):\n",
    "    result = {}\n",
    "    #1ページ目から取得なので値に0はいらない\n",
    "    for page in range(1, 50):\n",
    "        securities_codes = get_securities_codes(page, page)\n",
    "        result[page] = securities_codes\n",
    "        if os.path.exists(file_path):\n",
    "         # ファイルから既存のデータを読み込む\n",
    "            with open(file_path, 'rb') as f:\n",
    "                existing_data = pickle.load(f)\n",
    "            # 既存のデータを更新する\n",
    "            existing_data.update(result)\n",
    "            # ファイルに追加されたデータを保存する\n",
    "            with open(file_path, 'wb') as f:\n",
    "                pickle.dump(existing_data, f)\n",
    "        else:\n",
    "            with open(file_path, 'wb') as f:\n",
    "                pickle.dump(result, f)\n",
    "\n",
    "    #全部のリストをつなげる(このページで取得するものはflattened_codes=企業コードで終了)\n",
    "    with open(file_path, 'rb') as f:\n",
    "                existing_data = pickle.load(f)\n",
    "    if existing_data[0] :\n",
    "        del existing_data[0]\n",
    "    else:\n",
    "        pass\n",
    "    #flatyeild_urls.pyとflatclosing_urls.pyで読み込まれる（使われる）\n",
    "    flattened_codes = list(itertools.chain(*existing_data.values()))\n"
   ]
  },
  {
   "cell_type": "code",
   "execution_count": null,
   "id": "07bddca5",
   "metadata": {},
   "outputs": [],
   "source": []
  }
 ],
 "metadata": {
  "kernelspec": {
   "display_name": "Python 3 (ipykernel)",
   "language": "python",
   "name": "python3"
  },
  "language_info": {
   "codemirror_mode": {
    "name": "ipython",
    "version": 3
   },
   "file_extension": ".py",
   "mimetype": "text/x-python",
   "name": "python",
   "nbconvert_exporter": "python",
   "pygments_lexer": "ipython3",
   "version": "3.9.13"
  }
 },
 "nbformat": 4,
 "nbformat_minor": 5
}
