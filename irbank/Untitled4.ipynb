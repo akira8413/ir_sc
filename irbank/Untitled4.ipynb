{
 "cells": [
  {
   "cell_type": "code",
   "execution_count": 4,
   "id": "8771765b",
   "metadata": {},
   "outputs": [
    {
     "name": "stdout",
     "output_type": "stream",
     "text": [
      "time: 0.000002861 [sec]\n",
      "time: 0.000008106 [sec]\n",
      "time: 0.000005722 [sec]\n",
      "time: 0.000006914 [sec]\n",
      "time: 0.000005007 [sec]\n",
      "time: 0.000006914 [sec]\n",
      "time: 0.000005960 [sec]\n",
      "time: 0.000004768 [sec]\n",
      "time: 5.191756010 [sec]\n",
      "time: 4.919610023 [sec]\n",
      "time: 4.486718893 [sec]\n",
      "time: 4.922585249 [sec]\n",
      "time: 4.319554090 [sec]\n",
      "time: 4.862366915 [sec]\n",
      "time: 4.089040995 [sec]\n",
      "time: 3.577195168 [sec]\n",
      "time: 7.608763218 [sec]\n",
      "time: 3.911442041 [sec]\n",
      "time: 5.486285925 [sec]\n",
      "time: 4.485545158 [sec]\n",
      "time: 4.089970827 [sec]\n",
      "time: 3.660804033 [sec]\n",
      "time: 7.135087013 [sec]\n",
      "time: 3.445919991 [sec]\n",
      "time: 7.654985905 [sec]\n",
      "time: 6.633236170 [sec]\n",
      "time: 7.653094053 [sec]\n",
      "time: 7.304775953 [sec]\n",
      "time: 7.194090128 [sec]\n",
      "time: 6.675993919 [sec]\n",
      "time: 4.664863110 [sec]\n",
      "time: 7.015342712 [sec]\n",
      "time: 4.911180973 [sec]\n",
      "time: 5.704615831 [sec]\n",
      "time: 5.882475853 [sec]\n",
      "time: 7.770077229 [sec]\n"
     ]
    },
    {
     "data": {
      "text/plain": [
       "686"
      ]
     },
     "execution_count": 4,
     "metadata": {},
     "output_type": "execute_result"
    }
   ],
   "source": [
    "\n",
    "%run -i 'modules/flattened_codes-.py'\n",
    "flattened_codes = get_flattened_codes(get_securities_codes, 'pickle/securities_codes.pickle')\n",
    "len(flattened_codes)\n",
    "\n"
   ]
  },
  {
   "cell_type": "code",
   "execution_count": 5,
   "id": "8c8bc2a5",
   "metadata": {},
   "outputs": [
    {
     "name": "stdout",
     "output_type": "stream",
     "text": [
      "9104\n"
     ]
    }
   ],
   "source": [
    "print(flattened_codes[0])"
   ]
  },
  {
   "cell_type": "code",
   "execution_count": null,
   "id": "a2c44e28",
   "metadata": {},
   "outputs": [],
   "source": []
  }
 ],
 "metadata": {
  "kernelspec": {
   "display_name": "Python 3 (ipykernel)",
   "language": "python",
   "name": "python3"
  },
  "language_info": {
   "codemirror_mode": {
    "name": "ipython",
    "version": 3
   },
   "file_extension": ".py",
   "mimetype": "text/x-python",
   "name": "python",
   "nbconvert_exporter": "python",
   "pygments_lexer": "ipython3",
   "version": "3.9.13"
  }
 },
 "nbformat": 4,
 "nbformat_minor": 5
}
