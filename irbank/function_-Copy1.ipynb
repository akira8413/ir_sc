{
 "cells": [
  {
   "cell_type": "code",
   "execution_count": null,
   "id": "55aa5f61",
   "metadata": {},
   "outputs": [],
   "source": [
    "#2\n",
    "#ここから配当推移ページ\n",
    "import pickle\n",
    "import os\n",
    "yeild_dict = {}\n",
    "# for page in range(0, 100, 10):\n",
    "#     # your code here\n",
    "#     time.sleep(60) \n",
    "for code in flattened_codes[110:140]:\n",
    "    yeuld_url = get_yeild_curve(code)\n",
    "    yeild_dict[code] = yeuld_url\n",
    "\n",
    "# 既存のpickleファイルがある場合\n",
    "    if os.path.exists('csv/yeild_dict.pickle'):\n",
    "        # ファイルから既存のデータを読み込む\n",
    "        with open('csv/yeild_dict.pickle', 'rb') as f:\n",
    "            ye_data = pickle.load(f)\n",
    "        # 既存のデータに新しいデータを追加\n",
    "        ye_data.update(yeild_dict)\n",
    "        # ファイルに追加されたデータを保存する\n",
    "        with open('csv/yeild_dict.pickle', 'wb') as f:\n",
    "            pickle.dump(ye_data, f)\n",
    "    # 初めての保存の場合\n",
    "    else:\n",
    "        with open('csv/yeild_dict.pickle', 'wb') as f:\n",
    "            pickle.dump(yeild_dict, f)\n",
    "with open('csv/yeild_dict.pickle', 'rb') as f:\n",
    "            ye_data = pickle.load(f)\n",
    "flatyeild_urls = list(itertools.chain(ye_data.values()))"
   ]
  }
 ],
 "metadata": {
  "kernelspec": {
   "display_name": "Python 3 (ipykernel)",
   "language": "python",
   "name": "python3"
  },
  "language_info": {
   "codemirror_mode": {
    "name": "ipython",
    "version": 3
   },
   "file_extension": ".py",
   "mimetype": "text/x-python",
   "name": "python",
   "nbconvert_exporter": "python",
   "pygments_lexer": "ipython3",
   "version": "3.9.13"
  }
 },
 "nbformat": 4,
 "nbformat_minor": 5
}
