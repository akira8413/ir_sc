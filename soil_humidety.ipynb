{
 "cells": [
  {
   "cell_type": "code",
   "execution_count": null,
   "id": "78c81543",
   "metadata": {},
   "outputs": [],
   "source": [
    "# ライブラリのインポート\n",
    "import RPi.GPIO as GPIO\n",
    "import time\n",
    "import Adafruit_DHT\n",
    "\n",
    "# GPIOの設定\n",
    "GPIO.setmode(GPIO.BCM)\n",
    "\n",
    "# 土壌湿度センサーと温度センサーの接続ピン番号を指定\n",
    "soil_sensor_pin = 18\n",
    "temp_sensor_pin = 4\n",
    "\n",
    "# 連続してセンサーからデータを取得する\n",
    "while True:\n",
    "    # 土壌湿度センサーからデータを取得\n",
    "    soil_humidity = Adafruit_DHT.read_retry(Adafruit_DHT.DHT11, soil_sensor_pin)\n",
    "    # 温度センサーからデータを取得\n",
    "    temperature = Adafruit_DHT.read_retry(Adafruit_DHT.DHT11, temp_sensor_pin)\n",
    "\n",
    "    # 土壌湿度データを取得できた場合\n",
    "    if soil_humidity is not None:\n",
    "        print(\"土壌湿度: \" + str(soil_humidity) + \" %\")\n",
    "    # 土壌湿度データを取得できなかった場合\n",
    "    else:\n",
    "        print(\"土壌湿度を取得できませんでした\")\n",
    "\n",
    "    # 温度データを取得できた場合\n",
    "    if temperature is not None:\n",
    "        print(\"温度: \" + str(temperature) + \" C\")\n",
    "    # 温度データを取得できなかった場合\n",
    "    else:\n",
    "        print(\"温度を取得できませんでした\")\n",
    "\n",
    "    # 10秒間待つ\n",
    "    time.sleep(10)\n",
    "\n",
    "# GPIOをリセット\n",
    "GPIO.cleanup()\n"
   ]
  }
 ],
 "metadata": {
  "kernelspec": {
   "display_name": "Python 3 (ipykernel)",
   "language": "python",
   "name": "python3"
  },
  "language_info": {
   "codemirror_mode": {
    "name": "ipython",
    "version": 3
   },
   "file_extension": ".py",
   "mimetype": "text/x-python",
   "name": "python",
   "nbconvert_exporter": "python",
   "pygments_lexer": "ipython3",
   "version": "3.9.13"
  }
 },
 "nbformat": 4,
 "nbformat_minor": 5
}
