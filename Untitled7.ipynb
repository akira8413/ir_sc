{
 "cells": [
  {
   "cell_type": "code",
   "execution_count": null,
   "id": "0351283e",
   "metadata": {},
   "outputs": [],
   "source": [
    "def get_securities_codes(start_page, end_page):\n",
    "    url='https://minkabu.jp/financial_item_ranking/dividend_yield?page={}'\n",
    "    dd_list=[]\n",
    "    for i in range(start_page, end_page+1):\n",
    "        target_url=url.format(i)\n",
    "        r=requests.get(target_url)\n",
    "        sleep(5)\n",
    "        soup=BeautifulSoup(r.text,'html.parser')\n",
    "        tab=soup.find('table',class_='md_table rnk_li')\n",
    "        conts=tab.find_all('tr')\n",
    "        del conts[0]\n",
    "\n",
    "        for cont in conts:\n",
    "            rank=cont.find('span',class_='ranking_no fsize_l').text\n",
    "            code=cont.find('div',class_='md_sub').text\n",
    "            name=cont.find('div',class_='fwb w90p').text\n",
    "            y=cont.find('td',class_='tar cur vamd').text\n",
    "            yeild= y.strip().replace('%', '')\n",
    "            dic={\n",
    "                'ランキング':rank,\n",
    "                '証券コード':code,\n",
    "                '企業名':name,\n",
    "                '配当利回り':yeild,\n",
    "            }\n",
    "            if float(yeild) >= 3.75:\n",
    "                dd_list.append(dic)\n",
    "    securities_codes = [d['証券コード'] for d in dd_list]\n",
    "    return securities_codes\n"
   ]
  },
  {
   "cell_type": "code",
   "execution_count": null,
   "id": "9fdbad2e",
   "metadata": {},
   "outputs": [],
   "source": [
    "securities_codes = get_securities_codes(36, 37)\n",
    "\n",
    "# securities_codes の中身を確認する\n",
    "print(securities_codes)\n",
    "\n",
    "# securities_codes を使用する処理をここに追加\n"
   ]
  }
 ],
 "metadata": {
  "kernelspec": {
   "display_name": "Python 3 (ipykernel)",
   "language": "python",
   "name": "python3"
  },
  "language_info": {
   "codemirror_mode": {
    "name": "ipython",
    "version": 3
   },
   "file_extension": ".py",
   "mimetype": "text/x-python",
   "name": "python",
   "nbconvert_exporter": "python",
   "pygments_lexer": "ipython3",
   "version": "3.9.13"
  }
 },
 "nbformat": 4,
 "nbformat_minor": 5
}
