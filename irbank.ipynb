{
 "cells": [
  {
   "cell_type": "code",
   "execution_count": 434,
   "id": "be6bb090",
   "metadata": {},
   "outputs": [
    {
     "name": "stdout",
     "output_type": "stream",
     "text": [
      "https://irbank.net/E04496/results\n"
     ]
    }
   ],
   "source": [
    "from bs4 import BeautifulSoup\n",
    "import requests as re\n",
    "\n",
    "url='https://irbank.net/E04496/results'\n",
    "print(url)\n"
   ]
  },
  {
   "cell_type": "code",
   "execution_count": 782,
   "id": "44c3ff77",
   "metadata": {},
   "outputs": [],
   "source": [
    "r=requests.get(url)\n",
    "soup=BeautifulSoup(r.text,'html.parser')"
   ]
  },
  {
   "cell_type": "code",
   "execution_count": 682,
   "id": "88a90d95",
   "metadata": {},
   "outputs": [],
   "source": [
    "contents=soup.find_all('section')"
   ]
  },
  {
   "cell_type": "code",
   "execution_count": 683,
   "id": "7d33dad1",
   "metadata": {},
   "outputs": [
    {
     "data": {
      "text/plain": [
       "4"
      ]
     },
     "execution_count": 683,
     "metadata": {},
     "output_type": "execute_result"
    }
   ],
   "source": [
    "len(contents)"
   ]
  },
  {
   "cell_type": "code",
   "execution_count": 684,
   "id": "bf8eb6bb",
   "metadata": {},
   "outputs": [],
   "source": [
    "#sectionの一つ目をcontentに入れる\n",
    "content=contents[0]"
   ]
  },
  {
   "cell_type": "code",
   "execution_count": 830,
   "id": "2a647c41",
   "metadata": {},
   "outputs": [
    {
     "data": {
      "text/plain": [
       "<div class=\"mgr inline\" id=\"c_1\"><h2>売上高</h2><dl class=\"gdl\"><dt>2008/03</dt><dd><span class=\"ratio\" style=\"width:45%;\"></span><span class=\"text\">56億875万</span></dd><dt><a href=\"/E04496/S0003K4X/pl\" title=\"有価証券報告書-第19期(平成20年4月1日-平成21年3月31日) - 業績\">2009/03</a><span class=\"co_red\"> +11.12%</span></dt><dd><span class=\"ratio\" style=\"width:50%;\"></span><span class=\"text\">62億3251万</span></dd><dt><a href=\"/E04496/S00068BV/pl\" title=\"有価証券報告書-第20期(平成21年4月1日-平成22年3月31日) - 業績\">2010/03</a><span class=\"co_red\"> +8.12%</span></dt><dd><span class=\"ratio\" style=\"width:54%;\"></span><span class=\"text\">67億3851万</span></dd><dt><a href=\"/E04496/S0008RF5/pl\" title=\"有価証券報告書-第21期(平成22年4月1日-平成23年3月31日) - 業績\">2011/03</a><span class=\"co_red\"> +3.62%</span></dt><dd><span class=\"ratio\" style=\"width:56%;\"></span><span class=\"text\">69億8264万</span></dd><dt><a href=\"/E04496/S000B75A/pl\" title=\"有価証券報告書-第22期(平成23年4月1日-平成24年3月31日) - 業績\">2012/03</a><span class=\"co_br\"> -0.2%</span></dt><dd><span class=\"ratio\" style=\"width:56%;\"></span><span class=\"text\">69億6892万</span></dd><dt><a href=\"/E04496/S000DQKH/pl\" title=\"有価証券報告書-第23期(平成24年4月1日-平成25年3月31日) - 業績\">2013/03</a><span class=\"co_red\"> +3.81%</span></dt><dd><span class=\"ratio\" style=\"width:58%;\"></span><span class=\"text\">72億3411万</span></dd><dt><a href=\"/E04496/S1002BMQ/pl\" title=\"有価証券報告書-第24期(平成25年4月1日-平成26年3月31日) - 業績\">2014/03</a><span class=\"co_red\"> +4.42%</span></dt><dd><span class=\"ratio\" style=\"width:61%;\"></span><span class=\"text\">75億5400万</span></dd><dt><a href=\"/E04496/S100562S/pl\" title=\"有価証券報告書-第25期(平成26年4月1日-平成27年3月31日) - 業績\">2015/03</a><span class=\"co_red\"> +3.63%</span></dt><dd><span class=\"ratio\" style=\"width:63%;\"></span><span class=\"text\">78億2800万</span></dd><dt><a href=\"/E04496/S1007W5A/pl\" title=\"有価証券報告書-第26期(平成27年4月1日-平成28年3月31日) - 業績\">2016/03</a><span class=\"co_red\"> +3.36%</span></dt><dd><span class=\"ratio\" style=\"width:65%;\"></span><span class=\"text\">80億9100万</span></dd><dt><a href=\"/E04496/S100AMZW/pl\" title=\"有価証券報告書-第27期(平成28年4月1日-平成29年3月31日) - 業績\">2017/03</a><span class=\"co_red\"> +8.75%</span></dt><dd><span class=\"ratio\" style=\"width:71%;\"></span><span class=\"text\">87億9900万</span></dd><dt><a href=\"/E04496/S100DF1K/pl\" title=\"有価証券報告書-第28期(平成29年4月1日-平成30年3月31日) - 業績\">2018/03</a><span class=\"co_red\"> +6.13%</span></dt><dd><span class=\"ratio\" style=\"width:75%;\"></span><span class=\"text\">93億3800万</span></dd><dt><a href=\"/E04496/S100G9S5/pl\" title=\"有価証券報告書-第29期(平成30年4月1日-平成31年3月31日) - 業績\">2019/03</a><span class=\"co_red\"> +4.29%</span></dt><dd><span class=\"ratio\" style=\"width:79%;\"></span><span class=\"text\">97億3900万</span></dd><dt><a href=\"/E04496/S100J14F/pl\" title=\"有価証券報告書-第30期(平成31年4月1日-令和2年3月31日) - 業績\">2020/03</a><span class=\"co_red\"> +5.4%</span></dt><dd><span class=\"ratio\" style=\"width:83%;\"></span><span class=\"text\">102億6500万</span></dd><dt><a href=\"/E04496/S100LLAJ/pl\" title=\"有価証券報告書-第31期(令和2年4月1日-令和3年3月31日) - 業績\">2021/03</a><span class=\"co_red\"> +10.58%</span></dt><dd><span class=\"ratio\" style=\"width:92%;\"></span><span class=\"text\">113億5100万</span></dd><dt><a href=\"/E04496/S100OGDI/pl\" title=\"有価証券報告書-第32期(令和3年4月1日-令和4年3月31日) - 業績\">2022/03</a><span class=\"co_red\"> +1.99%</span></dt><dd><span class=\"ratio\" style=\"width:93%;\"></span><span class=\"text\">115億7700万</span></dd><dt><a href=\"/E04496/081220221102555942#c_forecast\" title=\"2023年3月期第2四半期決算短信(日本基準)(非連結)\">2023/03</a><span class=\"co_gr\">予</span><span class=\"co_red\"> +7.11%</span></dt><dd><span class=\"exp\" style=\"width:100%;\"></span><span class=\"text\">124億</span></dd></dl></div>"
      ]
     },
     "execution_count": 830,
     "metadata": {},
     "output_type": "execute_result"
    }
   ],
   "source": [
    "table=content.find('div',id='c_1')"
   ]
  },
  {
   "cell_type": "code",
   "execution_count": 721,
   "id": "ee955ed6",
   "metadata": {
    "scrolled": true
   },
   "outputs": [
    {
     "name": "stdout",
     "output_type": "stream",
     "text": [
      "56億875万\n",
      "62億3251万\n",
      "67億3851万\n",
      "69億8264万\n",
      "69億6892万\n",
      "72億3411万\n",
      "75億5400万\n",
      "78億2800万\n",
      "80億9100万\n",
      "87億9900万\n",
      "93億3800万\n",
      "97億3900万\n",
      "102億6500万\n",
      "113億5100万\n",
      "115億7700万\n",
      "124億\n"
     ]
    }
   ],
   "source": [
    "#取得して値をsalesに入れfor文でsaleにいれtextだけを表示\n",
    "sales=table.find_all('span',class_='text')\n",
    "\n",
    "for sale in sales:\n",
    "    print(sale.text)"
   ]
  },
  {
   "cell_type": "code",
   "execution_count": 723,
   "id": "923114ca",
   "metadata": {},
   "outputs": [
    {
     "data": {
      "text/plain": [
       "['56億875万',\n",
       " '62億3251万',\n",
       " '67億3851万',\n",
       " '69億8264万',\n",
       " '69億6892万',\n",
       " '72億3411万',\n",
       " '75億5400万',\n",
       " '78億2800万',\n",
       " '80億9100万',\n",
       " '87億9900万',\n",
       " '93億3800万',\n",
       " '97億3900万',\n",
       " '102億6500万',\n",
       " '113億5100万',\n",
       " '115億7700万',\n",
       " '124億']"
      ]
     },
     "execution_count": 723,
     "metadata": {},
     "output_type": "execute_result"
    }
   ],
   "source": [
    "sales_list=[sale.text for sale in sales]\n",
    "sales_list"
   ]
  },
  {
   "cell_type": "code",
   "execution_count": 852,
   "id": "820d0026",
   "metadata": {},
   "outputs": [
    {
     "name": "stdout",
     "output_type": "stream",
     "text": [
      "00560875\n",
      "00623251\n",
      "00673851\n",
      "00698264\n",
      "00696892\n",
      "00723411\n",
      "00755400\n",
      "00782800\n",
      "00809100\n",
      "00879900\n",
      "00933800\n",
      "00973900\n",
      "01026500\n",
      "01135100\n",
      "01157700\n",
      "01240000\n"
     ]
    }
   ],
   "source": [
    "#一先ずできたっぽい。億と万で分けて0埋め\n",
    "\n",
    "\n",
    "for sale in sales_list:\n",
    "    trillion=sale.split('兆')\n",
    "    billion=trillion[0].split('億')\n",
    "    million=billion[1].split('万')\n",
    "    \n",
    "    zero_trillion=trillion[0].zfill(4)\n",
    "    zero_billion=billion[0].zfill(4)\n",
    "    zero_million=million[0].zfill(4)\n",
    "    #money=zero_billion+zero_million+'万円'\n",
    "    money=zero_billion+zero_million\n",
    "    print (money)"
   ]
  },
  {
   "cell_type": "code",
   "execution_count": 851,
   "id": "5748554f",
   "metadata": {},
   "outputs": [
    {
     "name": "stdout",
     "output_type": "stream",
     "text": [
      "[]\n"
     ]
    }
   ],
   "source": [
    "print(kaede)"
   ]
  },
  {
   "cell_type": "code",
   "execution_count": 797,
   "id": "31e930be",
   "metadata": {},
   "outputs": [],
   "source": [
    "#ネットから拾ったやつ\n",
    "import re\n",
    "def conver_val(x):\n",
    "    if len(re.split('[万億]',x))==2:\n",
    "            value=re.split('[万億]',x)[0]\n",
    "    elif  len(re.split('[万億]',x))==3:\n",
    "            value=re.split('[億万]',x)[0]+re.split('[億万]',x)[1]\n",
    "    return int(value)\n",
    "\n",
    "for sale in sales_list:\n",
    "    value=conver_val(sale)\n",
    "    print(value)"
   ]
  },
  {
   "cell_type": "code",
   "execution_count": null,
   "id": "9c85082b",
   "metadata": {},
   "outputs": [],
   "source": []
  },
  {
   "cell_type": "code",
   "execution_count": 722,
   "id": "43238747",
   "metadata": {},
   "outputs": [
    {
     "data": {
      "text/plain": [
       "[560000008750000,\n",
       " 6200000032510000,\n",
       " 6700000038510000,\n",
       " 6900000082640000,\n",
       " 6900000068920000,\n",
       " 7200000034110000,\n",
       " 7500000054000000,\n",
       " 7800000028000000,\n",
       " 8000000091000000,\n",
       " 8700000099000000,\n",
       " 9300000038000000,\n",
       " 9700000039000000,\n",
       " 10200000065000000,\n",
       " 11300000051000000,\n",
       " 11500000077000000,\n",
       " 124000000]"
      ]
     },
     "execution_count": 722,
     "metadata": {},
     "output_type": "execute_result"
    }
   ],
   "source": [
    "sales_list=[sale.text for sale in sales]\n",
    "\n",
    "list_sales = [int(sale.text.replace(\"億\", \"000000\").replace(\"万\", \"0000\")) for sale in sales]\n",
    "list_sales"
   ]
  },
  {
   "cell_type": "code",
   "execution_count": null,
   "id": "6d9a992c",
   "metadata": {},
   "outputs": [],
   "source": [
    "henkan=sales_list.split('億')"
   ]
  },
  {
   "cell_type": "code",
   "execution_count": 690,
   "id": "17c0fb84",
   "metadata": {},
   "outputs": [
    {
     "data": {
      "text/plain": [
       "array('l', [560000008750000, 6200000032510000, 6700000038510000, 6900000082640000, 6900000068920000, 7200000034110000, 7500000054000000, 7800000028000000, 8000000091000000, 8700000099000000, 9300000038000000, 9700000039000000, 10200000065000000, 11300000051000000, 11500000077000000, 124000000])"
      ]
     },
     "execution_count": 690,
     "metadata": {},
     "output_type": "execute_result"
    }
   ],
   "source": [
    "int_sales_list=[int(sale)for sale in list_sales]\n",
    "\n",
    "import array\n",
    "sales_array1=array.array(\"l\",int_sales_list)\n",
    "sales_array1"
   ]
  },
  {
   "cell_type": "code",
   "execution_count": 524,
   "id": "7bc1bfcd",
   "metadata": {},
   "outputs": [],
   "source": [
    "price_all = []\n",
    "price_single = []\n",
    "none = []\n",
    "\n",
    "for sale in sales_list:\n",
    "    if \"億\" in sale and \"万\" in sale and \"円\" in sale:\n",
    "        price_all.append(sale)\n",
    "    elif \"億\" in sale or \"万\" in sale or \"円\" in sale:\n",
    "        price_single.append(sale)\n",
    "    else:\n",
    "        none.append(sale)\n",
    "\n",
    "        \n",
    "    \n",
    "    \n",
    "    \n",
    "\n",
    "\n"
   ]
  },
  {
   "cell_type": "code",
   "execution_count": 577,
   "id": "18b14b7b",
   "metadata": {},
   "outputs": [
    {
     "data": {
      "text/plain": [
       "list"
      ]
     },
     "execution_count": 577,
     "metadata": {},
     "output_type": "execute_result"
    }
   ],
   "source": [
    "sales_str=[str(z_sale).zfill(10) for z_sale in int_sales_list]\n",
    "type(sales_str)"
   ]
  },
  {
   "cell_type": "code",
   "execution_count": 455,
   "id": "6390a4d5",
   "metadata": {},
   "outputs": [
    {
     "name": "stdout",
     "output_type": "stream",
     "text": [
      "Sales list is not monotonically increasing\n"
     ]
    }
   ],
   "source": [
    "is_monotonically_increasing = True\n",
    "previous_sale = sales_list[0]\n",
    "for sale in sales_list[1:]:\n",
    "    if sale < previous_sale:\n",
    "        is_monotonically_increasing = False\n",
    "        break\n",
    "    previous_sale = sale\n",
    "\n",
    "if is_monotonically_increasing:\n",
    "    print(\"Sales list is monotonically increasing\")\n",
    "else:\n",
    "    print(\"Sales list is not monotonically increasing\")\n",
    "\n"
   ]
  },
  {
   "cell_type": "code",
   "execution_count": null,
   "id": "bbca9949",
   "metadata": {},
   "outputs": [],
   "source": []
  }
 ],
 "metadata": {
  "kernelspec": {
   "display_name": "Python 3 (ipykernel)",
   "language": "python",
   "name": "python3"
  },
  "language_info": {
   "codemirror_mode": {
    "name": "ipython",
    "version": 3
   },
   "file_extension": ".py",
   "mimetype": "text/x-python",
   "name": "python",
   "nbconvert_exporter": "python",
   "pygments_lexer": "ipython3",
   "version": "3.9.13"
  }
 },
 "nbformat": 4,
 "nbformat_minor": 5
}
