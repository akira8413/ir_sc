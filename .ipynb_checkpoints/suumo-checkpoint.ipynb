{
 "cells": [
  {
   "cell_type": "code",
   "execution_count": 33,
   "id": "e0e351d6",
   "metadata": {},
   "outputs": [],
   "source": [
    "from bs4 import BeautifulSoup\n",
    "import requests"
   ]
  },
  {
   "cell_type": "code",
   "execution_count": 309,
   "id": "ff4a5049",
   "metadata": {},
   "outputs": [
    {
     "name": "stdout",
     "output_type": "stream",
     "text": [
      "https://suumo.jp/jj/chintai/ichiran/FR301FC001/?ar=090&bs=040&ta=40&sc=40107&cb=0.0&ct=9999999&et=9999999&cn=9999999&mb=0&mt=9999999&shkr1=03&shkr2=03&shkr3=03&shkr4=03&fw2=&srch_navi=1&page=1\n"
     ]
    }
   ],
   "source": [
    " url=\"https://suumo.jp/jj/chintai/ichiran/FR301FC001/?ar=090&bs=040&ta=40&sc=40107&cb=0.0&ct=9999999&et=9999999&cn=9999999&mb=0&mt=9999999&shkr1=03&shkr2=03&shkr3=03&shkr4=03&fw2=&srch_navi=1&page={}\"\n",
    "target_url=url.format(1)\n",
    "print(target_url)"
   ]
  },
  {
   "cell_type": "code",
   "execution_count": 310,
   "id": "b9e519be",
   "metadata": {},
   "outputs": [],
   "source": [
    "r=requests.get(target_url)\n",
    "soup=BeautifulSoup(r.text)"
   ]
  },
  {
   "cell_type": "code",
   "execution_count": 416,
   "id": "dffeab70",
   "metadata": {},
   "outputs": [],
   "source": [
    "contents=soup.find_all('div',class_='cassetteitem')\n"
   ]
  },
  {
   "cell_type": "code",
   "execution_count": 312,
   "id": "f981af70",
   "metadata": {},
   "outputs": [
    {
     "data": {
      "text/plain": [
       "30"
      ]
     },
     "execution_count": 312,
     "metadata": {},
     "output_type": "execute_result"
    }
   ],
   "source": [
    "len(contents)"
   ]
  },
  {
   "cell_type": "code",
   "execution_count": 419,
   "id": "e9dae10c",
   "metadata": {},
   "outputs": [],
   "source": [
    "content=contents[0]\n"
   ]
  },
  {
   "cell_type": "code",
   "execution_count": 354,
   "id": "c254c730",
   "metadata": {},
   "outputs": [],
   "source": [
    "detail=content.find('div',class_='cassetteitem_content')\n",
    "table=content.find('table',class_='cassetteitem_other')"
   ]
  },
  {
   "cell_type": "code",
   "execution_count": 355,
   "id": "10fab51f",
   "metadata": {},
   "outputs": [],
   "source": [
    "title=detail.find('div',class_='cassetteitem_content-title').text\n",
    "address=detail.find('li',class_='cassetteitem_detail-col1').text\n",
    "access=detail.find('li',class_='cassetteitem_detail-col2').text\n",
    "age=detail.find('li',class_='cassetteitem_detail-col3').text"
   ]
  },
  {
   "cell_type": "code",
   "execution_count": 410,
   "id": "398dff7d",
   "metadata": {},
   "outputs": [
    {
     "data": {
      "text/plain": [
       "('ユートピア葛原',\n",
       " '福岡県北九州市小倉南区上葛原１',\n",
       " '\\nＪＲ日豊本線/安部山公園駅 歩6分\\nＪＲ日田彦山線/石田駅 歩33分\\nＪＲ鹿児島本線/小倉駅 バス29分 (バス停)上葛原 歩5分\\n',\n",
       " '\\n築47年\\n5階建\\n')"
      ]
     },
     "execution_count": 410,
     "metadata": {},
     "output_type": "execute_result"
    }
   ],
   "source": [
    "title,address,access,age"
   ]
  },
  {
   "cell_type": "code",
   "execution_count": 357,
   "id": "9d0b97bc",
   "metadata": {},
   "outputs": [],
   "source": [
    "tr_tags=table.find_all('tr',class_='js-cassette_link')\n",
    "tr_tag=tr_tags[0]"
   ]
  },
  {
   "cell_type": "code",
   "execution_count": 397,
   "id": "ec4e1997",
   "metadata": {},
   "outputs": [],
   "source": [
    "floor,price,first_fee,capacity=tr_tag.find_all('td')[2:6]"
   ]
  },
  {
   "cell_type": "code",
   "execution_count": 408,
   "id": "ec7c068b",
   "metadata": {},
   "outputs": [
    {
     "data": {
      "text/plain": [
       "(<td>\n",
       " \t\t\t\t\t\t\t\t\t\t\t2階</td>,\n",
       " <td>\n",
       " <ul>\n",
       " <li><span class=\"cassetteitem_price cassetteitem_price--rent\"><span class=\"cassetteitem_other-emphasis ui-text--bold\">5.1万円</span></span></li>\n",
       " <li><span class=\"cassetteitem_price cassetteitem_price--administration\">2000円</span></li>\n",
       " </ul>\n",
       " </td>,\n",
       " <td>\n",
       " <ul>\n",
       " <li><span class=\"cassetteitem_price cassetteitem_price--deposit\">-</span></li>\n",
       " <li><span class=\"cassetteitem_price cassetteitem_price--gratuity\">-</span></li>\n",
       " </ul>\n",
       " </td>,\n",
       " <td>\n",
       " <ul>\n",
       " <li><span class=\"cassetteitem_madori\">2LDK</span></li>\n",
       " <li><span class=\"cassetteitem_menseki\">48m<sup>2</sup></span></li>\n",
       " </ul>\n",
       " </td>)"
      ]
     },
     "execution_count": 408,
     "metadata": {},
     "output_type": "execute_result"
    }
   ],
   "source": [
    "floor,price,first_fee,capacity"
   ]
  },
  {
   "cell_type": "code",
   "execution_count": 360,
   "id": "e9314ee9",
   "metadata": {},
   "outputs": [],
   "source": [
    "fee,management_fee=price.find_all('li')\n",
    "deposit,gratuity=first_fee.find_all('li')\n",
    "madori,menseki=capacity.find_all('li')"
   ]
  },
  {
   "cell_type": "code",
   "execution_count": 361,
   "id": "8b1c56a4",
   "metadata": {},
   "outputs": [
    {
     "name": "stdout",
     "output_type": "stream",
     "text": [
      "<li><span class=\"cassetteitem_price cassetteitem_price--rent\"><span class=\"cassetteitem_other-emphasis ui-text--bold\">9.6万円</span></span></li>\n",
      "<li><span class=\"cassetteitem_price cassetteitem_price--administration\">3000円</span></li>\n",
      "\n",
      "<li><span class=\"cassetteitem_price cassetteitem_price--deposit\">9.6万円</span></li>\n",
      "<li><span class=\"cassetteitem_price cassetteitem_price--gratuity\">14.4万円</span></li>\n",
      "\n",
      "<li><span class=\"cassetteitem_madori\">3LDK</span></li>\n",
      "<li><span class=\"cassetteitem_menseki\">75.04m<sup>2</sup></span></li>\n",
      "\n"
     ]
    }
   ],
   "source": [
    "print(fee)\n",
    "print(management_fee)\n",
    "print()\n",
    "\n",
    "print(deposit)\n",
    "print(gratuity)\n",
    "print()\n",
    "\n",
    "print(madori)\n",
    "print(menseki)\n",
    "print()"
   ]
  },
  {
   "cell_type": "code",
   "execution_count": 362,
   "id": "9d87d29e",
   "metadata": {},
   "outputs": [],
   "source": [
    "d={\n",
    "    'title':title,\n",
    "    'address':address,\n",
    "    'access':access,\n",
    "    'age':age,\n",
    "    'floor':floor.text,\n",
    "    'fee':fee.text,\n",
    "    'management_fee':management_fee.text,\n",
    "    'deposit':deposit.text,\n",
    "    'gratuity':gratuity.text,\n",
    "    'madori':madori.text,\n",
    "    'menseki':menseki.text,\n",
    "}"
   ]
  },
  {
   "cell_type": "code",
   "execution_count": 363,
   "id": "ac0473f8",
   "metadata": {},
   "outputs": [
    {
     "data": {
      "text/plain": [
       "{'title': 'グランダリア',\n",
       " 'address': '福岡県北九州市小倉南区山手１',\n",
       " 'access': '\\n北九州モノレール/守恒駅 歩15分\\n北九州モノレール/志井駅 歩15分\\nＪＲ日田彦山線/志井公園駅 歩27分\\n',\n",
       " 'age': '\\n築4年\\n2階建\\n',\n",
       " 'floor': '\\r\\n\\t\\t\\t\\t\\t\\t\\t\\t\\t\\t\\t1階',\n",
       " 'fee': '9.6万円',\n",
       " 'management_fee': '3000円',\n",
       " 'deposit': '9.6万円',\n",
       " 'gratuity': '14.4万円',\n",
       " 'madori': '3LDK',\n",
       " 'menseki': '75.04m2'}"
      ]
     },
     "execution_count": 363,
     "metadata": {},
     "output_type": "execute_result"
    }
   ],
   "source": [
    "d\n",
    "#ここまでOK。たぶんこの下のfor文ができていない"
   ]
  },
  {
   "cell_type": "code",
   "execution_count": 324,
   "id": "3eef86b1",
   "metadata": {},
   "outputs": [],
   "source": [
    "d_list=[]\n",
    "contents=soup.find_all('div',class_='cassetteitem')\n",
    "for content in contents:\n",
    "      \n",
    "    detail=content.find('div',class_='cassetteitem_content')\n",
    "    table=content.find('table',class_='cassetteitem_other')\n",
    "    \n",
    "    #物件情報から必要な情報を取得する\n",
    "    title=detail.find('div',class_='cassetteitem_content-title').text\n",
    "    address=detail.find('li',class_='cassetteitem_detail-col1').text\n",
    "    access=detail.find('li',class_='cassetteitem_detail-col2').text\n",
    "    age=detail.find('li',class_='cassetteitem_detail-col3').text\n",
    "    \n",
    "    #各部屋情報のブロックから、各部屋情報を取得する\n",
    "    tr_tags=table.find_all('tr',class_='js-cassette_link')\n",
    "    \n",
    "    #各部屋情報をforループで取得する。\n",
    "    for tr_tag in tr_tags:\n",
    "        \n",
    "        #部屋情報の行から、欲しい情報を取得する。\n",
    "        floor,price,first_fee,capacity=tr_tag.find_all('td')[2:6]\n",
    "        \n",
    "        #さらに細かい情報を取得する\n",
    "        fee,management_fee=price.find_all('li')\n",
    "        deposit,gratuity=first_fee.find_all('li')\n",
    "        madori,menseki=capacity.find_all('li')\n",
    "        \n",
    "        #取得したすべての情報を辞書に格納する\n",
    "        d={\n",
    "            'title':title,\n",
    "            'address':address,\n",
    "            'access':access,\n",
    "            'age':age,\n",
    "            'floor':floor.text,\n",
    "            'fee':fee.text,\n",
    "            'management_fee':management_fee.text,\n",
    "            'deposit':deposit.text,\n",
    "            'gratuity':gratuity.text,\n",
    "            'madori':madori.text,\n",
    "            'menseki':menseki.text,\n",
    "        }\n",
    "       \n",
    "        \n",
    "        #取得した辞書をd_listに格納する。\n",
    "        d_list.append(d)\n",
    "    \n",
    "    "
   ]
  },
  {
   "cell_type": "code",
   "execution_count": 325,
   "id": "fd4cc05b",
   "metadata": {},
   "outputs": [],
   "source": [
    "from pprint import pprint"
   ]
  },
  {
   "cell_type": "code",
   "execution_count": 349,
   "id": "5b1cd9a5",
   "metadata": {},
   "outputs": [
    {
     "name": "stdout",
     "output_type": "stream",
     "text": [
      "{'access': '\\n西鉄バス/吉田団地第一 歩2分\\nＪＲ日豊本線/下曽根駅 歩42分\\nＪＲ日豊本線/安部山公園駅 歩68分\\n',\n",
      " 'address': '福岡県北九州市小倉南区上吉田３',\n",
      " 'age': '\\n築22年\\n2階建\\n',\n",
      " 'deposit': '-',\n",
      " 'fee': '4.8万円',\n",
      " 'floor': '\\r\\n\\t\\t\\t\\t\\t\\t\\t\\t\\t\\t\\t1階',\n",
      " 'gratuity': '-',\n",
      " 'madori': '1LDK',\n",
      " 'management_fee': '1800円',\n",
      " 'menseki': '40.5m2',\n",
      " 'title': 'ビーライン上吉田A棟'}\n",
      "\n",
      "{'access': '\\n北九州モノレール/守恒駅 歩15分\\n北九州モノレール/志井駅 歩15分\\nＪＲ日田彦山線/志井公園駅 歩27分\\n',\n",
      " 'address': '福岡県北九州市小倉南区山手１',\n",
      " 'age': '\\n築4年\\n2階建\\n',\n",
      " 'deposit': '-',\n",
      " 'fee': '4.8万円',\n",
      " 'floor': '\\r\\n\\t\\t\\t\\t\\t\\t\\t\\t\\t\\t\\t1階',\n",
      " 'gratuity': '-',\n",
      " 'madori': '1LDK',\n",
      " 'management_fee': '1800円',\n",
      " 'menseki': '40.5m2',\n",
      " 'title': 'グランダリア'}\n"
     ]
    }
   ],
   "source": [
    "pprint(d_list[0])\n",
    "print()\n",
    "pprint(d_list[1])\n",
    "\n",
    "#ここではすでに更新されていない"
   ]
  },
  {
   "cell_type": "code",
   "execution_count": 327,
   "id": "2b767d11",
   "metadata": {},
   "outputs": [],
   "source": [
    "from time import sleep\n",
    "\n",
    "from bs4 import BeautifulSoup\n",
    "import requests"
   ]
  },
  {
   "cell_type": "code",
   "execution_count": 371,
   "id": "dae87e30",
   "metadata": {},
   "outputs": [],
   "source": [
    "url=\"https://suumo.jp/jj/chintai/ichiran/FR301FC001/?ar=090&bs=040&ta=40&sc=40107&cb=0.0&ct=9999999&et=9999999&cn=9999999&mb=0&mt=9999999&shkr1=03&shkr2=03&shkr3=03&shkr4=03&fw2=&srch_navi=1&page={}\"\n",
    "d_list=[]"
   ]
  },
  {
   "cell_type": "code",
   "execution_count": 372,
   "id": "84dc1567",
   "metadata": {},
   "outputs": [
    {
     "name": "stdout",
     "output_type": "stream",
     "text": [
      "https://suumo.jp/jj/chintai/ichiran/FR301FC001/?ar=090&bs=040&ta=40&sc=40107&cb=0.0&ct=9999999&et=9999999&cn=9999999&mb=0&mt=9999999&shkr1=03&shkr2=03&shkr3=03&shkr4=03&fw2=&srch_navi=1&page=1\n",
      "https://suumo.jp/jj/chintai/ichiran/FR301FC001/?ar=090&bs=040&ta=40&sc=40107&cb=0.0&ct=9999999&et=9999999&cn=9999999&mb=0&mt=9999999&shkr1=03&shkr2=03&shkr3=03&shkr4=03&fw2=&srch_navi=1&page=2\n",
      "https://suumo.jp/jj/chintai/ichiran/FR301FC001/?ar=090&bs=040&ta=40&sc=40107&cb=0.0&ct=9999999&et=9999999&cn=9999999&mb=0&mt=9999999&shkr1=03&shkr2=03&shkr3=03&shkr4=03&fw2=&srch_navi=1&page=3\n"
     ]
    }
   ],
   "source": [
    "for i in range(1,4):\n",
    "    target_url=url.format(i)\n",
    "    \n",
    "    print(target_url)"
   ]
  },
  {
   "cell_type": "code",
   "execution_count": 377,
   "id": "40df4f1a",
   "metadata": {},
   "outputs": [
    {
     "name": "stdout",
     "output_type": "stream",
     "text": [
      "d_listの大きさ： 0\n",
      "https://suumo.jp/jj/chintai/ichiran/FR301FC001/?ar=090&bs=040&ta=40&sc=40107&cb=0.0&ct=9999999&et=9999999&cn=9999999&mb=0&mt=9999999&shkr1=03&shkr2=03&shkr3=03&shkr4=03&fw2=&srch_navi=1&page=1\n",
      "d_listの大きさ： 90\n",
      "https://suumo.jp/jj/chintai/ichiran/FR301FC001/?ar=090&bs=040&ta=40&sc=40107&cb=0.0&ct=9999999&et=9999999&cn=9999999&mb=0&mt=9999999&shkr1=03&shkr2=03&shkr3=03&shkr4=03&fw2=&srch_navi=1&page=2\n",
      "d_listの大きさ： 193\n",
      "https://suumo.jp/jj/chintai/ichiran/FR301FC001/?ar=090&bs=040&ta=40&sc=40107&cb=0.0&ct=9999999&et=9999999&cn=9999999&mb=0&mt=9999999&shkr1=03&shkr2=03&shkr3=03&shkr4=03&fw2=&srch_navi=1&page=3\n"
     ]
    }
   ],
   "source": [
    "from time import sleep\n",
    "\n",
    "from bs4 import BeautifulSoup\n",
    "import requests\n",
    "\n",
    "#変数urlにSUUMOホームページのURLを格納する\n",
    "url=\"https://suumo.jp/jj/chintai/ichiran/FR301FC001/?ar=090&bs=040&ta=40&sc=40107&cb=0.0&ct=9999999&et=9999999&cn=9999999&mb=0&mt=9999999&shkr1=03&shkr2=03&shkr3=03&shkr4=03&fw2=&srch_navi=1&page={}\"\n",
    "#変数d_listに空のリストを作成する\n",
    "d_list=[]\n",
    "\n",
    "#1~3をループする\n",
    "for i in range(1,4):\n",
    "    \n",
    "    print('d_listの大きさ：',len(d_list))\n",
    "    #アクセススル為のURLをtarget_urlに格納する\n",
    "    target_url=url.format(i)\n",
    "    #print()してtarget_urlを確認する\n",
    "    print(target_url)\n",
    "    \n",
    "    #target_urlへのアクセス結果を、変数rに格納\n",
    "    r=requests.get(target_url)\n",
    "    \n",
    "    sleep(1)\n",
    "    \n",
    "    #取得結果を解析してsoupに格納\n",
    "    soup=BeautifulSoup(r.text)\n",
    "   #すべての物件情報（20件）を取得する\n",
    "    contents=soup.find_all('div',class_='cassetteitem')\n",
    "    #物件情報をforループで取得する\n",
    "    for content in contents:\n",
    "\n",
    "        detail=content.find('div',class_='cassetteitem_content')\n",
    "        table=content.find('table',class_='cassetteitem_other')\n",
    "\n",
    "        #物件情報から必要な情報を取得する\n",
    "        title=detail.find('div',class_='cassetteitem_content-title').text\n",
    "        address=detail.find('li',class_='cassetteitem_detail-col1').text\n",
    "        access=detail.find('li',class_='cassetteitem_detail-col2').text\n",
    "        age=detail.find('li',class_='cassetteitem_detail-col3').text\n",
    "\n",
    "        #各部屋情報のブロックから、各部屋情報を取得する\n",
    "        tr_tags=table.find_all('tr',class_='js-cassette_link')\n",
    "\n",
    "        #各部屋情報をforループで取得する。\n",
    "        for tr_tag in tr_tags:\n",
    "\n",
    "            #部屋情報の行から、欲しい情報を取得する。\n",
    "            floor,price,first_fee,capacity=tr_tag.find_all('td')[2:6]\n",
    "\n",
    "            #さらに細かい情報を取得する\n",
    "            fee,management_fee=price.find_all('li')\n",
    "            deposit,gratuity=first_fee.find_all('li')\n",
    "            madori,menseki=capacity.find_all('li')\n",
    "\n",
    "            #取得したすべての情報を辞書に格納する\n",
    "            d={\n",
    "                'title':title,\n",
    "                'address':address,\n",
    "                'access':access,\n",
    "                'age':age,\n",
    "                'floor':floor.text,\n",
    "                'fee':fee.text,\n",
    "                'management_fee':management_fee.text,\n",
    "                'deposit':deposit.text,\n",
    "                'gratuity':gratuity.text,\n",
    "                'madori':madori.text,\n",
    "                'menseki':menseki.text,\n",
    "            }\n",
    "\n",
    "\n",
    "            #取得した辞書をd_listに格納する。\n",
    "            d_list.append(d)\n",
    "\n"
   ]
  },
  {
   "cell_type": "code",
   "execution_count": 375,
   "id": "bd4c414c",
   "metadata": {},
   "outputs": [
    {
     "data": {
      "text/plain": [
       "{'title': 'ユートピア葛原',\n",
       " 'address': '福岡県北九州市小倉南区上葛原１',\n",
       " 'access': '\\nＪＲ日豊本線/安部山公園駅 歩6分\\nＪＲ日田彦山線/石田駅 歩33分\\nＪＲ鹿児島本線/小倉駅 バス29分 (バス停)上葛原 歩5分\\n',\n",
       " 'age': '\\n築47年\\n5階建\\n',\n",
       " 'floor': '\\r\\n\\t\\t\\t\\t\\t\\t\\t\\t\\t\\t\\t2階',\n",
       " 'fee': '5.1万円',\n",
       " 'management_fee': '2000円',\n",
       " 'deposit': '-',\n",
       " 'gratuity': '-',\n",
       " 'madori': '2LDK',\n",
       " 'menseki': '48m2'}"
      ]
     },
     "execution_count": 375,
     "metadata": {},
     "output_type": "execute_result"
    }
   ],
   "source": [
    "d_list[-1]"
   ]
  },
  {
   "cell_type": "code",
   "execution_count": 376,
   "id": "5433a2f9",
   "metadata": {},
   "outputs": [],
   "source": [
    "#ライブラリのインポート\n",
    "from time import sleep\n",
    "\n",
    "from bs4 import BeautifulSoup\n",
    "import requests\n",
    "import pandas as pd\n"
   ]
  },
  {
   "cell_type": "code",
   "execution_count": 30,
   "id": "31354296",
   "metadata": {},
   "outputs": [
    {
     "name": "stdout",
     "output_type": "stream",
     "text": [
      "d_listの大きさ： 0\n",
      "https://suumo.jp/jj/chintai/ichiran/FR301FC001/?ar=090&bs=040&ta=40&sc=40107&cb=0.0&ct=9999999&et=9999999&cn=9999999&mb=0&mt=9999999&shkr1=03&shkr2=03&shkr3=03&shkr4=03&fw2=&srch_navi=1&page=17\n",
      "d_listの大きさ： 98\n",
      "https://suumo.jp/jj/chintai/ichiran/FR301FC001/?ar=090&bs=040&ta=40&sc=40107&cb=0.0&ct=9999999&et=9999999&cn=9999999&mb=0&mt=9999999&shkr1=03&shkr2=03&shkr3=03&shkr4=03&fw2=&srch_navi=1&page=18\n",
      "d_listの大きさ： 168\n",
      "https://suumo.jp/jj/chintai/ichiran/FR301FC001/?ar=090&bs=040&ta=40&sc=40107&cb=0.0&ct=9999999&et=9999999&cn=9999999&mb=0&mt=9999999&shkr1=03&shkr2=03&shkr3=03&shkr4=03&fw2=&srch_navi=1&page=19\n"
     ]
    }
   ],
   "source": [
    "from time import sleep\n",
    "\n",
    "from bs4 import BeautifulSoup\n",
    "import requests\n",
    "\n",
    "#変数urlにSUUMOホームページのURLを格納する\n",
    "url=\"https://suumo.jp/jj/chintai/ichiran/FR301FC001/?ar=090&bs=040&ta=40&sc=40107&cb=0.0&ct=9999999&et=9999999&cn=9999999&mb=0&mt=9999999&shkr1=03&shkr2=03&shkr3=03&shkr4=03&fw2=&srch_navi=1&page={}\"\n",
    "#変数d_listに空のリストを作成する\n",
    "d_list=[]\n",
    "\n",
    "#1~3をループする\n",
    "for i in range(17,20):\n",
    "    \n",
    "    print('d_listの大きさ：',len(d_list))\n",
    "    #アクセススル為のURLをtarget_urlに格納する\n",
    "    target_url=url.format(i)\n",
    "    #print()してtarget_urlを確認する\n",
    "    print(target_url)\n",
    "    \n",
    "    #target_urlへのアクセス結果を、変数rに格納\n",
    "    r=requests.get(target_url)\n",
    "    \n",
    "    sleep(1)\n",
    "    \n",
    "    #取得結果を解析してsoupに格納\n",
    "    soup=BeautifulSoup(r.text)\n",
    "   #すべての物件情報（20件）を取得する\n",
    "    contents=soup.find_all('div',class_='cassetteitem')\n",
    "    #物件情報をforループで取得する\n",
    "    for content in contents:\n",
    "\n",
    "        detail=content.find('div',class_='cassetteitem_content')\n",
    "        table=content.find('table',class_='cassetteitem_other')\n",
    "\n",
    "        #物件情報から必要な情報を取得する\n",
    "        title=detail.find('div',class_='cassetteitem_content-title').text\n",
    "        address=detail.find('li',class_='cassetteitem_detail-col1').text\n",
    "        access=detail.find('li',class_='cassetteitem_detail-col2').text\n",
    "        age=detail.find('li',class_='cassetteitem_detail-col3').text\n",
    "\n",
    "        #各部屋情報のブロックから、各部屋情報を取得する\n",
    "        tr_tags=table.find_all('tr',class_='js-cassette_link')\n",
    "\n",
    "        #各部屋情報をforループで取得する。\n",
    "        for tr_tag in tr_tags:\n",
    "\n",
    "            #部屋情報の行から、欲しい情報を取得する。\n",
    "            floor,price,first_fee,capacity=tr_tag.find_all('td')[2:6]\n",
    "\n",
    "            #さらに細かい情報を取得する\n",
    "            fee,management_fee=price.find_all('li')\n",
    "            deposit,gratuity=first_fee.find_all('li')\n",
    "            madori,menseki=capacity.find_all('li')\n",
    "\n",
    "            #取得したすべての情報を辞書に格納する\n",
    "            d={\n",
    "                'title':title,\n",
    "                'address':address,\n",
    "                'access':access,\n",
    "                'age':age,\n",
    "                'floor':floor.text,\n",
    "                'fee':fee.text,\n",
    "                'management_fee':management_fee.text,\n",
    "                'deposit':deposit.text,\n",
    "                'gratuity':gratuity.text,\n",
    "                'madori':madori.text,\n",
    "                'menseki':menseki.text,\n",
    "            }\n",
    "\n",
    "\n",
    "            #取得した辞書をd_listに格納する。\n",
    "            d_list.append(d)\n",
    "\n"
   ]
  },
  {
   "cell_type": "code",
   "execution_count": 379,
   "id": "ec149e24",
   "metadata": {},
   "outputs": [
    {
     "data": {
      "text/plain": [
       "[{'title': 'リス\\u3000プランタンＢ',\n",
       "  'address': '福岡県北九州市小倉南区南方３',\n",
       "  'access': '\\n北九州モノレール/徳力公団前駅 歩11分\\n北九州モノレール/守恒駅 歩20分\\nＪＲ鹿児島本線/小倉駅 バス35分 (バス停)南方三丁目停 歩5分\\n',\n",
       "  'age': '\\n築22年\\n2階建\\n',\n",
       "  'floor': '\\r\\n\\t\\t\\t\\t\\t\\t\\t\\t\\t\\t\\t2階',\n",
       "  'fee': '4.8万円',\n",
       "  'management_fee': '1800円',\n",
       "  'deposit': '-',\n",
       "  'gratuity': '-',\n",
       "  'madori': '2LDK',\n",
       "  'menseki': '60.56m2'},\n",
       " {'title': 'クレールコパン',\n",
       "  'address': '福岡県北九州市小倉南区上石田２',\n",
       "  'access': '\\nＪＲ日田彦山線/石田駅 歩10分\\n北九州モノレール/企救丘駅 歩16分\\n北九州モノレール/守恒駅 歩22分\\n',\n",
       "  'age': '\\n築11年\\n3階建\\n',\n",
       "  'floor': '\\r\\n\\t\\t\\t\\t\\t\\t\\t\\t\\t\\t\\t1階',\n",
       "  'fee': '6.6万円',\n",
       "  'management_fee': '3000円',\n",
       "  'deposit': '3.3万円',\n",
       "  'gratuity': '6.6万円',\n",
       "  'madori': '2LDK',\n",
       "  'menseki': '60.26m2'}]"
      ]
     },
     "execution_count": 379,
     "metadata": {},
     "output_type": "execute_result"
    }
   ],
   "source": [
    "d_list[:2]"
   ]
  },
  {
   "cell_type": "code",
   "execution_count": 380,
   "id": "aeb26f61",
   "metadata": {},
   "outputs": [],
   "source": [
    " df=pd.DataFrame(d_list)"
   ]
  },
  {
   "cell_type": "code",
   "execution_count": 10,
   "id": "4a6a86b8",
   "metadata": {},
   "outputs": [],
   "source": [
    "df.head()"
   ]
  },
  {
   "cell_type": "code",
   "execution_count": 382,
   "id": "d4a4558f",
   "metadata": {},
   "outputs": [
    {
     "data": {
      "text/plain": [
       "(332, 11)"
      ]
     },
     "execution_count": 382,
     "metadata": {},
     "output_type": "execute_result"
    }
   ],
   "source": [
    "df.shape"
   ]
  },
  {
   "cell_type": "code",
   "execution_count": 386,
   "id": "6fba8247",
   "metadata": {},
   "outputs": [
    {
     "data": {
      "text/plain": [
       "89"
      ]
     },
     "execution_count": 386,
     "metadata": {},
     "output_type": "execute_result"
    }
   ],
   "source": [
    "len(df.title.unique())"
   ]
  },
  {
   "cell_type": "code",
   "execution_count": 31,
   "id": "d1c81758",
   "metadata": {},
   "outputs": [],
   "source": [
    "#to_csv()を使って、データフレームをCSV出力する\n",
    "df.to_csv('chintai.csv',index=None,encoding='utf-8-sig',mode='a')"
   ]
  },
  {
   "cell_type": "code",
   "execution_count": 32,
   "id": "65f6b54b",
   "metadata": {},
   "outputs": [],
   "source": [
    "import os\n",
    "import pandas as pd\n",
    "df =pd.read_csv('chintai.csv')\n",
    "# madori列で降順に並べ替える\n",
    "df_sorted = df.sort_values('madori',ascending=False)\n",
    "\n",
    "# 並べ替えた結果を出力する\n",
    "df_sorted.to_csv('chintai_sort.csv',index=None,encoding='utf-8-sig',mode='a')"
   ]
  },
  {
   "cell_type": "code",
   "execution_count": 33,
   "id": "292b1d27",
   "metadata": {},
   "outputs": [],
   "source": [
    "import pandas as pd\n",
    "\n",
    "# chintai.csvを読み込む\n",
    "df = pd.read_csv('chintai.csv')\n",
    "\n",
    "# madoriの列が'3LDK'である行を抽出する\n",
    "df_3ldk = df[df['madori'] == '3LDK']\n",
    "\n",
    "# 抽出した行を表示する\n",
    "df_3ldk.to_csv('chintai_picup.csv',index=None,encoding='utf-8-sig',mode='a')\n"
   ]
  },
  {
   "cell_type": "code",
   "execution_count": 37,
   "id": "d6b26ae6",
   "metadata": {},
   "outputs": [
    {
     "name": "stdout",
     "output_type": "stream",
     "text": [
      "                      title           address  \\\n",
      "75     ＪＲ日豊本線 城野駅 13階建 築20年    福岡県北九州市小倉南区重住２   \n",
      "76              ソルジェンテ南方　Ａ棟    福岡県北九州市小倉南区南方４   \n",
      "95                 サンハイツ中曽根  福岡県北九州市小倉南区中曽根東１   \n",
      "96                 サンハイツ中曽根  福岡県北九州市小倉南区中曽根東１   \n",
      "166                  ラビータ北方    福岡県北九州市小倉南区北方２   \n",
      "...                     ...               ...   \n",
      "10419              サンハイツ中曽根  福岡県北九州市小倉南区中曽根東１   \n",
      "10489                ラビータ北方    福岡県北九州市小倉南区北方２   \n",
      "10550               クレセール守恒   福岡県北九州市小倉南区星和台１   \n",
      "10566               フォーラム岡田    福岡県北九州市小倉南区守恒２   \n",
      "10572           パストラーレ潤崎　Ｄ棟    福岡県北九州市小倉南区東貫２   \n",
      "\n",
      "                                                  access             age  \\\n",
      "75     \\nＪＲ日豊本線/城野駅 歩5分\\n北九州モノレール/城野駅 歩18分\\n北九州モノレール/...  \\n築20年\\n13階建\\n   \n",
      "76     \\n北九州モノレール/徳力嵐山口駅 歩7分\\n北九州モノレール/徳力公団前駅 歩10分\\n北...   \\n築28年\\n2階建\\n   \n",
      "95     \\nＪＲ日豊本線/下曽根駅 歩12分\\nＪＲ日豊本線/安部山公園駅 歩53分\\nＪＲ日豊本線...   \\n築31年\\n2階建\\n   \n",
      "96     \\nＪＲ日豊本線/下曽根駅 歩12分\\nＪＲ日豊本線/安部山公園駅 歩53分\\nＪＲ日豊本線...   \\n築31年\\n2階建\\n   \n",
      "166    \\n北九州モノレール/北方駅 歩2分\\n北九州モノレール/城野駅 歩11分\\nＪＲ日豊本線/...  \\n築27年\\n14階建\\n   \n",
      "...                                                  ...             ...   \n",
      "10419  \\nＪＲ日豊本線/下曽根駅 歩12分\\nＪＲ日豊本線/安部山公園駅 歩53分\\nＪＲ日豊本線...   \\n築31年\\n2階建\\n   \n",
      "10489  \\n北九州モノレール/北方駅 歩2分\\n北九州モノレール/城野駅 歩11分\\nＪＲ日豊本線/...  \\n築27年\\n14階建\\n   \n",
      "10550  \\n北九州モノレール/守恒駅 歩10分\\n北九州モノレール/競馬場前駅 歩17分\\n北九州モ...   \\n築26年\\n9階建\\n   \n",
      "10566  \\n北九州モノレール/守恒駅 歩5分\\n北九州モノレール/競馬場前駅 歩14分\\n北九州モノ...   \\n築31年\\n8階建\\n   \n",
      "10572  \\nＪＲ日豊本線/下曽根駅 歩25分\\nＪＲ日豊本線/朽網駅 歩30分\\nＪＲ日豊本線/安部...   \\n築10年\\n2階建\\n   \n",
      "\n",
      "                              floor     fee management_fee deposit gratuity  \\\n",
      "75     \\r\\n\\t\\t\\t\\t\\t\\t\\t\\t\\t\\t\\t5階   7.4万円          5000円       -    7.4万円   \n",
      "76     \\r\\n\\t\\t\\t\\t\\t\\t\\t\\t\\t\\t\\t2階  6.15万円          2500円       -        -   \n",
      "95     \\r\\n\\t\\t\\t\\t\\t\\t\\t\\t\\t\\t\\t1階  4.35万円          2000円       -        -   \n",
      "96     \\r\\n\\t\\t\\t\\t\\t\\t\\t\\t\\t\\t\\t2階  4.55万円          2000円       -        -   \n",
      "166    \\r\\n\\t\\t\\t\\t\\t\\t\\t\\t\\t\\t\\t7階   6.8万円          4000円       -        -   \n",
      "...                             ...     ...            ...     ...      ...   \n",
      "10419  \\r\\n\\t\\t\\t\\t\\t\\t\\t\\t\\t\\t\\t2階  4.55万円          2000円       -        -   \n",
      "10489  \\r\\n\\t\\t\\t\\t\\t\\t\\t\\t\\t\\t\\t7階   6.8万円          4000円       -        -   \n",
      "10550  \\r\\n\\t\\t\\t\\t\\t\\t\\t\\t\\t\\t\\t6階    10万円              -       -     20万円   \n",
      "10566  \\r\\n\\t\\t\\t\\t\\t\\t\\t\\t\\t\\t\\t5階   6.8万円          5000円       -    6.8万円   \n",
      "10572  \\r\\n\\t\\t\\t\\t\\t\\t\\t\\t\\t\\t\\t1階   7.8万円          2800円       -    7.8万円   \n",
      "\n",
      "      madori  menseki  \n",
      "75      3LDK  72.46m2  \n",
      "76      3LDK  70.85m2  \n",
      "95      3LDK  51.79m2  \n",
      "96      3LDK  51.79m2  \n",
      "166     3LDK  64.87m2  \n",
      "...      ...      ...  \n",
      "10419   3LDK  51.79m2  \n",
      "10489   3LDK  64.87m2  \n",
      "10550   3LDK  70.95m2  \n",
      "10566   3LDK  63.36m2  \n",
      "10572   3LDK   64.6m2  \n",
      "\n",
      "[256 rows x 11 columns]\n"
     ]
    }
   ],
   "source": [
    "import pandas as pd\n",
    "\n",
    "# chintai.csvを読み込む\n",
    "df = pd.read_csv('chintai.csv')\n",
    "\n",
    "# madoriの列が'3LDK'であり、kakakuの列が50000以上である行を抽出する\n",
    "df_3ldk = df[(df['madori'] == '3LDK') & (df['fee'] <= '70000')]\n",
    "\n",
    "# 抽出した行を表示する\n",
    "print(df_3ldk)\n"
   ]
  },
  {
   "cell_type": "code",
   "execution_count": null,
   "id": "d268f7e7",
   "metadata": {},
   "outputs": [],
   "source": []
  }
 ],
 "metadata": {
  "kernelspec": {
   "display_name": "Python 3 (ipykernel)",
   "language": "python",
   "name": "python3"
  },
  "language_info": {
   "codemirror_mode": {
    "name": "ipython",
    "version": 3
   },
   "file_extension": ".py",
   "mimetype": "text/x-python",
   "name": "python",
   "nbconvert_exporter": "python",
   "pygments_lexer": "ipython3",
   "version": "3.9.13"
  }
 },
 "nbformat": 4,
 "nbformat_minor": 5
}
