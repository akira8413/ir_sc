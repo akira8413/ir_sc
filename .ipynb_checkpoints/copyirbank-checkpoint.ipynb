{
 "cells": [
  {
   "cell_type": "code",
   "execution_count": 1344,
   "id": "a9a02735",
   "metadata": {},
   "outputs": [
    {
     "name": "stdout",
     "output_type": "stream",
     "text": [
      "https://irbank.net/E02966/results\n"
     ]
    }
   ],
   "source": [
    "from bs4 import BeautifulSoup\n",
    "import requests \n",
    "import re\n",
    "from time import sleep\n",
    "\n",
    "url='https://irbank.net/E02966/results'\n",
    "print(url)\n",
    "r=requests.get(url)\n",
    "sleep(2)\n",
    "soup=BeautifulSoup(r.text,'html.parser')\n",
    "contents=soup.find_all('section')\n",
    "content=contents[0]"
   ]
  },
  {
   "cell_type": "code",
   "execution_count": 1295,
   "id": "8474a1ef",
   "metadata": {},
   "outputs": [
    {
     "data": {
      "text/plain": [
       "bs4.element.ResultSet"
      ]
     },
     "execution_count": 1295,
     "metadata": {},
     "output_type": "execute_result"
    }
   ],
   "source": [
    "type(contents)"
   ]
  },
  {
   "cell_type": "code",
   "execution_count": 1296,
   "id": "14b94acd",
   "metadata": {},
   "outputs": [
    {
     "name": "stdout",
     "output_type": "stream",
     "text": [
      "91億2170万\n",
      "90億1317万\n",
      "75億7267万\n",
      "88億9261万\n",
      "94億1969万\n",
      "67億1317万\n",
      "64億1088万\n",
      "62億9721万\n",
      "65億3086万\n",
      "96億2966万\n",
      "93億1300万\n",
      "79億2895万\n",
      "87億9041万\n",
      "74億7181万\n",
      "71億5266万\n",
      "80億\n",
      "15.65円\n",
      "24.1円\n",
      "21.18円\n",
      "63.72円\n",
      "21.52円\n",
      "17.25円\n",
      "20.23円\n",
      "39.82円\n",
      "11.57円\n",
      "61.08円\n",
      "62.41円\n",
      "40.96円\n",
      "46.76円\n",
      "64.23円\n"
     ]
    }
   ],
   "source": [
    "#test_list=['c_1','c_5','c_28','c_11','c_14','c_19','c_21','c_22']\n",
    "test_list=['c_1','c_5']\n",
    "\n",
    "for id in test_list:\n",
    "    table=content.find('div',id=id)\n",
    "    if id == 'c_1':\n",
    "        # c_1 の処理\n",
    "        sales = table.find_all('span', class_='text')\n",
    "        for sale in sales:\n",
    "            print(sale.text)\n",
    "    elif id == 'c_5':\n",
    "        eps=table.find_all('span',class_='text')\n",
    "        for ep in eps:\n",
    "            print(ep.text)"
   ]
  },
  {
   "cell_type": "code",
   "execution_count": 1297,
   "id": "dcb62125",
   "metadata": {},
   "outputs": [
    {
     "data": {
      "text/plain": [
       "['91億2170万',\n",
       " '90億1317万',\n",
       " '75億7267万',\n",
       " '88億9261万',\n",
       " '94億1969万',\n",
       " '67億1317万',\n",
       " '64億1088万',\n",
       " '62億9721万',\n",
       " '65億3086万',\n",
       " '96億2966万',\n",
       " '93億1300万',\n",
       " '79億2895万',\n",
       " '87億9041万',\n",
       " '74億7181万',\n",
       " '71億5266万',\n",
       " '80億']"
      ]
     },
     "execution_count": 1297,
     "metadata": {},
     "output_type": "execute_result"
    }
   ],
   "source": [
    "sales_list=[sale.text for sale in sales]\n",
    "sales_list"
   ]
  },
  {
   "cell_type": "code",
   "execution_count": 1298,
   "id": "acbe4ed2",
   "metadata": {},
   "outputs": [
    {
     "data": {
      "text/plain": [
       "['91億2170万',\n",
       " '90億1317万',\n",
       " '75億7267万',\n",
       " '88億9261万',\n",
       " '94億1969万',\n",
       " '67億1317万',\n",
       " '64億1088万',\n",
       " '62億9721万',\n",
       " '65億3086万',\n",
       " '96億2966万',\n",
       " '93億1300万',\n",
       " '79億2895万',\n",
       " '87億9041万',\n",
       " '74億7181万',\n",
       " '71億5266万',\n",
       " '80億']"
      ]
     },
     "execution_count": 1298,
     "metadata": {},
     "output_type": "execute_result"
    }
   ],
   "source": [
    "sales_list"
   ]
  },
  {
   "cell_type": "code",
   "execution_count": 1299,
   "id": "369248c9",
   "metadata": {},
   "outputs": [
    {
     "name": "stdout",
     "output_type": "stream",
     "text": [
      "[9121700000, 9013170000, 7572670000, 8892610000, 9419690000, 6713170000, 6410880000, 6297210000, 6530860000, 9629660000, 9313000000, 7928950000, 8790410000, 7471810000, 7152660000, 8000000000]\n"
     ]
    }
   ],
   "source": [
    "eval_sale_list = []\n",
    "for sale in sales_list:\n",
    "    #兆しかない時\n",
    "    if '兆' in sale and '億' not in sale and '万' not in sale:\n",
    "        hennkan = sale.replace('兆', '*10**12')\n",
    "        eval_sale_list.append(eval(hennkan))\n",
    "    #億しかない時\n",
    "    elif '億' in sale and '兆' not in sale and '万' not in sale:\n",
    "        hennkan = sale.replace('億', '*10**8')\n",
    "        eval_sale_list.append(eval(hennkan))\n",
    "    #万しかない時\n",
    "    elif '万' in sale and '兆' not in sale and '万' not in sale:\n",
    "        hennkan = sale.replace('万', '*10**4')\n",
    "        eval_sale_list.append(eval(hennkan))\n",
    "    #兆と億の時\n",
    "    elif'兆'in sale and '億' in sale:\n",
    "        hennkan = sale.replace('兆', '*10**12+').replace('億','*10**8')\n",
    "        eval_sale_list.append(eval(hennkan))\n",
    "    #億と万の時\n",
    "    elif'億'in sale and '万' in sale:\n",
    "        hennkan = sale.replace('億', '*10**8+').replace('万','*10**4')\n",
    "        eval_sale_list.append(eval(hennkan))\n",
    "        \n",
    "    else:\n",
    "        hennkan = re.sub(r\"(兆)|(億)|(万)\", lambda x: \"*10**12+\" if x.group(1) else \"*10**8\" if x.group(2) else \"*10**4\", sale)\n",
    "        eval_sale_list.append(eval(hennkan))\n",
    "\n",
    "print(eval_sale_list)  \n"
   ]
  },
  {
   "cell_type": "code",
   "execution_count": 1390,
   "id": "dac26ebd",
   "metadata": {},
   "outputs": [
    {
     "name": "stdout",
     "output_type": "stream",
     "text": [
      "NOT (at index 1)\n",
      "NOT (at index 2)\n",
      "NOT (at index 5)\n",
      "NOT (at index 6)\n",
      "NOT (at index 7)\n",
      "NOT (at index 10)\n",
      "NOT (at index 11)\n",
      "NOT (at index 13)\n",
      "NOT (at index 14)\n"
     ]
    }
   ],
   "source": [
    "\n",
    "result = all(int(eval_sale_list[i]) < int(eval_sale_list[i+1]) for i in range(len(eval_sale_list)-1))\n",
    "\n",
    "if result:\n",
    "    print('OK')\n",
    "else:\n",
    "    for i in range(len(eval_sale_list)-1):\n",
    "        if int(eval_sale_list[i]) >= int(eval_sale_list[i+1]):\n",
    "            print(f'NOT (at index {i+1})')\n"
   ]
  },
  {
   "cell_type": "code",
   "execution_count": 1301,
   "id": "20b2a687",
   "metadata": {},
   "outputs": [
    {
     "data": {
      "text/plain": [
       "['15.65円',\n",
       " '24.1円',\n",
       " '21.18円',\n",
       " '63.72円',\n",
       " '21.52円',\n",
       " '17.25円',\n",
       " '20.23円',\n",
       " '39.82円',\n",
       " '11.57円',\n",
       " '61.08円',\n",
       " '62.41円',\n",
       " '40.96円',\n",
       " '46.76円',\n",
       " '64.23円']"
      ]
     },
     "execution_count": 1301,
     "metadata": {},
     "output_type": "execute_result"
    }
   ],
   "source": [
    "eps_list=[ep.text for ep in eps]\n",
    "eps_list\n"
   ]
  },
  {
   "cell_type": "code",
   "execution_count": 1306,
   "id": "d7aa4956",
   "metadata": {},
   "outputs": [],
   "source": [
    "# #一先ずできたっぽい。億と万で分けて0埋め\n",
    "# zfill_eps_list=[]\n",
    "# for ep in eps_list:\n",
    "#     float_=ep.split('.')\n",
    "#     enn=float_[1].split('円')\n",
    "    \n",
    "#     zero_float_=float_[0].zfill(8)\n",
    "#     zero_enn=enn[0].zfill(2)\n",
    "#     zfill_eps=zero_float_+zero_enn\n",
    "#     zfill_eps_list.append((zfill_eps))"
   ]
  },
  {
   "cell_type": "code",
   "execution_count": 1311,
   "id": "efd75aad",
   "metadata": {},
   "outputs": [
    {
     "name": "stdout",
     "output_type": "stream",
     "text": [
      "['64', '23円']\n"
     ]
    }
   ],
   "source": [
    "print(float_)"
   ]
  },
  {
   "cell_type": "code",
   "execution_count": 1403,
   "id": "6b9c8898",
   "metadata": {},
   "outputs": [],
   "source": [
    "zeps_list=[]\n",
    "for s in eps_list:\n",
    "    number_str = s.split('円')[0]  # '15.65' のような文字列を取得\n",
    "    hennkan =number_str+'*100'\n",
    "    zeps_list.append(eval(hennkan))\n"
   ]
  },
  {
   "cell_type": "code",
   "execution_count": 1404,
   "id": "dee5ce77",
   "metadata": {},
   "outputs": [
    {
     "data": {
      "text/plain": [
       "[1565.0,\n",
       " 2410.0,\n",
       " 2118.0,\n",
       " 6372.0,\n",
       " 2152.0,\n",
       " 1725.0,\n",
       " 2023.0,\n",
       " 3982.0,\n",
       " 1157.0,\n",
       " 6108.0,\n",
       " 6241.0,\n",
       " 4096.0,\n",
       " 4676.0,\n",
       " 6423.0]"
      ]
     },
     "execution_count": 1404,
     "metadata": {},
     "output_type": "execute_result"
    }
   ],
   "source": [
    "zeps_list"
   ]
  },
  {
   "cell_type": "code",
   "execution_count": 1407,
   "id": "a08f3052",
   "metadata": {},
   "outputs": [
    {
     "name": "stdout",
     "output_type": "stream",
     "text": [
      "NOT (at index 2)\n",
      "NOT (at index 4)\n",
      "NOT (at index 5)\n",
      "NOT (at index 8)\n",
      "NOT (at index 11)\n"
     ]
    }
   ],
   "source": [
    "\n",
    "result = all(int(zeps_list[i]) < int(zeps_list[i+1]) for i in range(len(zeps_list)-1))\n",
    "if result:\n",
    "    print('OK')\n",
    "else:\n",
    "    for i in range(len(zeps_list)-1):\n",
    "        if int(zeps_list[i]) >= int(zeps_list[i+1]):\n",
    "            print(f'NOT (at index {i+1})')\n",
    "            \n",
    "\n"
   ]
  },
  {
   "cell_type": "code",
   "execution_count": 444,
   "id": "5e903808",
   "metadata": {},
   "outputs": [
    {
     "data": {
      "text/plain": [
       "(list,\n",
       " ['13.5円',\n",
       "  '29.85円',\n",
       "  '31.12円',\n",
       "  '16.84円',\n",
       "  '29.12円',\n",
       "  '29.2円',\n",
       "  '29.48円',\n",
       "  '32.06円',\n",
       "  '19.51円',\n",
       "  '32.16円',\n",
       "  '40.9円',\n",
       "  '46.64円',\n",
       "  '44.91円',\n",
       "  '46.42円'])"
      ]
     },
     "execution_count": 444,
     "metadata": {},
     "output_type": "execute_result"
    }
   ],
   "source": [
    "#content=contents[0]=最初のsection終わり\n",
    "type(zfill_sales_list),eps_list"
   ]
  },
  {
   "cell_type": "code",
   "execution_count": 1323,
   "id": "d2c733b3",
   "metadata": {
    "scrolled": true
   },
   "outputs": [
    {
     "name": "stdout",
     "output_type": "stream",
     "text": [
      "https://irbank.net/E04496/results\n",
      "88.03%\n",
      "85.82%\n",
      "84.7%\n",
      "86%\n",
      "86.1%\n",
      "89.6%\n",
      "90%\n",
      "86.6%\n",
      "91.7%\n",
      "88.3%\n",
      "90.4%\n",
      "87.3%\n",
      "87.5%\n",
      "85.3%\n",
      "87.2%\n"
     ]
    }
   ],
   "source": [
    "from bs4 import BeautifulSoup\n",
    "import requests \n",
    "\n",
    "url='https://irbank.net/E04496/results'\n",
    "print(url)\n",
    "r=requests.get(url)\n",
    "soup=BeautifulSoup(r.text,'html.parser')\n",
    "contents=soup.find_all('section')\n",
    "#sectionの一つ目をcontentに入れる\n",
    "content=contents[1]\n",
    "test_list=['c_11']\n",
    "for id in test_list:\n",
    "    table=content.find('div',id=id)\n",
    "    operations=table.find_all('span',class_='text')\n",
    "    for operation in operations:\n",
    "        print(operation.text)"
   ]
  },
  {
   "cell_type": "code",
   "execution_count": 1409,
   "id": "66604ef1",
   "metadata": {},
   "outputs": [
    {
     "data": {
      "text/plain": [
       "['88.03%',\n",
       " '85.82%',\n",
       " '84.7%',\n",
       " '86%',\n",
       " '86.1%',\n",
       " '89.6%',\n",
       " '90%',\n",
       " '86.6%',\n",
       " '91.7%',\n",
       " '88.3%',\n",
       " '90.4%',\n",
       " '87.3%',\n",
       " '87.5%',\n",
       " '85.3%',\n",
       " '87.2%']"
      ]
     },
     "execution_count": 1409,
     "metadata": {},
     "output_type": "execute_result"
    }
   ],
   "source": [
    "operation_list=[operation.text for operation in operations]\n",
    "operation_list"
   ]
  },
  {
   "cell_type": "code",
   "execution_count": 1381,
   "id": "028b453b",
   "metadata": {},
   "outputs": [],
   "source": [
    "zoption_list=[]\n",
    "for s in operation_list:\n",
    "    if '.' in s:\n",
    "        number_str = s.split('%')[0]  # '15.65' のような文字列を取得\n",
    "        integer_part, decimal_part = number_str.split('.')  # '15' と '65' のような文字列を取得\n",
    "        integer_part = integer_part.zfill(2)  # 整数部を 0 で埋める\n",
    "        decimal_part = decimal_part.zfill(2)  # 小数部を 0 で埋める\n",
    "        hennkan = f\"{integer_part}.{decimal_part}\"  # 埋めた数値を結合\n",
    "        zoption_list.append(hennkan)\n",
    "    \n",
    "    else:\n",
    "        # 整数部と小数部が分離されていない場合\n",
    "        integer_part = s.split('%')[0]  # '86' のような文字列を取得\n",
    "        integer_part = integer_part.zfill(2)  # 整数部を 0 で埋める\n",
    "        hennkan = f\"{integer_part}.00\"\n",
    "        zoption_list.append(hennkan)\n"
   ]
  },
  {
   "cell_type": "code",
   "execution_count": 1408,
   "id": "0317fa66",
   "metadata": {},
   "outputs": [
    {
     "data": {
      "text/plain": [
       "['88.03',\n",
       " '85.82',\n",
       " '84.07',\n",
       " '86.00',\n",
       " '86.01',\n",
       " '89.06',\n",
       " '90.00',\n",
       " '86.06',\n",
       " '91.07',\n",
       " '88.03',\n",
       " '90.04',\n",
       " '87.03',\n",
       " '87.05',\n",
       " '85.03',\n",
       " '87.02']"
      ]
     },
     "execution_count": 1408,
     "metadata": {},
     "output_type": "execute_result"
    }
   ],
   "source": [
    "for b in zoption_list"
   ]
  },
  {
   "cell_type": "code",
   "execution_count": 1415,
   "id": "eb7c23ac",
   "metadata": {},
   "outputs": [
    {
     "name": "stdout",
     "output_type": "stream",
     "text": [
      "True\n"
     ]
    }
   ],
   "source": [
    "\n",
    "result = all(float(zoption_list[i]) >= 10 for i in range(len(zoption_list)))\n",
    "\n",
    "print(result)  # True\n",
    "\n"
   ]
  },
  {
   "cell_type": "code",
   "execution_count": 1291,
   "id": "246c0590",
   "metadata": {},
   "outputs": [
    {
     "ename": "AttributeError",
     "evalue": "'str' object has no attribute 'text'",
     "output_type": "error",
     "traceback": [
      "\u001b[0;31m---------------------------------------------------------------------------\u001b[0m",
      "\u001b[0;31mAttributeError\u001b[0m                            Traceback (most recent call last)",
      "\u001b[0;32m/var/folders/81/ckf4k5wn0d16719pp2dp8rqw0000gn/T/ipykernel_52792/3673379687.py\u001b[0m in \u001b[0;36m<module>\u001b[0;34m\u001b[0m\n\u001b[1;32m      1\u001b[0m \u001b[0;31m#content[1]終わり\u001b[0m\u001b[0;34m\u001b[0m\u001b[0;34m\u001b[0m\u001b[0m\n\u001b[0;32m----> 2\u001b[0;31m \u001b[0moperation_list\u001b[0m\u001b[0;34m=\u001b[0m\u001b[0;34m[\u001b[0m\u001b[0moperation\u001b[0m\u001b[0;34m.\u001b[0m\u001b[0mtext\u001b[0m \u001b[0;32mfor\u001b[0m \u001b[0moperations\u001b[0m \u001b[0;32min\u001b[0m \u001b[0moperations\u001b[0m\u001b[0;34m]\u001b[0m\u001b[0;34m\u001b[0m\u001b[0;34m\u001b[0m\u001b[0m\n\u001b[0m\u001b[1;32m      3\u001b[0m \u001b[0;34m\u001b[0m\u001b[0m\n\u001b[1;32m      4\u001b[0m \u001b[0;34m\u001b[0m\u001b[0m\n\u001b[1;32m      5\u001b[0m \u001b[0mresult\u001b[0m \u001b[0;34m=\u001b[0m \u001b[0mall\u001b[0m\u001b[0;34m(\u001b[0m\u001b[0mint\u001b[0m\u001b[0;34m(\u001b[0m\u001b[0mzfill_sales_list\u001b[0m\u001b[0;34m[\u001b[0m\u001b[0mi\u001b[0m\u001b[0;34m]\u001b[0m\u001b[0;34m)\u001b[0m \u001b[0;34m<\u001b[0m \u001b[0mint\u001b[0m\u001b[0;34m(\u001b[0m\u001b[0mzfill_sales_list\u001b[0m\u001b[0;34m[\u001b[0m\u001b[0mi\u001b[0m\u001b[0;34m+\u001b[0m\u001b[0;36m1\u001b[0m\u001b[0;34m]\u001b[0m\u001b[0;34m)\u001b[0m \u001b[0;32mfor\u001b[0m \u001b[0mi\u001b[0m \u001b[0;32min\u001b[0m \u001b[0mrange\u001b[0m\u001b[0;34m(\u001b[0m\u001b[0mlen\u001b[0m\u001b[0;34m(\u001b[0m\u001b[0mzfill_sales_list\u001b[0m\u001b[0;34m)\u001b[0m\u001b[0;34m-\u001b[0m\u001b[0;36m1\u001b[0m\u001b[0;34m)\u001b[0m\u001b[0;34m)\u001b[0m\u001b[0;34m\u001b[0m\u001b[0;34m\u001b[0m\u001b[0m\n",
      "\u001b[0;32m/var/folders/81/ckf4k5wn0d16719pp2dp8rqw0000gn/T/ipykernel_52792/3673379687.py\u001b[0m in \u001b[0;36m<listcomp>\u001b[0;34m(.0)\u001b[0m\n\u001b[1;32m      1\u001b[0m \u001b[0;31m#content[1]終わり\u001b[0m\u001b[0;34m\u001b[0m\u001b[0;34m\u001b[0m\u001b[0m\n\u001b[0;32m----> 2\u001b[0;31m \u001b[0moperation_list\u001b[0m\u001b[0;34m=\u001b[0m\u001b[0;34m[\u001b[0m\u001b[0moperation\u001b[0m\u001b[0;34m.\u001b[0m\u001b[0mtext\u001b[0m \u001b[0;32mfor\u001b[0m \u001b[0moperations\u001b[0m \u001b[0;32min\u001b[0m \u001b[0moperations\u001b[0m\u001b[0;34m]\u001b[0m\u001b[0;34m\u001b[0m\u001b[0;34m\u001b[0m\u001b[0m\n\u001b[0m\u001b[1;32m      3\u001b[0m \u001b[0;34m\u001b[0m\u001b[0m\n\u001b[1;32m      4\u001b[0m \u001b[0;34m\u001b[0m\u001b[0m\n\u001b[1;32m      5\u001b[0m \u001b[0mresult\u001b[0m \u001b[0;34m=\u001b[0m \u001b[0mall\u001b[0m\u001b[0;34m(\u001b[0m\u001b[0mint\u001b[0m\u001b[0;34m(\u001b[0m\u001b[0mzfill_sales_list\u001b[0m\u001b[0;34m[\u001b[0m\u001b[0mi\u001b[0m\u001b[0;34m]\u001b[0m\u001b[0;34m)\u001b[0m \u001b[0;34m<\u001b[0m \u001b[0mint\u001b[0m\u001b[0;34m(\u001b[0m\u001b[0mzfill_sales_list\u001b[0m\u001b[0;34m[\u001b[0m\u001b[0mi\u001b[0m\u001b[0;34m+\u001b[0m\u001b[0;36m1\u001b[0m\u001b[0;34m]\u001b[0m\u001b[0;34m)\u001b[0m \u001b[0;32mfor\u001b[0m \u001b[0mi\u001b[0m \u001b[0;32min\u001b[0m \u001b[0mrange\u001b[0m\u001b[0;34m(\u001b[0m\u001b[0mlen\u001b[0m\u001b[0;34m(\u001b[0m\u001b[0mzfill_sales_list\u001b[0m\u001b[0;34m)\u001b[0m\u001b[0;34m-\u001b[0m\u001b[0;36m1\u001b[0m\u001b[0;34m)\u001b[0m\u001b[0;34m)\u001b[0m\u001b[0;34m\u001b[0m\u001b[0;34m\u001b[0m\u001b[0m\n",
      "\u001b[0;31mAttributeError\u001b[0m: 'str' object has no attribute 'text'"
     ]
    }
   ],
   "source": [
    "#content[1]終わり\n",
    "operation_list=[operation.text for operations in operations]\n",
    "\n",
    "\n",
    "result = all(int(zfill_sales_list[i]) < int(zfill_sales_list[i+1]) for i in range(len(zfill_sales_list)-1))\n",
    "\n",
    "if result:\n",
    "    print('OK')\n",
    "else:\n",
    "    for i in range(len(zfill_sales_list)-1):\n",
    "        if int(zfill_sales_list[i]) >= int(zfill_sales_list[i+1]):\n",
    "            print(f'NOT (at index {i+1})')\n",
    "            \n"
   ]
  },
  {
   "cell_type": "code",
   "execution_count": 447,
   "id": "abec42fc",
   "metadata": {},
   "outputs": [
    {
     "name": "stdout",
     "output_type": "stream",
     "text": [
      "https://irbank.net/E04496/results\n",
      "6億8068万\n",
      "11億8810万\n",
      "10億6950万\n",
      "10億9047万\n",
      "10億3047万\n",
      "10億3610万\n",
      "12億4300万\n",
      "12億4100万\n",
      "7億8300万\n",
      "15億3700万\n",
      "9億1500万\n",
      "16億9800万\n",
      "12億2300万\n",
      "18億8900万\n",
      "14億2800万\n",
      "32億3971万\n",
      "25億9520万\n",
      "43億7399万\n",
      "33億8116万\n",
      "45億5884万\n",
      "30億1032万\n",
      "52億7400万\n",
      "51億9400万\n",
      "49億4200万\n",
      "42億2400万\n",
      "40億6500万\n",
      "50億1000万\n",
      "49億600万\n",
      "42億3900万\n",
      "39億9200万\n"
     ]
    }
   ],
   "source": [
    "from bs4 import BeautifulSoup\n",
    "import requests \n",
    "\n",
    "url='https://irbank.net/E04496/results'\n",
    "print(url)\n",
    "r=requests.get(url)\n",
    "soup=BeautifulSoup(r.text,'html.parser')\n",
    "contents=soup.find_all('section')\n",
    "#sectionの一つ目をcontentに入れる\n",
    "content=contents[2]\n",
    "test_list=['c_14','c_19']\n",
    "for id in test_list:\n",
    "    table=content.find('div',id=id)\n",
    "    if id == 'c_14':\n",
    "        # c_1 の処理\n",
    "        cashes = table.find_all('span', class_='text')\n",
    "        for cash in cashes:\n",
    "            print(cash.text)\n",
    "    elif id == 'c_19':\n",
    "        cfflows=table.find_all('span',class_='text')\n",
    "        for cfflow in cfflows:\n",
    "            print(cfflow.text)"
   ]
  },
  {
   "cell_type": "code",
   "execution_count": 448,
   "id": "f005d76c",
   "metadata": {},
   "outputs": [
    {
     "data": {
      "text/plain": [
       "(['6億8068万',\n",
       "  '11億8810万',\n",
       "  '10億6950万',\n",
       "  '10億9047万',\n",
       "  '10億3047万',\n",
       "  '10億3610万',\n",
       "  '12億4300万',\n",
       "  '12億4100万',\n",
       "  '7億8300万',\n",
       "  '15億3700万',\n",
       "  '9億1500万',\n",
       "  '16億9800万',\n",
       "  '12億2300万',\n",
       "  '18億8900万',\n",
       "  '14億2800万'],\n",
       " ['32億3971万',\n",
       "  '25億9520万',\n",
       "  '43億7399万',\n",
       "  '33億8116万',\n",
       "  '45億5884万',\n",
       "  '30億1032万',\n",
       "  '52億7400万',\n",
       "  '51億9400万',\n",
       "  '49億4200万',\n",
       "  '42億2400万',\n",
       "  '40億6500万',\n",
       "  '50億1000万',\n",
       "  '49億600万',\n",
       "  '42億3900万',\n",
       "  '39億9200万'])"
      ]
     },
     "execution_count": 448,
     "metadata": {},
     "output_type": "execute_result"
    }
   ],
   "source": [
    "cash_list=[cash.text for cash in cashes]\n",
    "cf_flow_list=[cfflow.text for cfflow in cfflows]\n",
    "cash_list,cf_flow_list"
   ]
  },
  {
   "cell_type": "code",
   "execution_count": 1348,
   "id": "df995e4f",
   "metadata": {},
   "outputs": [
    {
     "ename": "ModuleNotFoundError",
     "evalue": "No module named 'create_function'",
     "output_type": "error",
     "traceback": [
      "\u001b[0;31m---------------------------------------------------------------------------\u001b[0m",
      "\u001b[0;31mModuleNotFoundError\u001b[0m                       Traceback (most recent call last)",
      "\u001b[0;32m/var/folders/81/ckf4k5wn0d16719pp2dp8rqw0000gn/T/ipykernel_52792/3171444165.py\u001b[0m in \u001b[0;36m<module>\u001b[0;34m\u001b[0m\n\u001b[0;32m----> 1\u001b[0;31m \u001b[0;32mimport\u001b[0m \u001b[0mcreate_function\u001b[0m\u001b[0;34m\u001b[0m\u001b[0;34m\u001b[0m\u001b[0m\n\u001b[0m\u001b[1;32m      2\u001b[0m \u001b[0;34m\u001b[0m\u001b[0m\n\u001b[1;32m      3\u001b[0m \u001b[0;34m\u001b[0m\u001b[0m\n\u001b[1;32m      4\u001b[0m \u001b[0;32mdef\u001b[0m \u001b[0mconvert_sales_to_number\u001b[0m\u001b[0;34m(\u001b[0m\u001b[0mcash_list\u001b[0m\u001b[0;34m)\u001b[0m\u001b[0;34m:\u001b[0m\u001b[0;34m\u001b[0m\u001b[0;34m\u001b[0m\u001b[0m\n\u001b[1;32m      5\u001b[0m     \u001b[0;32mreturn\u001b[0m \u001b[0meval_cash_list\u001b[0m\u001b[0;34m\u001b[0m\u001b[0;34m\u001b[0m\u001b[0m\n",
      "\u001b[0;31mModuleNotFoundError\u001b[0m: No module named 'create_function'"
     ]
    }
   ],
   "source": [
    "import create_function\n",
    "\n",
    "\n",
    "def convert_sales_to_number(cash_list):\n",
    "    return eval_cash_list\n",
    "\n",
    "eval_cash_list1= convert_sales_to_number(cash_list)\n",
    "print(eval_cash_list1)"
   ]
  },
  {
   "cell_type": "code",
   "execution_count": 1382,
   "id": "2ae13260",
   "metadata": {},
   "outputs": [],
   "source": [
    "eval_cash_list = []\n",
    "for cash in cash_list:\n",
    "    #兆しかない時\n",
    "    if '兆' in cash and '億' not in cash and '万' not in cash:\n",
    "        hennkan = cash.replace('兆', '*10**12')\n",
    "        eval_cash_list.append(eval(hennkan))\n",
    "    #億しかない時\n",
    "    elif '億' in cash and '兆' not in cash and '万' not in cash:\n",
    "        hennkan = cash.replace('億', '*10**8')\n",
    "        eval_cash_list.append(eval(hennkan))\n",
    "    #万しかない時\n",
    "    elif '万' in cash and '兆' not in cash and '万' not in cash:\n",
    "        hennkan = cash.replace('万', '*10**4')\n",
    "        eval_cash_list.append(eval(hennkan))\n",
    "    #兆と億の時\n",
    "    elif'兆'in cash and '億' in cash:\n",
    "        hennkan = cash.replace('兆', '*10**12+').replace('億','*10**8')\n",
    "        eval_cash_list.append(eval(hennkan))\n",
    "    #億と万の時\n",
    "    elif'億'in cash and '万' in cash:\n",
    "        hennkan = cash.replace('億', '*10**8+').replace('万','*10**4')\n",
    "        eval_cash_list.append(eval(hennkan))\n",
    "        \n",
    "    else:\n",
    "        hennkan = re.sub(r\"(兆)|(億)|(万)\", lambda x: \"*10**12+\" if x.group(1) else \"*10**8\" if x.group(2) else \"*10**4\", sale)\n",
    "        eval_cash_list.append(eval(hennkan))\n"
   ]
  },
  {
   "cell_type": "code",
   "execution_count": 1383,
   "id": "725b2df7",
   "metadata": {},
   "outputs": [],
   "source": [
    "eval_cf_flow_list = []\n",
    "for flow in cf_flow_list:\n",
    "    #兆しかない時\n",
    "    if '兆' in flow and '億' not in flow and '万' not in flow:\n",
    "        hennkan = flow.replace('兆', '*10**12')\n",
    "        eval_cf_flow_list.append(eval(hennkan))\n",
    "    #億しかない時\n",
    "    elif '億' in flow and '兆' not in flow and '万' not in flow:\n",
    "        hennkan = flow.replace('億', '*10**8')\n",
    "        eval_cf_flow_list.append(eval(hennkan))\n",
    "    #万しかない時\n",
    "    elif '万' in flow and '兆' not in flow and '万' not in flow:\n",
    "        hennkan = flow.replace('万', '*10**4')\n",
    "        eval_cf_flow_list.append(eval(hennkan))\n",
    "    #兆と億の時\n",
    "    elif'兆'in flow and '億' in flow:\n",
    "        hennkan = flow.replace('兆', '*10**12+').replace('億','*10**8')\n",
    "        eval_cf_flow_list.append(eval(hennkan))\n",
    "    #億と万の時\n",
    "    elif'億'in flow and '万' in flow:\n",
    "        hennkan = flow.replace('億', '*10**8+').replace('万','*10**4')\n",
    "        eval_cf_flow_list.append(eval(hennkan))\n",
    "        \n",
    "    else:\n",
    "        hennkan = re.sub(r\"(兆)|(億)|(万)\", lambda x: \"*10**12+\" if x.group(1) else \"*10**8\" if x.group(2) else \"*10**4\", sale)\n",
    "        eval_cf_flow_list.append(eval(hennkan))\n"
   ]
  },
  {
   "cell_type": "code",
   "execution_count": 449,
   "id": "25342ce8",
   "metadata": {},
   "outputs": [
    {
     "name": "stdout",
     "output_type": "stream",
     "text": [
      "https://irbank.net/E04496/results\n",
      "13円\n",
      "14円\n",
      "15円\n",
      "16円\n",
      "17円\n",
      "18円\n",
      "18円\n",
      "18円\n",
      "18円\n",
      "18円\n",
      "18.5円\n",
      "19.5円\n",
      "21円\n",
      "*22円\n",
      "95.4%\n",
      "46%\n",
      "47.3%\n",
      "93.2%\n",
      "58.4%\n",
      "61.6%\n",
      "61%\n",
      "56.1%\n",
      "92.2%\n",
      "56%\n",
      "45.2%\n",
      "41.8%\n",
      "46.7%\n"
     ]
    }
   ],
   "source": [
    "from bs4 import BeautifulSoup\n",
    "import requests \n",
    "\n",
    "url='https://irbank.net/E04496/results'\n",
    "print(url)\n",
    "r=requests.get(url)\n",
    "soup=BeautifulSoup(r.text,'html.parser')\n",
    "contents=soup.find_all('section')\n",
    "#sectionの一つ目をcontentに入れる\n",
    "content=contents[3]\n",
    "test_list=['c_21','c_22']\n",
    "for id in test_list:\n",
    "    table=content.find('div',id=id)\n",
    "    if id == 'c_21':\n",
    "        # c_1 の処理\n",
    "        stocks = table.find_all('span', class_='text')\n",
    "        for stock in stocks:\n",
    "            print(stock.text)\n",
    "    elif id == 'c_22':\n",
    "        returns=table.find_all('span',class_='text')\n",
    "        for return_money in returns:\n",
    "            print(return_money.text)"
   ]
  },
  {
   "cell_type": "code",
   "execution_count": 1362,
   "id": "6a999a6a",
   "metadata": {},
   "outputs": [],
   "source": [
    "stock_list=[stock.text for stock in stocks]\n",
    "return_list=[return_money.text for return_money in returns]\n"
   ]
  },
  {
   "cell_type": "code",
   "execution_count": 1384,
   "id": "c704d4d7",
   "metadata": {},
   "outputs": [],
   "source": [
    "zstock_list=[]\n",
    "for s in stock_list:\n",
    "    if '.' in s:\n",
    "        number_str = s.split('円')[0]  # '15.65' のような文字列を取得\n",
    "        integer_part, decimal_part = number_str.split('.')  # '15' と '65' のような文字列を取得\n",
    "        integer_part = integer_part.zfill(2)  # 整数部を 0 で埋める\n",
    "        decimal_part = decimal_part.zfill(2)  # 小数部を 0 で埋める\n",
    "        hennkan= f\"{integer_part}.{decimal_part}\"  # 埋めた数値を結合\n",
    "        zstock_list.append(hennkan)\n",
    "    \n",
    "    else:\n",
    "        # 整数部と小数部が分離されていない場合\n",
    "        integer_part = s.split('円')[0]  # '86' のような文字列を取得\n",
    "        integer_part = integer_part.zfill(2)  # 整数部を 0 で埋める\n",
    "        hennkan= f\"{integer_part}.00\"\n",
    "        zstock_list.append(hennkan)\n",
    "   "
   ]
  },
  {
   "cell_type": "code",
   "execution_count": 1385,
   "id": "0fbd15d5",
   "metadata": {},
   "outputs": [],
   "source": [
    "zreturn_list=[]\n",
    "for s in return_list:\n",
    "    if '.' in s:\n",
    "        number_str = s.split('%')[0]  # '15.65' のような文字列を取得\n",
    "        integer_part, decimal_part = number_str.split('.')  # '15' と '65' のような文字列を取得\n",
    "        integer_part = integer_part.zfill(2)  # 整数部を 0 で埋める\n",
    "        decimal_part = decimal_part.zfill(2)  # 小数部を 0 で埋める\n",
    "        hennkan= f\"{integer_part}.{decimal_part}\"  # 埋めた数値を結合\n",
    "        zreturn_list.append(hennkan)\n",
    "    \n",
    "    else:\n",
    "        # 整数部と小数部が分離されていない場合\n",
    "        integer_part = s.split('%')[0]  # '86' のような文字列を取得\n",
    "        integer_part = integer_part.zfill(2)  # 整数部を 0 で埋める\n",
    "        hennkan= f\"{integer_part}.00\"\n",
    "        zreturn_list.append(hennkan)\n"
   ]
  },
  {
   "cell_type": "code",
   "execution_count": 1389,
   "id": "30df9111",
   "metadata": {},
   "outputs": [
    {
     "data": {
      "text/plain": [
       "([9121700000,\n",
       "  9013170000,\n",
       "  7572670000,\n",
       "  8892610000,\n",
       "  9419690000,\n",
       "  6713170000,\n",
       "  6410880000,\n",
       "  6297210000,\n",
       "  6530860000,\n",
       "  9629660000,\n",
       "  9313000000,\n",
       "  7928950000,\n",
       "  8790410000,\n",
       "  7471810000,\n",
       "  7152660000,\n",
       "  8000000000],\n",
       " ['000015.65',\n",
       "  '000024.01',\n",
       "  '000021.18',\n",
       "  '000063.72',\n",
       "  '000021.52',\n",
       "  '000017.25',\n",
       "  '000020.23',\n",
       "  '000039.82',\n",
       "  '000011.57',\n",
       "  '000061.08',\n",
       "  '000062.41',\n",
       "  '000040.96',\n",
       "  '000046.76',\n",
       "  '000064.23'],\n",
       " ['88.03',\n",
       "  '85.82',\n",
       "  '84.07',\n",
       "  '86.00',\n",
       "  '86.01',\n",
       "  '89.06',\n",
       "  '90.00',\n",
       "  '86.06',\n",
       "  '91.07',\n",
       "  '88.03',\n",
       "  '90.04',\n",
       "  '87.03',\n",
       "  '87.05',\n",
       "  '85.03',\n",
       "  '87.02'],\n",
       " [680680000,\n",
       "  1188100000,\n",
       "  1069500000,\n",
       "  1090470000,\n",
       "  1030470000,\n",
       "  1036100000,\n",
       "  1243000000,\n",
       "  1241000000,\n",
       "  783000000,\n",
       "  1537000000,\n",
       "  915000000,\n",
       "  1698000000,\n",
       "  1223000000,\n",
       "  1889000000,\n",
       "  1428000000],\n",
       " [3239710000,\n",
       "  2595200000,\n",
       "  4373990000,\n",
       "  3381160000,\n",
       "  4558840000,\n",
       "  3010320000,\n",
       "  5274000000,\n",
       "  5194000000,\n",
       "  4942000000,\n",
       "  4224000000,\n",
       "  4065000000,\n",
       "  5010000000,\n",
       "  4906000000,\n",
       "  4239000000,\n",
       "  3992000000],\n",
       " ['13.00',\n",
       "  '14.00',\n",
       "  '15.00',\n",
       "  '16.00',\n",
       "  '17.00',\n",
       "  '18.00',\n",
       "  '18.00',\n",
       "  '18.00',\n",
       "  '18.00',\n",
       "  '18.00',\n",
       "  '18.05',\n",
       "  '19.05',\n",
       "  '21.00',\n",
       "  '*22.00'],\n",
       " ['95.04',\n",
       "  '46.00',\n",
       "  '47.03',\n",
       "  '93.02',\n",
       "  '58.04',\n",
       "  '61.06',\n",
       "  '61.00',\n",
       "  '56.01',\n",
       "  '92.02',\n",
       "  '56.00',\n",
       "  '45.02',\n",
       "  '41.08',\n",
       "  '46.07'])"
      ]
     },
     "execution_count": 1389,
     "metadata": {},
     "output_type": "execute_result"
    }
   ],
   "source": [
    "eval_sale_list,zeps_list,zoption_list,eval_cash_list,eval_cf_flow_list,zstock_list,zreturn_list   "
   ]
  },
  {
   "cell_type": "code",
   "execution_count": 1417,
   "id": "c7592d2c",
   "metadata": {},
   "outputs": [
    {
     "data": {
      "text/plain": [
       "[680680000,\n",
       " 1188100000,\n",
       " 1069500000,\n",
       " 1090470000,\n",
       " 1030470000,\n",
       " 1036100000,\n",
       " 1243000000,\n",
       " 1241000000,\n",
       " 783000000,\n",
       " 1537000000,\n",
       " 915000000,\n",
       " 1698000000,\n",
       " 1223000000,\n",
       " 1889000000,\n",
       " 1428000000]"
      ]
     },
     "execution_count": 1417,
     "metadata": {},
     "output_type": "execute_result"
    }
   ],
   "source": [
    "eval_cash_list"
   ]
  },
  {
   "cell_type": "code",
   "execution_count": 1234,
   "id": "ee077fdb",
   "metadata": {},
   "outputs": [
    {
     "name": "stdout",
     "output_type": "stream",
     "text": [
      "Requirement already satisfied: pandas in /Users/takuma/opt/anaconda3/lib/python3.9/site-packages (1.4.4)\n",
      "Requirement already satisfied: python-dateutil>=2.8.1 in /Users/takuma/opt/anaconda3/lib/python3.9/site-packages (from pandas) (2.8.2)\n",
      "Requirement already satisfied: pytz>=2020.1 in /Users/takuma/opt/anaconda3/lib/python3.9/site-packages (from pandas) (2022.1)\n",
      "Requirement already satisfied: numpy>=1.18.5 in /Users/takuma/opt/anaconda3/lib/python3.9/site-packages (from pandas) (1.21.5)\n",
      "Requirement already satisfied: six>=1.5 in /Users/takuma/opt/anaconda3/lib/python3.9/site-packages (from python-dateutil>=2.8.1->pandas) (1.16.0)\n"
     ]
    }
   ],
   "source": [
    "!pip install pandas"
   ]
  },
  {
   "cell_type": "code",
   "execution_count": null,
   "id": "6ff6264e",
   "metadata": {},
   "outputs": [],
   "source": [
    " result = all(int(eval_sale_list[i]) < int(eval_sale_list[i+1]) for i in range(len(eval_sale_list)-1))\n",
    "        resault_stock=[]\n",
    "        if result:\n",
    "            resault_stock.append('OK')\n",
    "        else:\n",
    "            for i in range(len(eval_sale_list)-1):\n",
    "                if int(eval_sale_list[i]) >= int(eval_sale_list[i+1]):\n",
    "                    resault_stock.append(f'NOT (at index {i+1})')\n"
   ]
  },
  {
   "cell_type": "code",
   "execution_count": 1245,
   "id": "a2842be1",
   "metadata": {},
   "outputs": [],
   "source": [
    "import pandas as pd\n",
    "data = {'stock': stock_list, 'return': return_list, 'cash': cash_list, 'cf_flow': cf_flow_list}"
   ]
  },
  {
   "cell_type": "code",
   "execution_count": 1243,
   "id": "a00c422b",
   "metadata": {},
   "outputs": [],
   "source": [
    "import pandas as pd\n",
    "import csv\n",
    "stock_list=[stock.text for stock in stocks]\n",
    "return_list = [return_money.text for return_money in returns]\n",
    "\n",
    "# Open the file in write mode\n",
    "with open('return_list.csv', 'w', newline='') as csvfile:\n",
    "    # Create a CSV writer object\n",
    "    writer = csv.writer(csvfile)\n",
    "    \n",
    "    # Write the rows of the list to the CSV file\n",
    "    writer.writerows([[x] for x in return_list])\n"
   ]
  },
  {
   "cell_type": "code",
   "execution_count": 453,
   "id": "e493a110",
   "metadata": {},
   "outputs": [
    {
     "name": "stdout",
     "output_type": "stream",
     "text": [
      "Sales list is not monotonically increasing\n"
     ]
    }
   ],
   "source": [
    "operation_profit_list=[operation.text for operation in operations]\n",
    "\n",
    "\n",
    "is_monotonically_increasing = True\n",
    "previous_sale = operation_profit_list[0]\n",
    "for operation in operation_profit_list[1:]:\n",
    "    if operation < previous_sale:\n",
    "        is_monotonically_increasing = False\n",
    "        break\n",
    "    previous_sale = operation\n",
    "\n",
    "if is_monotonically_increasing:\n",
    "    print(\"Sales list is monotonically increasing\")\n",
    "else:\n",
    "    print(\"Sales list is not monotonically increasing\")\n",
    "\n"
   ]
  },
  {
   "cell_type": "code",
   "execution_count": 493,
   "id": "fc1f8d8e",
   "metadata": {},
   "outputs": [
    {
     "name": "stdout",
     "output_type": "stream",
     "text": [
      "NOT (at index 4)\n"
     ]
    }
   ],
   "source": [
    "\n",
    "result = all(int(zfill_sales_list[i]) < int(zfill_sales_list[i+1]) for i in range(len(zfill_sales_list)-1))\n",
    "\n",
    "if result:\n",
    "    print('OK')\n",
    "else:\n",
    "    for i in range(len(zfill_sales_list)-1):\n",
    "        if int(zfill_sales_list[i]) >= int(zfill_sales_list[i+1]):\n",
    "            print(f'NOT (at index {i+1})')\n"
   ]
  },
  {
   "cell_type": "code",
   "execution_count": null,
   "id": "cb36bc74",
   "metadata": {},
   "outputs": [],
   "source": [
    "# zfill_sales_list=[]\n",
    "# for sale in sales_list:\n",
    "#     trillion=sale.split('兆')\n",
    "#     billion=trillion[0].split('億')\n",
    "#     million=billion[1].split('万')\n",
    "    \n",
    "#     zero_trillion=trillion[0].zfill(4)\n",
    "#     zero_billion=billion[0].zfill(4)\n",
    "#     zero_million=million[0].zfill(4)\n",
    "#     money=zero_billion+zero_million\n",
    "#     zfill_sales_list.append((money))"
   ]
  },
  {
   "cell_type": "code",
   "execution_count": 1285,
   "id": "d7dd17a2",
   "metadata": {},
   "outputs": [
    {
     "name": "stdout",
     "output_type": "stream",
     "text": [
      "['0000002628920000', '0000002628920000']\n"
     ]
    }
   ],
   "source": [
    "# import re\n",
    "# ddr = ['20億5295万','8兆9509億']\n",
    "# # , '20兆5295億', '18兆9509億','36兆','27億','8000万']\n",
    "\n",
    "# _l = []\n",
    "# for z in ddr:\n",
    "#     if '兆億' in z:\n",
    "#         suetsugu=re.split(r'[兆億]',z)\n",
    "#         mori=suetsugu[0].zfill(4)\n",
    "#         satoko=suetsugu[1].zfill(4)\n",
    "#         mon_ey=mori+satoko\n",
    "#         _l.append(mon_ey)\n",
    "   \n",
    "        \n",
    "#     elif '億万' in z:\n",
    "#         takuma=re.split(r'[億万]',z)\n",
    "#         on=takuma[0].zfill(8)\n",
    "#         mi=takuma[1].zfill(4)\n",
    "# # 0埋めした値を連結する\n",
    "#         mon_ey =on + mi+'0000'\n",
    "#     _l.append(mon_ey)\n",
    "# print(_l)\n",
    "    \n",
    "   "
   ]
  },
  {
   "cell_type": "code",
   "execution_count": null,
   "id": "c8e4b2f7",
   "metadata": {},
   "outputs": [],
   "source": [
    "\n",
    "# zfill_sales_list = []\n",
    "# for sale in sales_list:\n",
    "#     # trillion, billion, millionを分ける\n",
    "#     split_result = re.split(r'[兆億万]',sale)\n",
    "#     # 分けた結果をtrillion, billion, millionに格納する\n",
    "#     if len(split_result) == 3:\n",
    "#         trillion, billion, million = split_result\n",
    "#         zero_trillion = trillion.zfill(4)\n",
    "#         zero_billion = billion.zfill(4)\n",
    "#         zero_million = million.zfill(4)\n",
    "\n",
    "#     elif len(split_result) == 2:\n",
    "#     # trillion, billion のいずれかしか存在しない場合\n",
    "#         trillion, billion = split_result\n",
    "#         zero_trillion = trillion.zfill(4)\n",
    "#         zero_billion = billion.zfill(4)\n",
    "#         zero_million = \"\".zfill(4)\n",
    "        \n",
    "#     elif len(split_result) == 2:\n",
    "#     # billion,million のいずれかしか存在しない場合\n",
    "#         trillion, billion = split_result\n",
    "#         zero_trillion = \"\".zfill(4)\n",
    "#         zero_billion = billion.zfill(4)\n",
    "#         zero_million = million.zfill(4)\n",
    "#     else:\n",
    "#         # trillion, billion, millionのいずれかが存在しない場合\n",
    "#         zero_trillion = \"\".zfill(4)\n",
    "#         zero_billion = \"\".zfill(4)\n",
    "#         zero_million = \"\".zfill(4)\n",
    "    \n",
    "#     # 0埋めした値を連結する\n",
    "#     money = zero_trillion + zero_billion + zero_million\n",
    "#     zfill_sales_list.append(money)\n",
    "\n",
    "# print(zfill_sales_list)  \n"
   ]
  }
 ],
 "metadata": {
  "kernelspec": {
   "display_name": "Python 3 (ipykernel)",
   "language": "python",
   "name": "python3"
  },
  "language_info": {
   "codemirror_mode": {
    "name": "ipython",
    "version": 3
   },
   "file_extension": ".py",
   "mimetype": "text/x-python",
   "name": "python",
   "nbconvert_exporter": "python",
   "pygments_lexer": "ipython3",
   "version": "3.9.13"
  }
 },
 "nbformat": 4,
 "nbformat_minor": 5
}
