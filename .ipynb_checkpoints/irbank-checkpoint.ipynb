{
 "cells": [
  {
   "cell_type": "code",
   "execution_count": 376,
   "id": "6b958c7a",
   "metadata": {},
   "outputs": [
    {
     "name": "stdout",
     "output_type": "stream",
     "text": [
      "https://irbank.net/E02144/results\n"
     ]
    }
   ],
   "source": [
    "from bs4 import BeautifulSoup\n",
    "import requests\n",
    "\n",
    "url='https://irbank.net/E02144/results'\n",
    "print(url)\n"
   ]
  },
  {
   "cell_type": "code",
   "execution_count": 377,
   "id": "b1b5812c",
   "metadata": {},
   "outputs": [],
   "source": [
    "r=requests.get(url)\n",
    "soup=BeautifulSoup(r.text,'html.parser')"
   ]
  },
  {
   "cell_type": "code",
   "execution_count": 378,
   "id": "e2180d17",
   "metadata": {},
   "outputs": [],
   "source": [
    "contents=soup.find_all('section')"
   ]
  },
  {
   "cell_type": "code",
   "execution_count": 379,
   "id": "c96fb0c0",
   "metadata": {},
   "outputs": [
    {
     "data": {
      "text/plain": [
       "4"
      ]
     },
     "execution_count": 379,
     "metadata": {},
     "output_type": "execute_result"
    }
   ],
   "source": [
    "len(contents)"
   ]
  },
  {
   "cell_type": "code",
   "execution_count": 380,
   "id": "d75e7774",
   "metadata": {},
   "outputs": [],
   "source": [
    "content=contents[0]"
   ]
  },
  {
   "cell_type": "code",
   "execution_count": 381,
   "id": "53e92959",
   "metadata": {},
   "outputs": [],
   "source": [
    "table=content.find('div',id='c_1')"
   ]
  },
  {
   "cell_type": "code",
   "execution_count": 401,
   "id": "e6270a78",
   "metadata": {
    "scrolled": true
   },
   "outputs": [
    {
     "name": "stdout",
     "output_type": "stream",
     "text": [
      "26兆2892億\n",
      "20兆5295億\n",
      "18兆9509億\n",
      "18兆9936億\n",
      "18兆5836億\n",
      "22兆641億\n",
      "25兆6919億\n",
      "27兆2345億\n",
      "28兆4031億\n",
      "27兆5971億\n",
      "29兆3795億\n",
      "30兆2256億\n",
      "29兆8665億\n",
      "27兆2145億\n",
      "31兆3795億\n",
      "36兆\n"
     ]
    }
   ],
   "source": [
    "sales=table.find_all('span',class_='text')\n",
    "for sale in sales:\n",
    "    print(sale.text)"
   ]
  },
  {
   "cell_type": "code",
   "execution_count": 402,
   "id": "4917ee67",
   "metadata": {},
   "outputs": [
    {
     "data": {
      "text/plain": [
       "str"
      ]
     },
     "execution_count": 402,
     "metadata": {},
     "output_type": "execute_result"
    }
   ],
   "source": [
    "type(sale.text)"
   ]
  },
  {
   "cell_type": "code",
   "execution_count": 404,
   "id": "523b4a1b",
   "metadata": {},
   "outputs": [],
   "source": [
    "sales_list=[sale for sale in sales]"
   ]
  },
  {
   "cell_type": "code",
   "execution_count": null,
   "id": "adfcc00c",
   "metadata": {},
   "outputs": [],
   "source": []
  }
 ],
 "metadata": {
  "kernelspec": {
   "display_name": "Python 3 (ipykernel)",
   "language": "python",
   "name": "python3"
  },
  "language_info": {
   "codemirror_mode": {
    "name": "ipython",
    "version": 3
   },
   "file_extension": ".py",
   "mimetype": "text/x-python",
   "name": "python",
   "nbconvert_exporter": "python",
   "pygments_lexer": "ipython3",
   "version": "3.9.13"
  }
 },
 "nbformat": 4,
 "nbformat_minor": 5
}
