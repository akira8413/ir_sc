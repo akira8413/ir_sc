{
 "cells": [
  {
   "cell_type": "code",
   "execution_count": 227,
   "id": "a9a02735",
   "metadata": {},
   "outputs": [
    {
     "name": "stdout",
     "output_type": "stream",
     "text": [
      "https://irbank.net/E04496/results\n"
     ]
    }
   ],
   "source": [
    "from bs4 import BeautifulSoup\n",
    "import requests \n",
    "\n",
    "url='https://irbank.net/E04496/results'\n",
    "print(url)\n",
    "r=requests.get(url)\n",
    "soup=BeautifulSoup(r.text,'html.parser')\n",
    "contents=soup.find_all('section')\n",
    "#sectionの一つ目をcontentに入れる\n",
    "#content=contents[:]\n",
    "content=contents[0]\n",
    "#content=contents[1:4]\n"
   ]
  },
  {
   "cell_type": "code",
   "execution_count": 228,
   "id": "e2109c0a",
   "metadata": {},
   "outputs": [
    {
     "name": "stdout",
     "output_type": "stream",
     "text": [
      "None\n"
     ]
    }
   ],
   "source": [
    "test_list=['c_1','c_5','c_28','c_11','c_14','c_19','c_21','c_22']\n",
    "for id in test_list:\n",
    "     table=content.find('div',id=id)\n",
    "print(table)\n",
    "    \n",
    "    \n",
    "        "
   ]
  },
  {
   "cell_type": "code",
   "execution_count": 182,
   "id": "150a2cdc",
   "metadata": {},
   "outputs": [
    {
     "name": "stdout",
     "output_type": "stream",
     "text": [
      "56億875万\n",
      "62億3251万\n",
      "67億3851万\n",
      "69億8264万\n",
      "69億6892万\n",
      "72億3411万\n",
      "75億5400万\n",
      "78億2800万\n",
      "80億9100万\n",
      "87億9900万\n",
      "93億3800万\n",
      "97億3900万\n",
      "102億6500万\n",
      "113億5100万\n",
      "115億7700万\n",
      "124億\n",
      "13.5円\n",
      "29.85円\n",
      "31.12円\n",
      "16.84円\n",
      "29.12円\n",
      "29.2円\n",
      "29.48円\n",
      "32.06円\n",
      "19.51円\n",
      "32.16円\n",
      "40.9円\n",
      "46.64円\n",
      "44.91円\n",
      "46.42円\n",
      "24.39%\n",
      "24.52%\n",
      "23.76%\n",
      "23.74%\n",
      "24.44%\n",
      "23.24%\n",
      "22.62%\n",
      "19.9%\n",
      "16.58%\n",
      "14.85%\n",
      "9.03%\n",
      "13.03%\n",
      "15.65%\n",
      "14.89%\n",
      "15.84%\n",
      "16.13%\n"
     ]
    },
    {
     "ename": "AttributeError",
     "evalue": "'NoneType' object has no attribute 'find_all'",
     "output_type": "error",
     "traceback": [
      "\u001b[0;31m---------------------------------------------------------------------------\u001b[0m",
      "\u001b[0;31mAttributeError\u001b[0m                            Traceback (most recent call last)",
      "\u001b[0;32m/var/folders/81/ckf4k5wn0d16719pp2dp8rqw0000gn/T/ipykernel_52792/2193625623.py\u001b[0m in \u001b[0;36m<module>\u001b[0;34m\u001b[0m\n\u001b[1;32m      3\u001b[0m     \u001b[0;32mfor\u001b[0m \u001b[0mid\u001b[0m \u001b[0;32min\u001b[0m \u001b[0mtest_list\u001b[0m\u001b[0;34m:\u001b[0m\u001b[0;34m\u001b[0m\u001b[0;34m\u001b[0m\u001b[0m\n\u001b[1;32m      4\u001b[0m             \u001b[0mtable\u001b[0m\u001b[0;34m=\u001b[0m\u001b[0mc\u001b[0m\u001b[0;34m.\u001b[0m\u001b[0mfind\u001b[0m\u001b[0;34m(\u001b[0m\u001b[0;34m'div'\u001b[0m\u001b[0;34m,\u001b[0m\u001b[0mid\u001b[0m\u001b[0;34m=\u001b[0m\u001b[0mid\u001b[0m\u001b[0;34m)\u001b[0m\u001b[0;34m\u001b[0m\u001b[0;34m\u001b[0m\u001b[0m\n\u001b[0;32m----> 5\u001b[0;31m             \u001b[0moperations\u001b[0m\u001b[0;34m=\u001b[0m\u001b[0mtable\u001b[0m\u001b[0;34m.\u001b[0m\u001b[0mfind_all\u001b[0m\u001b[0;34m(\u001b[0m\u001b[0;34m'span'\u001b[0m\u001b[0;34m,\u001b[0m\u001b[0mclass_\u001b[0m\u001b[0;34m=\u001b[0m\u001b[0;34m'text'\u001b[0m\u001b[0;34m)\u001b[0m\u001b[0;34m\u001b[0m\u001b[0;34m\u001b[0m\u001b[0m\n\u001b[0m\u001b[1;32m      6\u001b[0m             \u001b[0;32mfor\u001b[0m \u001b[0moperation\u001b[0m \u001b[0;32min\u001b[0m \u001b[0moperations\u001b[0m\u001b[0;34m:\u001b[0m\u001b[0;34m\u001b[0m\u001b[0;34m\u001b[0m\u001b[0m\n\u001b[1;32m      7\u001b[0m                 \u001b[0mprint\u001b[0m\u001b[0;34m(\u001b[0m\u001b[0moperation\u001b[0m\u001b[0;34m.\u001b[0m\u001b[0mtext\u001b[0m\u001b[0;34m)\u001b[0m\u001b[0;34m\u001b[0m\u001b[0;34m\u001b[0m\u001b[0m\n",
      "\u001b[0;31mAttributeError\u001b[0m: 'NoneType' object has no attribute 'find_all'"
     ]
    }
   ],
   "source": [
    "test_list=['c_1','c_5','c_28','c_11','c_14','c_19','c_21','c_22']\n",
    "for c in content:\n",
    "    for id in test_list:\n",
    "            table=c.find('div',id=id)\n",
    "            operations=table.find_all('span',class_='text')\n",
    "            for operation in operations:\n",
    "                print(operation.text)"
   ]
  },
  {
   "cell_type": "code",
   "execution_count": null,
   "id": "360abb56",
   "metadata": {},
   "outputs": [],
   "source": []
  },
  {
   "cell_type": "code",
   "execution_count": 171,
   "id": "6d7df1e7",
   "metadata": {},
   "outputs": [
    {
     "ename": "AttributeError",
     "evalue": "'NoneType' object has no attribute 'find_all'",
     "output_type": "error",
     "traceback": [
      "\u001b[0;31m---------------------------------------------------------------------------\u001b[0m",
      "\u001b[0;31mAttributeError\u001b[0m                            Traceback (most recent call last)",
      "\u001b[0;32m/var/folders/81/ckf4k5wn0d16719pp2dp8rqw0000gn/T/ipykernel_52792/3921598368.py\u001b[0m in \u001b[0;36m<module>\u001b[0;34m\u001b[0m\n\u001b[1;32m      4\u001b[0m     \u001b[0;32mfor\u001b[0m \u001b[0mid\u001b[0m \u001b[0;32min\u001b[0m \u001b[0mtest_list\u001b[0m\u001b[0;34m:\u001b[0m\u001b[0;34m\u001b[0m\u001b[0;34m\u001b[0m\u001b[0m\n\u001b[1;32m      5\u001b[0m         \u001b[0mtable\u001b[0m\u001b[0;34m=\u001b[0m\u001b[0mc\u001b[0m\u001b[0;34m.\u001b[0m\u001b[0mfind\u001b[0m\u001b[0;34m(\u001b[0m\u001b[0;34m'div'\u001b[0m\u001b[0;34m,\u001b[0m\u001b[0mid\u001b[0m\u001b[0;34m=\u001b[0m\u001b[0mid\u001b[0m\u001b[0;34m)\u001b[0m\u001b[0;34m\u001b[0m\u001b[0;34m\u001b[0m\u001b[0m\n\u001b[0;32m----> 6\u001b[0;31m         \u001b[0moperations\u001b[0m\u001b[0;34m=\u001b[0m\u001b[0mtable\u001b[0m\u001b[0;34m.\u001b[0m\u001b[0mfind_all\u001b[0m\u001b[0;34m(\u001b[0m\u001b[0;34m'span'\u001b[0m\u001b[0;34m,\u001b[0m\u001b[0mclass_\u001b[0m\u001b[0;34m=\u001b[0m\u001b[0;34m'text'\u001b[0m\u001b[0;34m)\u001b[0m\u001b[0;34m\u001b[0m\u001b[0;34m\u001b[0m\u001b[0m\n\u001b[0m\u001b[1;32m      7\u001b[0m     \u001b[0;32mfor\u001b[0m \u001b[0moperation\u001b[0m \u001b[0;32min\u001b[0m \u001b[0moperations\u001b[0m\u001b[0;34m:\u001b[0m\u001b[0;34m\u001b[0m\u001b[0;34m\u001b[0m\u001b[0m\n\u001b[1;32m      8\u001b[0m         \u001b[0mprint\u001b[0m\u001b[0;34m(\u001b[0m\u001b[0moperation\u001b[0m\u001b[0;34m.\u001b[0m\u001b[0mtext\u001b[0m\u001b[0;34m)\u001b[0m\u001b[0;34m\u001b[0m\u001b[0;34m\u001b[0m\u001b[0m\n",
      "\u001b[0;31mAttributeError\u001b[0m: 'NoneType' object has no attribute 'find_all'"
     ]
    }
   ],
   "source": [
    "#test_list=['c_1','c_5','c_28','c_11','c_14','c_19','c_21','c_22']\n",
    "test_list=['c_1','c_5']\n",
    "\n",
    "for id in test_list:\n",
    "    table=content.find('div',id=id)\n",
    "    operations=table.find_all('span',class_='text')\n",
    "    for operation in operations:\n",
    "        print(operation.text)"
   ]
  },
  {
   "cell_type": "code",
   "execution_count": 120,
   "id": "02d332dd",
   "metadata": {},
   "outputs": [
    {
     "name": "stdout",
     "output_type": "stream",
     "text": [
      "https://irbank.net/E04496/results\n",
      "88.03%\n",
      "85.82%\n",
      "84.7%\n",
      "86%\n",
      "86.1%\n",
      "89.6%\n",
      "90%\n",
      "86.6%\n",
      "91.7%\n",
      "88.3%\n",
      "90.4%\n",
      "87.3%\n",
      "87.5%\n",
      "85.3%\n",
      "87.2%\n"
     ]
    }
   ],
   "source": [
    "from bs4 import BeautifulSoup\n",
    "import requests \n",
    "\n",
    "url='https://irbank.net/E04496/results'\n",
    "print(url)\n",
    "r=requests.get(url)\n",
    "soup=BeautifulSoup(r.text,'html.parser')\n",
    "contents=soup.find_all('section')\n",
    "#sectionの一つ目をcontentに入れる\n",
    "content=contents[1]\n",
    "test_list=['c_11']\n",
    "for id in test_list:\n",
    "    table=content.find('div',id=id)\n",
    "    operations=table.find_all('span',class_='text')\n",
    "    for operation in operations:\n",
    "        print(operation.text)"
   ]
  },
  {
   "cell_type": "code",
   "execution_count": 119,
   "id": "c157ff7d",
   "metadata": {},
   "outputs": [
    {
     "name": "stdout",
     "output_type": "stream",
     "text": [
      "https://irbank.net/E04496/results\n",
      "6億8068万\n",
      "11億8810万\n",
      "10億6950万\n",
      "10億9047万\n",
      "10億3047万\n",
      "10億3610万\n",
      "12億4300万\n",
      "12億4100万\n",
      "7億8300万\n",
      "15億3700万\n",
      "9億1500万\n",
      "16億9800万\n",
      "12億2300万\n",
      "18億8900万\n",
      "14億2800万\n",
      "32億3971万\n",
      "25億9520万\n",
      "43億7399万\n",
      "33億8116万\n",
      "45億5884万\n",
      "30億1032万\n",
      "52億7400万\n",
      "51億9400万\n",
      "49億4200万\n",
      "42億2400万\n",
      "40億6500万\n",
      "50億1000万\n",
      "49億600万\n",
      "42億3900万\n",
      "39億9200万\n"
     ]
    }
   ],
   "source": [
    "from bs4 import BeautifulSoup\n",
    "import requests \n",
    "\n",
    "url='https://irbank.net/E04496/results'\n",
    "print(url)\n",
    "r=requests.get(url)\n",
    "soup=BeautifulSoup(r.text,'html.parser')\n",
    "contents=soup.find_all('section')\n",
    "#sectionの一つ目をcontentに入れる\n",
    "content=contents[2]\n",
    "test_list=['c_14','c_19']\n",
    "for id in test_list:\n",
    "    table=content.find('div',id=id)\n",
    "    operations=table.find_all('span',class_='text')\n",
    "    for operation in operations:\n",
    "        print(operation.text)"
   ]
  },
  {
   "cell_type": "code",
   "execution_count": 118,
   "id": "072990cf",
   "metadata": {},
   "outputs": [
    {
     "name": "stdout",
     "output_type": "stream",
     "text": [
      "https://irbank.net/E04496/results\n",
      "13円\n",
      "14円\n",
      "15円\n",
      "16円\n",
      "17円\n",
      "18円\n",
      "18円\n",
      "18円\n",
      "18円\n",
      "18円\n",
      "18.5円\n",
      "19.5円\n",
      "21円\n",
      "*22円\n",
      "95.4%\n",
      "46%\n",
      "47.3%\n",
      "93.2%\n",
      "58.4%\n",
      "61.6%\n",
      "61%\n",
      "56.1%\n",
      "92.2%\n",
      "56%\n",
      "45.2%\n",
      "41.8%\n",
      "46.7%\n"
     ]
    }
   ],
   "source": [
    "from bs4 import BeautifulSoup\n",
    "import requests \n",
    "\n",
    "url='https://irbank.net/E04496/results'\n",
    "print(url)\n",
    "r=requests.get(url)\n",
    "soup=BeautifulSoup(r.text,'html.parser')\n",
    "contents=soup.find_all('section')\n",
    "#sectionの一つ目をcontentに入れる\n",
    "content=contents[3]\n",
    "test_list=['c_21','c_22']\n",
    "for id in test_list:\n",
    "    table=content.find('div',id=id)\n",
    "    operations=table.find_all('span',class_='text')\n",
    "    for operation in operations:\n",
    "        print(operation.text)"
   ]
  },
  {
   "cell_type": "code",
   "execution_count": 11,
   "id": "e493a110",
   "metadata": {},
   "outputs": [
    {
     "name": "stdout",
     "output_type": "stream",
     "text": [
      "Sales list is not monotonically increasing\n"
     ]
    }
   ],
   "source": [
    "operation_profit_list=[operation.text for operation in operations]\n",
    "\n",
    "\n",
    "is_monotonically_increasing = True\n",
    "previous_sale = operation_profit_list[0]\n",
    "for operation in operation_profit_list[1:]:\n",
    "    if operation < previous_sale:\n",
    "        is_monotonically_increasing = False\n",
    "        break\n",
    "    previous_sale = operation\n",
    "\n",
    "if is_monotonically_increasing:\n",
    "    print(\"Sales list is monotonically increasing\")\n",
    "else:\n",
    "    print(\"Sales list is not monotonically increasing\")\n",
    "\n"
   ]
  },
  {
   "cell_type": "code",
   "execution_count": 142,
   "id": "2018cb86",
   "metadata": {},
   "outputs": [
    {
     "name": "stdout",
     "output_type": "stream",
     "text": [
      "https://irbank.net/E04496/results\n"
     ]
    },
    {
     "ename": "AttributeError",
     "evalue": "ResultSet object has no attribute 'find'. You're probably treating a list of elements like a single element. Did you call find_all() when you meant to call find()?",
     "output_type": "error",
     "traceback": [
      "\u001b[0;31m---------------------------------------------------------------------------\u001b[0m",
      "\u001b[0;31mAttributeError\u001b[0m                            Traceback (most recent call last)",
      "\u001b[0;32m/var/folders/81/ckf4k5wn0d16719pp2dp8rqw0000gn/T/ipykernel_52792/2172207322.py\u001b[0m in \u001b[0;36m<module>\u001b[0;34m\u001b[0m\n\u001b[1;32m      7\u001b[0m \u001b[0msoup\u001b[0m\u001b[0;34m=\u001b[0m\u001b[0mBeautifulSoup\u001b[0m\u001b[0;34m(\u001b[0m\u001b[0mr\u001b[0m\u001b[0;34m.\u001b[0m\u001b[0mtext\u001b[0m\u001b[0;34m,\u001b[0m\u001b[0;34m'html.parser'\u001b[0m\u001b[0;34m)\u001b[0m\u001b[0;34m\u001b[0m\u001b[0;34m\u001b[0m\u001b[0m\n\u001b[1;32m      8\u001b[0m \u001b[0mcontents\u001b[0m\u001b[0;34m=\u001b[0m\u001b[0msoup\u001b[0m\u001b[0;34m.\u001b[0m\u001b[0mfind_all\u001b[0m\u001b[0;34m(\u001b[0m\u001b[0;34m'section'\u001b[0m\u001b[0;34m)\u001b[0m\u001b[0;34m\u001b[0m\u001b[0;34m\u001b[0m\u001b[0m\n\u001b[0;32m----> 9\u001b[0;31m \u001b[0mcontentttt\u001b[0m\u001b[0;34m=\u001b[0m\u001b[0mcontents\u001b[0m\u001b[0;34m.\u001b[0m\u001b[0mfind\u001b[0m\u001b[0;34m(\u001b[0m\u001b[0;34m'div'\u001b[0m\u001b[0;34m,\u001b[0m \u001b[0mid\u001b[0m\u001b[0;34m=\u001b[0m\u001b[0;34m'c_1c_5'\u001b[0m\u001b[0;34m)\u001b[0m\u001b[0;34m\u001b[0m\u001b[0;34m\u001b[0m\u001b[0m\n\u001b[0m\u001b[1;32m     10\u001b[0m \u001b[0;31m#content=contents[0]\u001b[0m\u001b[0;34m\u001b[0m\u001b[0;34m\u001b[0m\u001b[0m\n\u001b[1;32m     11\u001b[0m \u001b[0mtest_list\u001b[0m\u001b[0;34m=\u001b[0m\u001b[0;34m[\u001b[0m\u001b[0;34m'c_1'\u001b[0m\u001b[0;34m,\u001b[0m\u001b[0;34m'c_5'\u001b[0m\u001b[0;34m,\u001b[0m\u001b[0;34m'c_28'\u001b[0m\u001b[0;34m]\u001b[0m\u001b[0;34m\u001b[0m\u001b[0;34m\u001b[0m\u001b[0m\n",
      "\u001b[0;32m~/opt/anaconda3/lib/python3.9/site-packages/bs4/element.py\u001b[0m in \u001b[0;36m__getattr__\u001b[0;34m(self, key)\u001b[0m\n\u001b[1;32m   2287\u001b[0m     \u001b[0;32mdef\u001b[0m \u001b[0m__getattr__\u001b[0m\u001b[0;34m(\u001b[0m\u001b[0mself\u001b[0m\u001b[0;34m,\u001b[0m \u001b[0mkey\u001b[0m\u001b[0;34m)\u001b[0m\u001b[0;34m:\u001b[0m\u001b[0;34m\u001b[0m\u001b[0;34m\u001b[0m\u001b[0m\n\u001b[1;32m   2288\u001b[0m         \u001b[0;34m\"\"\"Raise a helpful exception to explain a common code fix.\"\"\"\u001b[0m\u001b[0;34m\u001b[0m\u001b[0;34m\u001b[0m\u001b[0m\n\u001b[0;32m-> 2289\u001b[0;31m         raise AttributeError(\n\u001b[0m\u001b[1;32m   2290\u001b[0m             \u001b[0;34m\"ResultSet object has no attribute '%s'. You're probably treating a list of elements like a single element. Did you call find_all() when you meant to call find()?\"\u001b[0m \u001b[0;34m%\u001b[0m \u001b[0mkey\u001b[0m\u001b[0;34m\u001b[0m\u001b[0;34m\u001b[0m\u001b[0m\n\u001b[1;32m   2291\u001b[0m         )\n",
      "\u001b[0;31mAttributeError\u001b[0m: ResultSet object has no attribute 'find'. You're probably treating a list of elements like a single element. Did you call find_all() when you meant to call find()?"
     ]
    }
   ],
   "source": [
    "from bs4 import BeautifulSoup\n",
    "import requests \n",
    "\n",
    "url='https://irbank.net/E04496/results'\n",
    "print(url)\n",
    "r=requests.get(url)\n",
    "soup=BeautifulSoup(r.text,'html.parser')\n",
    "contents=soup.find_all('section')\n",
    "contentttt=contents.find('div', id='c_1c_5')\n",
    "#content=contents[0]\n",
    "test_list=['c_1','c_5','c_28']\n",
    "for id in test_list:\n",
    "    table=content.find('div',id=id)\n",
    "    operations=table.find_all('span',class_='text')\n",
    "    for operation in operations:\n",
    "        print(operation.text)"
   ]
  },
  {
   "cell_type": "code",
   "execution_count": 154,
   "id": "453fcb27",
   "metadata": {},
   "outputs": [
    {
     "name": "stdout",
     "output_type": "stream",
     "text": [
      "https://irbank.net/E04496/results\n"
     ]
    },
    {
     "ename": "AttributeError",
     "evalue": "ResultSet object has no attribute 'find_all'. You're probably treating a list of elements like a single element. Did you call find_all() when you meant to call find()?",
     "output_type": "error",
     "traceback": [
      "\u001b[0;31m---------------------------------------------------------------------------\u001b[0m",
      "\u001b[0;31mAttributeError\u001b[0m                            Traceback (most recent call last)",
      "\u001b[0;32m/var/folders/81/ckf4k5wn0d16719pp2dp8rqw0000gn/T/ipykernel_52792/681051252.py\u001b[0m in \u001b[0;36m<module>\u001b[0;34m\u001b[0m\n\u001b[1;32m      7\u001b[0m \u001b[0msoup\u001b[0m\u001b[0;34m=\u001b[0m\u001b[0mBeautifulSoup\u001b[0m\u001b[0;34m(\u001b[0m\u001b[0mr\u001b[0m\u001b[0;34m.\u001b[0m\u001b[0mtext\u001b[0m\u001b[0;34m,\u001b[0m\u001b[0;34m'html.parser'\u001b[0m\u001b[0;34m)\u001b[0m\u001b[0;34m\u001b[0m\u001b[0;34m\u001b[0m\u001b[0m\n\u001b[1;32m      8\u001b[0m \u001b[0mcontentsssss\u001b[0m\u001b[0;34m=\u001b[0m\u001b[0msoup\u001b[0m\u001b[0;34m.\u001b[0m\u001b[0mfind_all\u001b[0m\u001b[0;34m(\u001b[0m\u001b[0;34m'section'\u001b[0m\u001b[0;34m)\u001b[0m\u001b[0;34m\u001b[0m\u001b[0;34m\u001b[0m\u001b[0m\n\u001b[0;32m----> 9\u001b[0;31m \u001b[0mcontentttt\u001b[0m\u001b[0;34m=\u001b[0m\u001b[0mcontentsssss\u001b[0m\u001b[0;34m.\u001b[0m\u001b[0mfind_all\u001b[0m\u001b[0;34m(\u001b[0m\u001b[0;34m'div'\u001b[0m\u001b[0;34m,\u001b[0m \u001b[0mid\u001b[0m\u001b[0;34m=\u001b[0m\u001b[0;34m'c_1 c_5 c_28'\u001b[0m\u001b[0;34m)\u001b[0m\u001b[0;34m\u001b[0m\u001b[0;34m\u001b[0m\u001b[0m\n\u001b[0m\u001b[1;32m     10\u001b[0m \u001b[0;34m\u001b[0m\u001b[0m\n\u001b[1;32m     11\u001b[0m \u001b[0mcontentsssss\u001b[0m\u001b[0;34m\u001b[0m\u001b[0;34m\u001b[0m\u001b[0m\n",
      "\u001b[0;32m~/opt/anaconda3/lib/python3.9/site-packages/bs4/element.py\u001b[0m in \u001b[0;36m__getattr__\u001b[0;34m(self, key)\u001b[0m\n\u001b[1;32m   2287\u001b[0m     \u001b[0;32mdef\u001b[0m \u001b[0m__getattr__\u001b[0m\u001b[0;34m(\u001b[0m\u001b[0mself\u001b[0m\u001b[0;34m,\u001b[0m \u001b[0mkey\u001b[0m\u001b[0;34m)\u001b[0m\u001b[0;34m:\u001b[0m\u001b[0;34m\u001b[0m\u001b[0;34m\u001b[0m\u001b[0m\n\u001b[1;32m   2288\u001b[0m         \u001b[0;34m\"\"\"Raise a helpful exception to explain a common code fix.\"\"\"\u001b[0m\u001b[0;34m\u001b[0m\u001b[0;34m\u001b[0m\u001b[0m\n\u001b[0;32m-> 2289\u001b[0;31m         raise AttributeError(\n\u001b[0m\u001b[1;32m   2290\u001b[0m             \u001b[0;34m\"ResultSet object has no attribute '%s'. You're probably treating a list of elements like a single element. Did you call find_all() when you meant to call find()?\"\u001b[0m \u001b[0;34m%\u001b[0m \u001b[0mkey\u001b[0m\u001b[0;34m\u001b[0m\u001b[0;34m\u001b[0m\u001b[0m\n\u001b[1;32m   2291\u001b[0m         )\n",
      "\u001b[0;31mAttributeError\u001b[0m: ResultSet object has no attribute 'find_all'. You're probably treating a list of elements like a single element. Did you call find_all() when you meant to call find()?"
     ]
    }
   ],
   "source": [
    "from bs4 import BeautifulSoup\n",
    "import requests \n",
    "\n",
    "url='https://irbank.net/E04496/results'\n",
    "print(url)\n",
    "r=requests.get(url)\n",
    "soup=BeautifulSoup(r.text,'html.parser')\n",
    "contentsssss=soup.find_all('section')\n",
    "contents[:]\n",
    "contentttt=contentsssss.find_all('div', id='c_1 c_5 c_28')\n",
    "\n",
    "contentsssss"
   ]
  },
  {
   "cell_type": "code",
   "execution_count": 153,
   "id": "2cd25f83",
   "metadata": {},
   "outputs": [
    {
     "data": {
      "text/plain": [
       "<section><h1 id=\"c_pl\">会社業績<a class=\"nxq\" href=\"/E04496/pl\" title=\"業績\"><i class=\"fas fa-external-link-alt\"></i></a></h1><div><table class=\"bar bs\"><thead><tr class=\"weaken ds1\"><th>年度</th><th><a class=\"co_bn\" href=\"#c_1\" title=\"売上\">売上</a></th><th><a class=\"co_bn\" href=\"#c_2\" title=\"営利\">営利</a></th><th><a class=\"co_bn\" href=\"#c_3\" title=\"経常\">経常</a></th><th><a class=\"co_bn\" href=\"#c_4\" title=\"純利\">純利</a></th><th><a class=\"co_bn\" href=\"#c_5\" title=\"EPS\">EPS</a></th><th><a class=\"co_bn\" href=\"#c_6\" title=\"ROE\">ROE</a></th><th><a class=\"co_bn\" href=\"#c_7\" title=\"ROA\">ROA</a></th><th><a class=\"co_bn\" href=\"#c_28\" title=\"営利率\">営利率</a></th><th><a class=\"co_bn\" href=\"#c_29\" title=\"原価率\">原価率</a></th><th><a class=\"co_bn\" href=\"#c_30\" title=\"販管費率\">販管費率</a></th></tr></thead><tbody><tr class=\"weaken obb\"><td>2008/03</td><td class=\"rt\"><span class=\"ratio\" style=\"width:41%;\"></span><span class=\"text\">56.1億</span></td><td class=\"rt\"><span class=\"ratio\" style=\"width:10%;\"></span><span class=\"text\">13.7億</span></td><td class=\"rt\"><span class=\"ratio\" style=\"width:10%;\"></span><span class=\"text\">13.9億</span></td><td class=\"rt\"><span class=\"ratio\" style=\"width:6%;\"></span><span class=\"text\">8.17億</span></td><td>-</td><td class=\"rt\"><span class=\"ratio\" style=\"width:20%;\"></span><span class=\"text\">10.94</span></td><td class=\"rt\"><span class=\"ratio\" style=\"width:17%;\"></span><span class=\"text\">9.63</span></td><td class=\"rt\"><span class=\"ratio\" style=\"width:22%;\"></span><span class=\"text\">24.39</span></td><td class=\"rt\"><span class=\"ratio\" style=\"width:48%;\"></span><span class=\"text\">52.85</span></td><td class=\"rt\"><span class=\"ratio\" style=\"width:21%;\"></span><span class=\"text\">22.76</span></td></tr><tr class=\"weaken odd\"><td><a href=\"/E04496/S0003K4X/pl\" title=\"有価証券報告書-第19期(平成20年4月1日-平成21年3月31日) - 業績\">2009/03</a></td><td class=\"rt\"><span class=\"ratio\" style=\"width:45%;\"></span><span class=\"text\">62.3億</span></td><td class=\"rt\"><span class=\"ratio\" style=\"width:11%;\"></span><span class=\"text\">15.3億</span></td><td class=\"rt\"><span class=\"ratio\" style=\"width:12%;\"></span><span class=\"text\">15.7億</span></td><td class=\"rt\"><span class=\"ratio\" style=\"width:6%;\"></span><span class=\"text\">9.05億</span></td><td>-</td><td class=\"rt\"><span class=\"ratio\" style=\"width:21%;\"></span><span class=\"text\">11.52</span></td><td class=\"rt\"><span class=\"ratio\" style=\"width:18%;\"></span><span class=\"text\">9.89</span></td><td class=\"rt\"><span class=\"ratio\" style=\"width:23%;\"></span><span class=\"text\">24.52</span></td><td class=\"rt\"><span class=\"ratio\" style=\"width:49%;\"></span><span class=\"text\">54.2</span></td><td class=\"rt\"><span class=\"ratio\" style=\"width:19%;\"></span><span class=\"text\">21.28</span></td></tr><tr class=\"weaken obb\"><td><a href=\"/E04496/S00068BV/pl\" title=\"有価証券報告書-第20期(平成21年4月1日-平成22年3月31日) - 業績\">2010/03</a></td><td class=\"rt\"><span class=\"ratio\" style=\"width:49%;\"></span><span class=\"text\">67.4億</span></td><td class=\"rt\"><span class=\"ratio\" style=\"width:12%;\"></span><span class=\"text\">16億</span></td><td class=\"rt\"><span class=\"ratio\" style=\"width:12%;\"></span><span class=\"text\">16.3億</span></td><td class=\"rt\"><span class=\"ratio\" style=\"width:4%;\"></span><span class=\"text\">4.38億</span></td><td class=\"rt\"><span class=\"ratio\" style=\"width:26%;\"></span><span class=\"text\">13.5</span></td><td class=\"rt\"><span class=\"ratio\" style=\"width:10%;\"></span><span class=\"text\">5.68</span></td><td class=\"rt\"><span class=\"ratio\" style=\"width:9%;\"></span><span class=\"text\">4.81</span></td><td class=\"rt\"><span class=\"ratio\" style=\"width:22%;\"></span><span class=\"text\">23.76</span></td><td class=\"rt\"><span class=\"ratio\" style=\"width:49%;\"></span><span class=\"text\">53.82</span></td><td class=\"rt\"><span class=\"ratio\" style=\"width:20%;\"></span><span class=\"text\">22.42</span></td></tr><tr class=\"weaken odd\"><td><a href=\"/E04496/S0008RF5/pl\" title=\"有価証券報告書-第21期(平成22年4月1日-平成23年3月31日) - 業績\">2011/03</a></td><td class=\"rt\"><span class=\"ratio\" style=\"width:50%;\"></span><span class=\"text\">69.8億</span></td><td class=\"rt\"><span class=\"ratio\" style=\"width:12%;\"></span><span class=\"text\">16.6億</span></td><td class=\"rt\"><span class=\"ratio\" style=\"width:13%;\"></span><span class=\"text\">16.8億</span></td><td class=\"rt\"><span class=\"ratio\" style=\"width:7%;\"></span><span class=\"text\">9.7億</span></td><td class=\"rt\"><span class=\"ratio\" style=\"width:58%;\"></span><span class=\"text\">29.85</span></td><td class=\"rt\"><span class=\"ratio\" style=\"width:22%;\"></span><span class=\"text\">11.75</span></td><td class=\"rt\"><span class=\"ratio\" style=\"width:18%;\"></span><span class=\"text\">10.11</span></td><td class=\"rt\"><span class=\"ratio\" style=\"width:22%;\"></span><span class=\"text\">23.74</span></td><td class=\"rt\"><span class=\"ratio\" style=\"width:49%;\"></span><span class=\"text\">54.24</span></td><td class=\"rt\"><span class=\"ratio\" style=\"width:20%;\"></span><span class=\"text\">22.02</span></td></tr><tr class=\"weaken obb\"><td><a href=\"/E04496/S000B75A/pl\" title=\"有価証券報告書-第22期(平成23年4月1日-平成24年3月31日) - 業績\">2012/03</a></td><td class=\"rt\"><span class=\"ratio\" style=\"width:50%;\"></span><span class=\"text\">69.7億</span></td><td class=\"rt\"><span class=\"ratio\" style=\"width:13%;\"></span><span class=\"text\">17億</span></td><td class=\"rt\"><span class=\"ratio\" style=\"width:13%;\"></span><span class=\"text\">17.2億</span></td><td class=\"rt\"><span class=\"ratio\" style=\"width:7%;\"></span><span class=\"text\">10.1億</span></td><td class=\"rt\"><span class=\"ratio\" style=\"width:60%;\"></span><span class=\"text\">31.12</span></td><td class=\"rt\"><span class=\"ratio\" style=\"width:18%;\"></span><span class=\"text\">10.09</span></td><td class=\"rt\"><span class=\"ratio\" style=\"width:15%;\"></span><span class=\"text\">8.68</span></td><td class=\"rt\"><span class=\"ratio\" style=\"width:22%;\"></span><span class=\"text\">24.44</span></td><td class=\"rt\"><span class=\"ratio\" style=\"width:47%;\"></span><span class=\"text\">52.2</span></td><td class=\"rt\"><span class=\"ratio\" style=\"width:21%;\"></span><span class=\"text\">23.35</span></td></tr><tr class=\"weaken odd\"><td><a href=\"/E04496/S000DQKH/pl\" title=\"有価証券報告書-第23期(平成24年4月1日-平成25年3月31日) - 業績\">2013/03</a></td><td class=\"rt\"><span class=\"ratio\" style=\"width:52%;\"></span><span class=\"text\">72.3億</span></td><td class=\"rt\"><span class=\"ratio\" style=\"width:13%;\"></span><span class=\"text\">16.8億</span></td><td class=\"rt\"><span class=\"ratio\" style=\"width:8%;\"></span><span class=\"text\">10.6億</span></td><td class=\"rt\"><span class=\"ratio\" style=\"width:4%;\"></span><span class=\"text\">5.47億</span></td><td class=\"rt\"><span class=\"ratio\" style=\"width:32%;\"></span><span class=\"text\">16.84</span></td><td class=\"rt\"><span class=\"ratio\" style=\"width:10%;\"></span><span class=\"text\">5.72</span></td><td class=\"rt\"><span class=\"ratio\" style=\"width:9%;\"></span><span class=\"text\">5.13</span></td><td class=\"rt\"><span class=\"ratio\" style=\"width:21%;\"></span><span class=\"text\">23.24</span></td><td class=\"rt\"><span class=\"ratio\" style=\"width:46%;\"></span><span class=\"text\">51.33</span></td><td class=\"rt\"><span class=\"ratio\" style=\"width:23%;\"></span><span class=\"text\">25.43</span></td></tr><tr class=\"weaken obb\"><td><a href=\"/E04496/S1002BMQ/pl\" title=\"有価証券報告書-第24期(平成25年4月1日-平成26年3月31日) - 業績\">2014/03</a></td><td class=\"rt\"><span class=\"ratio\" style=\"width:55%;\"></span><span class=\"text\">75.5億</span></td><td class=\"rt\"><span class=\"ratio\" style=\"width:13%;\"></span><span class=\"text\">17.1億</span></td><td class=\"rt\"><span class=\"ratio\" style=\"width:13%;\"></span><span class=\"text\">16.9億</span></td><td class=\"rt\"><span class=\"ratio\" style=\"width:6%;\"></span><span class=\"text\">9.15億</span></td><td class=\"rt\"><span class=\"ratio\" style=\"width:56%;\"></span><span class=\"text\">29.12</span></td><td class=\"rt\"><span class=\"ratio\" style=\"width:19%;\"></span><span class=\"text\">10.26</span></td><td class=\"rt\"><span class=\"ratio\" style=\"width:16%;\"></span><span class=\"text\">9.23</span></td><td class=\"rt\"><span class=\"ratio\" style=\"width:21%;\"></span><span class=\"text\">22.62</span></td><td class=\"rt\"><span class=\"ratio\" style=\"width:49%;\"></span><span class=\"text\">53.61</span></td><td class=\"rt\"><span class=\"ratio\" style=\"width:22%;\"></span><span class=\"text\">23.78</span></td></tr><tr class=\"weaken odd\"><td><a href=\"/E04496/S100562S/pl\" title=\"有価証券報告書-第25期(平成26年4月1日-平成27年3月31日) - 業績\">2015/03</a></td><td class=\"rt\"><span class=\"ratio\" style=\"width:57%;\"></span><span class=\"text\">78.3億</span></td><td class=\"rt\"><span class=\"ratio\" style=\"width:12%;\"></span><span class=\"text\">15.6億</span></td><td class=\"rt\"><span class=\"ratio\" style=\"width:11%;\"></span><span class=\"text\">15.2億</span></td><td class=\"rt\"><span class=\"ratio\" style=\"width:6%;\"></span><span class=\"text\">8.83億</span></td><td class=\"rt\"><span class=\"ratio\" style=\"width:57%;\"></span><span class=\"text\">29.2</span></td><td class=\"rt\"><span class=\"ratio\" style=\"width:18%;\"></span><span class=\"text\">10.09</span></td><td class=\"rt\"><span class=\"ratio\" style=\"width:15%;\"></span><span class=\"text\">8.74</span></td><td class=\"rt\"><span class=\"ratio\" style=\"width:18%;\"></span><span class=\"text\">19.9</span></td><td class=\"rt\"><span class=\"ratio\" style=\"width:52%;\"></span><span class=\"text\">57.56</span></td><td class=\"rt\"><span class=\"ratio\" style=\"width:21%;\"></span><span class=\"text\">22.55</span></td></tr><tr class=\"weaken obb\"><td><a href=\"/E04496/S1007W5A/pl\" title=\"有価証券報告書-第26期(平成27年4月1日-平成28年3月31日) - 業績\">2016/03</a></td><td class=\"rt\"><span class=\"ratio\" style=\"width:59%;\"></span><span class=\"text\">80.9億</span></td><td class=\"rt\"><span class=\"ratio\" style=\"width:10%;\"></span><span class=\"text\">13.4億</span></td><td class=\"rt\"><span class=\"ratio\" style=\"width:10%;\"></span><span class=\"text\">13.4億</span></td><td class=\"rt\"><span class=\"ratio\" style=\"width:6%;\"></span><span class=\"text\">8.81億</span></td><td class=\"rt\"><span class=\"ratio\" style=\"width:57%;\"></span><span class=\"text\">29.48</span></td><td class=\"rt\"><span class=\"ratio\" style=\"width:17%;\"></span><span class=\"text\">9.39</span></td><td class=\"rt\"><span class=\"ratio\" style=\"width:15%;\"></span><span class=\"text\">8.6</span></td><td class=\"rt\"><span class=\"ratio\" style=\"width:15%;\"></span><span class=\"text\">16.58</span></td><td class=\"rt\"><span class=\"ratio\" style=\"width:56%;\"></span><span class=\"text\">62.19</span></td><td class=\"rt\"><span class=\"ratio\" style=\"width:19%;\"></span><span class=\"text\">21.23</span></td></tr><tr class=\"weaken odd\"><td><a href=\"/E04496/S100AMZW/pl\" title=\"有価証券報告書-第27期(平成28年4月1日-平成29年3月31日) - 業績\">2017/03</a></td><td class=\"rt\"><span class=\"ratio\" style=\"width:64%;\"></span><span class=\"text\">88億</span></td><td class=\"rt\"><span class=\"ratio\" style=\"width:10%;\"></span><span class=\"text\">13.1億</span></td><td class=\"rt\"><span class=\"ratio\" style=\"width:10%;\"></span><span class=\"text\">13.1億</span></td><td class=\"rt\"><span class=\"ratio\" style=\"width:7%;\"></span><span class=\"text\">9.5億</span></td><td class=\"rt\"><span class=\"ratio\" style=\"width:62%;\"></span><span class=\"text\">32.06</span></td><td class=\"rt\"><span class=\"ratio\" style=\"width:18%;\"></span><span class=\"text\">9.94</span></td><td class=\"rt\"><span class=\"ratio\" style=\"width:16%;\"></span><span class=\"text\">8.77</span></td><td class=\"rt\"><span class=\"ratio\" style=\"width:14%;\"></span><span class=\"text\">14.85</span></td><td class=\"rt\"><span class=\"ratio\" style=\"width:59%;\"></span><span class=\"text\">65.08</span></td><td class=\"rt\"><span class=\"ratio\" style=\"width:18%;\"></span><span class=\"text\">20.06</span></td></tr><tr class=\"weaken obb\"><td><a href=\"/E04496/S100DF1K/pl\" title=\"有価証券報告書-第28期(平成29年4月1日-平成30年3月31日) - 業績\">2018/03</a></td><td class=\"rt\"><span class=\"ratio\" style=\"width:68%;\"></span><span class=\"text\">93.4億</span></td><td class=\"rt\"><span class=\"ratio\" style=\"width:6%;\"></span><span class=\"text\">8.43億</span></td><td class=\"rt\"><span class=\"ratio\" style=\"width:6%;\"></span><span class=\"text\">8.51億</span></td><td class=\"rt\"><span class=\"ratio\" style=\"width:5%;\"></span><span class=\"text\">5.77億</span></td><td class=\"rt\"><span class=\"ratio\" style=\"width:38%;\"></span><span class=\"text\">19.51</span></td><td class=\"rt\"><span class=\"ratio\" style=\"width:11%;\"></span><span class=\"text\">5.96</span></td><td class=\"rt\"><span class=\"ratio\" style=\"width:10%;\"></span><span class=\"text\">5.39</span></td><td class=\"rt\"><span class=\"ratio\" style=\"width:8%;\"></span><span class=\"text\">9.03</span></td><td class=\"rt\"><span class=\"ratio\" style=\"width:66%;\"></span><span class=\"text\">72.61</span></td><td class=\"rt\"><span class=\"ratio\" style=\"width:16%;\"></span><span class=\"text\">18.36</span></td></tr><tr class=\"weaken odd\"><td><a href=\"/E04496/S100G9S5/pl\" title=\"有価証券報告書-第29期(平成30年4月1日-平成31年3月31日) - 業績\">2019/03</a></td><td class=\"rt\"><span class=\"ratio\" style=\"width:71%;\"></span><span class=\"text\">97.4億</span></td><td class=\"rt\"><span class=\"ratio\" style=\"width:9%;\"></span><span class=\"text\">12.7億</span></td><td class=\"rt\"><span class=\"ratio\" style=\"width:9%;\"></span><span class=\"text\">12.8億</span></td><td class=\"rt\"><span class=\"ratio\" style=\"width:7%;\"></span><span class=\"text\">9.52億</span></td><td class=\"rt\"><span class=\"ratio\" style=\"width:62%;\"></span><span class=\"text\">32.16</span></td><td class=\"rt\"><span class=\"ratio\" style=\"width:17%;\"></span><span class=\"text\">9.41</span></td><td class=\"rt\"><span class=\"ratio\" style=\"width:14%;\"></span><span class=\"text\">8.21</span></td><td class=\"rt\"><span class=\"ratio\" style=\"width:12%;\"></span><span class=\"text\">13.03</span></td><td class=\"rt\"><span class=\"ratio\" style=\"width:62%;\"></span><span class=\"text\">69.36</span></td><td class=\"rt\"><span class=\"ratio\" style=\"width:16%;\"></span><span class=\"text\">17.6</span></td></tr><tr class=\"weaken obb\"><td><a href=\"/E04496/S100J14F/pl\" title=\"有価証券報告書-第30期(平成31年4月1日-令和2年3月31日) - 業績\">2020/03</a></td><td class=\"rt\"><span class=\"ratio\" style=\"width:75%;\"></span><span class=\"text\">103億</span></td><td class=\"rt\"><span class=\"ratio\" style=\"width:12%;\"></span><span class=\"text\">16.1億</span></td><td class=\"rt\"><span class=\"ratio\" style=\"width:12%;\"></span><span class=\"text\">16.5億</span></td><td class=\"rt\"><span class=\"ratio\" style=\"width:8%;\"></span><span class=\"text\">11.5億</span></td><td class=\"rt\"><span class=\"ratio\" style=\"width:79%;\"></span><span class=\"text\">40.9</span></td><td class=\"rt\"><span class=\"ratio\" style=\"width:22%;\"></span><span class=\"text\">11.85</span></td><td class=\"rt\"><span class=\"ratio\" style=\"width:19%;\"></span><span class=\"text\">10.37</span></td><td class=\"rt\"><span class=\"ratio\" style=\"width:14%;\"></span><span class=\"text\">15.65</span></td><td class=\"rt\"><span class=\"ratio\" style=\"width:59%;\"></span><span class=\"text\">65.93</span></td><td class=\"rt\"><span class=\"ratio\" style=\"width:16%;\"></span><span class=\"text\">18.41</span></td></tr><tr class=\"weaken odd\"><td><a href=\"/E04496/S100LLAJ/pl\" title=\"有価証券報告書-第31期(令和2年4月1日-令和3年3月31日) - 業績\">2021/03</a></td><td class=\"rt\"><span class=\"ratio\" style=\"width:83%;\"></span><span class=\"text\">114億</span></td><td class=\"rt\"><span class=\"ratio\" style=\"width:13%;\"></span><span class=\"text\">16.9億</span></td><td class=\"rt\"><span class=\"ratio\" style=\"width:13%;\"></span><span class=\"text\">17.9億</span></td><td class=\"rt\"><span class=\"ratio\" style=\"width:9%;\"></span><span class=\"text\">13億</span></td><td class=\"rt\"><span class=\"ratio\" style=\"width:90%;\"></span><span class=\"text\">46.64</span></td><td class=\"rt\"><span class=\"ratio\" style=\"width:22%;\"></span><span class=\"text\">11.9</span></td><td class=\"rt\"><span class=\"ratio\" style=\"width:18%;\"></span><span class=\"text\">10.15</span></td><td class=\"rt\"><span class=\"ratio\" style=\"width:14%;\"></span><span class=\"text\">14.89</span></td><td class=\"rt\"><span class=\"ratio\" style=\"width:61%;\"></span><span class=\"text\">67.62</span></td><td class=\"rt\"><span class=\"ratio\" style=\"width:15%;\"></span><span class=\"text\">17.48</span></td></tr><tr class=\"weaken obb\"><td><a href=\"/E04496/S100OGDI/pl\" title=\"有価証券報告書-第32期(令和3年4月1日-令和4年3月31日) - 業績\">2022/03</a></td><td class=\"rt\"><span class=\"ratio\" style=\"width:84%;\"></span><span class=\"text\">116億</span></td><td class=\"rt\"><span class=\"ratio\" style=\"width:14%;\"></span><span class=\"text\">18.3億</span></td><td class=\"rt\"><span class=\"ratio\" style=\"width:14%;\"></span><span class=\"text\">18.4億</span></td><td class=\"rt\"><span class=\"ratio\" style=\"width:9%;\"></span><span class=\"text\">12.6億</span></td><td class=\"rt\"><span class=\"ratio\" style=\"width:86%;\"></span><span class=\"text\">44.91</span></td><td class=\"rt\"><span class=\"ratio\" style=\"width:20%;\"></span><span class=\"text\">11.13</span></td><td class=\"rt\"><span class=\"ratio\" style=\"width:17%;\"></span><span class=\"text\">9.7</span></td><td class=\"rt\"><span class=\"ratio\" style=\"width:14%;\"></span><span class=\"text\">15.84</span></td><td class=\"rt\"><span class=\"ratio\" style=\"width:62%;\"></span><span class=\"text\">69.02</span></td><td class=\"rt\"><span class=\"ratio\" style=\"width:14%;\"></span><span class=\"text\">15.13</span></td></tr><tr class=\"weaken odd\"><td><a href=\"/E04496/081220221102555942#c_forecast\" title=\"2023年3月期第2四半期決算短信(日本基準)(非連結)\">2023/03</a><span class=\"co_gr weaken\">予</span></td><td class=\"rt\"><span class=\"exp\" style=\"width:90%;\"></span><span class=\"text\">124億</span></td><td class=\"rt\"><span class=\"exp\" style=\"width:14%;\"></span><span class=\"text\">20億</span></td><td class=\"rt\"><span class=\"exp\" style=\"width:14%;\"></span><span class=\"text\">20億</span></td><td class=\"rt\"><span class=\"exp\" style=\"width:9%;\"></span><span class=\"text\">13億</span></td><td class=\"rt\"><span class=\"exp\" style=\"width:90%;\"></span><span class=\"text\">46.42</span></td><td class=\"rt\"><span class=\"exp\" style=\"width:20%;\"></span><span class=\"text\">11</span></td><td class=\"rt\"><span class=\"exp\" style=\"width:17%;\"></span><span class=\"text\">9.64</span></td><td class=\"rt\"><span class=\"exp\" style=\"width:14%;\"></span><span class=\"text\">16.13</span></td><td>-</td><td>-</td></tr></tbody><tfoot><tr class=\"weaken ds1\"><th>年度</th><th><a class=\"co_bn\" href=\"#c_1\" title=\"売上\">売上</a></th><th><a class=\"co_bn\" href=\"#c_2\" title=\"営利\">営利</a></th><th><a class=\"co_bn\" href=\"#c_3\" title=\"経常\">経常</a></th><th><a class=\"co_bn\" href=\"#c_4\" title=\"純利\">純利</a></th><th><a class=\"co_bn\" href=\"#c_5\" title=\"EPS\">EPS</a></th><th><a class=\"co_bn\" href=\"#c_6\" title=\"ROE\">ROE</a></th><th><a class=\"co_bn\" href=\"#c_7\" title=\"ROA\">ROA</a></th><th><a class=\"co_bn\" href=\"#c_28\" title=\"営利率\">営利率</a></th><th><a class=\"co_bn\" href=\"#c_29\" title=\"原価率\">原価率</a></th><th><a class=\"co_bn\" href=\"#c_30\" title=\"販管費率\">販管費率</a></th></tr></tfoot></table></div><div class=\"mgr inline\" id=\"c_1\"><h2>売上高</h2><dl class=\"gdl\"><dt>2008/03</dt><dd><span class=\"ratio\" style=\"width:45%;\"></span><span class=\"text\">56億875万</span></dd><dt><a href=\"/E04496/S0003K4X/pl\" title=\"有価証券報告書-第19期(平成20年4月1日-平成21年3月31日) - 業績\">2009/03</a><span class=\"co_red\"> +11.12%</span></dt><dd><span class=\"ratio\" style=\"width:50%;\"></span><span class=\"text\">62億3251万</span></dd><dt><a href=\"/E04496/S00068BV/pl\" title=\"有価証券報告書-第20期(平成21年4月1日-平成22年3月31日) - 業績\">2010/03</a><span class=\"co_red\"> +8.12%</span></dt><dd><span class=\"ratio\" style=\"width:54%;\"></span><span class=\"text\">67億3851万</span></dd><dt><a href=\"/E04496/S0008RF5/pl\" title=\"有価証券報告書-第21期(平成22年4月1日-平成23年3月31日) - 業績\">2011/03</a><span class=\"co_red\"> +3.62%</span></dt><dd><span class=\"ratio\" style=\"width:56%;\"></span><span class=\"text\">69億8264万</span></dd><dt><a href=\"/E04496/S000B75A/pl\" title=\"有価証券報告書-第22期(平成23年4月1日-平成24年3月31日) - 業績\">2012/03</a><span class=\"co_br\"> -0.2%</span></dt><dd><span class=\"ratio\" style=\"width:56%;\"></span><span class=\"text\">69億6892万</span></dd><dt><a href=\"/E04496/S000DQKH/pl\" title=\"有価証券報告書-第23期(平成24年4月1日-平成25年3月31日) - 業績\">2013/03</a><span class=\"co_red\"> +3.81%</span></dt><dd><span class=\"ratio\" style=\"width:58%;\"></span><span class=\"text\">72億3411万</span></dd><dt><a href=\"/E04496/S1002BMQ/pl\" title=\"有価証券報告書-第24期(平成25年4月1日-平成26年3月31日) - 業績\">2014/03</a><span class=\"co_red\"> +4.42%</span></dt><dd><span class=\"ratio\" style=\"width:61%;\"></span><span class=\"text\">75億5400万</span></dd><dt><a href=\"/E04496/S100562S/pl\" title=\"有価証券報告書-第25期(平成26年4月1日-平成27年3月31日) - 業績\">2015/03</a><span class=\"co_red\"> +3.63%</span></dt><dd><span class=\"ratio\" style=\"width:63%;\"></span><span class=\"text\">78億2800万</span></dd><dt><a href=\"/E04496/S1007W5A/pl\" title=\"有価証券報告書-第26期(平成27年4月1日-平成28年3月31日) - 業績\">2016/03</a><span class=\"co_red\"> +3.36%</span></dt><dd><span class=\"ratio\" style=\"width:65%;\"></span><span class=\"text\">80億9100万</span></dd><dt><a href=\"/E04496/S100AMZW/pl\" title=\"有価証券報告書-第27期(平成28年4月1日-平成29年3月31日) - 業績\">2017/03</a><span class=\"co_red\"> +8.75%</span></dt><dd><span class=\"ratio\" style=\"width:71%;\"></span><span class=\"text\">87億9900万</span></dd><dt><a href=\"/E04496/S100DF1K/pl\" title=\"有価証券報告書-第28期(平成29年4月1日-平成30年3月31日) - 業績\">2018/03</a><span class=\"co_red\"> +6.13%</span></dt><dd><span class=\"ratio\" style=\"width:75%;\"></span><span class=\"text\">93億3800万</span></dd><dt><a href=\"/E04496/S100G9S5/pl\" title=\"有価証券報告書-第29期(平成30年4月1日-平成31年3月31日) - 業績\">2019/03</a><span class=\"co_red\"> +4.29%</span></dt><dd><span class=\"ratio\" style=\"width:79%;\"></span><span class=\"text\">97億3900万</span></dd><dt><a href=\"/E04496/S100J14F/pl\" title=\"有価証券報告書-第30期(平成31年4月1日-令和2年3月31日) - 業績\">2020/03</a><span class=\"co_red\"> +5.4%</span></dt><dd><span class=\"ratio\" style=\"width:83%;\"></span><span class=\"text\">102億6500万</span></dd><dt><a href=\"/E04496/S100LLAJ/pl\" title=\"有価証券報告書-第31期(令和2年4月1日-令和3年3月31日) - 業績\">2021/03</a><span class=\"co_red\"> +10.58%</span></dt><dd><span class=\"ratio\" style=\"width:92%;\"></span><span class=\"text\">113億5100万</span></dd><dt><a href=\"/E04496/S100OGDI/pl\" title=\"有価証券報告書-第32期(令和3年4月1日-令和4年3月31日) - 業績\">2022/03</a><span class=\"co_red\"> +1.99%</span></dt><dd><span class=\"ratio\" style=\"width:93%;\"></span><span class=\"text\">115億7700万</span></dd><dt><a href=\"/E04496/081220221102555942#c_forecast\" title=\"2023年3月期第2四半期決算短信(日本基準)(非連結)\">2023/03</a><span class=\"co_gr\">予</span><span class=\"co_red\"> +7.11%</span></dt><dd><span class=\"exp\" style=\"width:100%;\"></span><span class=\"text\">124億</span></dd></dl></div><div class=\"mgr inline\" id=\"c_2\"><h2>営業利益</h2><dl class=\"gdl\"><dt>2008/03</dt><dd><span class=\"ratio\" style=\"width:11%;\"></span><span class=\"text\">13億6819万</span></dd><dt><a href=\"/E04496/S0003K4X/pl\" title=\"有価証券報告書-第19期(平成20年4月1日-平成21年3月31日) - 業績\">2009/03</a><span class=\"co_red\"> +11.71%</span></dt><dd><span class=\"ratio\" style=\"width:12%;\"></span><span class=\"text\">15億2846万</span></dd><dt><a href=\"/E04496/S00068BV/pl\" title=\"有価証券報告書-第20期(平成21年4月1日-平成22年3月31日) - 業績\">2010/03</a><span class=\"co_red\"> +4.75%</span></dt><dd><span class=\"ratio\" style=\"width:13%;\"></span><span class=\"text\">16億101万</span></dd><dt><a href=\"/E04496/S0008RF5/pl\" title=\"有価証券報告書-第21期(平成22年4月1日-平成23年3月31日) - 業績\">2011/03</a><span class=\"co_red\"> +3.54%</span></dt><dd><span class=\"ratio\" style=\"width:13%;\"></span><span class=\"text\">16億5765万</span></dd><dt><a href=\"/E04496/S000B75A/pl\" title=\"有価証券報告書-第22期(平成23年4月1日-平成24年3月31日) - 業績\">2012/03</a><span class=\"co_red\"> +2.77%</span></dt><dd><span class=\"ratio\" style=\"width:14%;\"></span><span class=\"text\">17億350万</span></dd><dt><a href=\"/E04496/S000DQKH/pl\" title=\"有価証券報告書-第23期(平成24年4月1日-平成25年3月31日) - 業績\">2013/03</a><span class=\"co_br\"> -1.33%</span></dt><dd><span class=\"ratio\" style=\"width:14%;\"></span><span class=\"text\">16億8087万</span></dd><dt><a href=\"/E04496/S1002BMQ/pl\" title=\"有価証券報告書-第24期(平成25年4月1日-平成26年3月31日) - 業績\">2014/03</a><span class=\"co_red\"> +1.64%</span></dt><dd><span class=\"ratio\" style=\"width:14%;\"></span><span class=\"text\">17億845万</span></dd><dt><a href=\"/E04496/S100562S/pl\" title=\"有価証券報告書-第25期(平成26年4月1日-平成27年3月31日) - 業績\">2015/03</a><span class=\"co_br\"> -8.83%</span></dt><dd><span class=\"ratio\" style=\"width:13%;\"></span><span class=\"text\">15億5759万</span></dd><dt><a href=\"/E04496/S1007W5A/pl\" title=\"有価証券報告書-第26期(平成27年4月1日-平成28年3月31日) - 業績\">2016/03</a><span class=\"co_br\"> -13.85%</span></dt><dd><span class=\"ratio\" style=\"width:11%;\"></span><span class=\"text\">13億4186万</span></dd><dt><a href=\"/E04496/S100AMZW/pl\" title=\"有価証券報告書-第27期(平成28年4月1日-平成29年3月31日) - 業績\">2017/03</a><span class=\"co_br\"> -2.6%</span></dt><dd><span class=\"ratio\" style=\"width:11%;\"></span><span class=\"text\">13億700万</span></dd><dt><a href=\"/E04496/S100DF1K/pl\" title=\"有価証券報告書-第28期(平成29年4月1日-平成30年3月31日) - 業績\">2018/03</a><span class=\"co_br\"> -35.5%</span></dt><dd><span class=\"ratio\" style=\"width:7%;\"></span><span class=\"text\">8億4300万</span></dd><dt><a href=\"/E04496/S100G9S5/pl\" title=\"有価証券報告書-第29期(平成30年4月1日-平成31年3月31日) - 業績\">2019/03</a><span class=\"co_red\"> +50.53%</span></dt><dd><span class=\"ratio\" style=\"width:10%;\"></span><span class=\"text\">12億6900万</span></dd><dt><a href=\"/E04496/S100J14F/pl\" title=\"有価証券報告書-第30期(平成31年4月1日-令和2年3月31日) - 業績\">2020/03</a><span class=\"co_red\"> +26.56%</span></dt><dd><span class=\"ratio\" style=\"width:13%;\"></span><span class=\"text\">16億600万</span></dd><dt><a href=\"/E04496/S100LLAJ/pl\" title=\"有価証券報告書-第31期(令和2年4月1日-令和3年3月31日) - 業績\">2021/03</a><span class=\"co_red\"> +5.23%</span></dt><dd><span class=\"ratio\" style=\"width:14%;\"></span><span class=\"text\">16億9000万</span></dd><dt><a href=\"/E04496/S100OGDI/pl\" title=\"有価証券報告書-第32期(令和3年4月1日-令和4年3月31日) - 業績\">2022/03</a><span class=\"co_red\"> +8.52%</span></dt><dd><span class=\"ratio\" style=\"width:15%;\"></span><span class=\"text\">18億3400万</span></dd><dt><a href=\"/E04496/081220221102555942#c_forecast\" title=\"2023年3月期第2四半期決算短信(日本基準)(非連結)\">2023/03</a><span class=\"co_gr\">予</span><span class=\"co_red\"> +9.05%</span></dt><dd><span class=\"exp\" style=\"width:16%;\"></span><span class=\"text\">20億</span></dd></dl></div><div class=\"mgr inline\" id=\"c_3\"><h2>経常利益</h2><dl class=\"gdl\"><dt>2008/03</dt><dd><span class=\"ratio\" style=\"width:11%;\"></span><span class=\"text\">13億8931万</span></dd><dt><a href=\"/E04496/S0003K4X/pl\" title=\"有価証券報告書-第19期(平成20年4月1日-平成21年3月31日) - 業績\">2009/03</a><span class=\"co_red\"> +12.65%</span></dt><dd><span class=\"ratio\" style=\"width:13%;\"></span><span class=\"text\">15億6511万</span></dd><dt><a href=\"/E04496/S00068BV/pl\" title=\"有価証券報告書-第20期(平成21年4月1日-平成22年3月31日) - 業績\">2010/03</a><span class=\"co_red\"> +4.22%</span></dt><dd><span class=\"ratio\" style=\"width:13%;\"></span><span class=\"text\">16億3118万</span></dd><dt><a href=\"/E04496/S0008RF5/pl\" title=\"有価証券報告書-第21期(平成22年4月1日-平成23年3月31日) - 業績\">2011/03</a><span class=\"co_red\"> +2.7%</span></dt><dd><span class=\"ratio\" style=\"width:14%;\"></span><span class=\"text\">16億7519万</span></dd><dt><a href=\"/E04496/S000B75A/pl\" title=\"有価証券報告書-第22期(平成23年4月1日-平成24年3月31日) - 業績\">2012/03</a><span class=\"co_red\"> +2.62%</span></dt><dd><span class=\"ratio\" style=\"width:14%;\"></span><span class=\"text\">17億1915万</span></dd><dt><a href=\"/E04496/S000DQKH/pl\" title=\"有価証券報告書-第23期(平成24年4月1日-平成25年3月31日) - 業績\">2013/03</a><span class=\"co_br\"> -38.13%</span></dt><dd><span class=\"ratio\" style=\"width:9%;\"></span><span class=\"text\">10億6360万</span></dd><dt><a href=\"/E04496/S1002BMQ/pl\" title=\"有価証券報告書-第24期(平成25年4月1日-平成26年3月31日) - 業績\">2014/03</a><span class=\"co_red\"> +58.42%</span></dt><dd><span class=\"ratio\" style=\"width:14%;\"></span><span class=\"text\">16億8500万</span></dd><dt><a href=\"/E04496/S100562S/pl\" title=\"有価証券報告書-第25期(平成26年4月1日-平成27年3月31日) - 業績\">2015/03</a><span class=\"co_br\"> -9.79%</span></dt><dd><span class=\"ratio\" style=\"width:12%;\"></span><span class=\"text\">15億2000万</span></dd><dt><a href=\"/E04496/S1007W5A/pl\" title=\"有価証券報告書-第26期(平成27年4月1日-平成28年3月31日) - 業績\">2016/03</a><span class=\"co_br\"> -11.58%</span></dt><dd><span class=\"ratio\" style=\"width:11%;\"></span><span class=\"text\">13億4400万</span></dd><dt><a href=\"/E04496/S100AMZW/pl\" title=\"有価証券報告書-第27期(平成28年4月1日-平成29年3月31日) - 業績\">2017/03</a><span class=\"co_br\"> -2.31%</span></dt><dd><span class=\"ratio\" style=\"width:11%;\"></span><span class=\"text\">13億1300万</span></dd><dt><a href=\"/E04496/S100DF1K/pl\" title=\"有価証券報告書-第28期(平成29年4月1日-平成30年3月31日) - 業績\">2018/03</a><span class=\"co_br\"> -35.19%</span></dt><dd><span class=\"ratio\" style=\"width:7%;\"></span><span class=\"text\">8億5100万</span></dd><dt><a href=\"/E04496/S100G9S5/pl\" title=\"有価証券報告書-第29期(平成30年4月1日-平成31年3月31日) - 業績\">2019/03</a><span class=\"co_red\"> +50.06%</span></dt><dd><span class=\"ratio\" style=\"width:10%;\"></span><span class=\"text\">12億7700万</span></dd><dt><a href=\"/E04496/S100J14F/pl\" title=\"有価証券報告書-第30期(平成31年4月1日-令和2年3月31日) - 業績\">2020/03</a><span class=\"co_red\"> +28.97%</span></dt><dd><span class=\"ratio\" style=\"width:13%;\"></span><span class=\"text\">16億4700万</span></dd><dt><a href=\"/E04496/S100LLAJ/pl\" title=\"有価証券報告書-第31期(令和2年4月1日-令和3年3月31日) - 業績\">2021/03</a><span class=\"co_red\"> +8.44%</span></dt><dd><span class=\"ratio\" style=\"width:14%;\"></span><span class=\"text\">17億8600万</span></dd><dt><a href=\"/E04496/S100OGDI/pl\" title=\"有価証券報告書-第32期(令和3年4月1日-令和4年3月31日) - 業績\">2022/03</a><span class=\"co_red\"> +2.97%</span></dt><dd><span class=\"ratio\" style=\"width:15%;\"></span><span class=\"text\">18億3900万</span></dd><dt><a href=\"/E04496/081220221102555942#c_forecast\" title=\"2023年3月期第2四半期決算短信(日本基準)(非連結)\">2023/03</a><span class=\"co_gr\">予</span><span class=\"co_red\"> +8.75%</span></dt><dd><span class=\"exp\" style=\"width:16%;\"></span><span class=\"text\">20億</span></dd></dl></div><div class=\"mgr inline\" id=\"c_4\"><h2>当期純利益<a class=\"attPop\" href=\"#note_1\" rel=\"note_1\">#1</a><a class=\"attPop\" href=\"#note_2\" rel=\"note_2\">#2</a></h2><dl class=\"gdl\"><dt>2008/03</dt><dd><span class=\"ratio\" style=\"width:7%;\"></span><span class=\"text\">8億1676万</span></dd><dt><a href=\"/E04496/S0003K4X/pl\" title=\"有価証券報告書-第19期(平成20年4月1日-平成21年3月31日) - 業績\">2009/03</a><span class=\"co_red\"> +10.75%</span></dt><dd><span class=\"ratio\" style=\"width:7%;\"></span><span class=\"text\">9億454万</span></dd><dt><a href=\"/E04496/S00068BV/pl\" title=\"有価証券報告書-第20期(平成21年4月1日-平成22年3月31日) - 業績\">2010/03</a><span class=\"co_br\"> -51.53%</span></dt><dd><span class=\"ratio\" style=\"width:4%;\"></span><span class=\"text\">4億3846万</span></dd><dt><a href=\"/E04496/S0008RF5/pl\" title=\"有価証券報告書-第21期(平成22年4月1日-平成23年3月31日) - 業績\">2011/03</a><span class=\"co_red\"> +121.18%</span></dt><dd><span class=\"ratio\" style=\"width:8%;\"></span><span class=\"text\">9億6977万</span></dd><dt><a href=\"/E04496/S000B75A/pl\" title=\"有価証券報告書-第22期(平成23年4月1日-平成24年3月31日) - 業績\">2012/03</a><span class=\"co_red\"> +4.26%</span></dt><dd><span class=\"ratio\" style=\"width:8%;\"></span><span class=\"text\">10億1103万</span></dd><dt><a href=\"/E04496/S000DQKH/pl\" title=\"有価証券報告書-第23期(平成24年4月1日-平成25年3月31日) - 業績\">2013/03</a><span class=\"co_br\"> -45.89%</span></dt><dd><span class=\"ratio\" style=\"width:4%;\"></span><span class=\"text\">5億4710万</span></dd><dt><a href=\"/E04496/S1002BMQ/pl\" title=\"有価証券報告書-第24期(平成25年4月1日-平成26年3月31日) - 業績\">2014/03</a><span class=\"co_red\"> +67.25%</span></dt><dd><span class=\"ratio\" style=\"width:7%;\"></span><span class=\"text\">9億1500万</span></dd><dt><a href=\"/E04496/S100562S/pl\" title=\"有価証券報告書-第25期(平成26年4月1日-平成27年3月31日) - 業績\">2015/03</a><span class=\"co_br\"> -3.5%</span></dt><dd><span class=\"ratio\" style=\"width:7%;\"></span><span class=\"text\">8億8300万</span></dd><dt><a href=\"/E04496/S1007W5A/pl\" title=\"有価証券報告書-第26期(平成27年4月1日-平成28年3月31日) - 業績\">2016/03</a><span class=\"co_br\"> -0.23%</span></dt><dd><span class=\"ratio\" style=\"width:7%;\"></span><span class=\"text\">8億8100万</span></dd><dt><a href=\"/E04496/S100AMZW/pl\" title=\"有価証券報告書-第27期(平成28年4月1日-平成29年3月31日) - 業績\">2017/03</a><span class=\"co_red\"> +7.83%</span></dt><dd><span class=\"ratio\" style=\"width:8%;\"></span><span class=\"text\">9億5000万</span></dd><dt><a href=\"/E04496/S100DF1K/pl\" title=\"有価証券報告書-第28期(平成29年4月1日-平成30年3月31日) - 業績\">2018/03</a><span class=\"co_br\"> -39.26%</span></dt><dd><span class=\"ratio\" style=\"width:5%;\"></span><span class=\"text\">5億7700万</span></dd><dt><a href=\"/E04496/S100G9S5/pl\" title=\"有価証券報告書-第29期(平成30年4月1日-平成31年3月31日) - 業績\">2019/03</a><span class=\"co_red\"> +64.99%</span></dt><dd><span class=\"ratio\" style=\"width:8%;\"></span><span class=\"text\">9億5200万</span></dd><dt><a href=\"/E04496/S100J14F/pl\" title=\"有価証券報告書-第30期(平成31年4月1日-令和2年3月31日) - 業績\">2020/03</a><span class=\"co_red\"> +20.8%</span></dt><dd><span class=\"ratio\" style=\"width:9%;\"></span><span class=\"text\">11億5000万</span></dd><dt><a href=\"/E04496/S100LLAJ/pl\" title=\"有価証券報告書-第31期(令和2年4月1日-令和3年3月31日) - 業績\">2021/03</a><span class=\"co_red\"> +13.13%</span></dt><dd><span class=\"ratio\" style=\"width:10%;\"></span><span class=\"text\">13億100万</span></dd><dt><a href=\"/E04496/S100OGDI/pl\" title=\"有価証券報告書-第32期(令和3年4月1日-令和4年3月31日) - 業績\">2022/03</a><span class=\"co_br\"> -3.54%</span></dt><dd><span class=\"ratio\" style=\"width:10%;\"></span><span class=\"text\">12億5500万</span></dd><dt><a href=\"/E04496/081220221102555942#c_forecast\" title=\"2023年3月期第2四半期決算短信(日本基準)(非連結)\">2023/03</a><span class=\"co_gr\">予</span><span class=\"co_red\"> +3.59%</span></dt><dd><span class=\"exp\" style=\"width:10%;\"></span><span class=\"text\">13億</span></dd></dl></div><div class=\"mgr inline\" id=\"c_5\"><h2>EPS<a class=\"nxq\" href=\"/helps/eps\" title=\"EPS\"><i class=\"far fa-question-circle\"></i></a></h2><dl class=\"gdl\"><dt>2010/03</dt><dd><span class=\"ratio\" style=\"width:29%;\"></span><span class=\"text\">13.5円</span></dd><dt>2011/03<span class=\"co_red\"> +121.11%</span></dt><dd><span class=\"ratio\" style=\"width:64%;\"></span><span class=\"text\">29.85円</span></dd><dt>2012/03<span class=\"co_red\"> +4.25%</span></dt><dd><span class=\"ratio\" style=\"width:67%;\"></span><span class=\"text\">31.12円</span></dd><dt>2013/03<span class=\"co_br\"> -45.89%</span></dt><dd><span class=\"ratio\" style=\"width:36%;\"></span><span class=\"text\">16.84円</span></dd><dt>2014/03<span class=\"co_red\"> +72.92%</span></dt><dd><span class=\"ratio\" style=\"width:62%;\"></span><span class=\"text\">29.12円</span></dd><dt>2015/03<span class=\"co_red\"> +0.27%</span></dt><dd><span class=\"ratio\" style=\"width:63%;\"></span><span class=\"text\">29.2円</span></dd><dt>2016/03<span class=\"co_red\"> +0.96%</span></dt><dd><span class=\"ratio\" style=\"width:63%;\"></span><span class=\"text\">29.48円</span></dd><dt>2017/03<span class=\"co_red\"> +8.75%</span></dt><dd><span class=\"ratio\" style=\"width:69%;\"></span><span class=\"text\">32.06円</span></dd><dt>2018/03<span class=\"co_br\"> -39.15%</span></dt><dd><span class=\"ratio\" style=\"width:42%;\"></span><span class=\"text\">19.51円</span></dd><dt>2019/03<span class=\"co_red\"> +64.84%</span></dt><dd><span class=\"ratio\" style=\"width:69%;\"></span><span class=\"text\">32.16円</span></dd><dt>2020/03<span class=\"co_red\"> +27.18%</span></dt><dd><span class=\"ratio\" style=\"width:88%;\"></span><span class=\"text\">40.9円</span></dd><dt>2021/03<span class=\"co_red\"> +14.03%</span></dt><dd><span class=\"ratio\" style=\"width:100%;\"></span><span class=\"text\">46.64円</span></dd><dt>2022/03<span class=\"co_br\"> -3.71%</span></dt><dd><span class=\"ratio\" style=\"width:96%;\"></span><span class=\"text\">44.91円</span></dd><dt>2023/03<span class=\"co_gr\">予</span><span class=\"co_red\"> +3.36%</span></dt><dd><span class=\"exp\" style=\"width:100%;\"></span><span class=\"text\">46.42円</span></dd></dl></div><div class=\"mgr inline\" id=\"c_6\"><h2>ROE（自己資本利益率）<a class=\"nxq\" href=\"/helps/roe\" title=\"ROE（自己資本利益率）\"><i class=\"far fa-question-circle\"></i></a></h2><dl class=\"gdl\"><dt>2008/03</dt><dd><span class=\"ratio\" style=\"width:22%;\"></span><span class=\"text\">10.94%</span></dd><dt>2009/03<span class=\"co_red\"> +0.58%</span></dt><dd><span class=\"ratio\" style=\"width:23%;\"></span><span class=\"text\">11.52%</span></dd><dt>2010/03<span class=\"co_br\"> -5.84%</span></dt><dd><span class=\"ratio\" style=\"width:11%;\"></span><span class=\"text\">5.68%</span></dd><dt>2011/03<span class=\"co_red\"> +6.07%</span></dt><dd><span class=\"ratio\" style=\"width:24%;\"></span><span class=\"text\">11.75%</span></dd><dt>2012/03<span class=\"co_br\"> -1.66%</span></dt><dd><span class=\"ratio\" style=\"width:20%;\"></span><span class=\"text\">10.09%</span></dd><dt>2013/03<span class=\"co_br\"> -4.37%</span></dt><dd><span class=\"ratio\" style=\"width:11%;\"></span><span class=\"text\">5.72%</span></dd><dt>2014/03<span class=\"co_red\"> +4.54%</span></dt><dd><span class=\"ratio\" style=\"width:21%;\"></span><span class=\"text\">10.26%</span></dd><dt>2015/03<span class=\"co_br\"> -0.17%</span></dt><dd><span class=\"ratio\" style=\"width:20%;\"></span><span class=\"text\">10.09%</span></dd><dt>2016/03<span class=\"co_br\"> -0.7%</span></dt><dd><span class=\"ratio\" style=\"width:19%;\"></span><span class=\"text\">9.39%</span></dd><dt>2017/03<span class=\"co_red\"> +0.55%</span></dt><dd><span class=\"ratio\" style=\"width:20%;\"></span><span class=\"text\">9.94%</span></dd><dt>2018/03<span class=\"co_br\"> -3.98%</span></dt><dd><span class=\"ratio\" style=\"width:12%;\"></span><span class=\"text\">5.96%</span></dd><dt>2019/03<span class=\"co_red\"> +3.45%</span></dt><dd><span class=\"ratio\" style=\"width:19%;\"></span><span class=\"text\">9.41%</span></dd><dt>2020/03<span class=\"co_red\"> +2.44%</span></dt><dd><span class=\"ratio\" style=\"width:24%;\"></span><span class=\"text\">11.85%</span></dd><dt>2021/03<span class=\"co_red\"> +0.05%</span></dt><dd><span class=\"ratio\" style=\"width:24%;\"></span><span class=\"text\">11.9%</span></dd><dt>2022/03<span class=\"co_br\"> -0.77%</span></dt><dd><span class=\"ratio\" style=\"width:22%;\"></span><span class=\"text\">11.13%</span></dd><dt>2023/03<span class=\"co_gr\">予</span><span class=\"co_br\"> -0.13%</span></dt><dd><span class=\"exp\" style=\"width:22%;\"></span><span class=\"text\">11%</span></dd></dl></div><div class=\"mgr inline\" id=\"c_7\"><h2>ROA（総資産利益率）<a class=\"nxq\" href=\"/helps/roa\" title=\"ROA（総資産利益率）\"><i class=\"far fa-question-circle\"></i></a></h2><dl class=\"gdl\"><dt>2008/03</dt><dd><span class=\"ratio\" style=\"width:19%;\"></span><span class=\"text\">9.63%</span></dd><dt>2009/03<span class=\"co_red\"> +0.26%</span></dt><dd><span class=\"ratio\" style=\"width:20%;\"></span><span class=\"text\">9.89%</span></dd><dt>2010/03<span class=\"co_br\"> -5.08%</span></dt><dd><span class=\"ratio\" style=\"width:10%;\"></span><span class=\"text\">4.81%</span></dd><dt>2011/03<span class=\"co_red\"> +5.3%</span></dt><dd><span class=\"ratio\" style=\"width:20%;\"></span><span class=\"text\">10.11%</span></dd><dt>2012/03<span class=\"co_br\"> -1.43%</span></dt><dd><span class=\"ratio\" style=\"width:17%;\"></span><span class=\"text\">8.68%</span></dd><dt>2013/03<span class=\"co_br\"> -3.55%</span></dt><dd><span class=\"ratio\" style=\"width:10%;\"></span><span class=\"text\">5.13%</span></dd><dt>2014/03<span class=\"co_red\"> +4.1%</span></dt><dd><span class=\"ratio\" style=\"width:18%;\"></span><span class=\"text\">9.23%</span></dd><dt>2015/03<span class=\"co_br\"> -0.49%</span></dt><dd><span class=\"ratio\" style=\"width:17%;\"></span><span class=\"text\">8.74%</span></dd><dt>2016/03<span class=\"co_br\"> -0.14%</span></dt><dd><span class=\"ratio\" style=\"width:17%;\"></span><span class=\"text\">8.6%</span></dd><dt>2017/03<span class=\"co_red\"> +0.17%</span></dt><dd><span class=\"ratio\" style=\"width:18%;\"></span><span class=\"text\">8.77%</span></dd><dt>2018/03<span class=\"co_br\"> -3.38%</span></dt><dd><span class=\"ratio\" style=\"width:11%;\"></span><span class=\"text\">5.39%</span></dd><dt>2019/03<span class=\"co_red\"> +2.82%</span></dt><dd><span class=\"ratio\" style=\"width:16%;\"></span><span class=\"text\">8.21%</span></dd><dt>2020/03<span class=\"co_red\"> +2.16%</span></dt><dd><span class=\"ratio\" style=\"width:21%;\"></span><span class=\"text\">10.37%</span></dd><dt>2021/03<span class=\"co_br\"> -0.22%</span></dt><dd><span class=\"ratio\" style=\"width:20%;\"></span><span class=\"text\">10.15%</span></dd><dt>2022/03<span class=\"co_br\"> -0.45%</span></dt><dd><span class=\"ratio\" style=\"width:19%;\"></span><span class=\"text\">9.7%</span></dd><dt>2023/03<span class=\"co_gr\">予</span><span class=\"co_br\"> -0.06%</span></dt><dd><span class=\"exp\" style=\"width:19%;\"></span><span class=\"text\">9.64%</span></dd></dl></div><div class=\"mgr inline\" id=\"c_28\"><h2>営業利益率</h2><dl class=\"gdl\"><dt>2008/03</dt><dd><span class=\"ratio\" style=\"width:24%;\"></span><span class=\"text\">24.39%</span></dd><dt>2009/03<span class=\"co_red\"> +0.13%</span></dt><dd><span class=\"ratio\" style=\"width:25%;\"></span><span class=\"text\">24.52%</span></dd><dt>2010/03<span class=\"co_br\"> -0.76%</span></dt><dd><span class=\"ratio\" style=\"width:24%;\"></span><span class=\"text\">23.76%</span></dd><dt>2011/03<span class=\"co_br\"> -0.02%</span></dt><dd><span class=\"ratio\" style=\"width:24%;\"></span><span class=\"text\">23.74%</span></dd><dt>2012/03<span class=\"co_red\"> +0.7%</span></dt><dd><span class=\"ratio\" style=\"width:24%;\"></span><span class=\"text\">24.44%</span></dd><dt>2013/03<span class=\"co_br\"> -1.2%</span></dt><dd><span class=\"ratio\" style=\"width:23%;\"></span><span class=\"text\">23.24%</span></dd><dt>2014/03<span class=\"co_br\"> -0.62%</span></dt><dd><span class=\"ratio\" style=\"width:23%;\"></span><span class=\"text\">22.62%</span></dd><dt>2015/03<span class=\"co_br\"> -2.72%</span></dt><dd><span class=\"ratio\" style=\"width:20%;\"></span><span class=\"text\">19.9%</span></dd><dt>2016/03<span class=\"co_br\"> -3.32%</span></dt><dd><span class=\"ratio\" style=\"width:17%;\"></span><span class=\"text\">16.58%</span></dd><dt>2017/03<span class=\"co_br\"> -1.73%</span></dt><dd><span class=\"ratio\" style=\"width:15%;\"></span><span class=\"text\">14.85%</span></dd><dt>2018/03<span class=\"co_br\"> -5.82%</span></dt><dd><span class=\"ratio\" style=\"width:9%;\"></span><span class=\"text\">9.03%</span></dd><dt>2019/03<span class=\"co_red\"> +4%</span></dt><dd><span class=\"ratio\" style=\"width:13%;\"></span><span class=\"text\">13.03%</span></dd><dt>2020/03<span class=\"co_red\"> +2.62%</span></dt><dd><span class=\"ratio\" style=\"width:16%;\"></span><span class=\"text\">15.65%</span></dd><dt>2021/03<span class=\"co_br\"> -0.76%</span></dt><dd><span class=\"ratio\" style=\"width:15%;\"></span><span class=\"text\">14.89%</span></dd><dt>2022/03<span class=\"co_red\"> +0.95%</span></dt><dd><span class=\"ratio\" style=\"width:16%;\"></span><span class=\"text\">15.84%</span></dd><dt>2023/03<span class=\"co_gr\">予</span><span class=\"co_red\"> +0.29%</span></dt><dd><span class=\"exp\" style=\"width:16%;\"></span><span class=\"text\">16.13%</span></dd></dl></div><div class=\"mgr inline\" id=\"c_29\"><h2>売上原価率</h2><dl class=\"gdl\"><dt>2008/03</dt><dd><span class=\"ratio\" style=\"width:53%;\"></span><span class=\"text\">52.85%</span></dd><dt>2009/03<span class=\"co_red\"> +1.35%</span></dt><dd><span class=\"ratio\" style=\"width:54%;\"></span><span class=\"text\">54.2%</span></dd><dt>2010/03<span class=\"co_br\"> -0.38%</span></dt><dd><span class=\"ratio\" style=\"width:54%;\"></span><span class=\"text\">53.82%</span></dd><dt>2011/03<span class=\"co_red\"> +0.42%</span></dt><dd><span class=\"ratio\" style=\"width:54%;\"></span><span class=\"text\">54.24%</span></dd><dt>2012/03<span class=\"co_br\"> -2.04%</span></dt><dd><span class=\"ratio\" style=\"width:52%;\"></span><span class=\"text\">52.2%</span></dd><dt>2013/03<span class=\"co_br\"> -0.87%</span></dt><dd><span class=\"ratio\" style=\"width:51%;\"></span><span class=\"text\">51.33%</span></dd><dt>2014/03<span class=\"co_red\"> +2.28%</span></dt><dd><span class=\"ratio\" style=\"width:54%;\"></span><span class=\"text\">53.61%</span></dd><dt>2015/03<span class=\"co_red\"> +3.95%</span></dt><dd><span class=\"ratio\" style=\"width:58%;\"></span><span class=\"text\">57.56%</span></dd><dt>2016/03<span class=\"co_red\"> +4.63%</span></dt><dd><span class=\"ratio\" style=\"width:62%;\"></span><span class=\"text\">62.19%</span></dd><dt>2017/03<span class=\"co_red\"> +2.89%</span></dt><dd><span class=\"ratio\" style=\"width:65%;\"></span><span class=\"text\">65.08%</span></dd><dt>2018/03<span class=\"co_red\"> +7.53%</span></dt><dd><span class=\"ratio\" style=\"width:73%;\"></span><span class=\"text\">72.61%</span></dd><dt>2019/03<span class=\"co_br\"> -3.25%</span></dt><dd><span class=\"ratio\" style=\"width:69%;\"></span><span class=\"text\">69.36%</span></dd><dt>2020/03<span class=\"co_br\"> -3.43%</span></dt><dd><span class=\"ratio\" style=\"width:66%;\"></span><span class=\"text\">65.93%</span></dd><dt>2021/03<span class=\"co_red\"> +1.69%</span></dt><dd><span class=\"ratio\" style=\"width:68%;\"></span><span class=\"text\">67.62%</span></dd><dt>2022/03<span class=\"co_red\"> +1.4%</span></dt><dd><span class=\"ratio\" style=\"width:69%;\"></span><span class=\"text\">69.02%</span></dd></dl></div><div class=\"mgr inline\" id=\"c_30\"><h2>販管費率</h2><dl class=\"gdl\"><dt>2008/03</dt><dd><span class=\"ratio\" style=\"width:23%;\"></span><span class=\"text\">22.76%</span></dd><dt>2009/03<span class=\"co_br\"> -1.48%</span></dt><dd><span class=\"ratio\" style=\"width:21%;\"></span><span class=\"text\">21.28%</span></dd><dt>2010/03<span class=\"co_red\"> +1.14%</span></dt><dd><span class=\"ratio\" style=\"width:22%;\"></span><span class=\"text\">22.42%</span></dd><dt>2011/03<span class=\"co_br\"> -0.4%</span></dt><dd><span class=\"ratio\" style=\"width:22%;\"></span><span class=\"text\">22.02%</span></dd><dt>2012/03<span class=\"co_red\"> +1.33%</span></dt><dd><span class=\"ratio\" style=\"width:23%;\"></span><span class=\"text\">23.35%</span></dd><dt>2013/03<span class=\"co_red\"> +2.08%</span></dt><dd><span class=\"ratio\" style=\"width:25%;\"></span><span class=\"text\">25.43%</span></dd><dt>2014/03<span class=\"co_br\"> -1.65%</span></dt><dd><span class=\"ratio\" style=\"width:24%;\"></span><span class=\"text\">23.78%</span></dd><dt>2015/03<span class=\"co_br\"> -1.23%</span></dt><dd><span class=\"ratio\" style=\"width:23%;\"></span><span class=\"text\">22.55%</span></dd><dt>2016/03<span class=\"co_br\"> -1.32%</span></dt><dd><span class=\"ratio\" style=\"width:21%;\"></span><span class=\"text\">21.23%</span></dd><dt>2017/03<span class=\"co_br\"> -1.17%</span></dt><dd><span class=\"ratio\" style=\"width:20%;\"></span><span class=\"text\">20.06%</span></dd><dt>2018/03<span class=\"co_br\"> -1.7%</span></dt><dd><span class=\"ratio\" style=\"width:18%;\"></span><span class=\"text\">18.36%</span></dd><dt>2019/03<span class=\"co_br\"> -0.76%</span></dt><dd><span class=\"ratio\" style=\"width:18%;\"></span><span class=\"text\">17.6%</span></dd><dt>2020/03<span class=\"co_red\"> +0.81%</span></dt><dd><span class=\"ratio\" style=\"width:18%;\"></span><span class=\"text\">18.41%</span></dd><dt>2021/03<span class=\"co_br\"> -0.93%</span></dt><dd><span class=\"ratio\" style=\"width:17%;\"></span><span class=\"text\">17.48%</span></dd><dt>2022/03<span class=\"co_br\"> -2.35%</span></dt><dd><span class=\"ratio\" style=\"width:15%;\"></span><span class=\"text\">15.13%</span></dd></dl></div></section>"
      ]
     },
     "execution_count": 153,
     "metadata": {},
     "output_type": "execute_result"
    }
   ],
   "source": [
    "contentsssss"
   ]
  },
  {
   "cell_type": "code",
   "execution_count": null,
   "id": "292341a4",
   "metadata": {},
   "outputs": [],
   "source": []
  }
 ],
 "metadata": {
  "kernelspec": {
   "display_name": "Python 3 (ipykernel)",
   "language": "python",
   "name": "python3"
  },
  "language_info": {
   "codemirror_mode": {
    "name": "ipython",
    "version": 3
   },
   "file_extension": ".py",
   "mimetype": "text/x-python",
   "name": "python",
   "nbconvert_exporter": "python",
   "pygments_lexer": "ipython3",
   "version": "3.9.13"
  }
 },
 "nbformat": 4,
 "nbformat_minor": 5
}
