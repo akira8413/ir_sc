{
 "cells": [
  {
   "cell_type": "code",
   "execution_count": 38,
   "id": "a9a02735",
   "metadata": {},
   "outputs": [
    {
     "name": "stdout",
     "output_type": "stream",
     "text": [
      "https://irbank.net/E04496/results\n"
     ]
    }
   ],
   "source": [
    "from bs4 import BeautifulSoup\n",
    "import requests \n",
    "\n",
    "url='https://irbank.net/E04496/results'\n",
    "print(url)\n",
    "r=requests.get(url)\n",
    "soup=BeautifulSoup(r.text,'html.parser')\n",
    "contents=soup.find_all('section')\n",
    "#sectionの一つ目をcontentに入れる\n",
    "#content=contents[:]\n",
    "content=contents[0]\n",
    "#content=contents[1:4]"
   ]
  },
  {
   "cell_type": "code",
   "execution_count": 41,
   "id": "b3a4faee",
   "metadata": {},
   "outputs": [],
   "source": [
    "#test_list=['c_1','c_5','c_28','c_11','c_14','c_19','c_21','c_22']\n",
    "test_list=['c_1','c_5']\n",
    "\n",
    "for id in test_list:\n",
    "    table=content.find('div',id=id)\n",
    "    sales=table.find_all('span',class_='text')\n",
    "    for sale in sales:\n",
    "        print(sale.text)"
   ]
  },
  {
   "cell_type": "code",
   "execution_count": 46,
   "id": "f55d352a",
   "metadata": {},
   "outputs": [
    {
     "data": {
      "text/plain": [
       "2"
      ]
     },
     "execution_count": 46,
     "metadata": {},
     "output_type": "execute_result"
    }
   ],
   "source": [
    "len(test_list)"
   ]
  },
  {
   "cell_type": "code",
   "execution_count": 18,
   "id": "851f2dbb",
   "metadata": {},
   "outputs": [
    {
     "name": "stdout",
     "output_type": "stream",
     "text": [
      "https://irbank.net/E04496/results\n",
      "88.03%\n",
      "85.82%\n",
      "84.7%\n",
      "86%\n",
      "86.1%\n",
      "89.6%\n",
      "90%\n",
      "86.6%\n",
      "91.7%\n",
      "88.3%\n",
      "90.4%\n",
      "87.3%\n",
      "87.5%\n",
      "85.3%\n",
      "87.2%\n"
     ]
    }
   ],
   "source": [
    "from bs4 import BeautifulSoup\n",
    "import requests \n",
    "\n",
    "url='https://irbank.net/E04496/results'\n",
    "print(url)\n",
    "r=requests.get(url)\n",
    "soup=BeautifulSoup(r.text,'html.parser')\n",
    "contents=soup.find_all('section')\n",
    "#sectionの一つ目をcontentに入れる\n",
    "content=contents[1]\n",
    "test_list=['c_11']\n",
    "for id in test_list:\n",
    "    table=content.find('div',id=id)\n",
    "    operations=table.find_all('span',class_='text')\n",
    "    for operation in operations:\n",
    "        print(operation.text)"
   ]
  },
  {
   "cell_type": "code",
   "execution_count": 19,
   "id": "1e04fe52",
   "metadata": {},
   "outputs": [
    {
     "name": "stdout",
     "output_type": "stream",
     "text": [
      "https://irbank.net/E04496/results\n",
      "6億8068万\n",
      "11億8810万\n",
      "10億6950万\n",
      "10億9047万\n",
      "10億3047万\n",
      "10億3610万\n",
      "12億4300万\n",
      "12億4100万\n",
      "7億8300万\n",
      "15億3700万\n",
      "9億1500万\n",
      "16億9800万\n",
      "12億2300万\n",
      "18億8900万\n",
      "14億2800万\n",
      "32億3971万\n",
      "25億9520万\n",
      "43億7399万\n",
      "33億8116万\n",
      "45億5884万\n",
      "30億1032万\n",
      "52億7400万\n",
      "51億9400万\n",
      "49億4200万\n",
      "42億2400万\n",
      "40億6500万\n",
      "50億1000万\n",
      "49億600万\n",
      "42億3900万\n",
      "39億9200万\n"
     ]
    }
   ],
   "source": [
    "from bs4 import BeautifulSoup\n",
    "import requests \n",
    "\n",
    "url='https://irbank.net/E04496/results'\n",
    "print(url)\n",
    "r=requests.get(url)\n",
    "soup=BeautifulSoup(r.text,'html.parser')\n",
    "contents=soup.find_all('section')\n",
    "#sectionの一つ目をcontentに入れる\n",
    "content=contents[2]\n",
    "test_list=['c_14','c_19']\n",
    "for id in test_list:\n",
    "    table=content.find('div',id=id)\n",
    "    operations=table.find_all('span',class_='text')\n",
    "    for operation in operations:\n",
    "        print(operation.text)"
   ]
  },
  {
   "cell_type": "code",
   "execution_count": 20,
   "id": "50e14fb1",
   "metadata": {},
   "outputs": [
    {
     "name": "stdout",
     "output_type": "stream",
     "text": [
      "https://irbank.net/E04496/results\n",
      "13円\n",
      "14円\n",
      "15円\n",
      "16円\n",
      "17円\n",
      "18円\n",
      "18円\n",
      "18円\n",
      "18円\n",
      "18円\n",
      "18.5円\n",
      "19.5円\n",
      "21円\n",
      "*22円\n",
      "95.4%\n",
      "46%\n",
      "47.3%\n",
      "93.2%\n",
      "58.4%\n",
      "61.6%\n",
      "61%\n",
      "56.1%\n",
      "92.2%\n",
      "56%\n",
      "45.2%\n",
      "41.8%\n",
      "46.7%\n"
     ]
    }
   ],
   "source": [
    "from bs4 import BeautifulSoup\n",
    "import requests \n",
    "\n",
    "url='https://irbank.net/E04496/results'\n",
    "print(url)\n",
    "r=requests.get(url)\n",
    "soup=BeautifulSoup(r.text,'html.parser')\n",
    "contents=soup.find_all('section')\n",
    "#sectionの一つ目をcontentに入れる\n",
    "content=contents[3]\n",
    "test_list=['c_21','c_22']\n",
    "for id in test_list:\n",
    "    table=content.find('div',id=id)\n",
    "    operations=table.find_all('span',class_='text')\n",
    "    for operation in operations:\n",
    "        print(operation.text)"
   ]
  },
  {
   "cell_type": "code",
   "execution_count": 28,
   "id": "7e5e8c0d",
   "metadata": {},
   "outputs": [
    {
     "data": {
      "text/plain": [
       "'46.42円'"
      ]
     },
     "execution_count": 28,
     "metadata": {},
     "output_type": "execute_result"
    }
   ],
   "source": [
    "sale.text"
   ]
  },
  {
   "cell_type": "code",
   "execution_count": 21,
   "id": "e493a110",
   "metadata": {},
   "outputs": [
    {
     "name": "stdout",
     "output_type": "stream",
     "text": [
      "Sales list is not monotonically increasing\n"
     ]
    }
   ],
   "source": [
    "operation_profit_list=[operation.text for operation in operations]\n",
    "\n",
    "\n",
    "is_monotonically_increasing = True\n",
    "previous_sale = operation_profit_list[0]\n",
    "for operation in operation_profit_list[1:]:\n",
    "    if operation < previous_sale:\n",
    "        is_monotonically_increasing = False\n",
    "        break\n",
    "    previous_sale = operation\n",
    "\n",
    "if is_monotonically_increasing:\n",
    "    print(\"Sales list is monotonically increasing\")\n",
    "else:\n",
    "    print(\"Sales list is not monotonically increasing\")\n",
    "\n"
   ]
  },
  {
   "cell_type": "code",
   "execution_count": null,
   "id": "82c35591",
   "metadata": {},
   "outputs": [],
   "source": []
  }
 ],
 "metadata": {
  "kernelspec": {
   "display_name": "Python 3 (ipykernel)",
   "language": "python",
   "name": "python3"
  },
  "language_info": {
   "codemirror_mode": {
    "name": "ipython",
    "version": 3
   },
   "file_extension": ".py",
   "mimetype": "text/x-python",
   "name": "python",
   "nbconvert_exporter": "python",
   "pygments_lexer": "ipython3",
   "version": "3.9.13"
  }
 },
 "nbformat": 4,
 "nbformat_minor": 5
}
